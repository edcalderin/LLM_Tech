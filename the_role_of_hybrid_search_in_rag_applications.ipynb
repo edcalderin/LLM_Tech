{
  "nbformat": 4,
  "nbformat_minor": 0,
  "metadata": {
    "colab": {
      "provenance": [],
      "collapsed_sections": [
        "iaVAPKmVitta",
        "29ksfPYo1MVi"
      ],
      "authorship_tag": "ABX9TyMA5onpP3CVE/5e7nqdsdYT",
      "include_colab_link": true
    },
    "kernelspec": {
      "name": "python3",
      "display_name": "Python 3"
    },
    "language_info": {
      "name": "python"
    },
    "widgets": {
      "application/vnd.jupyter.widget-state+json": {
        "35073cf7d7af48248275ee73a84cbb82": {
          "model_module": "@jupyter-widgets/controls",
          "model_name": "HBoxModel",
          "model_module_version": "1.5.0",
          "state": {
            "_dom_classes": [],
            "_model_module": "@jupyter-widgets/controls",
            "_model_module_version": "1.5.0",
            "_model_name": "HBoxModel",
            "_view_count": null,
            "_view_module": "@jupyter-widgets/controls",
            "_view_module_version": "1.5.0",
            "_view_name": "HBoxView",
            "box_style": "",
            "children": [
              "IPY_MODEL_031e9cd6820d446eb617f0627f0c7398",
              "IPY_MODEL_96be1d9182394941a5a89116d3093c18",
              "IPY_MODEL_30e273a2f1494fdba06d5f120783c2a5"
            ],
            "layout": "IPY_MODEL_503d0d4a3a3c44c193a3a9b6203c0d66"
          }
        },
        "031e9cd6820d446eb617f0627f0c7398": {
          "model_module": "@jupyter-widgets/controls",
          "model_name": "HTMLModel",
          "model_module_version": "1.5.0",
          "state": {
            "_dom_classes": [],
            "_model_module": "@jupyter-widgets/controls",
            "_model_module_version": "1.5.0",
            "_model_name": "HTMLModel",
            "_view_count": null,
            "_view_module": "@jupyter-widgets/controls",
            "_view_module_version": "1.5.0",
            "_view_name": "HTMLView",
            "description": "",
            "description_tooltip": null,
            "layout": "IPY_MODEL_10a2d83948af497d8c15aef76b8af370",
            "placeholder": "​",
            "style": "IPY_MODEL_0710a6386841403e90e05991dfb0ed79",
            "value": "100%"
          }
        },
        "96be1d9182394941a5a89116d3093c18": {
          "model_module": "@jupyter-widgets/controls",
          "model_name": "FloatProgressModel",
          "model_module_version": "1.5.0",
          "state": {
            "_dom_classes": [],
            "_model_module": "@jupyter-widgets/controls",
            "_model_module_version": "1.5.0",
            "_model_name": "FloatProgressModel",
            "_view_count": null,
            "_view_module": "@jupyter-widgets/controls",
            "_view_module_version": "1.5.0",
            "_view_name": "ProgressView",
            "bar_style": "success",
            "description": "",
            "description_tooltip": null,
            "layout": "IPY_MODEL_911697e8c5554a8bb50d51e906159ce1",
            "max": 86,
            "min": 0,
            "orientation": "horizontal",
            "style": "IPY_MODEL_351d4465f42245e98bfa4c05b0ac49ca",
            "value": 86
          }
        },
        "30e273a2f1494fdba06d5f120783c2a5": {
          "model_module": "@jupyter-widgets/controls",
          "model_name": "HTMLModel",
          "model_module_version": "1.5.0",
          "state": {
            "_dom_classes": [],
            "_model_module": "@jupyter-widgets/controls",
            "_model_module_version": "1.5.0",
            "_model_name": "HTMLModel",
            "_view_count": null,
            "_view_module": "@jupyter-widgets/controls",
            "_view_module_version": "1.5.0",
            "_view_name": "HTMLView",
            "description": "",
            "description_tooltip": null,
            "layout": "IPY_MODEL_0a976c3c4ed7434abadcc46adc2dace0",
            "placeholder": "​",
            "style": "IPY_MODEL_28f5ec0aed0144b59e6942a6b7016afd",
            "value": " 86/86 [00:00&lt;00:00, 1080.74it/s]"
          }
        },
        "503d0d4a3a3c44c193a3a9b6203c0d66": {
          "model_module": "@jupyter-widgets/base",
          "model_name": "LayoutModel",
          "model_module_version": "1.2.0",
          "state": {
            "_model_module": "@jupyter-widgets/base",
            "_model_module_version": "1.2.0",
            "_model_name": "LayoutModel",
            "_view_count": null,
            "_view_module": "@jupyter-widgets/base",
            "_view_module_version": "1.2.0",
            "_view_name": "LayoutView",
            "align_content": null,
            "align_items": null,
            "align_self": null,
            "border": null,
            "bottom": null,
            "display": null,
            "flex": null,
            "flex_flow": null,
            "grid_area": null,
            "grid_auto_columns": null,
            "grid_auto_flow": null,
            "grid_auto_rows": null,
            "grid_column": null,
            "grid_gap": null,
            "grid_row": null,
            "grid_template_areas": null,
            "grid_template_columns": null,
            "grid_template_rows": null,
            "height": null,
            "justify_content": null,
            "justify_items": null,
            "left": null,
            "margin": null,
            "max_height": null,
            "max_width": null,
            "min_height": null,
            "min_width": null,
            "object_fit": null,
            "object_position": null,
            "order": null,
            "overflow": null,
            "overflow_x": null,
            "overflow_y": null,
            "padding": null,
            "right": null,
            "top": null,
            "visibility": null,
            "width": null
          }
        },
        "10a2d83948af497d8c15aef76b8af370": {
          "model_module": "@jupyter-widgets/base",
          "model_name": "LayoutModel",
          "model_module_version": "1.2.0",
          "state": {
            "_model_module": "@jupyter-widgets/base",
            "_model_module_version": "1.2.0",
            "_model_name": "LayoutModel",
            "_view_count": null,
            "_view_module": "@jupyter-widgets/base",
            "_view_module_version": "1.2.0",
            "_view_name": "LayoutView",
            "align_content": null,
            "align_items": null,
            "align_self": null,
            "border": null,
            "bottom": null,
            "display": null,
            "flex": null,
            "flex_flow": null,
            "grid_area": null,
            "grid_auto_columns": null,
            "grid_auto_flow": null,
            "grid_auto_rows": null,
            "grid_column": null,
            "grid_gap": null,
            "grid_row": null,
            "grid_template_areas": null,
            "grid_template_columns": null,
            "grid_template_rows": null,
            "height": null,
            "justify_content": null,
            "justify_items": null,
            "left": null,
            "margin": null,
            "max_height": null,
            "max_width": null,
            "min_height": null,
            "min_width": null,
            "object_fit": null,
            "object_position": null,
            "order": null,
            "overflow": null,
            "overflow_x": null,
            "overflow_y": null,
            "padding": null,
            "right": null,
            "top": null,
            "visibility": null,
            "width": null
          }
        },
        "0710a6386841403e90e05991dfb0ed79": {
          "model_module": "@jupyter-widgets/controls",
          "model_name": "DescriptionStyleModel",
          "model_module_version": "1.5.0",
          "state": {
            "_model_module": "@jupyter-widgets/controls",
            "_model_module_version": "1.5.0",
            "_model_name": "DescriptionStyleModel",
            "_view_count": null,
            "_view_module": "@jupyter-widgets/base",
            "_view_module_version": "1.2.0",
            "_view_name": "StyleView",
            "description_width": ""
          }
        },
        "911697e8c5554a8bb50d51e906159ce1": {
          "model_module": "@jupyter-widgets/base",
          "model_name": "LayoutModel",
          "model_module_version": "1.2.0",
          "state": {
            "_model_module": "@jupyter-widgets/base",
            "_model_module_version": "1.2.0",
            "_model_name": "LayoutModel",
            "_view_count": null,
            "_view_module": "@jupyter-widgets/base",
            "_view_module_version": "1.2.0",
            "_view_name": "LayoutView",
            "align_content": null,
            "align_items": null,
            "align_self": null,
            "border": null,
            "bottom": null,
            "display": null,
            "flex": null,
            "flex_flow": null,
            "grid_area": null,
            "grid_auto_columns": null,
            "grid_auto_flow": null,
            "grid_auto_rows": null,
            "grid_column": null,
            "grid_gap": null,
            "grid_row": null,
            "grid_template_areas": null,
            "grid_template_columns": null,
            "grid_template_rows": null,
            "height": null,
            "justify_content": null,
            "justify_items": null,
            "left": null,
            "margin": null,
            "max_height": null,
            "max_width": null,
            "min_height": null,
            "min_width": null,
            "object_fit": null,
            "object_position": null,
            "order": null,
            "overflow": null,
            "overflow_x": null,
            "overflow_y": null,
            "padding": null,
            "right": null,
            "top": null,
            "visibility": null,
            "width": null
          }
        },
        "351d4465f42245e98bfa4c05b0ac49ca": {
          "model_module": "@jupyter-widgets/controls",
          "model_name": "ProgressStyleModel",
          "model_module_version": "1.5.0",
          "state": {
            "_model_module": "@jupyter-widgets/controls",
            "_model_module_version": "1.5.0",
            "_model_name": "ProgressStyleModel",
            "_view_count": null,
            "_view_module": "@jupyter-widgets/base",
            "_view_module_version": "1.2.0",
            "_view_name": "StyleView",
            "bar_color": null,
            "description_width": ""
          }
        },
        "0a976c3c4ed7434abadcc46adc2dace0": {
          "model_module": "@jupyter-widgets/base",
          "model_name": "LayoutModel",
          "model_module_version": "1.2.0",
          "state": {
            "_model_module": "@jupyter-widgets/base",
            "_model_module_version": "1.2.0",
            "_model_name": "LayoutModel",
            "_view_count": null,
            "_view_module": "@jupyter-widgets/base",
            "_view_module_version": "1.2.0",
            "_view_name": "LayoutView",
            "align_content": null,
            "align_items": null,
            "align_self": null,
            "border": null,
            "bottom": null,
            "display": null,
            "flex": null,
            "flex_flow": null,
            "grid_area": null,
            "grid_auto_columns": null,
            "grid_auto_flow": null,
            "grid_auto_rows": null,
            "grid_column": null,
            "grid_gap": null,
            "grid_row": null,
            "grid_template_areas": null,
            "grid_template_columns": null,
            "grid_template_rows": null,
            "height": null,
            "justify_content": null,
            "justify_items": null,
            "left": null,
            "margin": null,
            "max_height": null,
            "max_width": null,
            "min_height": null,
            "min_width": null,
            "object_fit": null,
            "object_position": null,
            "order": null,
            "overflow": null,
            "overflow_x": null,
            "overflow_y": null,
            "padding": null,
            "right": null,
            "top": null,
            "visibility": null,
            "width": null
          }
        },
        "28f5ec0aed0144b59e6942a6b7016afd": {
          "model_module": "@jupyter-widgets/controls",
          "model_name": "DescriptionStyleModel",
          "model_module_version": "1.5.0",
          "state": {
            "_model_module": "@jupyter-widgets/controls",
            "_model_module_version": "1.5.0",
            "_model_name": "DescriptionStyleModel",
            "_view_count": null,
            "_view_module": "@jupyter-widgets/base",
            "_view_module_version": "1.2.0",
            "_view_name": "StyleView",
            "description_width": ""
          }
        }
      }
    }
  },
  "cells": [
    {
      "cell_type": "markdown",
      "metadata": {
        "id": "view-in-github",
        "colab_type": "text"
      },
      "source": [
        "<a href=\"https://colab.research.google.com/github/edcalderin/llm-ml-experiments/blob/master/the_role_of_hybrid_search_in_rag_applications.ipynb\" target=\"_parent\"><img src=\"https://colab.research.google.com/assets/colab-badge.svg\" alt=\"Open In Colab\"/></a>"
      ]
    },
    {
      "cell_type": "markdown",
      "source": [
        "# The Role of Hybrid Search in RAG Applications"
      ],
      "metadata": {
        "id": "XMess0O0kiqX"
      }
    },
    {
      "cell_type": "markdown",
      "source": [
        "https://ai.plainenglish.io/the-role-of-hybrid-search-in-rag-applications-29bf46b95152"
      ],
      "metadata": {
        "id": "_DF-3w2LklvN"
      }
    },
    {
      "cell_type": "markdown",
      "source": [
        "Reminder theory"
      ],
      "metadata": {
        "id": "ktJaOBBGkm0G"
      }
    },
    {
      "cell_type": "markdown",
      "source": [
        "* Hybrid search: Semantic and keyword search.\n",
        "* Vector search represents documents as dense embeddings, whereas keyword search sparse vector embeddings.\n",
        "* Keyword search is implemented with BM25 algorithm and relies on lexical matching."
      ],
      "metadata": {
        "id": "8YLovMKGk9jO"
      }
    },
    {
      "cell_type": "markdown",
      "source": [
        "## Modules"
      ],
      "metadata": {
        "id": "BabQ_Fyxk5EC"
      }
    },
    {
      "cell_type": "code",
      "source": [
        "!pip install -qU langchain-openai \\\n",
        "                 langchain-community \\\n",
        "                 pypdf \\\n",
        "                 faiss-cpu \\\n",
        "                 rank_bm25"
      ],
      "metadata": {
        "id": "xgWV3GPklOqu",
        "colab": {
          "base_uri": "https://localhost:8080/"
        },
        "outputId": "4bb5c20d-2a10-45e8-c4c3-5e4fa4c03cce"
      },
      "execution_count": 14,
      "outputs": [
        {
          "output_type": "stream",
          "name": "stdout",
          "text": [
            "\u001b[2K   \u001b[90m━━━━━━━━━━━━━━━━━━━━━━━━━━━━━━━━━━━━━━━━\u001b[0m \u001b[32m313.2/313.2 kB\u001b[0m \u001b[31m4.8 MB/s\u001b[0m eta \u001b[36m0:00:00\u001b[0m\n",
            "\u001b[2K   \u001b[90m━━━━━━━━━━━━━━━━━━━━━━━━━━━━━━━━━━━━━━━━\u001b[0m \u001b[32m31.3/31.3 MB\u001b[0m \u001b[31m44.0 MB/s\u001b[0m eta \u001b[36m0:00:00\u001b[0m\n",
            "\u001b[?25h"
          ]
        }
      ]
    },
    {
      "cell_type": "code",
      "source": [
        "from google.colab import userdata\n",
        "import os\n",
        "\n",
        "os.environ[\"OPENAI_API_KEY\"] = userdata.get('OPENAI_API_KEY')"
      ],
      "metadata": {
        "id": "s6Bg9J4XiY-w"
      },
      "execution_count": 2,
      "outputs": []
    },
    {
      "cell_type": "markdown",
      "source": [
        "## Loading documents and splitting"
      ],
      "metadata": {
        "id": "iaVAPKmVitta"
      }
    },
    {
      "cell_type": "code",
      "source": [
        "from langchain import hub\n",
        "from langchain.retrievers import BM25Retriever, EnsembleRetriever\n",
        "from langchain_community.document_loaders import PyPDFLoader\n",
        "from langchain_community.vectorstores import FAISS\n",
        "from langchain_core.output_parsers import StrOutputParser\n",
        "from langchain_core.runnables import RunnablePassthrough\n",
        "from langchain_openai import ChatOpenAI, OpenAIEmbeddings\n",
        "from langchain_text_splitters import RecursiveCharacterTextSplitter"
      ],
      "metadata": {
        "id": "3_SZVUTkk8-U"
      },
      "execution_count": 15,
      "outputs": []
    },
    {
      "cell_type": "code",
      "source": [
        "pdf_url: str = \"https://www.cgonzalez.org/app/download/24268786/Challenger+Esp.pdf\"\n",
        "\n",
        "loader = PyPDFLoader(pdf_url)\n",
        "documents = loader.load()\n",
        "\n",
        "text_splitter = RecursiveCharacterTextSplitter(\n",
        "    chunk_size = 150,\n",
        "    chunk_overlap = 10\n",
        ")\n",
        "\n",
        "chunks = text_splitter.split_documents(documents)\n",
        "\n",
        "embeddings = OpenAIEmbeddings()\n",
        "\n",
        "llm = ChatOpenAI(model=\"gpt-4o\")"
      ],
      "metadata": {
        "id": "LvEVjGRGlU60"
      },
      "execution_count": 16,
      "outputs": []
    },
    {
      "cell_type": "markdown",
      "source": [
        "## Retrievers"
      ],
      "metadata": {
        "id": "29ksfPYo1MVi"
      }
    },
    {
      "cell_type": "code",
      "source": [
        "faiss_vectorstore = FAISS.from_documents(chunks, embeddings)\n",
        "faiss_retriever = faiss_vectorstore.as_retriever(search_kwargs={\"k\": 3})\n",
        "\n",
        "bm25_retriever = BM25Retriever.from_documents(chunks)\n",
        "bm25_retriever.k = 3\n",
        "\n",
        "ensembre_retriever = EnsembleRetriever(retrievers = [faiss_retriever, bm25_retriever], weights=[.5, .5])"
      ],
      "metadata": {
        "id": "ikYi-Qj6kMgB"
      },
      "execution_count": 17,
      "outputs": []
    },
    {
      "cell_type": "code",
      "source": [
        "query = \"En que año se lanzo el transbordador?\"\n",
        "\n",
        "retriever_dict = {\n",
        "    \"FAISS Retriever\": faiss_retriever.invoke(query),\n",
        "    \"BM25 Retriever\": bm25_retriever.invoke(query),\n",
        "    \"Hybrid search\": ensembre_retriever.invoke(query)\n",
        "}\n",
        "\n",
        "for name, docs in retriever_dict.items():\n",
        "    print(name)\n",
        "    print([doc.page_content.replace(\"/n\", \" \") for doc in docs], sep=\"\\n\\n\")\n",
        "    print(\"=\"*50)"
      ],
      "metadata": {
        "colab": {
          "base_uri": "https://localhost:8080/"
        },
        "id": "DnxDDV88x1cz",
        "outputId": "99dccb9f-30d9-4e08-f601-d9dfe8145f71"
      },
      "execution_count": 34,
      "outputs": [
        {
          "output_type": "stream",
          "name": "stdout",
          "text": [
            "FAISS Retriever\n",
            "['Era el 12 de Abril de 1981. N ASA iba a iniciar una nueva era en el transporte espacial', 'Este primer vuelo estaba designado como “vuelo de prueba”, usaba el transbordador \\nColumbia y se denominó STS-1.', 'Jarvis y la primera tripulante civil en un vuelo de NASA S. Christa McAuliffe. \\nLanzamiento del Challenger (STS 51-L)']\n",
            "==================================================\n",
            "BM25 Retriever\n",
            "['experimentó un fallo estructural catastrófico que determinó la pérdida de la tripulación \\ny la nave.  \\nEn Madrid , ajenos a lo que había', 'En Madrid nos quedó la sensación de haber \\nperdido a gente de los nuestros pues así \\nconsiderábamos a los astronautas que', 'fallecer con el impacto en el océano que se calcula fue a 333 km/h.']\n",
            "==================================================\n",
            "Hybrid search\n",
            "['Era el 12 de Abril de 1981. N ASA iba a iniciar una nueva era en el transporte espacial', 'experimentó un fallo estructural catastrófico que determinó la pérdida de la tripulación \\ny la nave.  \\nEn Madrid , ajenos a lo que había', 'Este primer vuelo estaba designado como “vuelo de prueba”, usaba el transbordador \\nColumbia y se denominó STS-1.', 'En Madrid nos quedó la sensación de haber \\nperdido a gente de los nuestros pues así \\nconsiderábamos a los astronautas que', 'Jarvis y la primera tripulante civil en un vuelo de NASA S. Christa McAuliffe. \\nLanzamiento del Challenger (STS 51-L)', 'fallecer con el impacto en el océano que se calcula fue a 333 km/h.']\n",
            "==================================================\n"
          ]
        }
      ]
    },
    {
      "cell_type": "markdown",
      "source": [
        "## Chains for final response"
      ],
      "metadata": {
        "id": "suDS6HL88VCF"
      }
    },
    {
      "cell_type": "code",
      "source": [
        "prompt = hub.pull(\"rlm/rag-prompt\")\n",
        "\n",
        "def chain_builder(context):\n",
        "    return (\n",
        "        {\n",
        "            \"question\": RunnablePassthrough(), \"context\": context\n",
        "        }\n",
        "        | prompt\n",
        "        | llm\n",
        "        | StrOutputParser()\n",
        "    )\n",
        "\n",
        "chain_dict = {\n",
        "    \"FAISS Chain\": chain_builder(faiss_retriever),\n",
        "    \"BM25 Chain\": chain_builder(bm25_retriever),\n",
        "    \"Hybrid Chain\": chain_builder(ensembre_retriever)\n",
        "}\n",
        "\n",
        "for name, chain in chain_dict.items():\n",
        "    print(name, chain.invoke(query), end=f\"\\n{'='*50}\\n\\n\", sep=\"\\n\")"
      ],
      "metadata": {
        "colab": {
          "base_uri": "https://localhost:8080/"
        },
        "id": "de6Pq8648WoJ",
        "outputId": "182ac0ce-8f78-4675-e322-7496e2540146"
      },
      "execution_count": 46,
      "outputs": [
        {
          "output_type": "stream",
          "name": "stderr",
          "text": [
            "/usr/local/lib/python3.11/dist-packages/langsmith/client.py:272: LangSmithMissingAPIKeyWarning: API key must be provided when using hosted LangSmith API\n",
            "  warnings.warn(\n"
          ]
        },
        {
          "output_type": "stream",
          "name": "stdout",
          "text": [
            "FAISS Chain\n",
            "El transbordador fue lanzado por primera vez el 12 de abril de 1981.\n",
            "==================================================\n",
            "\n",
            "BM25 Chain\n",
            "No puedo determinar el año de lanzamiento del transbordador con la información proporcionada.\n",
            "==================================================\n",
            "\n",
            "Hybrid Chain\n",
            "El transbordador fue lanzado el 12 de abril de 1981.\n",
            "==================================================\n",
            "\n"
          ]
        }
      ]
    },
    {
      "cell_type": "markdown",
      "source": [
        "## Using Pinecone"
      ],
      "metadata": {
        "id": "dBiNaUf-_Ukr"
      }
    },
    {
      "cell_type": "markdown",
      "source": [
        "### Setup"
      ],
      "metadata": {
        "id": "XaAIrfq9_eOS"
      }
    },
    {
      "cell_type": "code",
      "source": [
        "os.environ[\"PINECONE_API_KEY\"] = userdata.get('PINECONE_API_KEY')"
      ],
      "metadata": {
        "id": "6DXtWI3G_W8u"
      },
      "execution_count": 48,
      "outputs": []
    },
    {
      "cell_type": "code",
      "source": [
        "!pip install -q langchain-pinecone pinecone pinecone-text"
      ],
      "metadata": {
        "colab": {
          "base_uri": "https://localhost:8080/"
        },
        "id": "e3-gT8N2_gfH",
        "outputId": "f98a6a19-5195-4085-e41d-daba3c6dd6b3"
      },
      "execution_count": 69,
      "outputs": [
        {
          "output_type": "stream",
          "name": "stdout",
          "text": [
            "\u001b[2K     \u001b[90m━━━━━━━━━━━━━━━━━━━━━━━━━━━━━━━━━━━━━━━━\u001b[0m \u001b[32m61.0/61.0 kB\u001b[0m \u001b[31m2.4 MB/s\u001b[0m eta \u001b[36m0:00:00\u001b[0m\n",
            "\u001b[2K   \u001b[90m━━━━━━━━━━━━━━━━━━━━━━━━━━━━━━━━━━━━━━━━\u001b[0m \u001b[32m67.8/67.8 kB\u001b[0m \u001b[31m5.4 MB/s\u001b[0m eta \u001b[36m0:00:00\u001b[0m\n",
            "\u001b[2K   \u001b[90m━━━━━━━━━━━━━━━━━━━━━━━━━━━━━━━━━━━━━━━━\u001b[0m \u001b[32m18.3/18.3 MB\u001b[0m \u001b[31m83.9 MB/s\u001b[0m eta \u001b[36m0:00:00\u001b[0m\n",
            "\u001b[?25h\u001b[31mERROR: pip's dependency resolver does not currently take into account all the packages that are installed. This behaviour is the source of the following dependency conflicts.\n",
            "opencv-contrib-python 4.12.0.88 requires numpy<2.3.0,>=2; python_version >= \"3.9\", but you have numpy 1.26.4 which is incompatible.\n",
            "opencv-python 4.12.0.88 requires numpy<2.3.0,>=2; python_version >= \"3.9\", but you have numpy 1.26.4 which is incompatible.\n",
            "opencv-python-headless 4.12.0.88 requires numpy<2.3.0,>=2; python_version >= \"3.9\", but you have numpy 1.26.4 which is incompatible.\n",
            "thinc 8.3.6 requires numpy<3.0.0,>=2.0.0, but you have numpy 1.26.4 which is incompatible.\u001b[0m\u001b[31m\n",
            "\u001b[0m"
          ]
        }
      ]
    },
    {
      "cell_type": "code",
      "source": [
        "from pinecone import Pinecone, ServerlessSpec\n",
        "from langchain_pinecone import PineconeVectorStore\n",
        "from pinecone_text.sparse import BM25Encoder\n",
        "from langchain_community.retrievers import PineconeHybridSearchRetriever\n",
        "from langchain_core.documents import Document\n",
        "from pinecone_text.hybrid import hybrid_convex_scale"
      ],
      "metadata": {
        "id": "9ZMjIR8KA4KG"
      },
      "execution_count": 87,
      "outputs": []
    },
    {
      "cell_type": "code",
      "source": [
        "index_name: str = \"hybrid-search-test\"\n",
        "\n",
        "pc = Pinecone()\n",
        "\n",
        "if not pc.has_index(index_name):\n",
        "    pc.create_index(\n",
        "        name=index_name,\n",
        "        dimension=1536,\n",
        "        metric=\"cosine\",\n",
        "        spec=ServerlessSpec(cloud=\"aws\", region=\"us-east-1\"),\n",
        "    )\n",
        "\n",
        "index = pc.Index(index_name)"
      ],
      "metadata": {
        "id": "rKMBhBJ8A_Qi"
      },
      "execution_count": 65,
      "outputs": []
    },
    {
      "cell_type": "code",
      "source": [
        "bm25_encoder = BM25Encoder().default()\n",
        "\n",
        "texts = [doc.page_content for doc in chunks]\n",
        "\n",
        "bm25_encoder.fit(texts)\n",
        "\n",
        "# store the values to a json file\n",
        "bm25_encoder.dump(\"bm25_values.json\")\n",
        "\n",
        "# load to your BM25Encoder object\n",
        "bm25_encoder = BM25Encoder().load(\"bm25_values.json\")\n",
        "\n",
        "retriever = PineconeHybridSearchRetriever(\n",
        "    embeddings=embeddings, sparse_encoder=bm25_encoder, index=index\n",
        ")"
      ],
      "metadata": {
        "colab": {
          "base_uri": "https://localhost:8080/",
          "height": 49,
          "referenced_widgets": [
            "35073cf7d7af48248275ee73a84cbb82",
            "031e9cd6820d446eb617f0627f0c7398",
            "96be1d9182394941a5a89116d3093c18",
            "30e273a2f1494fdba06d5f120783c2a5",
            "503d0d4a3a3c44c193a3a9b6203c0d66",
            "10a2d83948af497d8c15aef76b8af370",
            "0710a6386841403e90e05991dfb0ed79",
            "911697e8c5554a8bb50d51e906159ce1",
            "351d4465f42245e98bfa4c05b0ac49ca",
            "0a976c3c4ed7434abadcc46adc2dace0",
            "28f5ec0aed0144b59e6942a6b7016afd"
          ]
        },
        "id": "RKoRZvIiCaTF",
        "outputId": "5b35aa8a-6103-41db-cbe5-efac0c5ce8f9"
      },
      "execution_count": 74,
      "outputs": [
        {
          "output_type": "display_data",
          "data": {
            "text/plain": [
              "  0%|          | 0/86 [00:00<?, ?it/s]"
            ],
            "application/vnd.jupyter.widget-view+json": {
              "version_major": 2,
              "version_minor": 0,
              "model_id": "35073cf7d7af48248275ee73a84cbb82"
            }
          },
          "metadata": {}
        }
      ]
    },
    {
      "cell_type": "code",
      "source": [
        "def get_relevant_documents(query, index):\n",
        "    sparse_vec = bm25_encoder.encode_queries(query)\n",
        "    dense_vec = embeddings.embed_query(query)\n",
        "    #len(dense_vec), len(sparse_vec)\n",
        "    dense_vec, sparse_vec = hybrid_convex_scale(dense_vec, sparse_vec, 0.4)\n",
        "    sparse_vec[\"values\"] = [float(s1) for s1 in sparse_vec[\"values\"]]\n",
        "    result=index.query(vector=dense_vec, sparse_vec=sparse_vec, top_k=4, include_metadata=True)\n",
        "    final_result = []\n",
        "    for res in result[\"matches\"]:\n",
        "        context = res[\"metadata\"].pop(\"text\")\n",
        "        final_result.append(\n",
        "            Document(page_content=context, metadata=res[\"metadata\"])\n",
        "        )\n",
        "    return final_result\n",
        "\n",
        "\n",
        "final_result = get_relevant_documents(query, index)\n",
        "\n",
        "print(final_result)"
      ],
      "metadata": {
        "colab": {
          "base_uri": "https://localhost:8080/"
        },
        "id": "cRepnGBWDy7p",
        "outputId": "b1283061-fcde-40ae-9413-6ed4128b2426"
      },
      "execution_count": 80,
      "outputs": [
        {
          "output_type": "stream",
          "name": "stdout",
          "text": [
            "[Document(metadata={'author': 'cgonzalez', 'comments': '', 'company': 'MDSCC', 'creationdate': '2016-03-06T12:45:34+01:00', 'creator': 'Acrobat PDFMaker 9.1 for Word', 'keywords': '', 'moddate': '2016-03-06T12:46:25+01:00', 'page': 0.0, 'page_label': '1', 'producer': 'Adobe PDF Library 9.0', 'source': 'https://www.cgonzalez.org/app/download/24268786/Challenger+Esp.pdf', 'sourcemodified': 'D:20160306114458', 'subject': '', 'title': '', 'total_pages': 5.0}, page_content='Era el 12 de Abril de 1981. N ASA iba a iniciar una nueva era en el transporte espacial'), Document(metadata={'author': 'cgonzalez', 'comments': '', 'company': 'MDSCC', 'creationdate': '2016-03-06T12:45:34+01:00', 'creator': 'Acrobat PDFMaker 9.1 for Word', 'keywords': '', 'moddate': '2016-03-06T12:46:25+01:00', 'page': 0.0, 'page_label': '1', 'producer': 'Adobe PDF Library 9.0', 'source': 'https://www.cgonzalez.org/app/download/24268786/Challenger+Esp.pdf', 'sourcemodified': 'D:20160306114458', 'subject': '', 'title': '', 'total_pages': 5.0}, page_content='Este primer vuelo estaba designado como “vuelo de prueba”, usaba el transbordador \\nColumbia y se denominó STS-1.'), Document(metadata={'author': 'cgonzalez', 'comments': '', 'company': 'MDSCC', 'creationdate': '2016-03-06T12:45:34+01:00', 'creator': 'Acrobat PDFMaker 9.1 for Word', 'keywords': '', 'moddate': '2016-03-06T12:46:25+01:00', 'page': 1.0, 'page_label': '2', 'producer': 'Adobe PDF Library 9.0', 'source': 'https://www.cgonzalez.org/app/download/24268786/Challenger+Esp.pdf', 'sourcemodified': 'D:20160306114458', 'subject': '', 'title': '', 'total_pages': 5.0}, page_content='Jarvis y la primera tripulante civil en un vuelo de NASA S. Christa McAuliffe. \\nLanzamiento del Challenger (STS 51-L)'), Document(metadata={'author': 'cgonzalez', 'comments': '', 'company': 'MDSCC', 'creationdate': '2016-03-06T12:45:34+01:00', 'creator': 'Acrobat PDFMaker 9.1 for Word', 'keywords': '', 'moddate': '2016-03-06T12:46:25+01:00', 'page': 0.0, 'page_label': '1', 'producer': 'Adobe PDF Library 9.0', 'source': 'https://www.cgonzalez.org/app/download/24268786/Challenger+Esp.pdf', 'sourcemodified': 'D:20160306114458', 'subject': '', 'title': '', 'total_pages': 5.0}, page_content='El desastre del Challenger \\nComo lo vivimos desde la Estación Espacial de Madrid')]\n"
          ]
        }
      ]
    },
    {
      "cell_type": "code",
      "source": [
        "chain_builder(lambda _: final_result).invoke(query)"
      ],
      "metadata": {
        "colab": {
          "base_uri": "https://localhost:8080/",
          "height": 35
        },
        "id": "S1QNYiNjIxpB",
        "outputId": "d41a4bbf-8b57-4120-93e3-4e992728274f"
      },
      "execution_count": 86,
      "outputs": [
        {
          "output_type": "execute_result",
          "data": {
            "text/plain": [
              "'El transbordador espacial fue lanzado el 12 de abril de 1981.'"
            ],
            "application/vnd.google.colaboratory.intrinsic+json": {
              "type": "string"
            }
          },
          "metadata": {},
          "execution_count": 86
        }
      ]
    }
  ]
}