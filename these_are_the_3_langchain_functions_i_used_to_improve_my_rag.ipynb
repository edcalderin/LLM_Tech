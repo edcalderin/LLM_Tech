{
  "nbformat": 4,
  "nbformat_minor": 0,
  "metadata": {
    "colab": {
      "provenance": [],
      "authorship_tag": "ABX9TyNJFoT9DMbzMjwmdhfGHMQ5",
      "include_colab_link": true
    },
    "kernelspec": {
      "name": "python3",
      "display_name": "Python 3"
    },
    "language_info": {
      "name": "python"
    }
  },
  "cells": [
    {
      "cell_type": "markdown",
      "metadata": {
        "id": "view-in-github",
        "colab_type": "text"
      },
      "source": [
        "<a href=\"https://colab.research.google.com/github/edcalderin/llm-ml-experiments/blob/master/these_are_the_3_langchain_functions_i_used_to_improve_my_rag.ipynb\" target=\"_parent\"><img src=\"https://colab.research.google.com/assets/colab-badge.svg\" alt=\"Open In Colab\"/></a>"
      ]
    },
    {
      "cell_type": "markdown",
      "source": [
        "# These Are the 3 Langchain Functions I Used to Improve My RAG"
      ],
      "metadata": {
        "id": "pkWDWugsUHah"
      }
    },
    {
      "cell_type": "markdown",
      "source": [
        "https://ai.gopubby.com/these-are-the-3-langchain-functions-i-used-to-improve-my-rag-00413ccb7094"
      ],
      "metadata": {
        "id": "JdFjluykUK2D"
      }
    },
    {
      "cell_type": "markdown",
      "source": [
        "## Multi Query Retriever"
      ],
      "metadata": {
        "id": "-2DyfMfPUNLI"
      }
    },
    {
      "cell_type": "code",
      "source": [
        "from google.colab import userdata\n",
        "import os\n",
        "\n",
        "os.environ[\"OPENAI_API_KEY\"] = userdata.get('OPENAI_API_KEY')"
      ],
      "metadata": {
        "id": "RsgvE2z0UdYZ"
      },
      "execution_count": 1,
      "outputs": []
    },
    {
      "cell_type": "code",
      "source": [
        "!pip install -q langchain-openai langchain-community chromadb"
      ],
      "metadata": {
        "colab": {
          "base_uri": "https://localhost:8080/"
        },
        "id": "VYt6pi6BUkVT",
        "outputId": "6555f4f6-48ae-43af-f793-cc67f1eb9330"
      },
      "execution_count": 6,
      "outputs": [
        {
          "output_type": "stream",
          "name": "stdout",
          "text": [
            "\u001b[?25l     \u001b[90m━━━━━━━━━━━━━━━━━━━━━━━━━━━━━━━━━━━━━━━━\u001b[0m \u001b[32m0.0/67.3 kB\u001b[0m \u001b[31m?\u001b[0m eta \u001b[36m-:--:--\u001b[0m\r\u001b[2K     \u001b[90m━━━━━━━━━━━━━━━━━━━━━━━━━━━━━━━━━━━━━━━━\u001b[0m \u001b[32m67.3/67.3 kB\u001b[0m \u001b[31m2.8 MB/s\u001b[0m eta \u001b[36m0:00:00\u001b[0m\n",
            "\u001b[?25h  Installing build dependencies ... \u001b[?25l\u001b[?25hdone\n",
            "  Getting requirements to build wheel ... \u001b[?25l\u001b[?25hdone\n",
            "  Preparing metadata (pyproject.toml) ... \u001b[?25l\u001b[?25hdone\n",
            "\u001b[2K   \u001b[90m━━━━━━━━━━━━━━━━━━━━━━━━━━━━━━━━━━━━━━━━\u001b[0m \u001b[32m19.5/19.5 MB\u001b[0m \u001b[31m86.6 MB/s\u001b[0m eta \u001b[36m0:00:00\u001b[0m\n",
            "\u001b[2K   \u001b[90m━━━━━━━━━━━━━━━━━━━━━━━━━━━━━━━━━━━━━━━━\u001b[0m \u001b[32m284.2/284.2 kB\u001b[0m \u001b[31m21.8 MB/s\u001b[0m eta \u001b[36m0:00:00\u001b[0m\n",
            "\u001b[2K   \u001b[90m━━━━━━━━━━━━━━━━━━━━━━━━━━━━━━━━━━━━━━━━\u001b[0m \u001b[32m1.9/1.9 MB\u001b[0m \u001b[31m72.3 MB/s\u001b[0m eta \u001b[36m0:00:00\u001b[0m\n",
            "\u001b[2K   \u001b[90m━━━━━━━━━━━━━━━━━━━━━━━━━━━━━━━━━━━━━━━━\u001b[0m \u001b[32m103.1/103.1 kB\u001b[0m \u001b[31m7.8 MB/s\u001b[0m eta \u001b[36m0:00:00\u001b[0m\n",
            "\u001b[2K   \u001b[90m━━━━━━━━━━━━━━━━━━━━━━━━━━━━━━━━━━━━━━━━\u001b[0m \u001b[32m16.5/16.5 MB\u001b[0m \u001b[31m76.5 MB/s\u001b[0m eta \u001b[36m0:00:00\u001b[0m\n",
            "\u001b[2K   \u001b[90m━━━━━━━━━━━━━━━━━━━━━━━━━━━━━━━━━━━━━━━━\u001b[0m \u001b[32m65.6/65.6 kB\u001b[0m \u001b[31m5.4 MB/s\u001b[0m eta \u001b[36m0:00:00\u001b[0m\n",
            "\u001b[2K   \u001b[90m━━━━━━━━━━━━━━━━━━━━━━━━━━━━━━━━━━━━━━━━\u001b[0m \u001b[32m72.5/72.5 kB\u001b[0m \u001b[31m5.4 MB/s\u001b[0m eta \u001b[36m0:00:00\u001b[0m\n",
            "\u001b[2K   \u001b[90m━━━━━━━━━━━━━━━━━━━━━━━━━━━━━━━━━━━━━━━━\u001b[0m \u001b[32m120.0/120.0 kB\u001b[0m \u001b[31m9.8 MB/s\u001b[0m eta \u001b[36m0:00:00\u001b[0m\n",
            "\u001b[2K   \u001b[90m━━━━━━━━━━━━━━━━━━━━━━━━━━━━━━━━━━━━━━━━\u001b[0m \u001b[32m201.6/201.6 kB\u001b[0m \u001b[31m14.2 MB/s\u001b[0m eta \u001b[36m0:00:00\u001b[0m\n",
            "\u001b[2K   \u001b[90m━━━━━━━━━━━━━━━━━━━━━━━━━━━━━━━━━━━━━━━━\u001b[0m \u001b[32m105.4/105.4 kB\u001b[0m \u001b[31m8.3 MB/s\u001b[0m eta \u001b[36m0:00:00\u001b[0m\n",
            "\u001b[2K   \u001b[90m━━━━━━━━━━━━━━━━━━━━━━━━━━━━━━━━━━━━━━━━\u001b[0m \u001b[32m71.4/71.4 kB\u001b[0m \u001b[31m5.1 MB/s\u001b[0m eta \u001b[36m0:00:00\u001b[0m\n",
            "\u001b[2K   \u001b[90m━━━━━━━━━━━━━━━━━━━━━━━━━━━━━━━━━━━━━━━━\u001b[0m \u001b[32m459.8/459.8 kB\u001b[0m \u001b[31m26.3 MB/s\u001b[0m eta \u001b[36m0:00:00\u001b[0m\n",
            "\u001b[2K   \u001b[90m━━━━━━━━━━━━━━━━━━━━━━━━━━━━━━━━━━━━━━━━\u001b[0m \u001b[32m4.0/4.0 MB\u001b[0m \u001b[31m69.5 MB/s\u001b[0m eta \u001b[36m0:00:00\u001b[0m\n",
            "\u001b[2K   \u001b[90m━━━━━━━━━━━━━━━━━━━━━━━━━━━━━━━━━━━━━━━━\u001b[0m \u001b[32m453.1/453.1 kB\u001b[0m \u001b[31m31.7 MB/s\u001b[0m eta \u001b[36m0:00:00\u001b[0m\n",
            "\u001b[2K   \u001b[90m━━━━━━━━━━━━━━━━━━━━━━━━━━━━━━━━━━━━━━━━\u001b[0m \u001b[32m46.0/46.0 kB\u001b[0m \u001b[31m2.7 MB/s\u001b[0m eta \u001b[36m0:00:00\u001b[0m\n",
            "\u001b[2K   \u001b[90m━━━━━━━━━━━━━━━━━━━━━━━━━━━━━━━━━━━━━━━━\u001b[0m \u001b[32m86.8/86.8 kB\u001b[0m \u001b[31m6.6 MB/s\u001b[0m eta \u001b[36m0:00:00\u001b[0m\n",
            "\u001b[?25h  Building wheel for pypika (pyproject.toml) ... \u001b[?25l\u001b[?25hdone\n"
          ]
        }
      ]
    },
    {
      "cell_type": "code",
      "source": [
        "from langchain_community.document_loaders import WebBaseLoader\n",
        "from langchain_text_splitters import RecursiveCharacterTextSplitter\n",
        "from langchain_openai import ChatOpenAI, OpenAIEmbeddings\n",
        "from langchain_core.runnables import RunnablePassthrough\n",
        "from langchain_core.output_parsers import StrOutputParser\n",
        "from langchain_community.vectorstores import Chroma\n",
        "from langchain import hub\n",
        "from langchain.retrievers import MultiQueryRetriever\n",
        "from bs4 import BeautifulSoup, SoupStrainer"
      ],
      "metadata": {
        "id": "Z3rjIY4UUrRW"
      },
      "execution_count": 26,
      "outputs": []
    },
    {
      "cell_type": "code",
      "source": [
        "url: str = \"https://es.wikipedia.org/wiki/Accidente_del_transbordador_espacial_Challenger\"\n",
        "\n",
        "loader = WebBaseLoader(\n",
        "    url,\n",
        "    bs_kwargs={\"parse_only\": SoupStrainer(class_=\"mw-body-content\")}\n",
        ")\n",
        "\n",
        "documents = loader.load()\n",
        "\n",
        "text_splitter = RecursiveCharacterTextSplitter(chunk_size=200, chunk_overlap=10)\n",
        "splits = text_splitter.split_documents(documents)\n",
        "\n",
        "print(len(splits), \"splits\")\n",
        "print(splits[:6])\n",
        "vector_store = Chroma.from_documents(splits, OpenAIEmbeddings(), persist_directory=\"multi_query\")"
      ],
      "metadata": {
        "colab": {
          "base_uri": "https://localhost:8080/"
        },
        "id": "VZhJO3l5OKHR",
        "outputId": "6cad8cd9-b5cc-466d-bbb4-d4ec65409240"
      },
      "execution_count": 53,
      "outputs": [
        {
          "output_type": "stream",
          "name": "stdout",
          "text": [
            "537 splits\n",
            "[Document(metadata={'source': 'https://es.wikipedia.org/wiki/Accidente_del_transbordador_espacial_Challenger'}, page_content='Accidente del transbordador espacial Challenger\\nMontaje fotográfico del desastre del transbordador espacial Challenger.Suceso'), Document(metadata={'source': 'https://es.wikipedia.org/wiki/Accidente_del_transbordador_espacial_Challenger'}, page_content='Desintegración del transbordador y posterior caída de restos al océano AtlánticoFecha\\n28 de enero de 1986 (39 años,\\xa06 meses\\xa0y\\xa08 días)Hora\\n11:39:13 EST (16:39:13 UTC)Causa'), Document(metadata={'source': 'https://es.wikipedia.org/wiki/Accidente_del_transbordador_espacial_Challenger'}, page_content='Falla en junta tórica del cohete acelerador sólido (SRB) derecho del trasbordadorLugar\\nOcéano Atlántico, frente a la costa de FloridaResultado'), Document(metadata={'source': 'https://es.wikipedia.org/wiki/Accidente_del_transbordador_espacial_Challenger'}, page_content='Puesta en tierra de la flota del Transbordador Espacial durante casi tres años durante los que se implementaron varias medidas de seguridad, el rediseño de un cohete sólido y una nueva política sobre'), Document(metadata={'source': 'https://es.wikipedia.org/wiki/Accidente_del_transbordador_espacial_Challenger'}, page_content='sobre la toma de decisiones de gestión para futuros lanzamientos.Coordenadas'), Document(metadata={'source': 'https://es.wikipedia.org/wiki/Accidente_del_transbordador_espacial_Challenger'}, page_content='28°38′N 80°17′O\\ufeff / \\ufeff28.64, -80.28Última escala\\n2 de febrero de 2015 (10 años,\\xa06 meses\\xa0y\\xa03 días)Fallecidos\\n7ImplicadoTripulación')]\n"
          ]
        }
      ]
    },
    {
      "cell_type": "code",
      "source": [
        "llm = ChatOpenAI(model=\"gpt-4o\")\n",
        "\n",
        "retriever = vector_store.as_retriever(search_type=\"mmr\", search_kwargs={\"k\": 3})\n",
        "\n",
        "multi_query_retriever = MultiQueryRetriever.from_llm(retriever, llm)\n",
        "\n",
        "prompt = hub.pull(\"rlm/rag-prompt\")\n",
        "\n",
        "chain = (\n",
        "    {\n",
        "        \"question\": RunnablePassthrough(),\n",
        "        \"context\": multi_query_retriever\n",
        "    }\n",
        "    | prompt\n",
        "    | llm\n",
        "    | StrOutputParser()\n",
        ")"
      ],
      "metadata": {
        "colab": {
          "base_uri": "https://localhost:8080/"
        },
        "id": "sehv9p4MO_y0",
        "outputId": "567c17ac-7a7b-4218-8329-8f16d8786449"
      },
      "execution_count": 74,
      "outputs": [
        {
          "output_type": "stream",
          "name": "stderr",
          "text": [
            "/usr/local/lib/python3.11/dist-packages/langsmith/client.py:272: LangSmithMissingAPIKeyWarning: API key must be provided when using hosted LangSmith API\n",
            "  warnings.warn(\n"
          ]
        }
      ]
    },
    {
      "cell_type": "code",
      "source": [
        "chain.invoke(\"En que año exploto el transbordador challenger?\")"
      ],
      "metadata": {
        "colab": {
          "base_uri": "https://localhost:8080/",
          "height": 35
        },
        "id": "e46nAuUrQ3aN",
        "outputId": "a9ec93dd-3128-453a-a0ea-04f182ba3e06"
      },
      "execution_count": 75,
      "outputs": [
        {
          "output_type": "execute_result",
          "data": {
            "text/plain": [
              "'El transbordador Challenger explotó en el año 1986.'"
            ],
            "application/vnd.google.colaboratory.intrinsic+json": {
              "type": "string"
            }
          },
          "metadata": {},
          "execution_count": 75
        }
      ]
    },
    {
      "cell_type": "code",
      "source": [
        "chain.invoke(\"Cuantas personas iban dentro del transbordador challenger?\")"
      ],
      "metadata": {
        "colab": {
          "base_uri": "https://localhost:8080/",
          "height": 35
        },
        "id": "NxOzDA1wUhOw",
        "outputId": "199603ae-7b46-4dec-cdcb-05746ca63e8a"
      },
      "execution_count": 76,
      "outputs": [
        {
          "output_type": "execute_result",
          "data": {
            "text/plain": [
              "'En el Challenger iban siete personas a bordo.'"
            ],
            "application/vnd.google.colaboratory.intrinsic+json": {
              "type": "string"
            }
          },
          "metadata": {},
          "execution_count": 76
        }
      ]
    },
    {
      "cell_type": "code",
      "source": [
        "chain.invoke(\"Cuanto tiempo paso luego de haber sido lanzado el transbordador?\")"
      ],
      "metadata": {
        "colab": {
          "base_uri": "https://localhost:8080/",
          "height": 35
        },
        "id": "yyHfoNFeUmvU",
        "outputId": "470972a7-588d-4d9c-84f6-1d5da7ea8194"
      },
      "execution_count": 78,
      "outputs": [
        {
          "output_type": "execute_result",
          "data": {
            "text/plain": [
              "'No tengo suficiente información en el contexto proporcionado para determinar cuánto tiempo pasó después de que el transbordador fue lanzado.'"
            ],
            "application/vnd.google.colaboratory.intrinsic+json": {
              "type": "string"
            }
          },
          "metadata": {},
          "execution_count": 78
        }
      ]
    },
    {
      "cell_type": "markdown",
      "source": [
        "## Long Context Recorder"
      ],
      "metadata": {
        "id": "Aj0NRvhfUvvg"
      }
    },
    {
      "cell_type": "code",
      "source": [
        "from langchain_community.document_transformers import LongContextReorder"
      ],
      "metadata": {
        "id": "1dWX07ocjA0Y"
      },
      "execution_count": 79,
      "outputs": []
    },
    {
      "cell_type": "code",
      "source": [
        "url: str = \"https://es.wikipedia.org/wiki/Accidente_del_transbordador_espacial_Challenger\"\n",
        "\n",
        "loader = WebBaseLoader(\n",
        "    url,\n",
        "    bs_kwargs={\"parse_only\": SoupStrainer(class_=\"mw-body-content\")}\n",
        ")\n",
        "\n",
        "documents = loader.load()\n",
        "\n",
        "text_splitter = RecursiveCharacterTextSplitter(chunk_size=200, chunk_overlap=10)\n",
        "\n",
        "splits = text_splitter.split_documents(documents)\n",
        "\n",
        "vector_store = Chroma.from_documents(splits, OpenAIEmbeddings(), persist_directory=\"long_context_recorder_data\")"
      ],
      "metadata": {
        "id": "ur-AgksiUxV2"
      },
      "execution_count": 80,
      "outputs": []
    },
    {
      "cell_type": "code",
      "source": [
        "llm = ChatOpenAI(model=\"gpt-4o\")\n",
        "\n",
        "retriever = vector_store.as_retriever(search_type=\"mmr\", search_kwargs={\"k\": 20})\n",
        "\n",
        "prompt = hub.pull(\"rlm/rag-prompt\")\n",
        "\n",
        "def format_docs(docs: list)->list:\n",
        "    context_recorder = LongContextReorder()\n",
        "    return context_recorder.transform_documents(docs)\n",
        "\n",
        "chain = (\n",
        "    {\n",
        "        \"question\": RunnablePassthrough(),\n",
        "        \"context\": retriever | format_docs\n",
        "    }\n",
        "    | prompt\n",
        "    | llm\n",
        "    | StrOutputParser()\n",
        ")"
      ],
      "metadata": {
        "colab": {
          "base_uri": "https://localhost:8080/"
        },
        "id": "-OzMsc8cjIu5",
        "outputId": "7034d1c3-4618-44b8-d349-99254e021335"
      },
      "execution_count": 94,
      "outputs": [
        {
          "output_type": "stream",
          "name": "stderr",
          "text": [
            "/usr/local/lib/python3.11/dist-packages/langsmith/client.py:272: LangSmithMissingAPIKeyWarning: API key must be provided when using hosted LangSmith API\n",
            "  warnings.warn(\n"
          ]
        }
      ]
    },
    {
      "cell_type": "code",
      "source": [
        "chain.invoke(\"En que año exploto el transbordador challenger?\")"
      ],
      "metadata": {
        "colab": {
          "base_uri": "https://localhost:8080/",
          "height": 35
        },
        "id": "Wq6y-61Hjfqc",
        "outputId": "8b31f7b6-9fb4-4546-891b-50732bf625e6"
      },
      "execution_count": 95,
      "outputs": [
        {
          "output_type": "execute_result",
          "data": {
            "text/plain": [
              "'El transbordador espacial Challenger explotó el 28 de enero de 1986.'"
            ],
            "application/vnd.google.colaboratory.intrinsic+json": {
              "type": "string"
            }
          },
          "metadata": {},
          "execution_count": 95
        }
      ]
    },
    {
      "cell_type": "code",
      "source": [
        "chain.invoke(\"Cuantas personas iban dentro del transbordador challenger?\")"
      ],
      "metadata": {
        "colab": {
          "base_uri": "https://localhost:8080/",
          "height": 35
        },
        "outputId": "ae11a917-3c54-4c5f-aa73-dcc2f5624269",
        "id": "BKF6UhIVjs22"
      },
      "execution_count": 98,
      "outputs": [
        {
          "output_type": "execute_result",
          "data": {
            "text/plain": [
              "'Iban siete personas a bordo del transbordador Challenger.'"
            ],
            "application/vnd.google.colaboratory.intrinsic+json": {
              "type": "string"
            }
          },
          "metadata": {},
          "execution_count": 98
        }
      ]
    },
    {
      "cell_type": "code",
      "source": [
        "chain.invoke(\"Cuanto tiempo paso luego de haber sido lanzado el transbordador?\")"
      ],
      "metadata": {
        "colab": {
          "base_uri": "https://localhost:8080/",
          "height": 35
        },
        "outputId": "3413beea-7b8f-497c-8058-b83ede25fdb9",
        "id": "8AIGS1XDjs22"
      },
      "execution_count": 97,
      "outputs": [
        {
          "output_type": "execute_result",
          "data": {
            "text/plain": [
              "'El transbordador espacial Challenger se desintegró 73 segundos después de haber sido lanzado el 28 de enero de 1986.'"
            ],
            "application/vnd.google.colaboratory.intrinsic+json": {
              "type": "string"
            }
          },
          "metadata": {},
          "execution_count": 97
        }
      ]
    },
    {
      "cell_type": "markdown",
      "source": [
        "## Contextual Compression"
      ],
      "metadata": {
        "id": "7b68ScJdkTbi"
      }
    },
    {
      "cell_type": "code",
      "source": [
        "url: str = \"https://es.wikipedia.org/wiki/Accidente_del_transbordador_espacial_Challenger\"\n",
        "\n",
        "loader = WebBaseLoader(\n",
        "    url,\n",
        "    bs_kwargs={\"parse_only\": SoupStrainer(class_=\"mw-body-content\")}\n",
        ")\n",
        "\n",
        "documents = loader.load()\n",
        "\n",
        "text_splitter = RecursiveCharacterTextSplitter(chunk_size=200, chunk_overlap=10)\n",
        "\n",
        "splits = text_splitter.split_documents(documents)\n",
        "\n",
        "vector_store = Chroma.from_documents(splits, OpenAIEmbeddings(), persist_directory=\"contextual_compression_data\")"
      ],
      "metadata": {
        "id": "qY8RQLjWkVIc"
      },
      "execution_count": 99,
      "outputs": []
    },
    {
      "cell_type": "code",
      "source": [
        "from langchain.retrievers.document_compressors import (\n",
        "    DocumentCompressorPipeline, EmbeddingsFilter\n",
        ")\n",
        "from langchain_text_splitters import CharacterTextSplitter\n",
        "from langchain_community.document_transformers import (\n",
        "    EmbeddingsRedundantFilter\n",
        ")\n",
        "from langchain.retrievers import ContextualCompressionRetriever\n",
        "\n",
        "splitter = CharacterTextSplitter(\n",
        "    chunk_size=50,\n",
        "    chunk_overlap=0, # Reduced overlap to avoid large chunks\n",
        "    separator=\". \"\n",
        ")\n",
        "\n",
        "embedding = OpenAIEmbeddings()\n",
        "\n",
        "redundant_filter = EmbeddingsRedundantFilter(embeddings=embedding)\n",
        "\n",
        "relevant_filter = EmbeddingsFilter(\n",
        "    embeddings=embedding,\n",
        "    similarity_threshold=0.8 # Increased threshold to filter more documents\n",
        ")\n",
        "\n",
        "pipeline_compressor = DocumentCompressorPipeline(\n",
        "    transformers=[splitter, redundant_filter, relevant_filter]\n",
        ")\n",
        "\n",
        "retriever = vector_store.as_retriever(\n",
        "    search_type=\"mmr\",\n",
        "    search_kwargs={\"k\": 5}\n",
        ")\n",
        "\n",
        "compression_retriever = ContextualCompressionRetriever(\n",
        "    base_compressor=pipeline_compressor, base_retriever=retriever\n",
        ")"
      ],
      "metadata": {
        "id": "nqAdrAjOlAuO"
      },
      "execution_count": 136,
      "outputs": []
    },
    {
      "cell_type": "code",
      "source": [
        "llm = ChatOpenAI(model=\"gpt-4o\")\n",
        "\n",
        "prompt = hub.pull(\"rlm/rag-prompt\")\n",
        "\n",
        "chain = (\n",
        "    {\n",
        "        \"question\": RunnablePassthrough(),\n",
        "        \"context\": compression_retriever\n",
        "    }\n",
        "    | prompt\n",
        "    | llm\n",
        "    | StrOutputParser()\n",
        ")"
      ],
      "metadata": {
        "colab": {
          "base_uri": "https://localhost:8080/"
        },
        "outputId": "de4ee9ec-a81b-4768-ce27-5ce6a24b2840",
        "id": "0ONcqgJskzIb"
      },
      "execution_count": 137,
      "outputs": [
        {
          "output_type": "stream",
          "name": "stderr",
          "text": [
            "/usr/local/lib/python3.11/dist-packages/langsmith/client.py:272: LangSmithMissingAPIKeyWarning: API key must be provided when using hosted LangSmith API\n",
            "  warnings.warn(\n"
          ]
        }
      ]
    },
    {
      "cell_type": "code",
      "source": [
        "chain.invoke(\"En que año exploto el transbordador challenger?\")"
      ],
      "metadata": {
        "colab": {
          "base_uri": "https://localhost:8080/",
          "height": 87
        },
        "outputId": "84f29698-35da-40ac-fd00-d903fba52d48",
        "id": "HPvD6nkakzIc"
      },
      "execution_count": 138,
      "outputs": [
        {
          "output_type": "stream",
          "name": "stderr",
          "text": [
            "WARNING:langchain_text_splitters.base:Created a chunk of size 64, which is longer than the specified 50\n",
            "WARNING:langchain_text_splitters.base:Created a chunk of size 83, which is longer than the specified 50\n",
            "WARNING:langchain_text_splitters.base:Created a chunk of size 176, which is longer than the specified 50\n"
          ]
        },
        {
          "output_type": "execute_result",
          "data": {
            "text/plain": [
              "'El transbordador espacial Challenger explotó el 28 de enero de 1986.'"
            ],
            "application/vnd.google.colaboratory.intrinsic+json": {
              "type": "string"
            }
          },
          "metadata": {},
          "execution_count": 138
        }
      ]
    },
    {
      "cell_type": "code",
      "source": [
        "chain.invoke(\"Cuantas personas iban dentro del transbordador challenger?\")"
      ],
      "metadata": {
        "colab": {
          "base_uri": "https://localhost:8080/",
          "height": 35
        },
        "outputId": "9d944b37-f274-4b93-8b7b-d4d6c664a6a2",
        "id": "gZoX005vkzIc"
      },
      "execution_count": 139,
      "outputs": [
        {
          "output_type": "execute_result",
          "data": {
            "text/plain": [
              "'El transbordador Challenger llevaba a bordo siete personas.'"
            ],
            "application/vnd.google.colaboratory.intrinsic+json": {
              "type": "string"
            }
          },
          "metadata": {},
          "execution_count": 139
        }
      ]
    },
    {
      "cell_type": "code",
      "source": [
        "chain.invoke(\"Cuanto tiempo paso luego de haber sido lanzado el transbordador?\")"
      ],
      "metadata": {
        "colab": {
          "base_uri": "https://localhost:8080/",
          "height": 70
        },
        "outputId": "a52c5d32-97c8-415f-db5e-3b6f60e840c6",
        "id": "6d-6JeS8kzId"
      },
      "execution_count": 140,
      "outputs": [
        {
          "output_type": "stream",
          "name": "stderr",
          "text": [
            "WARNING:langchain_text_splitters.base:Created a chunk of size 150, which is longer than the specified 50\n"
          ]
        },
        {
          "output_type": "execute_result",
          "data": {
            "text/plain": [
              "'El transbordador espacial Challenger fue lanzado el 28 de enero de 1986, y después de una pausa de 32 meses en el programa de transbordadores, la siguiente misión, la STS-26, se lanzó el 29 de septiembre de 1988.'"
            ],
            "application/vnd.google.colaboratory.intrinsic+json": {
              "type": "string"
            }
          },
          "metadata": {},
          "execution_count": 140
        }
      ]
    }
  ]
}