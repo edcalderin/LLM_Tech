{
  "nbformat": 4,
  "nbformat_minor": 0,
  "metadata": {
    "colab": {
      "provenance": [],
      "authorship_tag": "ABX9TyNSlMTTPoJCX88bWX0aHqm7",
      "include_colab_link": true
    },
    "kernelspec": {
      "name": "python3",
      "display_name": "Python 3"
    },
    "language_info": {
      "name": "python"
    }
  },
  "cells": [
    {
      "cell_type": "markdown",
      "metadata": {
        "id": "view-in-github",
        "colab_type": "text"
      },
      "source": [
        "<a href=\"https://colab.research.google.com/github/edcalderin/LLM_Tech/blob/master/Pytorch_Introduction_Enter_NonLinear_Functions.ipynb\" target=\"_parent\"><img src=\"https://colab.research.google.com/assets/colab-badge.svg\" alt=\"Open In Colab\"/></a>"
      ]
    },
    {
      "cell_type": "markdown",
      "source": [
        "# Pytorch Introduction — Enter NonLinear Functions"
      ],
      "metadata": {
        "id": "LyDkaFFUitW0"
      }
    },
    {
      "cell_type": "markdown",
      "source": [
        "https://medium.com/data-science/pytorch-introduction-enter-nonlinear-functions-4dd893845592"
      ],
      "metadata": {
        "id": "KbHl4qra1gpc"
      }
    },
    {
      "cell_type": "markdown",
      "source": [
        "## Downloading data from Kaggle"
      ],
      "metadata": {
        "id": "wIajRInsPudh"
      }
    },
    {
      "cell_type": "code",
      "source": [
        "import kagglehub\n",
        "\n",
        "# Download latest version\n",
        "path = kagglehub.dataset_download(\"andrewmvd/heart-failure-clinical-data\")\n",
        "\n",
        "print(\"Path to dataset files:\", path)"
      ],
      "metadata": {
        "id": "x812IHObixYw",
        "colab": {
          "base_uri": "https://localhost:8080/"
        },
        "outputId": "ae23c8ce-0119-484c-e8f7-1c9963abfb94"
      },
      "execution_count": 1,
      "outputs": [
        {
          "output_type": "stream",
          "name": "stdout",
          "text": [
            "Downloading from https://www.kaggle.com/api/v1/datasets/download/andrewmvd/heart-failure-clinical-data?dataset_version_number=1...\n"
          ]
        },
        {
          "output_type": "stream",
          "name": "stderr",
          "text": [
            "100%|██████████| 3.97k/3.97k [00:00<00:00, 476kB/s]"
          ]
        },
        {
          "output_type": "stream",
          "name": "stdout",
          "text": [
            "Extracting files...\n",
            "Path to dataset files: /root/.cache/kagglehub/datasets/andrewmvd/heart-failure-clinical-data/versions/1\n"
          ]
        },
        {
          "output_type": "stream",
          "name": "stderr",
          "text": [
            "\n"
          ]
        }
      ]
    },
    {
      "cell_type": "code",
      "source": [
        "!ls $path"
      ],
      "metadata": {
        "colab": {
          "base_uri": "https://localhost:8080/"
        },
        "id": "3GE-Lt2AAzw-",
        "outputId": "a3c9d2c7-e4db-45b6-e538-2e11a28f6bf0"
      },
      "execution_count": null,
      "outputs": [
        {
          "output_type": "stream",
          "name": "stdout",
          "text": [
            "heart_failure_clinical_records_dataset.csv\n"
          ]
        }
      ]
    },
    {
      "cell_type": "code",
      "source": [
        "import pandas as pd\n",
        "\n",
        "data = pd.read_csv(f\"{path}/heart_failure_clinical_records_dataset.csv\")\n",
        "\n",
        "data.head()\n",
        "print(data.shape)"
      ],
      "metadata": {
        "colab": {
          "base_uri": "https://localhost:8080/"
        },
        "id": "E5cCJiEeAtJA",
        "outputId": "135b42b2-b728-41f8-a56d-fb93e7fda9b3"
      },
      "execution_count": 2,
      "outputs": [
        {
          "output_type": "stream",
          "name": "stdout",
          "text": [
            "(299, 13)\n"
          ]
        }
      ]
    },
    {
      "cell_type": "markdown",
      "source": [
        "## Preprocessing data"
      ],
      "metadata": {
        "id": "AXzrOWzCPxI2"
      }
    },
    {
      "cell_type": "code",
      "source": [
        "from sklearn.model_selection import train_test_split\n",
        "from sklearn.preprocessing import StandardScaler\n",
        "import torch\n",
        "\n",
        "X = data.drop(\"DEATH_EVENT\", axis=1)\n",
        "y = data[\"DEATH_EVENT\"]\n",
        "X_train, X_test, y_train, y_test = train_test_split(X, y, test_size=0.3, random_state=42, stratify=y)\n",
        "\n",
        "scaler = StandardScaler()\n",
        "scaler.fit(X_train)\n",
        "X_train = scaler.fit_transform(X_train)\n",
        "X_test = scaler.transform(X_test)\n",
        "\n",
        "X_train = torch.FloatTensor(X_train)\n",
        "X_test = torch.FloatTensor(X_test)\n",
        "y_train = torch.FloatTensor(y_train.values)\n",
        "y_test = torch.FloatTensor(y_test.values)\n",
        "\n",
        "print(type(X_train))"
      ],
      "metadata": {
        "colab": {
          "base_uri": "https://localhost:8080/"
        },
        "id": "c_Dgk2XUAwTg",
        "outputId": "c1b6729a-e0f5-4659-d7cf-bb0204de6c3a"
      },
      "execution_count": 22,
      "outputs": [
        {
          "output_type": "stream",
          "name": "stdout",
          "text": [
            "<class 'torch.Tensor'>\n"
          ]
        }
      ]
    },
    {
      "cell_type": "markdown",
      "source": [
        "## Training a Vanilla Linear Network"
      ],
      "metadata": {
        "id": "OwvNjnYGNuBt"
      }
    },
    {
      "cell_type": "code",
      "source": [
        "from torch import nn\n",
        "\n",
        "class LinearModel(nn.Module):\n",
        "\n",
        "    def __init__(self):\n",
        "        super().__init__()\n",
        "        \"\"\"self.__layer_1 = nn.Linear(12, 20)\n",
        "        self.__layer_2 = nn.Linear(20, 20)\n",
        "        self.__layer_3 = nn.Linear(20, 1)\n",
        "        \"\"\"\n",
        "        self.__layer_1 = nn.Linear(12, 5)\n",
        "        self.__relu = nn.ReLU()\n",
        "        self.__layer_2 = nn.Linear(5, 1)\n",
        "\n",
        "    def forward(self, x):\n",
        "        \"\"\"\n",
        "        x = self.__layer_1(x)\n",
        "        x = self.__layer_2(x)\n",
        "        return self.__layer_3(x)\n",
        "        \"\"\"\n",
        "        x = self.__layer_1(x)\n",
        "        x = self.__relu(x)\n",
        "        return self.__layer_2(x)"
      ],
      "metadata": {
        "id": "9s_WGYtKP0T2"
      },
      "execution_count": 49,
      "outputs": []
    },
    {
      "cell_type": "markdown",
      "source": [
        "Definint Loss function"
      ],
      "metadata": {
        "id": "YBUTw8FAS2Gt"
      }
    },
    {
      "cell_type": "code",
      "source": [
        "from torch.optim import SGD\n",
        "\n",
        "loss_fn = nn.BCEWithLogitsLoss()\n",
        "\n",
        "model_0 = LinearModel()\n",
        "\n",
        "optimizer = SGD(params=model_0.parameters(), lr=0.01)"
      ],
      "metadata": {
        "id": "YE3CNd0FS4Fi"
      },
      "execution_count": 50,
      "outputs": []
    },
    {
      "cell_type": "code",
      "source": [
        "def compute_accuracy(y_true, y_pred)->float:\n",
        "    tp_tn = torch.eq(y_true, y_pred).sum().item()\n",
        "    return (tp_tn / len(y_pred))*100"
      ],
      "metadata": {
        "id": "ieUCcN2XV0Jz"
      },
      "execution_count": 51,
      "outputs": []
    },
    {
      "cell_type": "markdown",
      "source": [
        "Training the model"
      ],
      "metadata": {
        "id": "dxSNxB3TWYP4"
      }
    },
    {
      "cell_type": "code",
      "source": [
        "torch.manual_seed(42)\n",
        "\n",
        "EPOCHS: int = 1500\n",
        "train_acc_values, test_acc_values =  [], []\n",
        "\n",
        "for epoch in range(EPOCHS):\n",
        "    model_0.train()\n",
        "    y_logits = model_0(X_train).squeeze()\n",
        "    loss = loss_fn(y_logits, y_train)\n",
        "    acc: float = compute_accuracy(y_train, torch.round(torch.sigmoid(y_logits)))\n",
        "    train_acc_values.append(acc)\n",
        "    optimizer.zero_grad()\n",
        "    loss.backward()\n",
        "    optimizer.step()\n",
        "\n",
        "    model_0.eval()\n",
        "    with torch.inference_mode():\n",
        "        test_logits = model_0(X_test).squeeze()\n",
        "        test_acc: float = compute_accuracy(y_test, torch.round(torch.sigmoid(test_logits)))\n",
        "        test_acc_values.append(test_acc)\n",
        "\n",
        "    if epoch%100==0:\n",
        "        print(f\"Epoch: {epoch:<3} | Loss: {loss:.5f} | Train Acc: {acc:.2f}% | Test Acc: {test_acc:.2f}%\")"
      ],
      "metadata": {
        "colab": {
          "base_uri": "https://localhost:8080/"
        },
        "id": "7Teo8pJ0pd_h",
        "outputId": "465df907-1f94-4a36-b00f-81ce2a16d08d"
      },
      "execution_count": 52,
      "outputs": [
        {
          "output_type": "stream",
          "name": "stdout",
          "text": [
            "Epoch: 0   | Loss: 0.75148 | Train Acc: 33.97% | Test Acc: 32.22%\n",
            "Epoch: 100 | Loss: 0.67467 | Train Acc: 55.50% | Test Acc: 66.67%\n",
            "Epoch: 200 | Loss: 0.62038 | Train Acc: 65.07% | Test Acc: 72.22%\n",
            "Epoch: 300 | Loss: 0.57926 | Train Acc: 67.94% | Test Acc: 71.11%\n",
            "Epoch: 400 | Loss: 0.54595 | Train Acc: 68.90% | Test Acc: 66.67%\n",
            "Epoch: 500 | Loss: 0.51814 | Train Acc: 70.33% | Test Acc: 67.78%\n",
            "Epoch: 600 | Loss: 0.49482 | Train Acc: 72.73% | Test Acc: 68.89%\n",
            "Epoch: 700 | Loss: 0.47555 | Train Acc: 73.21% | Test Acc: 71.11%\n",
            "Epoch: 800 | Loss: 0.45952 | Train Acc: 72.25% | Test Acc: 72.22%\n",
            "Epoch: 900 | Loss: 0.44603 | Train Acc: 73.21% | Test Acc: 74.44%\n",
            "Epoch: 1000 | Loss: 0.43436 | Train Acc: 77.03% | Test Acc: 77.78%\n",
            "Epoch: 1100 | Loss: 0.42445 | Train Acc: 79.90% | Test Acc: 80.00%\n",
            "Epoch: 1200 | Loss: 0.41583 | Train Acc: 81.34% | Test Acc: 77.78%\n",
            "Epoch: 1300 | Loss: 0.40815 | Train Acc: 83.25% | Test Acc: 80.00%\n",
            "Epoch: 1400 | Loss: 0.40119 | Train Acc: 83.73% | Test Acc: 80.00%\n"
          ]
        }
      ]
    },
    {
      "cell_type": "code",
      "source": [
        "import seaborn as sns\n",
        "\n",
        "sns.lineplot(x=range(EPOCHS), y=train_acc_values, label=\"Train Accuracy\")\n",
        "sns.lineplot(x=range(EPOCHS), y=test_acc_values, label=\"Test Accuracy\")"
      ],
      "metadata": {
        "colab": {
          "base_uri": "https://localhost:8080/",
          "height": 447
        },
        "id": "ScZHCgmEu447",
        "outputId": "9748cbfd-2977-45e8-a779-9ca4e1e2b04a"
      },
      "execution_count": 53,
      "outputs": [
        {
          "output_type": "execute_result",
          "data": {
            "text/plain": [
              "<Axes: >"
            ]
          },
          "metadata": {},
          "execution_count": 53
        },
        {
          "output_type": "display_data",
          "data": {
            "text/plain": [
              "<Figure size 640x480 with 1 Axes>"
            ],
            "image/png": "[encoded data removed]"
          },
          "metadata": {}
        }
      ]
    },
    {
      "cell_type": "markdown",
      "source": [
        "By adding No-linear activation functions the model does not exhibit overfitting"
      ],
      "metadata": {
        "id": "Phal8N6h199K"
      }
    }
  ]
}