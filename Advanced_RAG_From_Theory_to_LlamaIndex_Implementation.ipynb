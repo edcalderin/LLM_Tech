{
  "nbformat": 4,
  "nbformat_minor": 0,
  "metadata": {
    "colab": {
      "provenance": [],
      "authorship_tag": "ABX9TyNfzi5m7n8GIZ6OO7N/EXQb",
      "include_colab_link": true
    },
    "kernelspec": {
      "name": "python3",
      "display_name": "Python 3"
    },
    "language_info": {
      "name": "python"
    }
  },
  "cells": [
    {
      "cell_type": "markdown",
      "metadata": {
        "id": "view-in-github",
        "colab_type": "text"
      },
      "source": [
        "<a href=\"https://colab.research.google.com/github/edcalderin/LLM_Tech/blob/master/Advanced_RAG_From_Theory_to_LlamaIndex_Implementation.ipynb\" target=\"_parent\"><img src=\"https://colab.research.google.com/assets/colab-badge.svg\" alt=\"Open In Colab\"/></a>"
      ]
    },
    {
      "cell_type": "markdown",
      "source": [
        "# Advanced Retrieval-Augmented Generation: From Theory to LlamaIndex Implementation"
      ],
      "metadata": {
        "id": "S2gZY6BeGxgv"
      }
    },
    {
      "cell_type": "markdown",
      "source": [
        "https://medium.com/data-science/advanced-retrieval-augmented-generation-from-theory-to-llamaindex-implementation-4de1464a9930"
      ],
      "metadata": {
        "id": "rM4hp3D4auQ_"
      }
    },
    {
      "cell_type": "markdown",
      "source": [
        "## Installing modules and setting up api keys"
      ],
      "metadata": {
        "id": "18dYIZCqavGY"
      }
    },
    {
      "cell_type": "code",
      "source": [
        "!pip install -qU llama-index weaviate-client llama-index-vector-stores-weaviate"
      ],
      "metadata": {
        "colab": {
          "base_uri": "https://localhost:8080/"
        },
        "id": "Aza2vpTJG0s7",
        "outputId": "e9fb3b0b-d9c0-461e-cbc5-2e0dbfc9c1f8"
      },
      "execution_count": 1,
      "outputs": [
        {
          "output_type": "stream",
          "name": "stdout",
          "text": [
            "\u001b[?25l   \u001b[90m━━━━━━━━━━━━━━━━━━━━━━━━━━━━━━━━━━━━━━━━\u001b[0m \u001b[32m0.0/597.2 kB\u001b[0m \u001b[31m?\u001b[0m eta \u001b[36m-:--:--\u001b[0m\r\u001b[2K   \u001b[91m━━━━━━━━━━━━━━━━━━━━━━━━━━━━━━━━━━━━━━━\u001b[0m\u001b[91m╸\u001b[0m \u001b[32m593.9/597.2 kB\u001b[0m \u001b[31m23.6 MB/s\u001b[0m eta \u001b[36m0:00:01\u001b[0m\r\u001b[2K   \u001b[90m━━━━━━━━━━━━━━━━━━━━━━━━━━━━━━━━━━━━━━━━\u001b[0m \u001b[32m597.2/597.2 kB\u001b[0m \u001b[31m14.3 MB/s\u001b[0m eta \u001b[36m0:00:00\u001b[0m\n",
            "\u001b[2K   \u001b[90m━━━━━━━━━━━━━━━━━━━━━━━━━━━━━━━━━━━━━━━━\u001b[0m \u001b[32m239.3/239.3 kB\u001b[0m \u001b[31m12.2 MB/s\u001b[0m eta \u001b[36m0:00:00\u001b[0m\n",
            "\u001b[2K   \u001b[90m━━━━━━━━━━━━━━━━━━━━━━━━━━━━━━━━━━━━━━━━\u001b[0m \u001b[32m7.6/7.6 MB\u001b[0m \u001b[31m103.4 MB/s\u001b[0m eta \u001b[36m0:00:00\u001b[0m\n",
            "\u001b[2K   \u001b[90m━━━━━━━━━━━━━━━━━━━━━━━━━━━━━━━━━━━━━━━━\u001b[0m \u001b[32m303.3/303.3 kB\u001b[0m \u001b[31m14.9 MB/s\u001b[0m eta \u001b[36m0:00:00\u001b[0m\n",
            "\u001b[2K   \u001b[90m━━━━━━━━━━━━━━━━━━━━━━━━━━━━━━━━━━━━━━━━\u001b[0m \u001b[32m41.0/41.0 kB\u001b[0m \u001b[31m2.3 MB/s\u001b[0m eta \u001b[36m0:00:00\u001b[0m\n",
            "\u001b[2K   \u001b[90m━━━━━━━━━━━━━━━━━━━━━━━━━━━━━━━━━━━━━━━━\u001b[0m \u001b[32m44.7/44.7 kB\u001b[0m \u001b[31m2.8 MB/s\u001b[0m eta \u001b[36m0:00:00\u001b[0m\n",
            "\u001b[2K   \u001b[90m━━━━━━━━━━━━━━━━━━━━━━━━━━━━━━━━━━━━━━━━\u001b[0m \u001b[32m321.1/321.1 kB\u001b[0m \u001b[31m21.9 MB/s\u001b[0m eta \u001b[36m0:00:00\u001b[0m\n",
            "\u001b[2K   \u001b[90m━━━━━━━━━━━━━━━━━━━━━━━━━━━━━━━━━━━━━━━━\u001b[0m \u001b[32m313.2/313.2 kB\u001b[0m \u001b[31m19.3 MB/s\u001b[0m eta \u001b[36m0:00:00\u001b[0m\n",
            "\u001b[2K   \u001b[90m━━━━━━━━━━━━━━━━━━━━━━━━━━━━━━━━━━━━━━━━\u001b[0m \u001b[32m1.2/1.2 MB\u001b[0m \u001b[31m43.6 MB/s\u001b[0m eta \u001b[36m0:00:00\u001b[0m\n",
            "\u001b[2K   \u001b[90m━━━━━━━━━━━━━━━━━━━━━━━━━━━━━━━━━━━━━━━━\u001b[0m \u001b[32m63.9/63.9 kB\u001b[0m \u001b[31m5.5 MB/s\u001b[0m eta \u001b[36m0:00:00\u001b[0m\n",
            "\u001b[2K   \u001b[90m━━━━━━━━━━━━━━━━━━━━━━━━━━━━━━━━━━━━━━━━\u001b[0m \u001b[32m50.9/50.9 kB\u001b[0m \u001b[31m3.1 MB/s\u001b[0m eta \u001b[36m0:00:00\u001b[0m\n",
            "\u001b[2K   \u001b[90m━━━━━━━━━━━━━━━━━━━━━━━━━━━━━━━━━━━━━━━━\u001b[0m \u001b[32m137.1/137.1 kB\u001b[0m \u001b[31m8.3 MB/s\u001b[0m eta \u001b[36m0:00:00\u001b[0m\n",
            "\u001b[?25h\u001b[31mERROR: pip's dependency resolver does not currently take into account all the packages that are installed. This behaviour is the source of the following dependency conflicts.\n",
            "ipython 7.34.0 requires jedi>=0.16, which is not installed.\n",
            "google-ai-generativelanguage 0.6.15 requires protobuf!=4.21.0,!=4.21.1,!=4.21.2,!=4.21.3,!=4.21.4,!=4.21.5,<6.0.0dev,>=3.20.2, but you have protobuf 6.31.1 which is incompatible.\n",
            "tensorflow 2.18.0 requires protobuf!=4.21.0,!=4.21.1,!=4.21.2,!=4.21.3,!=4.21.4,!=4.21.5,<6.0.0dev,>=3.20.3, but you have protobuf 6.31.1 which is incompatible.\n",
            "grpcio-status 1.71.2 requires protobuf<6.0dev,>=5.26.1, but you have protobuf 6.31.1 which is incompatible.\u001b[0m\u001b[31m\n",
            "\u001b[0m"
          ]
        }
      ]
    },
    {
      "cell_type": "code",
      "source": [
        "from google.colab import userdata\n",
        "import os\n",
        "\n",
        "os.environ[\"OPENAI_API_KEY\"] = userdata.get('OPENAI_API_KEY')"
      ],
      "metadata": {
        "id": "4CvonGvNacrb"
      },
      "execution_count": 2,
      "outputs": []
    },
    {
      "cell_type": "markdown",
      "source": [
        "## Implementing Naive RAG with LlamaIndex"
      ],
      "metadata": {
        "id": "8YFpnuNcapUk"
      }
    },
    {
      "cell_type": "code",
      "source": [
        "from llama_index.embeddings.openai import OpenAIEmbedding\n",
        "from llama_index.llms.openai import OpenAI\n",
        "from llama_index.core.settings import Settings\n",
        "\n",
        "# 1. Define embeddings and model\n",
        "\n",
        "Settings.llm = OpenAI(model=\"gpt-4o\")\n",
        "Settings.embed_model = OpenAIEmbedding()"
      ],
      "metadata": {
        "id": "pu9T9efIa8Oo"
      },
      "execution_count": 3,
      "outputs": []
    },
    {
      "cell_type": "code",
      "source": [
        "!mkdir -p 'data'\n",
        "!wget https://raco.cat/index.php/ECT/article/download/89018/133467/133672 -O 'data/Tsunami-de-2004.pdf'"
      ],
      "metadata": {
        "colab": {
          "base_uri": "https://localhost:8080/"
        },
        "id": "xaQmpIiYlkFq",
        "outputId": "ace914ca-14f2-4de3-c8ea-417d5d7752c0"
      },
      "execution_count": 4,
      "outputs": [
        {
          "output_type": "stream",
          "name": "stdout",
          "text": [
            "--2025-08-01 20:15:01--  https://raco.cat/index.php/ECT/article/download/89018/133467/133672\n",
            "Resolving raco.cat (raco.cat)... 84.88.27.11\n",
            "Connecting to raco.cat (raco.cat)|84.88.27.11|:443... connected.\n",
            "HTTP request sent, awaiting response... 200 OK\n",
            "Length: 2247099 (2.1M) [application/pdf]\n",
            "Saving to: ‘data/Tsunami-de-2004.pdf’\n",
            "\n",
            "data/Tsunami-de-200 100%[===================>]   2.14M  1.64MB/s    in 1.3s    \n",
            "\n",
            "2025-08-01 20:15:05 (1.64 MB/s) - ‘data/Tsunami-de-2004.pdf’ saved [2247099/2247099]\n",
            "\n"
          ]
        }
      ]
    },
    {
      "cell_type": "code",
      "source": [
        "# 2. Load data\n",
        "\n",
        "from llama_index.core import SimpleDirectoryReader\n",
        "\n",
        "directory_reader = SimpleDirectoryReader(input_dir=\"data\")\n",
        "documents = directory_reader.load_data()\n",
        "\n",
        "print(len(documents), \"document(s) in this directory\")"
      ],
      "metadata": {
        "colab": {
          "base_uri": "https://localhost:8080/"
        },
        "id": "yN8ioXdUlnhu",
        "outputId": "12b18660-12db-4db1-d990-d9250625fe48"
      },
      "execution_count": 5,
      "outputs": [
        {
          "output_type": "stream",
          "name": "stdout",
          "text": [
            "13 document(s) in this directory\n"
          ]
        }
      ]
    },
    {
      "cell_type": "code",
      "source": [
        "# 3. Chunk documents into Nodes\n",
        "\n",
        "from llama_index.core.node_parser import SimpleNodeParser\n",
        "\n",
        "node_parser = SimpleNodeParser.from_defaults(chunk_size=1024)\n",
        "nodes: list = node_parser.get_nodes_from_documents(documents)\n",
        "\n",
        "print(len(nodes))\n",
        "\n",
        "print(nodes[:2])"
      ],
      "metadata": {
        "colab": {
          "base_uri": "https://localhost:8080/"
        },
        "id": "-9GAXQ_yFTbN",
        "outputId": "b2ff83b0-c480-4796-d60c-e670a0723e38"
      },
      "execution_count": 6,
      "outputs": [
        {
          "output_type": "stream",
          "name": "stdout",
          "text": [
            "16\n",
            "[TextNode(id_='5cb4ffe9-2175-4906-99cc-0a8feeebf045', embedding=None, metadata={'page_label': '1', 'file_name': 'Tsunami-de-2004.pdf', 'file_path': '/content/data/Tsunami-de-2004.pdf', 'file_type': 'application/pdf', 'file_size': 2247099, 'creation_date': '2025-08-01', 'last_modified_date': '2025-08-01'}, excluded_embed_metadata_keys=['file_name', 'file_type', 'file_size', 'creation_date', 'last_modified_date', 'last_accessed_date'], excluded_llm_metadata_keys=['file_name', 'file_type', 'file_size', 'creation_date', 'last_modified_date', 'last_accessed_date'], relationships={<NodeRelationship.SOURCE: '1'>: RelatedNodeInfo(node_id='0f6c34a9-4db3-436e-a12a-3c334ca3c957', node_type=<ObjectType.DOCUMENT: '4'>, metadata={'page_label': '1', 'file_name': 'Tsunami-de-2004.pdf', 'file_path': '/content/data/Tsunami-de-2004.pdf', 'file_type': 'application/pdf', 'file_size': 2247099, 'creation_date': '2025-08-01', 'last_modified_date': '2025-08-01'}, hash='7beeec9affd690d2678e359951b84d3e0f0a0397221fbc882b7b9316c258fc72'), <NodeRelationship.NEXT: '3'>: RelatedNodeInfo(node_id='a588a052-1d5d-477d-9e00-525a2b255fdf', node_type=<ObjectType.TEXT: '1'>, metadata={}, hash='99b4c2fc7ccabdfee610a849bb1e9d6027c25e861ed72759bdae5617fe349f89')}, metadata_template='{key}: {value}', metadata_separator='\\n', text='INTRODUCCIÓN\\nEl 26 de diciembre de 2004 a las 00:58:53 T.U,\\n(07:58:53 AM, hora local) una hora más en la Pe-\\nnínsula Ibérica se produjo uno de los sismos más\\nimportantes y jamás registrados, en la región de la\\nisla de Sumatra, al suroeste de Banda Aceh, con\\nuna magnitud estimada de 9.3 (USGS-NEIC) y con\\nuna profundidad de 30 kilómetros. Como resultado\\ndel terremoto se produjo un devastador tsunami y el\\nnivel de mar mar experimentó una elevación de va-\\nrios metros en las costas de Indonesia y zonas cos-\\nteras situadas a miles de kilómetros del epicentro.\\nEl sismo del 26 de diciembre de 2004 es el cuarto\\nterremoto más grande del mundo desde 1900 y el más\\ngrande desde el terremoto de Alaska en 1964, se ha\\ncatalogado como el más catastrófico de la historia.\\nEl epicentro estaba situado a una distancia de\\n255 Km al SSE de Banda Aceh (Sumatra, Indone-\\nsia), a 310 Km al W de Medan (Sumatra, Indone-\\nsia), a 1.260 Km al SSW de Bangkok (Thailandia)\\ny a 1.605 Km al NW de Jakarta (Java, Indonesia).\\nEl tsunami afectó a varios países del sur y sureste\\nasiático y de África: Indonesia, Sri Lanka, India,\\nThailandia, Somalia, Myanmar, Malasia, Maldivas,\\nTanzania, Bangladesh, en la costa de la isla de Cocos,\\nKenia, Mauritania, región de las Islas Seychelles. És-\\nte, causó más víctimas que cualquier otro registrado\\nen la historia. Al menos, entre muertos y desapareci-\\ndos 235.800 personas se vieron afectadas en Indone-\\nsia, alrededor de 30.900 en Sri Lanka, 10.700 en la\\nIndia, 5.300 en Tailandia, 150 en Somalia, 90 en\\nMyanmar, 82 en Maldivas, 68 en Malasia, 10 en Tan-\\nzania, 3 en Seychelles, 2 en Bangladesh y 1 en Kenia.\\nEn total se han contabilizado más de 283.100 perso-\\nnas muertas entre las cuales 14.100 constan todavía\\ncomo desaparecidas. Hubo más de 2.242.212 perso-\\nnas desplazadas por el terremoto y posterior tsunami\\nen 10 países en Asia del sur y África oriental. \\nLas zonas afectadas quedaron totalmente arrasa-\\ndas y las pérdidas no sólo fueron de vidas humanas,\\nsino que también quedaron afectados los sectores\\neconómico, turístico, agrícola, la industria pesque-\\nra, las infraestructuras y las viviendas, entre otros.\\nOtras consecuencias que ha tenido el desastre son\\nlas sociales, psicológicas y emocionales provocadas\\npor la catástrofe y por la gran cantidad de víctimas\\nque el tsunami ha dejado. \\nEL TSUNAMI DE SUMATRA DEL 26 DE DICIEMBRE DE 2004\\nThe tsunami of Sumatra, of December 26, 2004\\nMarta González (*) y Sara Figueras (**)\\nRESUMEN\\nEl tsunami de Sumatra, del 26 de diciembre de 2004, se ha catalogado como el más destructivo de la\\nhistoria. Desde el momento en que se produjo, los medios de comunicación dieron amplia cobertura de\\nlos hechos sucedidos así como de la evolución de sus consecuencias durante muchos días, incluso meses.\\nEn este artículo se explica en que contexto sismotectónico se produjo el terremoto que lo originó, cuales\\nhan sido sus efectos sobre la población, la economía, las infraestructuras y la excepcionalidad de un sis-\\nmo de una elevada magnitud. También se ha intentado comparar con las estadísticas mundiales de los\\nsismos más destructores y con los de magnitudes más grandes.\\nABSTRACT\\nThe tsunami of Sumatra, of December 26, 2004, has been catalogued as the most known destructive\\ntsunami.', mimetype='text/plain', start_char_idx=0, end_char_idx=3253, metadata_seperator='\\n', text_template='{metadata_str}\\n\\n{content}'), TextNode(id_='a588a052-1d5d-477d-9e00-525a2b255fdf', embedding=None, metadata={'page_label': '1', 'file_name': 'Tsunami-de-2004.pdf', 'file_path': '/content/data/Tsunami-de-2004.pdf', 'file_type': 'application/pdf', 'file_size': 2247099, 'creation_date': '2025-08-01', 'last_modified_date': '2025-08-01'}, excluded_embed_metadata_keys=['file_name', 'file_type', 'file_size', 'creation_date', 'last_modified_date', 'last_accessed_date'], excluded_llm_metadata_keys=['file_name', 'file_type', 'file_size', 'creation_date', 'last_modified_date', 'last_accessed_date'], relationships={<NodeRelationship.SOURCE: '1'>: RelatedNodeInfo(node_id='0f6c34a9-4db3-436e-a12a-3c334ca3c957', node_type=<ObjectType.DOCUMENT: '4'>, metadata={'page_label': '1', 'file_name': 'Tsunami-de-2004.pdf', 'file_path': '/content/data/Tsunami-de-2004.pdf', 'file_type': 'application/pdf', 'file_size': 2247099, 'creation_date': '2025-08-01', 'last_modified_date': '2025-08-01'}, hash='7beeec9affd690d2678e359951b84d3e0f0a0397221fbc882b7b9316c258fc72'), <NodeRelationship.PREVIOUS: '2'>: RelatedNodeInfo(node_id='5cb4ffe9-2175-4906-99cc-0a8feeebf045', node_type=<ObjectType.TEXT: '1'>, metadata={'page_label': '1', 'file_name': 'Tsunami-de-2004.pdf', 'file_path': '/content/data/Tsunami-de-2004.pdf', 'file_type': 'application/pdf', 'file_size': 2247099, 'creation_date': '2025-08-01', 'last_modified_date': '2025-08-01'}, hash='942e09e56903fe01196d4548e4851b57159745fab50efb9fd14d668e5701825e')}, metadata_template='{key}: {value}', metadata_separator='\\n', text=\"Desde el momento en que se produjo, los medios de comunicación dieron amplia cobertura de\\nlos hechos sucedidos así como de la evolución de sus consecuencias durante muchos días, incluso meses.\\nEn este artículo se explica en que contexto sismotectónico se produjo el terremoto que lo originó, cuales\\nhan sido sus efectos sobre la población, la economía, las infraestructuras y la excepcionalidad de un sis-\\nmo de una elevada magnitud. También se ha intentado comparar con las estadísticas mundiales de los\\nsismos más destructores y con los de magnitudes más grandes.\\nABSTRACT\\nThe tsunami of Sumatra, of December 26, 2004, has been catalogued as the most known destructive\\ntsunami. This article presents the sismotectonic context of the earthquake that produced  the tsunami, his\\neffects on the population, the economy, the infrastructures and the importance of his great magnitude. \\nPalabras clave:Tsunami, maremoto, terremoto, magnitud, peligrosidad sísmica, vulnerabilidad, sismicidad.\\nKeywords: Tsunami, earthquake, magnitude, seismic hazard, vulnerability, seismicity.\\nTEMA DEL DÍA\\n2 Enseñanza de las Ciencias de la Tierra, 2005. (13.1) 2-14\\nI.S.S.N.: 1132-9157\\n(*) Centre de Recerca en Ciències de la Terra de l’Institut d’Estudis Andorrans. Av. Rocafort 21-23. Edifici El Molí, 3er pis. St. Ju-\\nlià de Lòria - Principat d'Andorra. E-mail: mgonzalez@aepect.org\\n(**) Institut Cartogràfic de Catalunya (ICC). Parc de Montjuïc s/n. 08038 Barcelona. E-mail: Sfigueras@icc.es\", mimetype='text/plain', start_char_idx=2574, end_char_idx=4048, metadata_seperator='\\n', text_template='{metadata_str}\\n\\n{content}')]\n"
          ]
        }
      ]
    },
    {
      "cell_type": "code",
      "source": [
        "# 4. Build index\n",
        "\n",
        "from llama_index.vector_stores.weaviate import WeaviateVectorStore\n",
        "from llama_index.core import VectorStoreIndex, StorageContext\n",
        "import weaviate\n",
        "\n",
        "client = weaviate.WeaviateClient(\n",
        "    embedded_options=weaviate.embedded.EmbeddedOptions()\n",
        ")\n",
        "\n",
        "client.connect()\n",
        "\n",
        "INDEX_NAME: str = \"Rag\"\n",
        "\n",
        "vector_store = WeaviateVectorStore(\n",
        "    weaviate_client=client, index_name=INDEX_NAME)\n",
        "\n",
        "storage_context = StorageContext.from_defaults(vector_store=vector_store)\n",
        "\n",
        "index = VectorStoreIndex(nodes, storage_context=storage_context)"
      ],
      "metadata": {
        "colab": {
          "base_uri": "https://localhost:8080/"
        },
        "id": "BXV9gt89NQFK",
        "outputId": "9d76c8ca-3482-42b9-e6ad-56bffe7d87da"
      },
      "execution_count": 13,
      "outputs": [
        {
          "output_type": "stream",
          "name": "stderr",
          "text": [
            "INFO:weaviate-client:Started /root/.cache/weaviate-embedded: process ID 3721\n"
          ]
        }
      ]
    },
    {
      "cell_type": "code",
      "source": [
        "# client.close()"
      ],
      "metadata": {
        "id": "yOkDpnZvPw_Z"
      },
      "execution_count": 12,
      "outputs": []
    },
    {
      "cell_type": "code",
      "source": [
        "# 5. Setup query engine\n",
        "\n",
        "query_engine = index.as_query_engine()"
      ],
      "metadata": {
        "id": "I14FdVXKUj8n"
      },
      "execution_count": 14,
      "outputs": []
    },
    {
      "cell_type": "code",
      "source": [
        "# 6. Run a naive RAG\n",
        "\n",
        "query_engine.query(\"Cuando ocurrio el tsunami?\").response"
      ],
      "metadata": {
        "colab": {
          "base_uri": "https://localhost:8080/",
          "height": 35
        },
        "id": "IKufzWTxUpYU",
        "outputId": "7e259fd0-c075-429a-bf59-4f74a004a59a"
      },
      "execution_count": 18,
      "outputs": [
        {
          "output_type": "execute_result",
          "data": {
            "text/plain": [
              "'El tsunami ocurrió el 26 de diciembre de 2004.'"
            ],
            "application/vnd.google.colaboratory.intrinsic+json": {
              "type": "string"
            }
          },
          "metadata": {},
          "execution_count": 18
        }
      ]
    },
    {
      "cell_type": "code",
      "source": [
        "query_engine.query(\"Cual fue el pais mas afectado?\").response"
      ],
      "metadata": {
        "colab": {
          "base_uri": "https://localhost:8080/",
          "height": 53
        },
        "id": "pAQJpPolXVWg",
        "outputId": "74788022-a609-4d94-e060-b7cc1da12508"
      },
      "execution_count": 21,
      "outputs": [
        {
          "output_type": "execute_result",
          "data": {
            "text/plain": [
              "'El país más afectado no se menciona específicamente en el contexto proporcionado. Sin embargo, se indica que el terremoto y posterior tsunami afectaron a más de 10 países del sudeste asiático y de África oriental, con un balance de 283.100 víctimas mortales y más de 14.100 desaparecidos.'"
            ],
            "application/vnd.google.colaboratory.intrinsic+json": {
              "type": "string"
            }
          },
          "metadata": {},
          "execution_count": 21
        }
      ]
    },
    {
      "cell_type": "code",
      "source": [
        "query_engine.query(\"Cual fue el pais del sudeste asiatico mas afectado?\").response"
      ],
      "metadata": {
        "colab": {
          "base_uri": "https://localhost:8080/",
          "height": 35
        },
        "id": "QYHWoG7aXfKv",
        "outputId": "e367a678-8406-428e-e978-f70f219839d9"
      },
      "execution_count": 22,
      "outputs": [
        {
          "output_type": "execute_result",
          "data": {
            "text/plain": [
              "'El país del sudeste asiático más afectado fue Indonesia.'"
            ],
            "application/vnd.google.colaboratory.intrinsic+json": {
              "type": "string"
            }
          },
          "metadata": {},
          "execution_count": 22
        }
      ]
    },
    {
      "cell_type": "code",
      "source": [
        "query_engine.query(\"Cuantas personas murieron en Indonesia?\").response"
      ],
      "metadata": {
        "colab": {
          "base_uri": "https://localhost:8080/",
          "height": 35
        },
        "id": "kGrM8KHzZGYJ",
        "outputId": "e3ecbf46-3541-4fb1-a698-fca16ff64e68"
      },
      "execution_count": 23,
      "outputs": [
        {
          "output_type": "execute_result",
          "data": {
            "text/plain": [
              "'Al menos 235.800 personas murieron en Indonesia.'"
            ],
            "application/vnd.google.colaboratory.intrinsic+json": {
              "type": "string"
            }
          },
          "metadata": {},
          "execution_count": 23
        }
      ]
    },
    {
      "cell_type": "code",
      "source": [
        "query_engine.query(\"De cuantos metros de altura fue la ola que ataco a Indonesia?\").response"
      ],
      "metadata": {
        "colab": {
          "base_uri": "https://localhost:8080/",
          "height": 35
        },
        "id": "FmAUUnsAZTcI",
        "outputId": "28ca65ad-a72b-4869-d4cc-0decaed294d1"
      },
      "execution_count": 26,
      "outputs": [
        {
          "output_type": "execute_result",
          "data": {
            "text/plain": [
              "'La ola que atacó a Indonesia, específicamente en el área de Phuket, Tailandia, tuvo una altura de 3-5 metros.'"
            ],
            "application/vnd.google.colaboratory.intrinsic+json": {
              "type": "string"
            }
          },
          "metadata": {},
          "execution_count": 26
        }
      ]
    },
    {
      "cell_type": "code",
      "source": [
        "query_engine.query(\"Cuanto tardo el volver el agua al mar en Indonesia?\").response"
      ],
      "metadata": {
        "colab": {
          "base_uri": "https://localhost:8080/",
          "height": 35
        },
        "id": "hDly_8XeZMFY",
        "outputId": "b25699fe-ddae-4c4e-a40a-72960e0b86f0"
      },
      "execution_count": 27,
      "outputs": [
        {
          "output_type": "execute_result",
          "data": {
            "text/plain": [
              "'El contexto no proporciona información específica sobre cuánto tiempo tardó el agua en volver al mar en Indonesia después del tsunami del 26 de diciembre de 2004.'"
            ],
            "application/vnd.google.colaboratory.intrinsic+json": {
              "type": "string"
            }
          },
          "metadata": {},
          "execution_count": 27
        }
      ]
    },
    {
      "cell_type": "markdown",
      "source": [
        "## Implementing Advanced RAG with LlamaIndex"
      ],
      "metadata": {
        "id": "lt7WLu_8Zdme"
      }
    },
    {
      "cell_type": "code",
      "source": [
        "from llama_index.core.node_parser import SentenceWindowNodeParser # Instead of SimpleNodeParser\n",
        "\n",
        "node_parser = SentenceWindowNodeParser.from_defaults(\n",
        "    window_size=3,\n",
        "    window_metadata_key=\"window\",\n",
        "    original_text_metadata_key=\"original_text\"\n",
        ")\n",
        "\n",
        "nodes: list = node_parser.get_nodes_from_documents(documents)\n",
        "\n",
        "print(len(nodes))\n",
        "\n",
        "print(nodes[:2])"
      ],
      "metadata": {
        "colab": {
          "base_uri": "https://localhost:8080/"
        },
        "id": "rFMVVpjyZemh",
        "outputId": "c042c9a3-9579-4d0f-9e4c-15808b92d096"
      },
      "execution_count": 28,
      "outputs": [
        {
          "output_type": "stream",
          "name": "stdout",
          "text": [
            "279\n",
            "[TextNode(id_='fccdd13c-418f-4ecb-98b9-431b0d9e05a4', embedding=None, metadata={'page_label': '1', 'file_name': 'Tsunami-de-2004.pdf', 'file_path': '/content/data/Tsunami-de-2004.pdf', 'file_type': 'application/pdf', 'file_size': 2247099, 'creation_date': '2025-08-01', 'last_modified_date': '2025-08-01', 'window': 'INTRODUCCIÓN\\nEl 26 de diciembre de 2004 a las 00:58:53 T.U,\\n(07:58:53 AM, hora local) una hora más en la Pe-\\nnínsula Ibérica se produjo uno de los sismos más\\nimportantes y jamás registrados, en la región de la\\nisla de Sumatra, al suroeste de Banda Aceh, con\\nuna magnitud estimada de 9.3 (USGS-NEIC) y con\\nuna profundidad de 30 kilómetros.  Como resultado\\ndel terremoto se produjo un devastador tsunami y el\\nnivel de mar mar experimentó una elevación de va-\\nrios metros en las costas de Indonesia y zonas cos-\\nteras situadas a miles de kilómetros del epicentro.\\n El sismo del 26 de diciembre de 2004 es el cuarto\\nterremoto más grande del mundo desde 1900 y el más\\ngrande desde el terremoto de Alaska en 1964, se ha\\ncatalogado como el más catastrófico de la historia.\\n El epicentro estaba situado a una distancia de\\n255 Km al SSE de Banda Aceh (Sumatra, Indone-\\nsia), a 310 Km al W de Medan (Sumatra, Indone-\\nsia), a 1.260 Km al SSW de Bangkok (Thailandia)\\ny a 1.605 Km al NW de Jakarta (Java, Indonesia).\\n', 'original_text': 'INTRODUCCIÓN\\nEl 26 de diciembre de 2004 a las 00:58:53 T.U,\\n(07:58:53 AM, hora local) una hora más en la Pe-\\nnínsula Ibérica se produjo uno de los sismos más\\nimportantes y jamás registrados, en la región de la\\nisla de Sumatra, al suroeste de Banda Aceh, con\\nuna magnitud estimada de 9.3 (USGS-NEIC) y con\\nuna profundidad de 30 kilómetros. '}, excluded_embed_metadata_keys=['file_name', 'file_type', 'file_size', 'creation_date', 'last_modified_date', 'last_accessed_date', 'window', 'original_text'], excluded_llm_metadata_keys=['file_name', 'file_type', 'file_size', 'creation_date', 'last_modified_date', 'last_accessed_date', 'window', 'original_text'], relationships={<NodeRelationship.SOURCE: '1'>: RelatedNodeInfo(node_id='0f6c34a9-4db3-436e-a12a-3c334ca3c957', node_type=<ObjectType.DOCUMENT: '4'>, metadata={'page_label': '1', 'file_name': 'Tsunami-de-2004.pdf', 'file_path': '/content/data/Tsunami-de-2004.pdf', 'file_type': 'application/pdf', 'file_size': 2247099, 'creation_date': '2025-08-01', 'last_modified_date': '2025-08-01'}, hash='7beeec9affd690d2678e359951b84d3e0f0a0397221fbc882b7b9316c258fc72'), <NodeRelationship.NEXT: '3'>: RelatedNodeInfo(node_id='55557ce2-5a20-435a-82b5-d34c7458863d', node_type=<ObjectType.TEXT: '1'>, metadata={'window': 'INTRODUCCIÓN\\nEl 26 de diciembre de 2004 a las 00:58:53 T.U,\\n(07:58:53 AM, hora local) una hora más en la Pe-\\nnínsula Ibérica se produjo uno de los sismos más\\nimportantes y jamás registrados, en la región de la\\nisla de Sumatra, al suroeste de Banda Aceh, con\\nuna magnitud estimada de 9.3 (USGS-NEIC) y con\\nuna profundidad de 30 kilómetros.  Como resultado\\ndel terremoto se produjo un devastador tsunami y el\\nnivel de mar mar experimentó una elevación de va-\\nrios metros en las costas de Indonesia y zonas cos-\\nteras situadas a miles de kilómetros del epicentro.\\n El sismo del 26 de diciembre de 2004 es el cuarto\\nterremoto más grande del mundo desde 1900 y el más\\ngrande desde el terremoto de Alaska en 1964, se ha\\ncatalogado como el más catastrófico de la historia.\\n El epicentro estaba situado a una distancia de\\n255 Km al SSE de Banda Aceh (Sumatra, Indone-\\nsia), a 310 Km al W de Medan (Sumatra, Indone-\\nsia), a 1.260 Km al SSW de Bangkok (Thailandia)\\ny a 1.605 Km al NW de Jakarta (Java, Indonesia).\\n El tsunami afectó a varios países del sur y sureste\\nasiático y de África: Indonesia, Sri Lanka, India,\\nThailandia, Somalia, Myanmar, Malasia, Maldivas,\\nTanzania, Bangladesh, en la costa de la isla de Cocos,\\nKenia, Mauritania, región de las Islas Seychelles. ', 'original_text': 'Como resultado\\ndel terremoto se produjo un devastador tsunami y el\\nnivel de mar mar experimentó una elevación de va-\\nrios metros en las costas de Indonesia y zonas cos-\\nteras situadas a miles de kilómetros del epicentro.\\n'}, hash='dd3d13bd27e84e56e940f0b2f13cef9e06da16967c253a46488e69509f3fabbd')}, metadata_template='{key}: {value}', metadata_separator='\\n', text='INTRODUCCIÓN\\nEl 26 de diciembre de 2004 a las 00:58:53 T.U,\\n(07:58:53 AM, hora local) una hora más en la Pe-\\nnínsula Ibérica se produjo uno de los sismos más\\nimportantes y jamás registrados, en la región de la\\nisla de Sumatra, al suroeste de Banda Aceh, con\\nuna magnitud estimada de 9.3 (USGS-NEIC) y con\\nuna profundidad de 30 kilómetros. ', mimetype='text/plain', start_char_idx=0, end_char_idx=339, metadata_seperator='\\n', text_template='{metadata_str}\\n\\n{content}'), TextNode(id_='55557ce2-5a20-435a-82b5-d34c7458863d', embedding=None, metadata={'page_label': '1', 'file_name': 'Tsunami-de-2004.pdf', 'file_path': '/content/data/Tsunami-de-2004.pdf', 'file_type': 'application/pdf', 'file_size': 2247099, 'creation_date': '2025-08-01', 'last_modified_date': '2025-08-01', 'window': 'INTRODUCCIÓN\\nEl 26 de diciembre de 2004 a las 00:58:53 T.U,\\n(07:58:53 AM, hora local) una hora más en la Pe-\\nnínsula Ibérica se produjo uno de los sismos más\\nimportantes y jamás registrados, en la región de la\\nisla de Sumatra, al suroeste de Banda Aceh, con\\nuna magnitud estimada de 9.3 (USGS-NEIC) y con\\nuna profundidad de 30 kilómetros.  Como resultado\\ndel terremoto se produjo un devastador tsunami y el\\nnivel de mar mar experimentó una elevación de va-\\nrios metros en las costas de Indonesia y zonas cos-\\nteras situadas a miles de kilómetros del epicentro.\\n El sismo del 26 de diciembre de 2004 es el cuarto\\nterremoto más grande del mundo desde 1900 y el más\\ngrande desde el terremoto de Alaska en 1964, se ha\\ncatalogado como el más catastrófico de la historia.\\n El epicentro estaba situado a una distancia de\\n255 Km al SSE de Banda Aceh (Sumatra, Indone-\\nsia), a 310 Km al W de Medan (Sumatra, Indone-\\nsia), a 1.260 Km al SSW de Bangkok (Thailandia)\\ny a 1.605 Km al NW de Jakarta (Java, Indonesia).\\n El tsunami afectó a varios países del sur y sureste\\nasiático y de África: Indonesia, Sri Lanka, India,\\nThailandia, Somalia, Myanmar, Malasia, Maldivas,\\nTanzania, Bangladesh, en la costa de la isla de Cocos,\\nKenia, Mauritania, región de las Islas Seychelles. ', 'original_text': 'Como resultado\\ndel terremoto se produjo un devastador tsunami y el\\nnivel de mar mar experimentó una elevación de va-\\nrios metros en las costas de Indonesia y zonas cos-\\nteras situadas a miles de kilómetros del epicentro.\\n'}, excluded_embed_metadata_keys=['file_name', 'file_type', 'file_size', 'creation_date', 'last_modified_date', 'last_accessed_date', 'window', 'original_text'], excluded_llm_metadata_keys=['file_name', 'file_type', 'file_size', 'creation_date', 'last_modified_date', 'last_accessed_date', 'window', 'original_text'], relationships={<NodeRelationship.SOURCE: '1'>: RelatedNodeInfo(node_id='0f6c34a9-4db3-436e-a12a-3c334ca3c957', node_type=<ObjectType.DOCUMENT: '4'>, metadata={'page_label': '1', 'file_name': 'Tsunami-de-2004.pdf', 'file_path': '/content/data/Tsunami-de-2004.pdf', 'file_type': 'application/pdf', 'file_size': 2247099, 'creation_date': '2025-08-01', 'last_modified_date': '2025-08-01'}, hash='7beeec9affd690d2678e359951b84d3e0f0a0397221fbc882b7b9316c258fc72'), <NodeRelationship.PREVIOUS: '2'>: RelatedNodeInfo(node_id='fccdd13c-418f-4ecb-98b9-431b0d9e05a4', node_type=<ObjectType.TEXT: '1'>, metadata={'page_label': '1', 'file_name': 'Tsunami-de-2004.pdf', 'file_path': '/content/data/Tsunami-de-2004.pdf', 'file_type': 'application/pdf', 'file_size': 2247099, 'creation_date': '2025-08-01', 'last_modified_date': '2025-08-01', 'window': 'INTRODUCCIÓN\\nEl 26 de diciembre de 2004 a las 00:58:53 T.U,\\n(07:58:53 AM, hora local) una hora más en la Pe-\\nnínsula Ibérica se produjo uno de los sismos más\\nimportantes y jamás registrados, en la región de la\\nisla de Sumatra, al suroeste de Banda Aceh, con\\nuna magnitud estimada de 9.3 (USGS-NEIC) y con\\nuna profundidad de 30 kilómetros.  Como resultado\\ndel terremoto se produjo un devastador tsunami y el\\nnivel de mar mar experimentó una elevación de va-\\nrios metros en las costas de Indonesia y zonas cos-\\nteras situadas a miles de kilómetros del epicentro.\\n El sismo del 26 de diciembre de 2004 es el cuarto\\nterremoto más grande del mundo desde 1900 y el más\\ngrande desde el terremoto de Alaska en 1964, se ha\\ncatalogado como el más catastrófico de la historia.\\n El epicentro estaba situado a una distancia de\\n255 Km al SSE de Banda Aceh (Sumatra, Indone-\\nsia), a 310 Km al W de Medan (Sumatra, Indone-\\nsia), a 1.260 Km al SSW de Bangkok (Thailandia)\\ny a 1.605 Km al NW de Jakarta (Java, Indonesia).\\n', 'original_text': 'INTRODUCCIÓN\\nEl 26 de diciembre de 2004 a las 00:58:53 T.U,\\n(07:58:53 AM, hora local) una hora más en la Pe-\\nnínsula Ibérica se produjo uno de los sismos más\\nimportantes y jamás registrados, en la región de la\\nisla de Sumatra, al suroeste de Banda Aceh, con\\nuna magnitud estimada de 9.3 (USGS-NEIC) y con\\nuna profundidad de 30 kilómetros. '}, hash='c8c638f6f030e330902a2f8a4fe02b40e5021e1bf047e370e2b16749c10bee25'), <NodeRelationship.NEXT: '3'>: RelatedNodeInfo(node_id='5174b119-4a0c-43de-9135-241f8ed9504b', node_type=<ObjectType.TEXT: '1'>, metadata={'window': 'INTRODUCCIÓN\\nEl 26 de diciembre de 2004 a las 00:58:53 T.U,\\n(07:58:53 AM, hora local) una hora más en la Pe-\\nnínsula Ibérica se produjo uno de los sismos más\\nimportantes y jamás registrados, en la región de la\\nisla de Sumatra, al suroeste de Banda Aceh, con\\nuna magnitud estimada de 9.3 (USGS-NEIC) y con\\nuna profundidad de 30 kilómetros.  Como resultado\\ndel terremoto se produjo un devastador tsunami y el\\nnivel de mar mar experimentó una elevación de va-\\nrios metros en las costas de Indonesia y zonas cos-\\nteras situadas a miles de kilómetros del epicentro.\\n El sismo del 26 de diciembre de 2004 es el cuarto\\nterremoto más grande del mundo desde 1900 y el más\\ngrande desde el terremoto de Alaska en 1964, se ha\\ncatalogado como el más catastrófico de la historia.\\n El epicentro estaba situado a una distancia de\\n255 Km al SSE de Banda Aceh (Sumatra, Indone-\\nsia), a 310 Km al W de Medan (Sumatra, Indone-\\nsia), a 1.260 Km al SSW de Bangkok (Thailandia)\\ny a 1.605 Km al NW de Jakarta (Java, Indonesia).\\n El tsunami afectó a varios países del sur y sureste\\nasiático y de África: Indonesia, Sri Lanka, India,\\nThailandia, Somalia, Myanmar, Malasia, Maldivas,\\nTanzania, Bangladesh, en la costa de la isla de Cocos,\\nKenia, Mauritania, región de las Islas Seychelles.  És-\\nte, causó más víctimas que cualquier otro registrado\\nen la historia. ', 'original_text': 'El sismo del 26 de diciembre de 2004 es el cuarto\\nterremoto más grande del mundo desde 1900 y el más\\ngrande desde el terremoto de Alaska en 1964, se ha\\ncatalogado como el más catastrófico de la historia.\\n'}, hash='9d4fa6004d884d3eb5ac9e95c2d2b45543b57855900cc593b1f8411677f73325')}, metadata_template='{key}: {value}', metadata_separator='\\n', text='Como resultado\\ndel terremoto se produjo un devastador tsunami y el\\nnivel de mar mar experimentó una elevación de va-\\nrios metros en las costas de Indonesia y zonas cos-\\nteras situadas a miles de kilómetros del epicentro.\\n', mimetype='text/plain', start_char_idx=339, end_char_idx=560, metadata_seperator='\\n', text_template='{metadata_str}\\n\\n{content}')]\n"
          ]
        }
      ]
    },
    {
      "cell_type": "code",
      "source": [
        "from llama_index.core.postprocessor import (\n",
        "    MetadataReplacementPostProcessor\n",
        ")\n",
        "\n",
        "client.connect()\n",
        "\n",
        "INDEX_NAME: str = \"Rag\"\n",
        "\n",
        "postprocessor = MetadataReplacementPostProcessor(\n",
        "    target_metadata_key=\"window\"\n",
        ")\n",
        "\n",
        "vector_store = WeaviateVectorStore(\n",
        "    weaviate_client=client, index_name=INDEX_NAME)\n",
        "\n",
        "storage_context = StorageContext.from_defaults(\n",
        "    vector_store=vector_store\n",
        ")\n",
        "\n",
        "index = VectorStoreIndex(nodes, storage_context=storage_context)\n",
        "\n",
        "query_engine = index.as_query_engine(\n",
        "    node_postprocessors = [postprocessor]\n",
        ")"
      ],
      "metadata": {
        "id": "Nk4xfh0kc5Po"
      },
      "execution_count": 29,
      "outputs": []
    },
    {
      "cell_type": "code",
      "source": [
        "query_engine.query(\"Cuando ocurrio el tsunami?\").response"
      ],
      "metadata": {
        "colab": {
          "base_uri": "https://localhost:8080/",
          "height": 35
        },
        "outputId": "39763ee6-268c-4b0a-b10e-b24e5f3b9cc9",
        "id": "u7JxF2ITe38F"
      },
      "execution_count": 30,
      "outputs": [
        {
          "output_type": "execute_result",
          "data": {
            "text/plain": [
              "'El tsunami ocurrió el 26 de diciembre de 2004.'"
            ],
            "application/vnd.google.colaboratory.intrinsic+json": {
              "type": "string"
            }
          },
          "metadata": {},
          "execution_count": 30
        }
      ]
    },
    {
      "cell_type": "code",
      "source": [
        "query_engine.query(\"Cual fue el pais mas afectado?\").response"
      ],
      "metadata": {
        "colab": {
          "base_uri": "https://localhost:8080/",
          "height": 35
        },
        "outputId": "0a3c6061-9def-4655-93a5-b016d260f43c",
        "id": "7PjvYpZSe38J"
      },
      "execution_count": 31,
      "outputs": [
        {
          "output_type": "execute_result",
          "data": {
            "text/plain": [
              "'El país más afectado fue Indonesia, con al menos 235,800 personas afectadas entre muertos y desaparecidos.'"
            ],
            "application/vnd.google.colaboratory.intrinsic+json": {
              "type": "string"
            }
          },
          "metadata": {},
          "execution_count": 31
        }
      ]
    },
    {
      "cell_type": "code",
      "source": [
        "query_engine.query(\"De cuantos metros de altura fue la ola que ataco a Indonesia?\").response"
      ],
      "metadata": {
        "colab": {
          "base_uri": "https://localhost:8080/",
          "height": 35
        },
        "outputId": "d597903f-285c-4469-8f21-4b67884c2c1c",
        "id": "g-YX9pr8e38K"
      },
      "execution_count": 33,
      "outputs": [
        {
          "output_type": "execute_result",
          "data": {
            "text/plain": [
              "'La información proporcionada no menciona específicamente la altura de la ola que atacó a Indonesia.'"
            ],
            "application/vnd.google.colaboratory.intrinsic+json": {
              "type": "string"
            }
          },
          "metadata": {},
          "execution_count": 33
        }
      ]
    },
    {
      "cell_type": "code",
      "source": [
        "query_engine.query(\"Cuanto tardo el volver el agua al mar en Indonesia?\").response"
      ],
      "metadata": {
        "colab": {
          "base_uri": "https://localhost:8080/",
          "height": 35
        },
        "outputId": "a194ae67-9950-4910-a4cf-fa1130880c65",
        "id": "rVs5itLBe38L"
      },
      "execution_count": 34,
      "outputs": [
        {
          "output_type": "execute_result",
          "data": {
            "text/plain": [
              "'La información proporcionada no especifica cuánto tiempo tardó el agua en volver al mar en Indonesia después del tsunami de 2004.'"
            ],
            "application/vnd.google.colaboratory.intrinsic+json": {
              "type": "string"
            }
          },
          "metadata": {},
          "execution_count": 34
        }
      ]
    },
    {
      "cell_type": "markdown",
      "source": [
        "## Retrieval optimization example: Hybrid search"
      ],
      "metadata": {
        "id": "T6pWoixofEyx"
      }
    },
    {
      "cell_type": "code",
      "source": [
        "query_engine = index.as_query_engine(\n",
        "    node_postprocessors = [postprocessor],\n",
        "    vector_store_query_mode = \"hybrid\",\n",
        "    alpha=.5\n",
        ")"
      ],
      "metadata": {
        "id": "Jfq0Knn5fFk_"
      },
      "execution_count": 35,
      "outputs": []
    },
    {
      "cell_type": "code",
      "source": [
        "query_engine.query(\"Cuando ocurrio el tsunami?\").response"
      ],
      "metadata": {
        "colab": {
          "base_uri": "https://localhost:8080/",
          "height": 35
        },
        "outputId": "6c315fb9-75f6-47fd-f7b4-046441a01f81",
        "id": "AQ0W4vwofT8s"
      },
      "execution_count": 36,
      "outputs": [
        {
          "output_type": "execute_result",
          "data": {
            "text/plain": [
              "'El tsunami ocurrió el 26 de diciembre de 2004.'"
            ],
            "application/vnd.google.colaboratory.intrinsic+json": {
              "type": "string"
            }
          },
          "metadata": {},
          "execution_count": 36
        }
      ]
    },
    {
      "cell_type": "code",
      "source": [
        "query_engine.query(\"Cual fue el pais mas afectado?\").response"
      ],
      "metadata": {
        "colab": {
          "base_uri": "https://localhost:8080/",
          "height": 53
        },
        "outputId": "07ed0330-0b6c-4812-c853-fd0bda3f125f",
        "id": "oYuDHdlNfT8v"
      },
      "execution_count": 37,
      "outputs": [
        {
          "output_type": "execute_result",
          "data": {
            "text/plain": [
              "'El país más afectado por el tsunami de 2004, en términos de número de muertos, fue Indonesia, específicamente en la región de Sumatra, donde el tsunami alcanzó alturas de hasta 30 metros.'"
            ],
            "application/vnd.google.colaboratory.intrinsic+json": {
              "type": "string"
            }
          },
          "metadata": {},
          "execution_count": 37
        }
      ]
    },
    {
      "cell_type": "code",
      "source": [
        "query_engine.query(\"De cuantos metros de altura fue la ola que ataco a Indonesia?\").response"
      ],
      "metadata": {
        "colab": {
          "base_uri": "https://localhost:8080/",
          "height": 35
        },
        "outputId": "93c04cca-5d1d-4efd-e377-35dbede7617f",
        "id": "lXCHO1CsfT8w"
      },
      "execution_count": 38,
      "outputs": [
        {
          "output_type": "execute_result",
          "data": {
            "text/plain": [
              "'La ola que atacó a Indonesia alcanzó alturas de 30 metros a lo largo de la costa occidental de Sumatra.'"
            ],
            "application/vnd.google.colaboratory.intrinsic+json": {
              "type": "string"
            }
          },
          "metadata": {},
          "execution_count": 38
        }
      ]
    },
    {
      "cell_type": "code",
      "source": [
        "query_engine.query(\"Cuanto tardo el volver el agua al mar en Indonesia?\").response"
      ],
      "metadata": {
        "colab": {
          "base_uri": "https://localhost:8080/",
          "height": 35
        },
        "outputId": "c084b938-c1fa-4298-fbc7-4e09e839a326",
        "id": "dR5gsXgmfT8w"
      },
      "execution_count": 39,
      "outputs": [
        {
          "output_type": "execute_result",
          "data": {
            "text/plain": [
              "'La información proporcionada no especifica cuánto tiempo tardó el agua en volver al mar en Indonesia después del tsunami de 2004.'"
            ],
            "application/vnd.google.colaboratory.intrinsic+json": {
              "type": "string"
            }
          },
          "metadata": {},
          "execution_count": 39
        }
      ]
    },
    {
      "cell_type": "markdown",
      "source": [
        "Nice job!!"
      ],
      "metadata": {
        "id": "gF0cA9MOfa2J"
      }
    },
    {
      "cell_type": "markdown",
      "source": [
        "## Post-retrieval optimization example: Re-ranking"
      ],
      "metadata": {
        "id": "sDkG9pL5fcPL"
      }
    },
    {
      "cell_type": "code",
      "source": [
        "from llama_index.core.postprocessor import SentenceTransformerRerank\n",
        "from google.colab import userdata\n",
        "import os\n",
        "\n",
        "os.environ[\"HF_TOKEN\"] = userdata.get('HUGGING_FACE_ACCESS_TOKEN')\n",
        "\n",
        "# Defining reranker model\n",
        "rerank = SentenceTransformerRerank(\n",
        "    top_n=2,\n",
        "    model=\"BAAI/bge-reranker-base\"\n",
        ")\n",
        "\n",
        "# Add reramger tp query engine\n",
        "\n",
        "query_engine = index.as_query_engine(\n",
        "    similarity_top_k = 6,\n",
        "    node_postprocessors = [rerank],\n",
        "    vector_store_query_mode = \"hybrid\",\n",
        "    alpha=.5\n",
        ")"
      ],
      "metadata": {
        "id": "Su-3aTheg1SQ"
      },
      "execution_count": 58,
      "outputs": []
    },
    {
      "cell_type": "code",
      "source": [
        "query_engine.query(\"Cuando ocurrio el tsunami?\").response"
      ],
      "metadata": {
        "colab": {
          "base_uri": "https://localhost:8080/",
          "height": 35
        },
        "outputId": "560431bc-0c88-4c53-c13e-a713809c6c82",
        "id": "BwUJXMHdhzlu"
      },
      "execution_count": 59,
      "outputs": [
        {
          "output_type": "execute_result",
          "data": {
            "text/plain": [
              "'El tsunami ocurrió el 26 de diciembre de 2004.'"
            ],
            "application/vnd.google.colaboratory.intrinsic+json": {
              "type": "string"
            }
          },
          "metadata": {},
          "execution_count": 59
        }
      ]
    },
    {
      "cell_type": "code",
      "source": [
        "query_engine.query(\"Cual fue el pais mas afectado?\").response"
      ],
      "metadata": {
        "colab": {
          "base_uri": "https://localhost:8080/",
          "height": 53
        },
        "outputId": "4db3eabb-4bd2-4f03-e721-217762d66aa9",
        "id": "zHln9yahhzlv"
      },
      "execution_count": 60,
      "outputs": [
        {
          "output_type": "execute_result",
          "data": {
            "text/plain": [
              "'El país más afectado por el tsunami de 2004, según el número de víctimas mortales y desplazados mencionados, fue Indonesia. Sin embargo, en el contexto proporcionado, se mencionan otros países afectados, pero no se especifica cuál fue el más afectado en términos absolutos.'"
            ],
            "application/vnd.google.colaboratory.intrinsic+json": {
              "type": "string"
            }
          },
          "metadata": {},
          "execution_count": 60
        }
      ]
    },
    {
      "cell_type": "code",
      "source": [
        "query_engine.query(\"De cuantos metros de altura fue la ola que ataco a Indonesia?\").response"
      ],
      "metadata": {
        "colab": {
          "base_uri": "https://localhost:8080/",
          "height": 35
        },
        "outputId": "aa043b60-5e1b-4f93-8748-9e52fa57e2da",
        "id": "SakuJKJOhzlw"
      },
      "execution_count": 61,
      "outputs": [
        {
          "output_type": "execute_result",
          "data": {
            "text/plain": [
              "'La información proporcionada no menciona específicamente la altura de la ola que atacó a Indonesia.'"
            ],
            "application/vnd.google.colaboratory.intrinsic+json": {
              "type": "string"
            }
          },
          "metadata": {},
          "execution_count": 61
        }
      ]
    },
    {
      "cell_type": "code",
      "source": [
        "query_engine.query(\"Cuanto tardo el volver el agua al mar en Indonesia?\").response"
      ],
      "metadata": {
        "colab": {
          "base_uri": "https://localhost:8080/",
          "height": 35
        },
        "outputId": "0c0f246b-780c-448e-fdd5-ad89479804f8",
        "id": "eH94p50Ghzlw"
      },
      "execution_count": 62,
      "outputs": [
        {
          "output_type": "execute_result",
          "data": {
            "text/plain": [
              "'La información proporcionada no especifica cuánto tiempo tardó el agua en volver al mar en Indonesia después del tsunami de 2004.'"
            ],
            "application/vnd.google.colaboratory.intrinsic+json": {
              "type": "string"
            }
          },
          "metadata": {},
          "execution_count": 62
        }
      ]
    }
  ]
}