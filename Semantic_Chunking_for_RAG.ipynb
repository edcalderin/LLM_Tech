{
  "nbformat": 4,
  "nbformat_minor": 0,
  "metadata": {
    "colab": {
      "provenance": []
    },
    "kernelspec": {
      "name": "python3",
      "display_name": "Python 3"
    },
    "language_info": {
      "name": "python"
    },
    "widgets": {
      "application/vnd.jupyter.widget-state+json": {
        "state": {},
        "670a6c98557445a5b2aa64fe430fc725": {
          "model_module": "@jupyter-widgets/controls",
          "model_name": "HBoxModel",
          "model_module_version": "1.5.0",
          "state": {
            "_dom_classes": [],
            "_model_module": "@jupyter-widgets/controls",
            "_model_module_version": "1.5.0",
            "_model_name": "HBoxModel",
            "_view_count": null,
            "_view_module": "@jupyter-widgets/controls",
            "_view_module_version": "1.5.0",
            "_view_name": "HBoxView",
            "box_style": "",
            "children": [
              "IPY_MODEL_ffd8421d95a748f0b14d5790e2de227c",
              "IPY_MODEL_046b753264414da183e1759c9c365090",
              "IPY_MODEL_7404f31ce2f74a12aae3e2e06c2ecdb3"
            ],
            "layout": "IPY_MODEL_c4d3015695d346858ffae8a31b258608"
          }
        },
        "ffd8421d95a748f0b14d5790e2de227c": {
          "model_module": "@jupyter-widgets/controls",
          "model_name": "HTMLModel",
          "model_module_version": "1.5.0",
          "state": {
            "_dom_classes": [],
            "_model_module": "@jupyter-widgets/controls",
            "_model_module_version": "1.5.0",
            "_model_name": "HTMLModel",
            "_view_count": null,
            "_view_module": "@jupyter-widgets/controls",
            "_view_module_version": "1.5.0",
            "_view_name": "HTMLView",
            "description": "",
            "description_tooltip": null,
            "layout": "IPY_MODEL_ee9b18223ea94c43b80ebc2bc84d7b9a",
            "placeholder": "​",
            "style": "IPY_MODEL_f225b7a6b4c44310b0d033a2f516d79d",
            "value": "Fetching 5 files: 100%"
          }
        },
        "046b753264414da183e1759c9c365090": {
          "model_module": "@jupyter-widgets/controls",
          "model_name": "FloatProgressModel",
          "model_module_version": "1.5.0",
          "state": {
            "_dom_classes": [],
            "_model_module": "@jupyter-widgets/controls",
            "_model_module_version": "1.5.0",
            "_model_name": "FloatProgressModel",
            "_view_count": null,
            "_view_module": "@jupyter-widgets/controls",
            "_view_module_version": "1.5.0",
            "_view_name": "ProgressView",
            "bar_style": "success",
            "description": "",
            "description_tooltip": null,
            "layout": "IPY_MODEL_7e945aca9bf545e48e14cadd16a3996f",
            "max": 5,
            "min": 0,
            "orientation": "horizontal",
            "style": "IPY_MODEL_c417202dff804329a259e175a6f08634",
            "value": 5
          }
        },
        "7404f31ce2f74a12aae3e2e06c2ecdb3": {
          "model_module": "@jupyter-widgets/controls",
          "model_name": "HTMLModel",
          "model_module_version": "1.5.0",
          "state": {
            "_dom_classes": [],
            "_model_module": "@jupyter-widgets/controls",
            "_model_module_version": "1.5.0",
            "_model_name": "HTMLModel",
            "_view_count": null,
            "_view_module": "@jupyter-widgets/controls",
            "_view_module_version": "1.5.0",
            "_view_name": "HTMLView",
            "description": "",
            "description_tooltip": null,
            "layout": "IPY_MODEL_b60392e44bb64148a189599ab0136aad",
            "placeholder": "​",
            "style": "IPY_MODEL_a8dfe80c249e42a59d75ce6484d7b64b",
            "value": " 5/5 [00:00&lt;00:00,  1.82it/s]"
          }
        },
        "c4d3015695d346858ffae8a31b258608": {
          "model_module": "@jupyter-widgets/base",
          "model_name": "LayoutModel",
          "model_module_version": "1.2.0",
          "state": {
            "_model_module": "@jupyter-widgets/base",
            "_model_module_version": "1.2.0",
            "_model_name": "LayoutModel",
            "_view_count": null,
            "_view_module": "@jupyter-widgets/base",
            "_view_module_version": "1.2.0",
            "_view_name": "LayoutView",
            "align_content": null,
            "align_items": null,
            "align_self": null,
            "border": null,
            "bottom": null,
            "display": null,
            "flex": null,
            "flex_flow": null,
            "grid_area": null,
            "grid_auto_columns": null,
            "grid_auto_flow": null,
            "grid_auto_rows": null,
            "grid_column": null,
            "grid_gap": null,
            "grid_row": null,
            "grid_template_areas": null,
            "grid_template_columns": null,
            "grid_template_rows": null,
            "height": null,
            "justify_content": null,
            "justify_items": null,
            "left": null,
            "margin": null,
            "max_height": null,
            "max_width": null,
            "min_height": null,
            "min_width": null,
            "object_fit": null,
            "object_position": null,
            "order": null,
            "overflow": null,
            "overflow_x": null,
            "overflow_y": null,
            "padding": null,
            "right": null,
            "top": null,
            "visibility": null,
            "width": null
          }
        },
        "ee9b18223ea94c43b80ebc2bc84d7b9a": {
          "model_module": "@jupyter-widgets/base",
          "model_name": "LayoutModel",
          "model_module_version": "1.2.0",
          "state": {
            "_model_module": "@jupyter-widgets/base",
            "_model_module_version": "1.2.0",
            "_model_name": "LayoutModel",
            "_view_count": null,
            "_view_module": "@jupyter-widgets/base",
            "_view_module_version": "1.2.0",
            "_view_name": "LayoutView",
            "align_content": null,
            "align_items": null,
            "align_self": null,
            "border": null,
            "bottom": null,
            "display": null,
            "flex": null,
            "flex_flow": null,
            "grid_area": null,
            "grid_auto_columns": null,
            "grid_auto_flow": null,
            "grid_auto_rows": null,
            "grid_column": null,
            "grid_gap": null,
            "grid_row": null,
            "grid_template_areas": null,
            "grid_template_columns": null,
            "grid_template_rows": null,
            "height": null,
            "justify_content": null,
            "justify_items": null,
            "left": null,
            "margin": null,
            "max_height": null,
            "max_width": null,
            "min_height": null,
            "min_width": null,
            "object_fit": null,
            "object_position": null,
            "order": null,
            "overflow": null,
            "overflow_x": null,
            "overflow_y": null,
            "padding": null,
            "right": null,
            "top": null,
            "visibility": null,
            "width": null
          }
        },
        "f225b7a6b4c44310b0d033a2f516d79d": {
          "model_module": "@jupyter-widgets/controls",
          "model_name": "DescriptionStyleModel",
          "model_module_version": "1.5.0",
          "state": {
            "_model_module": "@jupyter-widgets/controls",
            "_model_module_version": "1.5.0",
            "_model_name": "DescriptionStyleModel",
            "_view_count": null,
            "_view_module": "@jupyter-widgets/base",
            "_view_module_version": "1.2.0",
            "_view_name": "StyleView",
            "description_width": ""
          }
        },
        "7e945aca9bf545e48e14cadd16a3996f": {
          "model_module": "@jupyter-widgets/base",
          "model_name": "LayoutModel",
          "model_module_version": "1.2.0",
          "state": {
            "_model_module": "@jupyter-widgets/base",
            "_model_module_version": "1.2.0",
            "_model_name": "LayoutModel",
            "_view_count": null,
            "_view_module": "@jupyter-widgets/base",
            "_view_module_version": "1.2.0",
            "_view_name": "LayoutView",
            "align_content": null,
            "align_items": null,
            "align_self": null,
            "border": null,
            "bottom": null,
            "display": null,
            "flex": null,
            "flex_flow": null,
            "grid_area": null,
            "grid_auto_columns": null,
            "grid_auto_flow": null,
            "grid_auto_rows": null,
            "grid_column": null,
            "grid_gap": null,
            "grid_row": null,
            "grid_template_areas": null,
            "grid_template_columns": null,
            "grid_template_rows": null,
            "height": null,
            "justify_content": null,
            "justify_items": null,
            "left": null,
            "margin": null,
            "max_height": null,
            "max_width": null,
            "min_height": null,
            "min_width": null,
            "object_fit": null,
            "object_position": null,
            "order": null,
            "overflow": null,
            "overflow_x": null,
            "overflow_y": null,
            "padding": null,
            "right": null,
            "top": null,
            "visibility": null,
            "width": null
          }
        },
        "c417202dff804329a259e175a6f08634": {
          "model_module": "@jupyter-widgets/controls",
          "model_name": "ProgressStyleModel",
          "model_module_version": "1.5.0",
          "state": {
            "_model_module": "@jupyter-widgets/controls",
            "_model_module_version": "1.5.0",
            "_model_name": "ProgressStyleModel",
            "_view_count": null,
            "_view_module": "@jupyter-widgets/base",
            "_view_module_version": "1.2.0",
            "_view_name": "StyleView",
            "bar_color": null,
            "description_width": ""
          }
        },
        "b60392e44bb64148a189599ab0136aad": {
          "model_module": "@jupyter-widgets/base",
          "model_name": "LayoutModel",
          "model_module_version": "1.2.0",
          "state": {
            "_model_module": "@jupyter-widgets/base",
            "_model_module_version": "1.2.0",
            "_model_name": "LayoutModel",
            "_view_count": null,
            "_view_module": "@jupyter-widgets/base",
            "_view_module_version": "1.2.0",
            "_view_name": "LayoutView",
            "align_content": null,
            "align_items": null,
            "align_self": null,
            "border": null,
            "bottom": null,
            "display": null,
            "flex": null,
            "flex_flow": null,
            "grid_area": null,
            "grid_auto_columns": null,
            "grid_auto_flow": null,
            "grid_auto_rows": null,
            "grid_column": null,
            "grid_gap": null,
            "grid_row": null,
            "grid_template_areas": null,
            "grid_template_columns": null,
            "grid_template_rows": null,
            "height": null,
            "justify_content": null,
            "justify_items": null,
            "left": null,
            "margin": null,
            "max_height": null,
            "max_width": null,
            "min_height": null,
            "min_width": null,
            "object_fit": null,
            "object_position": null,
            "order": null,
            "overflow": null,
            "overflow_x": null,
            "overflow_y": null,
            "padding": null,
            "right": null,
            "top": null,
            "visibility": null,
            "width": null
          }
        },
        "a8dfe80c249e42a59d75ce6484d7b64b": {
          "model_module": "@jupyter-widgets/controls",
          "model_name": "DescriptionStyleModel",
          "model_module_version": "1.5.0",
          "state": {
            "_model_module": "@jupyter-widgets/controls",
            "_model_module_version": "1.5.0",
            "_model_name": "DescriptionStyleModel",
            "_view_count": null,
            "_view_module": "@jupyter-widgets/base",
            "_view_module_version": "1.2.0",
            "_view_name": "StyleView",
            "description_width": ""
          }
        },
        "2fb48ad5184d4985a6c15c97f97306a8": {
          "model_module": "@jupyter-widgets/controls",
          "model_name": "HBoxModel",
          "model_module_version": "1.5.0",
          "state": {
            "_dom_classes": [],
            "_model_module": "@jupyter-widgets/controls",
            "_model_module_version": "1.5.0",
            "_model_name": "HBoxModel",
            "_view_count": null,
            "_view_module": "@jupyter-widgets/controls",
            "_view_module_version": "1.5.0",
            "_view_name": "HBoxView",
            "box_style": "",
            "children": [
              "IPY_MODEL_5bf9545df58a410896ffd02a6d44024d",
              "IPY_MODEL_7c5bd216771e43d0b7d1f385998ffc4b",
              "IPY_MODEL_d1c3345ea2e044b1b85c91b8e1326d77"
            ],
            "layout": "IPY_MODEL_328c0d8221064bc7a90d9c5607f32d4c"
          }
        },
        "5bf9545df58a410896ffd02a6d44024d": {
          "model_module": "@jupyter-widgets/controls",
          "model_name": "HTMLModel",
          "model_module_version": "1.5.0",
          "state": {
            "_dom_classes": [],
            "_model_module": "@jupyter-widgets/controls",
            "_model_module_version": "1.5.0",
            "_model_name": "HTMLModel",
            "_view_count": null,
            "_view_module": "@jupyter-widgets/controls",
            "_view_module_version": "1.5.0",
            "_view_name": "HTMLView",
            "description": "",
            "description_tooltip": null,
            "layout": "IPY_MODEL_9a25403d3f4f4560a6bad8384a3cd2b3",
            "placeholder": "​",
            "style": "IPY_MODEL_6d378b4ff3d44c3b848110b35d62ee93",
            "value": "config.json: 100%"
          }
        },
        "7c5bd216771e43d0b7d1f385998ffc4b": {
          "model_module": "@jupyter-widgets/controls",
          "model_name": "FloatProgressModel",
          "model_module_version": "1.5.0",
          "state": {
            "_dom_classes": [],
            "_model_module": "@jupyter-widgets/controls",
            "_model_module_version": "1.5.0",
            "_model_name": "FloatProgressModel",
            "_view_count": null,
            "_view_module": "@jupyter-widgets/controls",
            "_view_module_version": "1.5.0",
            "_view_name": "ProgressView",
            "bar_style": "success",
            "description": "",
            "description_tooltip": null,
            "layout": "IPY_MODEL_544a7c185b8b4cb1acf67aa71043e1e7",
            "max": 706,
            "min": 0,
            "orientation": "horizontal",
            "style": "IPY_MODEL_6382be2919c64dff885d6195788b9dfe",
            "value": 706
          }
        },
        "d1c3345ea2e044b1b85c91b8e1326d77": {
          "model_module": "@jupyter-widgets/controls",
          "model_name": "HTMLModel",
          "model_module_version": "1.5.0",
          "state": {
            "_dom_classes": [],
            "_model_module": "@jupyter-widgets/controls",
            "_model_module_version": "1.5.0",
            "_model_name": "HTMLModel",
            "_view_count": null,
            "_view_module": "@jupyter-widgets/controls",
            "_view_module_version": "1.5.0",
            "_view_name": "HTMLView",
            "description": "",
            "description_tooltip": null,
            "layout": "IPY_MODEL_309ba125c6984f6ebc774a70ff044df8",
            "placeholder": "​",
            "style": "IPY_MODEL_03eb6c2fc2eb487486890d6ebb594af8",
            "value": " 706/706 [00:00&lt;00:00, 14.2kB/s]"
          }
        },
        "328c0d8221064bc7a90d9c5607f32d4c": {
          "model_module": "@jupyter-widgets/base",
          "model_name": "LayoutModel",
          "model_module_version": "1.2.0",
          "state": {
            "_model_module": "@jupyter-widgets/base",
            "_model_module_version": "1.2.0",
            "_model_name": "LayoutModel",
            "_view_count": null,
            "_view_module": "@jupyter-widgets/base",
            "_view_module_version": "1.2.0",
            "_view_name": "LayoutView",
            "align_content": null,
            "align_items": null,
            "align_self": null,
            "border": null,
            "bottom": null,
            "display": null,
            "flex": null,
            "flex_flow": null,
            "grid_area": null,
            "grid_auto_columns": null,
            "grid_auto_flow": null,
            "grid_auto_rows": null,
            "grid_column": null,
            "grid_gap": null,
            "grid_row": null,
            "grid_template_areas": null,
            "grid_template_columns": null,
            "grid_template_rows": null,
            "height": null,
            "justify_content": null,
            "justify_items": null,
            "left": null,
            "margin": null,
            "max_height": null,
            "max_width": null,
            "min_height": null,
            "min_width": null,
            "object_fit": null,
            "object_position": null,
            "order": null,
            "overflow": null,
            "overflow_x": null,
            "overflow_y": null,
            "padding": null,
            "right": null,
            "top": null,
            "visibility": null,
            "width": null
          }
        },
        "9a25403d3f4f4560a6bad8384a3cd2b3": {
          "model_module": "@jupyter-widgets/base",
          "model_name": "LayoutModel",
          "model_module_version": "1.2.0",
          "state": {
            "_model_module": "@jupyter-widgets/base",
            "_model_module_version": "1.2.0",
            "_model_name": "LayoutModel",
            "_view_count": null,
            "_view_module": "@jupyter-widgets/base",
            "_view_module_version": "1.2.0",
            "_view_name": "LayoutView",
            "align_content": null,
            "align_items": null,
            "align_self": null,
            "border": null,
            "bottom": null,
            "display": null,
            "flex": null,
            "flex_flow": null,
            "grid_area": null,
            "grid_auto_columns": null,
            "grid_auto_flow": null,
            "grid_auto_rows": null,
            "grid_column": null,
            "grid_gap": null,
            "grid_row": null,
            "grid_template_areas": null,
            "grid_template_columns": null,
            "grid_template_rows": null,
            "height": null,
            "justify_content": null,
            "justify_items": null,
            "left": null,
            "margin": null,
            "max_height": null,
            "max_width": null,
            "min_height": null,
            "min_width": null,
            "object_fit": null,
            "object_position": null,
            "order": null,
            "overflow": null,
            "overflow_x": null,
            "overflow_y": null,
            "padding": null,
            "right": null,
            "top": null,
            "visibility": null,
            "width": null
          }
        },
        "6d378b4ff3d44c3b848110b35d62ee93": {
          "model_module": "@jupyter-widgets/controls",
          "model_name": "DescriptionStyleModel",
          "model_module_version": "1.5.0",
          "state": {
            "_model_module": "@jupyter-widgets/controls",
            "_model_module_version": "1.5.0",
            "_model_name": "DescriptionStyleModel",
            "_view_count": null,
            "_view_module": "@jupyter-widgets/base",
            "_view_module_version": "1.2.0",
            "_view_name": "StyleView",
            "description_width": ""
          }
        },
        "544a7c185b8b4cb1acf67aa71043e1e7": {
          "model_module": "@jupyter-widgets/base",
          "model_name": "LayoutModel",
          "model_module_version": "1.2.0",
          "state": {
            "_model_module": "@jupyter-widgets/base",
            "_model_module_version": "1.2.0",
            "_model_name": "LayoutModel",
            "_view_count": null,
            "_view_module": "@jupyter-widgets/base",
            "_view_module_version": "1.2.0",
            "_view_name": "LayoutView",
            "align_content": null,
            "align_items": null,
            "align_self": null,
            "border": null,
            "bottom": null,
            "display": null,
            "flex": null,
            "flex_flow": null,
            "grid_area": null,
            "grid_auto_columns": null,
            "grid_auto_flow": null,
            "grid_auto_rows": null,
            "grid_column": null,
            "grid_gap": null,
            "grid_row": null,
            "grid_template_areas": null,
            "grid_template_columns": null,
            "grid_template_rows": null,
            "height": null,
            "justify_content": null,
            "justify_items": null,
            "left": null,
            "margin": null,
            "max_height": null,
            "max_width": null,
            "min_height": null,
            "min_width": null,
            "object_fit": null,
            "object_position": null,
            "order": null,
            "overflow": null,
            "overflow_x": null,
            "overflow_y": null,
            "padding": null,
            "right": null,
            "top": null,
            "visibility": null,
            "width": null
          }
        },
        "6382be2919c64dff885d6195788b9dfe": {
          "model_module": "@jupyter-widgets/controls",
          "model_name": "ProgressStyleModel",
          "model_module_version": "1.5.0",
          "state": {
            "_model_module": "@jupyter-widgets/controls",
            "_model_module_version": "1.5.0",
            "_model_name": "ProgressStyleModel",
            "_view_count": null,
            "_view_module": "@jupyter-widgets/base",
            "_view_module_version": "1.2.0",
            "_view_name": "StyleView",
            "bar_color": null,
            "description_width": ""
          }
        },
        "309ba125c6984f6ebc774a70ff044df8": {
          "model_module": "@jupyter-widgets/base",
          "model_name": "LayoutModel",
          "model_module_version": "1.2.0",
          "state": {
            "_model_module": "@jupyter-widgets/base",
            "_model_module_version": "1.2.0",
            "_model_name": "LayoutModel",
            "_view_count": null,
            "_view_module": "@jupyter-widgets/base",
            "_view_module_version": "1.2.0",
            "_view_name": "LayoutView",
            "align_content": null,
            "align_items": null,
            "align_self": null,
            "border": null,
            "bottom": null,
            "display": null,
            "flex": null,
            "flex_flow": null,
            "grid_area": null,
            "grid_auto_columns": null,
            "grid_auto_flow": null,
            "grid_auto_rows": null,
            "grid_column": null,
            "grid_gap": null,
            "grid_row": null,
            "grid_template_areas": null,
            "grid_template_columns": null,
            "grid_template_rows": null,
            "height": null,
            "justify_content": null,
            "justify_items": null,
            "left": null,
            "margin": null,
            "max_height": null,
            "max_width": null,
            "min_height": null,
            "min_width": null,
            "object_fit": null,
            "object_position": null,
            "order": null,
            "overflow": null,
            "overflow_x": null,
            "overflow_y": null,
            "padding": null,
            "right": null,
            "top": null,
            "visibility": null,
            "width": null
          }
        },
        "03eb6c2fc2eb487486890d6ebb594af8": {
          "model_module": "@jupyter-widgets/controls",
          "model_name": "DescriptionStyleModel",
          "model_module_version": "1.5.0",
          "state": {
            "_model_module": "@jupyter-widgets/controls",
            "_model_module_version": "1.5.0",
            "_model_name": "DescriptionStyleModel",
            "_view_count": null,
            "_view_module": "@jupyter-widgets/base",
            "_view_module_version": "1.2.0",
            "_view_name": "StyleView",
            "description_width": ""
          }
        },
        "b2433d9109d24634a8d1a60c9fa717bf": {
          "model_module": "@jupyter-widgets/controls",
          "model_name": "HBoxModel",
          "model_module_version": "1.5.0",
          "state": {
            "_dom_classes": [],
            "_model_module": "@jupyter-widgets/controls",
            "_model_module_version": "1.5.0",
            "_model_name": "HBoxModel",
            "_view_count": null,
            "_view_module": "@jupyter-widgets/controls",
            "_view_module_version": "1.5.0",
            "_view_name": "HBoxView",
            "box_style": "",
            "children": [
              "IPY_MODEL_66b5f9083d204832b2afef8500b673e3",
              "IPY_MODEL_dace860ebd0149feb3b004d7570eb2a8",
              "IPY_MODEL_815cc24145ea414680e6ee6e173cbb48"
            ],
            "layout": "IPY_MODEL_a508d89dbcdd471fa7da3993241ae2dd"
          }
        },
        "66b5f9083d204832b2afef8500b673e3": {
          "model_module": "@jupyter-widgets/controls",
          "model_name": "HTMLModel",
          "model_module_version": "1.5.0",
          "state": {
            "_dom_classes": [],
            "_model_module": "@jupyter-widgets/controls",
            "_model_module_version": "1.5.0",
            "_model_name": "HTMLModel",
            "_view_count": null,
            "_view_module": "@jupyter-widgets/controls",
            "_view_module_version": "1.5.0",
            "_view_name": "HTMLView",
            "description": "",
            "description_tooltip": null,
            "layout": "IPY_MODEL_3132b949cce94cceb70534d9c2d5996a",
            "placeholder": "​",
            "style": "IPY_MODEL_c01aab6f3dee482398b012c5071409ef",
            "value": "tokenizer_config.json: "
          }
        },
        "dace860ebd0149feb3b004d7570eb2a8": {
          "model_module": "@jupyter-widgets/controls",
          "model_name": "FloatProgressModel",
          "model_module_version": "1.5.0",
          "state": {
            "_dom_classes": [],
            "_model_module": "@jupyter-widgets/controls",
            "_model_module_version": "1.5.0",
            "_model_name": "FloatProgressModel",
            "_view_count": null,
            "_view_module": "@jupyter-widgets/controls",
            "_view_module_version": "1.5.0",
            "_view_name": "ProgressView",
            "bar_style": "success",
            "description": "",
            "description_tooltip": null,
            "layout": "IPY_MODEL_37731edab690415b8cd3b3c021ebda00",
            "max": 1,
            "min": 0,
            "orientation": "horizontal",
            "style": "IPY_MODEL_cf1da0ebdff04bd781308b1b723fbc69",
            "value": 1
          }
        },
        "815cc24145ea414680e6ee6e173cbb48": {
          "model_module": "@jupyter-widgets/controls",
          "model_name": "HTMLModel",
          "model_module_version": "1.5.0",
          "state": {
            "_dom_classes": [],
            "_model_module": "@jupyter-widgets/controls",
            "_model_module_version": "1.5.0",
            "_model_name": "HTMLModel",
            "_view_count": null,
            "_view_module": "@jupyter-widgets/controls",
            "_view_module_version": "1.5.0",
            "_view_name": "HTMLView",
            "description": "",
            "description_tooltip": null,
            "layout": "IPY_MODEL_f1b2baa960894969b526bb37f4846910",
            "placeholder": "​",
            "style": "IPY_MODEL_4136fa4c66884ddc910c8b9e2d0962ef",
            "value": " 1.24k/? [00:00&lt;00:00, 25.5kB/s]"
          }
        },
        "a508d89dbcdd471fa7da3993241ae2dd": {
          "model_module": "@jupyter-widgets/base",
          "model_name": "LayoutModel",
          "model_module_version": "1.2.0",
          "state": {
            "_model_module": "@jupyter-widgets/base",
            "_model_module_version": "1.2.0",
            "_model_name": "LayoutModel",
            "_view_count": null,
            "_view_module": "@jupyter-widgets/base",
            "_view_module_version": "1.2.0",
            "_view_name": "LayoutView",
            "align_content": null,
            "align_items": null,
            "align_self": null,
            "border": null,
            "bottom": null,
            "display": null,
            "flex": null,
            "flex_flow": null,
            "grid_area": null,
            "grid_auto_columns": null,
            "grid_auto_flow": null,
            "grid_auto_rows": null,
            "grid_column": null,
            "grid_gap": null,
            "grid_row": null,
            "grid_template_areas": null,
            "grid_template_columns": null,
            "grid_template_rows": null,
            "height": null,
            "justify_content": null,
            "justify_items": null,
            "left": null,
            "margin": null,
            "max_height": null,
            "max_width": null,
            "min_height": null,
            "min_width": null,
            "object_fit": null,
            "object_position": null,
            "order": null,
            "overflow": null,
            "overflow_x": null,
            "overflow_y": null,
            "padding": null,
            "right": null,
            "top": null,
            "visibility": null,
            "width": null
          }
        },
        "3132b949cce94cceb70534d9c2d5996a": {
          "model_module": "@jupyter-widgets/base",
          "model_name": "LayoutModel",
          "model_module_version": "1.2.0",
          "state": {
            "_model_module": "@jupyter-widgets/base",
            "_model_module_version": "1.2.0",
            "_model_name": "LayoutModel",
            "_view_count": null,
            "_view_module": "@jupyter-widgets/base",
            "_view_module_version": "1.2.0",
            "_view_name": "LayoutView",
            "align_content": null,
            "align_items": null,
            "align_self": null,
            "border": null,
            "bottom": null,
            "display": null,
            "flex": null,
            "flex_flow": null,
            "grid_area": null,
            "grid_auto_columns": null,
            "grid_auto_flow": null,
            "grid_auto_rows": null,
            "grid_column": null,
            "grid_gap": null,
            "grid_row": null,
            "grid_template_areas": null,
            "grid_template_columns": null,
            "grid_template_rows": null,
            "height": null,
            "justify_content": null,
            "justify_items": null,
            "left": null,
            "margin": null,
            "max_height": null,
            "max_width": null,
            "min_height": null,
            "min_width": null,
            "object_fit": null,
            "object_position": null,
            "order": null,
            "overflow": null,
            "overflow_x": null,
            "overflow_y": null,
            "padding": null,
            "right": null,
            "top": null,
            "visibility": null,
            "width": null
          }
        },
        "c01aab6f3dee482398b012c5071409ef": {
          "model_module": "@jupyter-widgets/controls",
          "model_name": "DescriptionStyleModel",
          "model_module_version": "1.5.0",
          "state": {
            "_model_module": "@jupyter-widgets/controls",
            "_model_module_version": "1.5.0",
            "_model_name": "DescriptionStyleModel",
            "_view_count": null,
            "_view_module": "@jupyter-widgets/base",
            "_view_module_version": "1.2.0",
            "_view_name": "StyleView",
            "description_width": ""
          }
        },
        "37731edab690415b8cd3b3c021ebda00": {
          "model_module": "@jupyter-widgets/base",
          "model_name": "LayoutModel",
          "model_module_version": "1.2.0",
          "state": {
            "_model_module": "@jupyter-widgets/base",
            "_model_module_version": "1.2.0",
            "_model_name": "LayoutModel",
            "_view_count": null,
            "_view_module": "@jupyter-widgets/base",
            "_view_module_version": "1.2.0",
            "_view_name": "LayoutView",
            "align_content": null,
            "align_items": null,
            "align_self": null,
            "border": null,
            "bottom": null,
            "display": null,
            "flex": null,
            "flex_flow": null,
            "grid_area": null,
            "grid_auto_columns": null,
            "grid_auto_flow": null,
            "grid_auto_rows": null,
            "grid_column": null,
            "grid_gap": null,
            "grid_row": null,
            "grid_template_areas": null,
            "grid_template_columns": null,
            "grid_template_rows": null,
            "height": null,
            "justify_content": null,
            "justify_items": null,
            "left": null,
            "margin": null,
            "max_height": null,
            "max_width": null,
            "min_height": null,
            "min_width": null,
            "object_fit": null,
            "object_position": null,
            "order": null,
            "overflow": null,
            "overflow_x": null,
            "overflow_y": null,
            "padding": null,
            "right": null,
            "top": null,
            "visibility": null,
            "width": "20px"
          }
        },
        "cf1da0ebdff04bd781308b1b723fbc69": {
          "model_module": "@jupyter-widgets/controls",
          "model_name": "ProgressStyleModel",
          "model_module_version": "1.5.0",
          "state": {
            "_model_module": "@jupyter-widgets/controls",
            "_model_module_version": "1.5.0",
            "_model_name": "ProgressStyleModel",
            "_view_count": null,
            "_view_module": "@jupyter-widgets/base",
            "_view_module_version": "1.2.0",
            "_view_name": "StyleView",
            "bar_color": null,
            "description_width": ""
          }
        },
        "f1b2baa960894969b526bb37f4846910": {
          "model_module": "@jupyter-widgets/base",
          "model_name": "LayoutModel",
          "model_module_version": "1.2.0",
          "state": {
            "_model_module": "@jupyter-widgets/base",
            "_model_module_version": "1.2.0",
            "_model_name": "LayoutModel",
            "_view_count": null,
            "_view_module": "@jupyter-widgets/base",
            "_view_module_version": "1.2.0",
            "_view_name": "LayoutView",
            "align_content": null,
            "align_items": null,
            "align_self": null,
            "border": null,
            "bottom": null,
            "display": null,
            "flex": null,
            "flex_flow": null,
            "grid_area": null,
            "grid_auto_columns": null,
            "grid_auto_flow": null,
            "grid_auto_rows": null,
            "grid_column": null,
            "grid_gap": null,
            "grid_row": null,
            "grid_template_areas": null,
            "grid_template_columns": null,
            "grid_template_rows": null,
            "height": null,
            "justify_content": null,
            "justify_items": null,
            "left": null,
            "margin": null,
            "max_height": null,
            "max_width": null,
            "min_height": null,
            "min_width": null,
            "object_fit": null,
            "object_position": null,
            "order": null,
            "overflow": null,
            "overflow_x": null,
            "overflow_y": null,
            "padding": null,
            "right": null,
            "top": null,
            "visibility": null,
            "width": null
          }
        },
        "4136fa4c66884ddc910c8b9e2d0962ef": {
          "model_module": "@jupyter-widgets/controls",
          "model_name": "DescriptionStyleModel",
          "model_module_version": "1.5.0",
          "state": {
            "_model_module": "@jupyter-widgets/controls",
            "_model_module_version": "1.5.0",
            "_model_name": "DescriptionStyleModel",
            "_view_count": null,
            "_view_module": "@jupyter-widgets/base",
            "_view_module_version": "1.2.0",
            "_view_name": "StyleView",
            "description_width": ""
          }
        },
        "719caebb5aee4d8b988485796f173995": {
          "model_module": "@jupyter-widgets/controls",
          "model_name": "HBoxModel",
          "model_module_version": "1.5.0",
          "state": {
            "_dom_classes": [],
            "_model_module": "@jupyter-widgets/controls",
            "_model_module_version": "1.5.0",
            "_model_name": "HBoxModel",
            "_view_count": null,
            "_view_module": "@jupyter-widgets/controls",
            "_view_module_version": "1.5.0",
            "_view_name": "HBoxView",
            "box_style": "",
            "children": [
              "IPY_MODEL_49a04c564112448cb060c837e8138423",
              "IPY_MODEL_8194663ac45e46c1af3d3c9702c6c0fe",
              "IPY_MODEL_6e2c8d1062404705aeb12fec9ace70ae"
            ],
            "layout": "IPY_MODEL_bd2106da6ec04df9be8ed4662ac10ee4"
          }
        },
        "49a04c564112448cb060c837e8138423": {
          "model_module": "@jupyter-widgets/controls",
          "model_name": "HTMLModel",
          "model_module_version": "1.5.0",
          "state": {
            "_dom_classes": [],
            "_model_module": "@jupyter-widgets/controls",
            "_model_module_version": "1.5.0",
            "_model_name": "HTMLModel",
            "_view_count": null,
            "_view_module": "@jupyter-widgets/controls",
            "_view_module_version": "1.5.0",
            "_view_name": "HTMLView",
            "description": "",
            "description_tooltip": null,
            "layout": "IPY_MODEL_269a6c28b6d34503a257588407da6c8d",
            "placeholder": "​",
            "style": "IPY_MODEL_5dcd856a4b7240c7bc7b9d6793e00e1d",
            "value": "special_tokens_map.json: 100%"
          }
        },
        "8194663ac45e46c1af3d3c9702c6c0fe": {
          "model_module": "@jupyter-widgets/controls",
          "model_name": "FloatProgressModel",
          "model_module_version": "1.5.0",
          "state": {
            "_dom_classes": [],
            "_model_module": "@jupyter-widgets/controls",
            "_model_module_version": "1.5.0",
            "_model_name": "FloatProgressModel",
            "_view_count": null,
            "_view_module": "@jupyter-widgets/controls",
            "_view_module_version": "1.5.0",
            "_view_name": "ProgressView",
            "bar_style": "success",
            "description": "",
            "description_tooltip": null,
            "layout": "IPY_MODEL_25493e1c616148b698bb5b3c869d7992",
            "max": 695,
            "min": 0,
            "orientation": "horizontal",
            "style": "IPY_MODEL_15087d8ab86749eba66e893f06c715d4",
            "value": 695
          }
        },
        "6e2c8d1062404705aeb12fec9ace70ae": {
          "model_module": "@jupyter-widgets/controls",
          "model_name": "HTMLModel",
          "model_module_version": "1.5.0",
          "state": {
            "_dom_classes": [],
            "_model_module": "@jupyter-widgets/controls",
            "_model_module_version": "1.5.0",
            "_model_name": "HTMLModel",
            "_view_count": null,
            "_view_module": "@jupyter-widgets/controls",
            "_view_module_version": "1.5.0",
            "_view_name": "HTMLView",
            "description": "",
            "description_tooltip": null,
            "layout": "IPY_MODEL_098442e33a5040369b7181dc4fa95b80",
            "placeholder": "​",
            "style": "IPY_MODEL_8a3d17e079564069b1a8f9ffde986b14",
            "value": " 695/695 [00:00&lt;00:00, 21.2kB/s]"
          }
        },
        "bd2106da6ec04df9be8ed4662ac10ee4": {
          "model_module": "@jupyter-widgets/base",
          "model_name": "LayoutModel",
          "model_module_version": "1.2.0",
          "state": {
            "_model_module": "@jupyter-widgets/base",
            "_model_module_version": "1.2.0",
            "_model_name": "LayoutModel",
            "_view_count": null,
            "_view_module": "@jupyter-widgets/base",
            "_view_module_version": "1.2.0",
            "_view_name": "LayoutView",
            "align_content": null,
            "align_items": null,
            "align_self": null,
            "border": null,
            "bottom": null,
            "display": null,
            "flex": null,
            "flex_flow": null,
            "grid_area": null,
            "grid_auto_columns": null,
            "grid_auto_flow": null,
            "grid_auto_rows": null,
            "grid_column": null,
            "grid_gap": null,
            "grid_row": null,
            "grid_template_areas": null,
            "grid_template_columns": null,
            "grid_template_rows": null,
            "height": null,
            "justify_content": null,
            "justify_items": null,
            "left": null,
            "margin": null,
            "max_height": null,
            "max_width": null,
            "min_height": null,
            "min_width": null,
            "object_fit": null,
            "object_position": null,
            "order": null,
            "overflow": null,
            "overflow_x": null,
            "overflow_y": null,
            "padding": null,
            "right": null,
            "top": null,
            "visibility": null,
            "width": null
          }
        },
        "269a6c28b6d34503a257588407da6c8d": {
          "model_module": "@jupyter-widgets/base",
          "model_name": "LayoutModel",
          "model_module_version": "1.2.0",
          "state": {
            "_model_module": "@jupyter-widgets/base",
            "_model_module_version": "1.2.0",
            "_model_name": "LayoutModel",
            "_view_count": null,
            "_view_module": "@jupyter-widgets/base",
            "_view_module_version": "1.2.0",
            "_view_name": "LayoutView",
            "align_content": null,
            "align_items": null,
            "align_self": null,
            "border": null,
            "bottom": null,
            "display": null,
            "flex": null,
            "flex_flow": null,
            "grid_area": null,
            "grid_auto_columns": null,
            "grid_auto_flow": null,
            "grid_auto_rows": null,
            "grid_column": null,
            "grid_gap": null,
            "grid_row": null,
            "grid_template_areas": null,
            "grid_template_columns": null,
            "grid_template_rows": null,
            "height": null,
            "justify_content": null,
            "justify_items": null,
            "left": null,
            "margin": null,
            "max_height": null,
            "max_width": null,
            "min_height": null,
            "min_width": null,
            "object_fit": null,
            "object_position": null,
            "order": null,
            "overflow": null,
            "overflow_x": null,
            "overflow_y": null,
            "padding": null,
            "right": null,
            "top": null,
            "visibility": null,
            "width": null
          }
        },
        "5dcd856a4b7240c7bc7b9d6793e00e1d": {
          "model_module": "@jupyter-widgets/controls",
          "model_name": "DescriptionStyleModel",
          "model_module_version": "1.5.0",
          "state": {
            "_model_module": "@jupyter-widgets/controls",
            "_model_module_version": "1.5.0",
            "_model_name": "DescriptionStyleModel",
            "_view_count": null,
            "_view_module": "@jupyter-widgets/base",
            "_view_module_version": "1.2.0",
            "_view_name": "StyleView",
            "description_width": ""
          }
        },
        "25493e1c616148b698bb5b3c869d7992": {
          "model_module": "@jupyter-widgets/base",
          "model_name": "LayoutModel",
          "model_module_version": "1.2.0",
          "state": {
            "_model_module": "@jupyter-widgets/base",
            "_model_module_version": "1.2.0",
            "_model_name": "LayoutModel",
            "_view_count": null,
            "_view_module": "@jupyter-widgets/base",
            "_view_module_version": "1.2.0",
            "_view_name": "LayoutView",
            "align_content": null,
            "align_items": null,
            "align_self": null,
            "border": null,
            "bottom": null,
            "display": null,
            "flex": null,
            "flex_flow": null,
            "grid_area": null,
            "grid_auto_columns": null,
            "grid_auto_flow": null,
            "grid_auto_rows": null,
            "grid_column": null,
            "grid_gap": null,
            "grid_row": null,
            "grid_template_areas": null,
            "grid_template_columns": null,
            "grid_template_rows": null,
            "height": null,
            "justify_content": null,
            "justify_items": null,
            "left": null,
            "margin": null,
            "max_height": null,
            "max_width": null,
            "min_height": null,
            "min_width": null,
            "object_fit": null,
            "object_position": null,
            "order": null,
            "overflow": null,
            "overflow_x": null,
            "overflow_y": null,
            "padding": null,
            "right": null,
            "top": null,
            "visibility": null,
            "width": null
          }
        },
        "15087d8ab86749eba66e893f06c715d4": {
          "model_module": "@jupyter-widgets/controls",
          "model_name": "ProgressStyleModel",
          "model_module_version": "1.5.0",
          "state": {
            "_model_module": "@jupyter-widgets/controls",
            "_model_module_version": "1.5.0",
            "_model_name": "ProgressStyleModel",
            "_view_count": null,
            "_view_module": "@jupyter-widgets/base",
            "_view_module_version": "1.2.0",
            "_view_name": "StyleView",
            "bar_color": null,
            "description_width": ""
          }
        },
        "098442e33a5040369b7181dc4fa95b80": {
          "model_module": "@jupyter-widgets/base",
          "model_name": "LayoutModel",
          "model_module_version": "1.2.0",
          "state": {
            "_model_module": "@jupyter-widgets/base",
            "_model_module_version": "1.2.0",
            "_model_name": "LayoutModel",
            "_view_count": null,
            "_view_module": "@jupyter-widgets/base",
            "_view_module_version": "1.2.0",
            "_view_name": "LayoutView",
            "align_content": null,
            "align_items": null,
            "align_self": null,
            "border": null,
            "bottom": null,
            "display": null,
            "flex": null,
            "flex_flow": null,
            "grid_area": null,
            "grid_auto_columns": null,
            "grid_auto_flow": null,
            "grid_auto_rows": null,
            "grid_column": null,
            "grid_gap": null,
            "grid_row": null,
            "grid_template_areas": null,
            "grid_template_columns": null,
            "grid_template_rows": null,
            "height": null,
            "justify_content": null,
            "justify_items": null,
            "left": null,
            "margin": null,
            "max_height": null,
            "max_width": null,
            "min_height": null,
            "min_width": null,
            "object_fit": null,
            "object_position": null,
            "order": null,
            "overflow": null,
            "overflow_x": null,
            "overflow_y": null,
            "padding": null,
            "right": null,
            "top": null,
            "visibility": null,
            "width": null
          }
        },
        "8a3d17e079564069b1a8f9ffde986b14": {
          "model_module": "@jupyter-widgets/controls",
          "model_name": "DescriptionStyleModel",
          "model_module_version": "1.5.0",
          "state": {
            "_model_module": "@jupyter-widgets/controls",
            "_model_module_version": "1.5.0",
            "_model_name": "DescriptionStyleModel",
            "_view_count": null,
            "_view_module": "@jupyter-widgets/base",
            "_view_module_version": "1.2.0",
            "_view_name": "StyleView",
            "description_width": ""
          }
        },
        "ba6d217d28fa45229d2f1cf31d8a640f": {
          "model_module": "@jupyter-widgets/controls",
          "model_name": "HBoxModel",
          "model_module_version": "1.5.0",
          "state": {
            "_dom_classes": [],
            "_model_module": "@jupyter-widgets/controls",
            "_model_module_version": "1.5.0",
            "_model_name": "HBoxModel",
            "_view_count": null,
            "_view_module": "@jupyter-widgets/controls",
            "_view_module_version": "1.5.0",
            "_view_name": "HBoxView",
            "box_style": "",
            "children": [
              "IPY_MODEL_123655dc689b466a84ef5f7482e76562",
              "IPY_MODEL_4e8db39afa554cc1805c800bc94f7497",
              "IPY_MODEL_0a966e1310c84561ba331478b6de690a"
            ],
            "layout": "IPY_MODEL_f222681389524b6ca43f5961967880bf"
          }
        },
        "123655dc689b466a84ef5f7482e76562": {
          "model_module": "@jupyter-widgets/controls",
          "model_name": "HTMLModel",
          "model_module_version": "1.5.0",
          "state": {
            "_dom_classes": [],
            "_model_module": "@jupyter-widgets/controls",
            "_model_module_version": "1.5.0",
            "_model_name": "HTMLModel",
            "_view_count": null,
            "_view_module": "@jupyter-widgets/controls",
            "_view_module_version": "1.5.0",
            "_view_name": "HTMLView",
            "description": "",
            "description_tooltip": null,
            "layout": "IPY_MODEL_ffc89389ca4f493c97f04c9aa035f7bc",
            "placeholder": "​",
            "style": "IPY_MODEL_4b54047061ba4e73bafc11cd19ffe6ac",
            "value": "tokenizer.json: "
          }
        },
        "4e8db39afa554cc1805c800bc94f7497": {
          "model_module": "@jupyter-widgets/controls",
          "model_name": "FloatProgressModel",
          "model_module_version": "1.5.0",
          "state": {
            "_dom_classes": [],
            "_model_module": "@jupyter-widgets/controls",
            "_model_module_version": "1.5.0",
            "_model_name": "FloatProgressModel",
            "_view_count": null,
            "_view_module": "@jupyter-widgets/controls",
            "_view_module_version": "1.5.0",
            "_view_name": "ProgressView",
            "bar_style": "success",
            "description": "",
            "description_tooltip": null,
            "layout": "IPY_MODEL_b5cf65012b6f42edad713fc9447f5462",
            "max": 1,
            "min": 0,
            "orientation": "horizontal",
            "style": "IPY_MODEL_1a9f0eeffd1843c98185bd85d27e1cce",
            "value": 1
          }
        },
        "0a966e1310c84561ba331478b6de690a": {
          "model_module": "@jupyter-widgets/controls",
          "model_name": "HTMLModel",
          "model_module_version": "1.5.0",
          "state": {
            "_dom_classes": [],
            "_model_module": "@jupyter-widgets/controls",
            "_model_module_version": "1.5.0",
            "_model_name": "HTMLModel",
            "_view_count": null,
            "_view_module": "@jupyter-widgets/controls",
            "_view_module_version": "1.5.0",
            "_view_name": "HTMLView",
            "description": "",
            "description_tooltip": null,
            "layout": "IPY_MODEL_73e261ec18e2437087d1bd738cd97f17",
            "placeholder": "​",
            "style": "IPY_MODEL_7769a109dc954fe29432fe6bada34d18",
            "value": " 711k/? [00:00&lt;00:00, 8.32MB/s]"
          }
        },
        "f222681389524b6ca43f5961967880bf": {
          "model_module": "@jupyter-widgets/base",
          "model_name": "LayoutModel",
          "model_module_version": "1.2.0",
          "state": {
            "_model_module": "@jupyter-widgets/base",
            "_model_module_version": "1.2.0",
            "_model_name": "LayoutModel",
            "_view_count": null,
            "_view_module": "@jupyter-widgets/base",
            "_view_module_version": "1.2.0",
            "_view_name": "LayoutView",
            "align_content": null,
            "align_items": null,
            "align_self": null,
            "border": null,
            "bottom": null,
            "display": null,
            "flex": null,
            "flex_flow": null,
            "grid_area": null,
            "grid_auto_columns": null,
            "grid_auto_flow": null,
            "grid_auto_rows": null,
            "grid_column": null,
            "grid_gap": null,
            "grid_row": null,
            "grid_template_areas": null,
            "grid_template_columns": null,
            "grid_template_rows": null,
            "height": null,
            "justify_content": null,
            "justify_items": null,
            "left": null,
            "margin": null,
            "max_height": null,
            "max_width": null,
            "min_height": null,
            "min_width": null,
            "object_fit": null,
            "object_position": null,
            "order": null,
            "overflow": null,
            "overflow_x": null,
            "overflow_y": null,
            "padding": null,
            "right": null,
            "top": null,
            "visibility": null,
            "width": null
          }
        },
        "ffc89389ca4f493c97f04c9aa035f7bc": {
          "model_module": "@jupyter-widgets/base",
          "model_name": "LayoutModel",
          "model_module_version": "1.2.0",
          "state": {
            "_model_module": "@jupyter-widgets/base",
            "_model_module_version": "1.2.0",
            "_model_name": "LayoutModel",
            "_view_count": null,
            "_view_module": "@jupyter-widgets/base",
            "_view_module_version": "1.2.0",
            "_view_name": "LayoutView",
            "align_content": null,
            "align_items": null,
            "align_self": null,
            "border": null,
            "bottom": null,
            "display": null,
            "flex": null,
            "flex_flow": null,
            "grid_area": null,
            "grid_auto_columns": null,
            "grid_auto_flow": null,
            "grid_auto_rows": null,
            "grid_column": null,
            "grid_gap": null,
            "grid_row": null,
            "grid_template_areas": null,
            "grid_template_columns": null,
            "grid_template_rows": null,
            "height": null,
            "justify_content": null,
            "justify_items": null,
            "left": null,
            "margin": null,
            "max_height": null,
            "max_width": null,
            "min_height": null,
            "min_width": null,
            "object_fit": null,
            "object_position": null,
            "order": null,
            "overflow": null,
            "overflow_x": null,
            "overflow_y": null,
            "padding": null,
            "right": null,
            "top": null,
            "visibility": null,
            "width": null
          }
        },
        "4b54047061ba4e73bafc11cd19ffe6ac": {
          "model_module": "@jupyter-widgets/controls",
          "model_name": "DescriptionStyleModel",
          "model_module_version": "1.5.0",
          "state": {
            "_model_module": "@jupyter-widgets/controls",
            "_model_module_version": "1.5.0",
            "_model_name": "DescriptionStyleModel",
            "_view_count": null,
            "_view_module": "@jupyter-widgets/base",
            "_view_module_version": "1.2.0",
            "_view_name": "StyleView",
            "description_width": ""
          }
        },
        "b5cf65012b6f42edad713fc9447f5462": {
          "model_module": "@jupyter-widgets/base",
          "model_name": "LayoutModel",
          "model_module_version": "1.2.0",
          "state": {
            "_model_module": "@jupyter-widgets/base",
            "_model_module_version": "1.2.0",
            "_model_name": "LayoutModel",
            "_view_count": null,
            "_view_module": "@jupyter-widgets/base",
            "_view_module_version": "1.2.0",
            "_view_name": "LayoutView",
            "align_content": null,
            "align_items": null,
            "align_self": null,
            "border": null,
            "bottom": null,
            "display": null,
            "flex": null,
            "flex_flow": null,
            "grid_area": null,
            "grid_auto_columns": null,
            "grid_auto_flow": null,
            "grid_auto_rows": null,
            "grid_column": null,
            "grid_gap": null,
            "grid_row": null,
            "grid_template_areas": null,
            "grid_template_columns": null,
            "grid_template_rows": null,
            "height": null,
            "justify_content": null,
            "justify_items": null,
            "left": null,
            "margin": null,
            "max_height": null,
            "max_width": null,
            "min_height": null,
            "min_width": null,
            "object_fit": null,
            "object_position": null,
            "order": null,
            "overflow": null,
            "overflow_x": null,
            "overflow_y": null,
            "padding": null,
            "right": null,
            "top": null,
            "visibility": null,
            "width": "20px"
          }
        },
        "1a9f0eeffd1843c98185bd85d27e1cce": {
          "model_module": "@jupyter-widgets/controls",
          "model_name": "ProgressStyleModel",
          "model_module_version": "1.5.0",
          "state": {
            "_model_module": "@jupyter-widgets/controls",
            "_model_module_version": "1.5.0",
            "_model_name": "ProgressStyleModel",
            "_view_count": null,
            "_view_module": "@jupyter-widgets/base",
            "_view_module_version": "1.2.0",
            "_view_name": "StyleView",
            "bar_color": null,
            "description_width": ""
          }
        },
        "73e261ec18e2437087d1bd738cd97f17": {
          "model_module": "@jupyter-widgets/base",
          "model_name": "LayoutModel",
          "model_module_version": "1.2.0",
          "state": {
            "_model_module": "@jupyter-widgets/base",
            "_model_module_version": "1.2.0",
            "_model_name": "LayoutModel",
            "_view_count": null,
            "_view_module": "@jupyter-widgets/base",
            "_view_module_version": "1.2.0",
            "_view_name": "LayoutView",
            "align_content": null,
            "align_items": null,
            "align_self": null,
            "border": null,
            "bottom": null,
            "display": null,
            "flex": null,
            "flex_flow": null,
            "grid_area": null,
            "grid_auto_columns": null,
            "grid_auto_flow": null,
            "grid_auto_rows": null,
            "grid_column": null,
            "grid_gap": null,
            "grid_row": null,
            "grid_template_areas": null,
            "grid_template_columns": null,
            "grid_template_rows": null,
            "height": null,
            "justify_content": null,
            "justify_items": null,
            "left": null,
            "margin": null,
            "max_height": null,
            "max_width": null,
            "min_height": null,
            "min_width": null,
            "object_fit": null,
            "object_position": null,
            "order": null,
            "overflow": null,
            "overflow_x": null,
            "overflow_y": null,
            "padding": null,
            "right": null,
            "top": null,
            "visibility": null,
            "width": null
          }
        },
        "7769a109dc954fe29432fe6bada34d18": {
          "model_module": "@jupyter-widgets/controls",
          "model_name": "DescriptionStyleModel",
          "model_module_version": "1.5.0",
          "state": {
            "_model_module": "@jupyter-widgets/controls",
            "_model_module_version": "1.5.0",
            "_model_name": "DescriptionStyleModel",
            "_view_count": null,
            "_view_module": "@jupyter-widgets/base",
            "_view_module_version": "1.2.0",
            "_view_name": "StyleView",
            "description_width": ""
          }
        },
        "aae1fbf3dd6f4a518a1e4aad61158f54": {
          "model_module": "@jupyter-widgets/controls",
          "model_name": "HBoxModel",
          "model_module_version": "1.5.0",
          "state": {
            "_dom_classes": [],
            "_model_module": "@jupyter-widgets/controls",
            "_model_module_version": "1.5.0",
            "_model_name": "HBoxModel",
            "_view_count": null,
            "_view_module": "@jupyter-widgets/controls",
            "_view_module_version": "1.5.0",
            "_view_name": "HBoxView",
            "box_style": "",
            "children": [
              "IPY_MODEL_12f957caadda47fb92db361a121be414",
              "IPY_MODEL_31c42e3e83964b7eb2e609da70b575ad",
              "IPY_MODEL_a4159e60d19447ea91965b2270393089"
            ],
            "layout": "IPY_MODEL_587bced8cc1c47228c6b40f473c147d7"
          }
        },
        "12f957caadda47fb92db361a121be414": {
          "model_module": "@jupyter-widgets/controls",
          "model_name": "HTMLModel",
          "model_module_version": "1.5.0",
          "state": {
            "_dom_classes": [],
            "_model_module": "@jupyter-widgets/controls",
            "_model_module_version": "1.5.0",
            "_model_name": "HTMLModel",
            "_view_count": null,
            "_view_module": "@jupyter-widgets/controls",
            "_view_module_version": "1.5.0",
            "_view_name": "HTMLView",
            "description": "",
            "description_tooltip": null,
            "layout": "IPY_MODEL_452ea488aa5a45fbb3689480648fdf5d",
            "placeholder": "​",
            "style": "IPY_MODEL_88e0a9c42cd042c78f112ccf85c6c414",
            "value": "model_optimized.onnx: 100%"
          }
        },
        "31c42e3e83964b7eb2e609da70b575ad": {
          "model_module": "@jupyter-widgets/controls",
          "model_name": "FloatProgressModel",
          "model_module_version": "1.5.0",
          "state": {
            "_dom_classes": [],
            "_model_module": "@jupyter-widgets/controls",
            "_model_module_version": "1.5.0",
            "_model_name": "FloatProgressModel",
            "_view_count": null,
            "_view_module": "@jupyter-widgets/controls",
            "_view_module_version": "1.5.0",
            "_view_name": "ProgressView",
            "bar_style": "success",
            "description": "",
            "description_tooltip": null,
            "layout": "IPY_MODEL_42800e4a633a4856ac3e9700dca83dca",
            "max": 66465124,
            "min": 0,
            "orientation": "horizontal",
            "style": "IPY_MODEL_8190f02cb1e0435d85e29023785af09a",
            "value": 66465124
          }
        },
        "a4159e60d19447ea91965b2270393089": {
          "model_module": "@jupyter-widgets/controls",
          "model_name": "HTMLModel",
          "model_module_version": "1.5.0",
          "state": {
            "_dom_classes": [],
            "_model_module": "@jupyter-widgets/controls",
            "_model_module_version": "1.5.0",
            "_model_name": "HTMLModel",
            "_view_count": null,
            "_view_module": "@jupyter-widgets/controls",
            "_view_module_version": "1.5.0",
            "_view_name": "HTMLView",
            "description": "",
            "description_tooltip": null,
            "layout": "IPY_MODEL_7b00729f022b478c961fad5df0cabab3",
            "placeholder": "​",
            "style": "IPY_MODEL_e377960abf5247d4babfef532b19916b",
            "value": " 66.5M/66.5M [00:00&lt;00:00, 95.5MB/s]"
          }
        },
        "587bced8cc1c47228c6b40f473c147d7": {
          "model_module": "@jupyter-widgets/base",
          "model_name": "LayoutModel",
          "model_module_version": "1.2.0",
          "state": {
            "_model_module": "@jupyter-widgets/base",
            "_model_module_version": "1.2.0",
            "_model_name": "LayoutModel",
            "_view_count": null,
            "_view_module": "@jupyter-widgets/base",
            "_view_module_version": "1.2.0",
            "_view_name": "LayoutView",
            "align_content": null,
            "align_items": null,
            "align_self": null,
            "border": null,
            "bottom": null,
            "display": null,
            "flex": null,
            "flex_flow": null,
            "grid_area": null,
            "grid_auto_columns": null,
            "grid_auto_flow": null,
            "grid_auto_rows": null,
            "grid_column": null,
            "grid_gap": null,
            "grid_row": null,
            "grid_template_areas": null,
            "grid_template_columns": null,
            "grid_template_rows": null,
            "height": null,
            "justify_content": null,
            "justify_items": null,
            "left": null,
            "margin": null,
            "max_height": null,
            "max_width": null,
            "min_height": null,
            "min_width": null,
            "object_fit": null,
            "object_position": null,
            "order": null,
            "overflow": null,
            "overflow_x": null,
            "overflow_y": null,
            "padding": null,
            "right": null,
            "top": null,
            "visibility": null,
            "width": null
          }
        },
        "452ea488aa5a45fbb3689480648fdf5d": {
          "model_module": "@jupyter-widgets/base",
          "model_name": "LayoutModel",
          "model_module_version": "1.2.0",
          "state": {
            "_model_module": "@jupyter-widgets/base",
            "_model_module_version": "1.2.0",
            "_model_name": "LayoutModel",
            "_view_count": null,
            "_view_module": "@jupyter-widgets/base",
            "_view_module_version": "1.2.0",
            "_view_name": "LayoutView",
            "align_content": null,
            "align_items": null,
            "align_self": null,
            "border": null,
            "bottom": null,
            "display": null,
            "flex": null,
            "flex_flow": null,
            "grid_area": null,
            "grid_auto_columns": null,
            "grid_auto_flow": null,
            "grid_auto_rows": null,
            "grid_column": null,
            "grid_gap": null,
            "grid_row": null,
            "grid_template_areas": null,
            "grid_template_columns": null,
            "grid_template_rows": null,
            "height": null,
            "justify_content": null,
            "justify_items": null,
            "left": null,
            "margin": null,
            "max_height": null,
            "max_width": null,
            "min_height": null,
            "min_width": null,
            "object_fit": null,
            "object_position": null,
            "order": null,
            "overflow": null,
            "overflow_x": null,
            "overflow_y": null,
            "padding": null,
            "right": null,
            "top": null,
            "visibility": null,
            "width": null
          }
        },
        "88e0a9c42cd042c78f112ccf85c6c414": {
          "model_module": "@jupyter-widgets/controls",
          "model_name": "DescriptionStyleModel",
          "model_module_version": "1.5.0",
          "state": {
            "_model_module": "@jupyter-widgets/controls",
            "_model_module_version": "1.5.0",
            "_model_name": "DescriptionStyleModel",
            "_view_count": null,
            "_view_module": "@jupyter-widgets/base",
            "_view_module_version": "1.2.0",
            "_view_name": "StyleView",
            "description_width": ""
          }
        },
        "42800e4a633a4856ac3e9700dca83dca": {
          "model_module": "@jupyter-widgets/base",
          "model_name": "LayoutModel",
          "model_module_version": "1.2.0",
          "state": {
            "_model_module": "@jupyter-widgets/base",
            "_model_module_version": "1.2.0",
            "_model_name": "LayoutModel",
            "_view_count": null,
            "_view_module": "@jupyter-widgets/base",
            "_view_module_version": "1.2.0",
            "_view_name": "LayoutView",
            "align_content": null,
            "align_items": null,
            "align_self": null,
            "border": null,
            "bottom": null,
            "display": null,
            "flex": null,
            "flex_flow": null,
            "grid_area": null,
            "grid_auto_columns": null,
            "grid_auto_flow": null,
            "grid_auto_rows": null,
            "grid_column": null,
            "grid_gap": null,
            "grid_row": null,
            "grid_template_areas": null,
            "grid_template_columns": null,
            "grid_template_rows": null,
            "height": null,
            "justify_content": null,
            "justify_items": null,
            "left": null,
            "margin": null,
            "max_height": null,
            "max_width": null,
            "min_height": null,
            "min_width": null,
            "object_fit": null,
            "object_position": null,
            "order": null,
            "overflow": null,
            "overflow_x": null,
            "overflow_y": null,
            "padding": null,
            "right": null,
            "top": null,
            "visibility": null,
            "width": null
          }
        },
        "8190f02cb1e0435d85e29023785af09a": {
          "model_module": "@jupyter-widgets/controls",
          "model_name": "ProgressStyleModel",
          "model_module_version": "1.5.0",
          "state": {
            "_model_module": "@jupyter-widgets/controls",
            "_model_module_version": "1.5.0",
            "_model_name": "ProgressStyleModel",
            "_view_count": null,
            "_view_module": "@jupyter-widgets/base",
            "_view_module_version": "1.2.0",
            "_view_name": "StyleView",
            "bar_color": null,
            "description_width": ""
          }
        },
        "7b00729f022b478c961fad5df0cabab3": {
          "model_module": "@jupyter-widgets/base",
          "model_name": "LayoutModel",
          "model_module_version": "1.2.0",
          "state": {
            "_model_module": "@jupyter-widgets/base",
            "_model_module_version": "1.2.0",
            "_model_name": "LayoutModel",
            "_view_count": null,
            "_view_module": "@jupyter-widgets/base",
            "_view_module_version": "1.2.0",
            "_view_name": "LayoutView",
            "align_content": null,
            "align_items": null,
            "align_self": null,
            "border": null,
            "bottom": null,
            "display": null,
            "flex": null,
            "flex_flow": null,
            "grid_area": null,
            "grid_auto_columns": null,
            "grid_auto_flow": null,
            "grid_auto_rows": null,
            "grid_column": null,
            "grid_gap": null,
            "grid_row": null,
            "grid_template_areas": null,
            "grid_template_columns": null,
            "grid_template_rows": null,
            "height": null,
            "justify_content": null,
            "justify_items": null,
            "left": null,
            "margin": null,
            "max_height": null,
            "max_width": null,
            "min_height": null,
            "min_width": null,
            "object_fit": null,
            "object_position": null,
            "order": null,
            "overflow": null,
            "overflow_x": null,
            "overflow_y": null,
            "padding": null,
            "right": null,
            "top": null,
            "visibility": null,
            "width": null
          }
        },
        "e377960abf5247d4babfef532b19916b": {
          "model_module": "@jupyter-widgets/controls",
          "model_name": "DescriptionStyleModel",
          "model_module_version": "1.5.0",
          "state": {
            "_model_module": "@jupyter-widgets/controls",
            "_model_module_version": "1.5.0",
            "_model_name": "DescriptionStyleModel",
            "_view_count": null,
            "_view_module": "@jupyter-widgets/base",
            "_view_module_version": "1.2.0",
            "_view_name": "StyleView",
            "description_width": ""
          }
        },
        "79e79901f45a4fecbc6a6cd498909dbc": {
          "model_module": "@jupyter-widgets/controls",
          "model_name": "HBoxModel",
          "model_module_version": "1.5.0",
          "state": {
            "_dom_classes": [],
            "_model_module": "@jupyter-widgets/controls",
            "_model_module_version": "1.5.0",
            "_model_name": "HBoxModel",
            "_view_count": null,
            "_view_module": "@jupyter-widgets/controls",
            "_view_module_version": "1.5.0",
            "_view_name": "HBoxView",
            "box_style": "",
            "children": [
              "IPY_MODEL_d0ef36570d2c402abf726d7517e0fe74",
              "IPY_MODEL_182081d34bda45388c1e3c60db2fbaeb",
              "IPY_MODEL_078f2727cb0c416a8e03d61af06f5c3b"
            ],
            "layout": "IPY_MODEL_bb48d39536fc4d579b348861346419b3"
          }
        },
        "d0ef36570d2c402abf726d7517e0fe74": {
          "model_module": "@jupyter-widgets/controls",
          "model_name": "HTMLModel",
          "model_module_version": "1.5.0",
          "state": {
            "_dom_classes": [],
            "_model_module": "@jupyter-widgets/controls",
            "_model_module_version": "1.5.0",
            "_model_name": "HTMLModel",
            "_view_count": null,
            "_view_module": "@jupyter-widgets/controls",
            "_view_module_version": "1.5.0",
            "_view_name": "HTMLView",
            "description": "",
            "description_tooltip": null,
            "layout": "IPY_MODEL_259f1dcdb0e9444f8a2aa0fc6580a451",
            "placeholder": "​",
            "style": "IPY_MODEL_42d5b15ba3e9492bbb110719697e1e0a",
            "value": "Evaluating: 100%"
          }
        },
        "182081d34bda45388c1e3c60db2fbaeb": {
          "model_module": "@jupyter-widgets/controls",
          "model_name": "FloatProgressModel",
          "model_module_version": "1.5.0",
          "state": {
            "_dom_classes": [],
            "_model_module": "@jupyter-widgets/controls",
            "_model_module_version": "1.5.0",
            "_model_name": "FloatProgressModel",
            "_view_count": null,
            "_view_module": "@jupyter-widgets/controls",
            "_view_module_version": "1.5.0",
            "_view_name": "ProgressView",
            "bar_style": "success",
            "description": "",
            "description_tooltip": null,
            "layout": "IPY_MODEL_0bc862020da4491480187b1265a1fc14",
            "max": 40,
            "min": 0,
            "orientation": "horizontal",
            "style": "IPY_MODEL_a2c595e8a68f415989e7b069ce525845",
            "value": 40
          }
        },
        "078f2727cb0c416a8e03d61af06f5c3b": {
          "model_module": "@jupyter-widgets/controls",
          "model_name": "HTMLModel",
          "model_module_version": "1.5.0",
          "state": {
            "_dom_classes": [],
            "_model_module": "@jupyter-widgets/controls",
            "_model_module_version": "1.5.0",
            "_model_name": "HTMLModel",
            "_view_count": null,
            "_view_module": "@jupyter-widgets/controls",
            "_view_module_version": "1.5.0",
            "_view_name": "HTMLView",
            "description": "",
            "description_tooltip": null,
            "layout": "IPY_MODEL_0e08fbd9781a436995216991f3583883",
            "placeholder": "​",
            "style": "IPY_MODEL_75fcbaa672134368a5cf687a80e717ef",
            "value": " 40/40 [00:19&lt;00:00,  1.63s/it]"
          }
        },
        "bb48d39536fc4d579b348861346419b3": {
          "model_module": "@jupyter-widgets/base",
          "model_name": "LayoutModel",
          "model_module_version": "1.2.0",
          "state": {
            "_model_module": "@jupyter-widgets/base",
            "_model_module_version": "1.2.0",
            "_model_name": "LayoutModel",
            "_view_count": null,
            "_view_module": "@jupyter-widgets/base",
            "_view_module_version": "1.2.0",
            "_view_name": "LayoutView",
            "align_content": null,
            "align_items": null,
            "align_self": null,
            "border": null,
            "bottom": null,
            "display": null,
            "flex": null,
            "flex_flow": null,
            "grid_area": null,
            "grid_auto_columns": null,
            "grid_auto_flow": null,
            "grid_auto_rows": null,
            "grid_column": null,
            "grid_gap": null,
            "grid_row": null,
            "grid_template_areas": null,
            "grid_template_columns": null,
            "grid_template_rows": null,
            "height": null,
            "justify_content": null,
            "justify_items": null,
            "left": null,
            "margin": null,
            "max_height": null,
            "max_width": null,
            "min_height": null,
            "min_width": null,
            "object_fit": null,
            "object_position": null,
            "order": null,
            "overflow": null,
            "overflow_x": null,
            "overflow_y": null,
            "padding": null,
            "right": null,
            "top": null,
            "visibility": null,
            "width": null
          }
        },
        "259f1dcdb0e9444f8a2aa0fc6580a451": {
          "model_module": "@jupyter-widgets/base",
          "model_name": "LayoutModel",
          "model_module_version": "1.2.0",
          "state": {
            "_model_module": "@jupyter-widgets/base",
            "_model_module_version": "1.2.0",
            "_model_name": "LayoutModel",
            "_view_count": null,
            "_view_module": "@jupyter-widgets/base",
            "_view_module_version": "1.2.0",
            "_view_name": "LayoutView",
            "align_content": null,
            "align_items": null,
            "align_self": null,
            "border": null,
            "bottom": null,
            "display": null,
            "flex": null,
            "flex_flow": null,
            "grid_area": null,
            "grid_auto_columns": null,
            "grid_auto_flow": null,
            "grid_auto_rows": null,
            "grid_column": null,
            "grid_gap": null,
            "grid_row": null,
            "grid_template_areas": null,
            "grid_template_columns": null,
            "grid_template_rows": null,
            "height": null,
            "justify_content": null,
            "justify_items": null,
            "left": null,
            "margin": null,
            "max_height": null,
            "max_width": null,
            "min_height": null,
            "min_width": null,
            "object_fit": null,
            "object_position": null,
            "order": null,
            "overflow": null,
            "overflow_x": null,
            "overflow_y": null,
            "padding": null,
            "right": null,
            "top": null,
            "visibility": null,
            "width": null
          }
        },
        "42d5b15ba3e9492bbb110719697e1e0a": {
          "model_module": "@jupyter-widgets/controls",
          "model_name": "DescriptionStyleModel",
          "model_module_version": "1.5.0",
          "state": {
            "_model_module": "@jupyter-widgets/controls",
            "_model_module_version": "1.5.0",
            "_model_name": "DescriptionStyleModel",
            "_view_count": null,
            "_view_module": "@jupyter-widgets/base",
            "_view_module_version": "1.2.0",
            "_view_name": "StyleView",
            "description_width": ""
          }
        },
        "0bc862020da4491480187b1265a1fc14": {
          "model_module": "@jupyter-widgets/base",
          "model_name": "LayoutModel",
          "model_module_version": "1.2.0",
          "state": {
            "_model_module": "@jupyter-widgets/base",
            "_model_module_version": "1.2.0",
            "_model_name": "LayoutModel",
            "_view_count": null,
            "_view_module": "@jupyter-widgets/base",
            "_view_module_version": "1.2.0",
            "_view_name": "LayoutView",
            "align_content": null,
            "align_items": null,
            "align_self": null,
            "border": null,
            "bottom": null,
            "display": null,
            "flex": null,
            "flex_flow": null,
            "grid_area": null,
            "grid_auto_columns": null,
            "grid_auto_flow": null,
            "grid_auto_rows": null,
            "grid_column": null,
            "grid_gap": null,
            "grid_row": null,
            "grid_template_areas": null,
            "grid_template_columns": null,
            "grid_template_rows": null,
            "height": null,
            "justify_content": null,
            "justify_items": null,
            "left": null,
            "margin": null,
            "max_height": null,
            "max_width": null,
            "min_height": null,
            "min_width": null,
            "object_fit": null,
            "object_position": null,
            "order": null,
            "overflow": null,
            "overflow_x": null,
            "overflow_y": null,
            "padding": null,
            "right": null,
            "top": null,
            "visibility": null,
            "width": null
          }
        },
        "a2c595e8a68f415989e7b069ce525845": {
          "model_module": "@jupyter-widgets/controls",
          "model_name": "ProgressStyleModel",
          "model_module_version": "1.5.0",
          "state": {
            "_model_module": "@jupyter-widgets/controls",
            "_model_module_version": "1.5.0",
            "_model_name": "ProgressStyleModel",
            "_view_count": null,
            "_view_module": "@jupyter-widgets/base",
            "_view_module_version": "1.2.0",
            "_view_name": "StyleView",
            "bar_color": null,
            "description_width": ""
          }
        },
        "0e08fbd9781a436995216991f3583883": {
          "model_module": "@jupyter-widgets/base",
          "model_name": "LayoutModel",
          "model_module_version": "1.2.0",
          "state": {
            "_model_module": "@jupyter-widgets/base",
            "_model_module_version": "1.2.0",
            "_model_name": "LayoutModel",
            "_view_count": null,
            "_view_module": "@jupyter-widgets/base",
            "_view_module_version": "1.2.0",
            "_view_name": "LayoutView",
            "align_content": null,
            "align_items": null,
            "align_self": null,
            "border": null,
            "bottom": null,
            "display": null,
            "flex": null,
            "flex_flow": null,
            "grid_area": null,
            "grid_auto_columns": null,
            "grid_auto_flow": null,
            "grid_auto_rows": null,
            "grid_column": null,
            "grid_gap": null,
            "grid_row": null,
            "grid_template_areas": null,
            "grid_template_columns": null,
            "grid_template_rows": null,
            "height": null,
            "justify_content": null,
            "justify_items": null,
            "left": null,
            "margin": null,
            "max_height": null,
            "max_width": null,
            "min_height": null,
            "min_width": null,
            "object_fit": null,
            "object_position": null,
            "order": null,
            "overflow": null,
            "overflow_x": null,
            "overflow_y": null,
            "padding": null,
            "right": null,
            "top": null,
            "visibility": null,
            "width": null
          }
        },
        "75fcbaa672134368a5cf687a80e717ef": {
          "model_module": "@jupyter-widgets/controls",
          "model_name": "DescriptionStyleModel",
          "model_module_version": "1.5.0",
          "state": {
            "_model_module": "@jupyter-widgets/controls",
            "_model_module_version": "1.5.0",
            "_model_name": "DescriptionStyleModel",
            "_view_count": null,
            "_view_module": "@jupyter-widgets/base",
            "_view_module_version": "1.2.0",
            "_view_name": "StyleView",
            "description_width": ""
          }
        },
        "30c6c917b0004928ab98596f88808ad0": {
          "model_module": "@jupyter-widgets/controls",
          "model_name": "HBoxModel",
          "model_module_version": "1.5.0",
          "state": {
            "_dom_classes": [],
            "_model_module": "@jupyter-widgets/controls",
            "_model_module_version": "1.5.0",
            "_model_name": "HBoxModel",
            "_view_count": null,
            "_view_module": "@jupyter-widgets/controls",
            "_view_module_version": "1.5.0",
            "_view_name": "HBoxView",
            "box_style": "",
            "children": [
              "IPY_MODEL_5aad3b7742c84196a840160043843f6b",
              "IPY_MODEL_415807778131498ca608fded8a6486ba",
              "IPY_MODEL_2afa3189054b462d964f36c7ca40cc20"
            ],
            "layout": "IPY_MODEL_38351a9566ba4005aaa0e944f4f0488d"
          }
        },
        "5aad3b7742c84196a840160043843f6b": {
          "model_module": "@jupyter-widgets/controls",
          "model_name": "HTMLModel",
          "model_module_version": "1.5.0",
          "state": {
            "_dom_classes": [],
            "_model_module": "@jupyter-widgets/controls",
            "_model_module_version": "1.5.0",
            "_model_name": "HTMLModel",
            "_view_count": null,
            "_view_module": "@jupyter-widgets/controls",
            "_view_module_version": "1.5.0",
            "_view_name": "HTMLView",
            "description": "",
            "description_tooltip": null,
            "layout": "IPY_MODEL_d2d34aa6d218423f9f0a92cb559a4e73",
            "placeholder": "​",
            "style": "IPY_MODEL_1831d285e7d14818964ee3a96ecb7fbe",
            "value": "Evaluating: 100%"
          }
        },
        "415807778131498ca608fded8a6486ba": {
          "model_module": "@jupyter-widgets/controls",
          "model_name": "FloatProgressModel",
          "model_module_version": "1.5.0",
          "state": {
            "_dom_classes": [],
            "_model_module": "@jupyter-widgets/controls",
            "_model_module_version": "1.5.0",
            "_model_name": "FloatProgressModel",
            "_view_count": null,
            "_view_module": "@jupyter-widgets/controls",
            "_view_module_version": "1.5.0",
            "_view_name": "ProgressView",
            "bar_style": "success",
            "description": "",
            "description_tooltip": null,
            "layout": "IPY_MODEL_dcaf5051bd224db0a8a0a8d17a8cf083",
            "max": 40,
            "min": 0,
            "orientation": "horizontal",
            "style": "IPY_MODEL_bbc4f8c632394f058937663ff7ca9ab1",
            "value": 40
          }
        },
        "2afa3189054b462d964f36c7ca40cc20": {
          "model_module": "@jupyter-widgets/controls",
          "model_name": "HTMLModel",
          "model_module_version": "1.5.0",
          "state": {
            "_dom_classes": [],
            "_model_module": "@jupyter-widgets/controls",
            "_model_module_version": "1.5.0",
            "_model_name": "HTMLModel",
            "_view_count": null,
            "_view_module": "@jupyter-widgets/controls",
            "_view_module_version": "1.5.0",
            "_view_name": "HTMLView",
            "description": "",
            "description_tooltip": null,
            "layout": "IPY_MODEL_ddf8f6f912ed425f97ad0a3e28920ad3",
            "placeholder": "​",
            "style": "IPY_MODEL_6a808e2361c4445d80b552e67e090171",
            "value": " 40/40 [00:19&lt;00:00,  2.56s/it]"
          }
        },
        "38351a9566ba4005aaa0e944f4f0488d": {
          "model_module": "@jupyter-widgets/base",
          "model_name": "LayoutModel",
          "model_module_version": "1.2.0",
          "state": {
            "_model_module": "@jupyter-widgets/base",
            "_model_module_version": "1.2.0",
            "_model_name": "LayoutModel",
            "_view_count": null,
            "_view_module": "@jupyter-widgets/base",
            "_view_module_version": "1.2.0",
            "_view_name": "LayoutView",
            "align_content": null,
            "align_items": null,
            "align_self": null,
            "border": null,
            "bottom": null,
            "display": null,
            "flex": null,
            "flex_flow": null,
            "grid_area": null,
            "grid_auto_columns": null,
            "grid_auto_flow": null,
            "grid_auto_rows": null,
            "grid_column": null,
            "grid_gap": null,
            "grid_row": null,
            "grid_template_areas": null,
            "grid_template_columns": null,
            "grid_template_rows": null,
            "height": null,
            "justify_content": null,
            "justify_items": null,
            "left": null,
            "margin": null,
            "max_height": null,
            "max_width": null,
            "min_height": null,
            "min_width": null,
            "object_fit": null,
            "object_position": null,
            "order": null,
            "overflow": null,
            "overflow_x": null,
            "overflow_y": null,
            "padding": null,
            "right": null,
            "top": null,
            "visibility": null,
            "width": null
          }
        },
        "d2d34aa6d218423f9f0a92cb559a4e73": {
          "model_module": "@jupyter-widgets/base",
          "model_name": "LayoutModel",
          "model_module_version": "1.2.0",
          "state": {
            "_model_module": "@jupyter-widgets/base",
            "_model_module_version": "1.2.0",
            "_model_name": "LayoutModel",
            "_view_count": null,
            "_view_module": "@jupyter-widgets/base",
            "_view_module_version": "1.2.0",
            "_view_name": "LayoutView",
            "align_content": null,
            "align_items": null,
            "align_self": null,
            "border": null,
            "bottom": null,
            "display": null,
            "flex": null,
            "flex_flow": null,
            "grid_area": null,
            "grid_auto_columns": null,
            "grid_auto_flow": null,
            "grid_auto_rows": null,
            "grid_column": null,
            "grid_gap": null,
            "grid_row": null,
            "grid_template_areas": null,
            "grid_template_columns": null,
            "grid_template_rows": null,
            "height": null,
            "justify_content": null,
            "justify_items": null,
            "left": null,
            "margin": null,
            "max_height": null,
            "max_width": null,
            "min_height": null,
            "min_width": null,
            "object_fit": null,
            "object_position": null,
            "order": null,
            "overflow": null,
            "overflow_x": null,
            "overflow_y": null,
            "padding": null,
            "right": null,
            "top": null,
            "visibility": null,
            "width": null
          }
        },
        "1831d285e7d14818964ee3a96ecb7fbe": {
          "model_module": "@jupyter-widgets/controls",
          "model_name": "DescriptionStyleModel",
          "model_module_version": "1.5.0",
          "state": {
            "_model_module": "@jupyter-widgets/controls",
            "_model_module_version": "1.5.0",
            "_model_name": "DescriptionStyleModel",
            "_view_count": null,
            "_view_module": "@jupyter-widgets/base",
            "_view_module_version": "1.2.0",
            "_view_name": "StyleView",
            "description_width": ""
          }
        },
        "dcaf5051bd224db0a8a0a8d17a8cf083": {
          "model_module": "@jupyter-widgets/base",
          "model_name": "LayoutModel",
          "model_module_version": "1.2.0",
          "state": {
            "_model_module": "@jupyter-widgets/base",
            "_model_module_version": "1.2.0",
            "_model_name": "LayoutModel",
            "_view_count": null,
            "_view_module": "@jupyter-widgets/base",
            "_view_module_version": "1.2.0",
            "_view_name": "LayoutView",
            "align_content": null,
            "align_items": null,
            "align_self": null,
            "border": null,
            "bottom": null,
            "display": null,
            "flex": null,
            "flex_flow": null,
            "grid_area": null,
            "grid_auto_columns": null,
            "grid_auto_flow": null,
            "grid_auto_rows": null,
            "grid_column": null,
            "grid_gap": null,
            "grid_row": null,
            "grid_template_areas": null,
            "grid_template_columns": null,
            "grid_template_rows": null,
            "height": null,
            "justify_content": null,
            "justify_items": null,
            "left": null,
            "margin": null,
            "max_height": null,
            "max_width": null,
            "min_height": null,
            "min_width": null,
            "object_fit": null,
            "object_position": null,
            "order": null,
            "overflow": null,
            "overflow_x": null,
            "overflow_y": null,
            "padding": null,
            "right": null,
            "top": null,
            "visibility": null,
            "width": null
          }
        },
        "bbc4f8c632394f058937663ff7ca9ab1": {
          "model_module": "@jupyter-widgets/controls",
          "model_name": "ProgressStyleModel",
          "model_module_version": "1.5.0",
          "state": {
            "_model_module": "@jupyter-widgets/controls",
            "_model_module_version": "1.5.0",
            "_model_name": "ProgressStyleModel",
            "_view_count": null,
            "_view_module": "@jupyter-widgets/base",
            "_view_module_version": "1.2.0",
            "_view_name": "StyleView",
            "bar_color": null,
            "description_width": ""
          }
        },
        "ddf8f6f912ed425f97ad0a3e28920ad3": {
          "model_module": "@jupyter-widgets/base",
          "model_name": "LayoutModel",
          "model_module_version": "1.2.0",
          "state": {
            "_model_module": "@jupyter-widgets/base",
            "_model_module_version": "1.2.0",
            "_model_name": "LayoutModel",
            "_view_count": null,
            "_view_module": "@jupyter-widgets/base",
            "_view_module_version": "1.2.0",
            "_view_name": "LayoutView",
            "align_content": null,
            "align_items": null,
            "align_self": null,
            "border": null,
            "bottom": null,
            "display": null,
            "flex": null,
            "flex_flow": null,
            "grid_area": null,
            "grid_auto_columns": null,
            "grid_auto_flow": null,
            "grid_auto_rows": null,
            "grid_column": null,
            "grid_gap": null,
            "grid_row": null,
            "grid_template_areas": null,
            "grid_template_columns": null,
            "grid_template_rows": null,
            "height": null,
            "justify_content": null,
            "justify_items": null,
            "left": null,
            "margin": null,
            "max_height": null,
            "max_width": null,
            "min_height": null,
            "min_width": null,
            "object_fit": null,
            "object_position": null,
            "order": null,
            "overflow": null,
            "overflow_x": null,
            "overflow_y": null,
            "padding": null,
            "right": null,
            "top": null,
            "visibility": null,
            "width": null
          }
        },
        "6a808e2361c4445d80b552e67e090171": {
          "model_module": "@jupyter-widgets/controls",
          "model_name": "DescriptionStyleModel",
          "model_module_version": "1.5.0",
          "state": {
            "_model_module": "@jupyter-widgets/controls",
            "_model_module_version": "1.5.0",
            "_model_name": "DescriptionStyleModel",
            "_view_count": null,
            "_view_module": "@jupyter-widgets/base",
            "_view_module_version": "1.2.0",
            "_view_name": "StyleView",
            "description_width": ""
          }
        }
      }
    }
  },
  "cells": [
    {
      "cell_type": "markdown",
      "source": [
        "# Semantic Chunking for RAG"
      ],
      "metadata": {
        "id": "1hJyeANlVOdO"
      }
    },
    {
      "cell_type": "markdown",
      "source": [
        "https://medium.com/the-ai-forum/semantic-chunking-for-rag-f4733025d5f5"
      ],
      "metadata": {
        "id": "cXERWhxkVR_B"
      }
    },
    {
      "cell_type": "markdown",
      "source": [
        "Different chunk methods:\n",
        "\n",
        "* Fixed size Chunking\n",
        "* Recursive Chunking\n",
        "* Document Specific Chunking\n",
        "* Semantic Chunking\n",
        "* Agentic Chunking"
      ],
      "metadata": {
        "id": "yqwXNYwVYeaa"
      }
    },
    {
      "cell_type": "markdown",
      "source": [
        "**Semantic Chunking:** Involves taking the embeddings of every sentence in the document, comparing the similarity of all sentences with each other, and then grouping them with the most similar embeddings together. It focuses on the text's semantic and context."
      ],
      "metadata": {
        "id": "s2V0mcxgbGDj"
      }
    },
    {
      "cell_type": "markdown",
      "source": [
        "Involves taking the embeddings of every sentence in the document, comparing the similarity of all sentences with each other, and then grouping them with the most similar embeddings together. It focuses on the text's semantic and context."
      ],
      "metadata": {
        "id": "t9W2o9qXdJXt"
      }
    },
    {
      "cell_type": "markdown",
      "source": [
        "## Download data"
      ],
      "metadata": {
        "id": "-V_ZwemOTjiY"
      }
    },
    {
      "cell_type": "code",
      "source": [
        "!wget \"https://arxiv.org/pdf/1810.04805.pdf\""
      ],
      "metadata": {
        "colab": {
          "base_uri": "https://localhost:8080/"
        },
        "id": "WOQoXMnQTlO_",
        "outputId": "9bc86771-0ff4-4784-9f1f-46f3e6da706e"
      },
      "execution_count": 1,
      "outputs": [
        {
          "output_type": "stream",
          "name": "stdout",
          "text": [
            "--2025-07-29 03:31:44--  https://arxiv.org/pdf/1810.04805.pdf\n",
            "Resolving arxiv.org (arxiv.org)... 151.101.131.42, 151.101.3.42, 151.101.195.42, ...\n",
            "Connecting to arxiv.org (arxiv.org)|151.101.131.42|:443... connected.\n",
            "HTTP request sent, awaiting response... 301 Moved Permanently\n",
            "Location: http://arxiv.org/pdf/1810.04805 [following]\n",
            "--2025-07-29 03:31:44--  http://arxiv.org/pdf/1810.04805\n",
            "Connecting to arxiv.org (arxiv.org)|151.101.131.42|:80... connected.\n",
            "HTTP request sent, awaiting response... 200 OK\n",
            "Length: 775166 (757K) [application/pdf]\n",
            "Saving to: ‘1810.04805.pdf’\n",
            "\n",
            "\r1810.04805.pdf        0%[                    ]       0  --.-KB/s               \r1810.04805.pdf      100%[===================>] 757.00K  --.-KB/s    in 0.06s   \n",
            "\n",
            "2025-07-29 03:31:44 (11.9 MB/s) - ‘1810.04805.pdf’ saved [775166/775166]\n",
            "\n"
          ]
        }
      ]
    },
    {
      "cell_type": "markdown",
      "source": [
        "## Install modules"
      ],
      "metadata": {
        "id": "VPGlWzpNplRQ"
      }
    },
    {
      "cell_type": "code",
      "source": [
        "!pip install -q langchain-community pypdf fastembed langchain_groq langchain_experimental langchain-openai chromadb ragas"
      ],
      "metadata": {
        "colab": {
          "base_uri": "https://localhost:8080/"
        },
        "id": "CBl1xTdlTmdI",
        "outputId": "66d5c77f-d998-4b5b-ab02-0481deab12cf"
      },
      "execution_count": 22,
      "outputs": [
        {
          "output_type": "stream",
          "name": "stdout",
          "text": [
            "\u001b[?25l   \u001b[90m━━━━━━━━━━━━━━━━━━━━━━━━━━━━━━━━━━━━━━━━\u001b[0m \u001b[32m0.0/190.6 kB\u001b[0m \u001b[31m?\u001b[0m eta \u001b[36m-:--:--\u001b[0m\r\u001b[2K   \u001b[91m━━━━━━━━━━━━━━━━━━━━━━━━━━━━━━━━━━━━━━\u001b[0m\u001b[91m╸\u001b[0m\u001b[90m━\u001b[0m \u001b[32m184.3/190.6 kB\u001b[0m \u001b[31m6.7 MB/s\u001b[0m eta \u001b[36m0:00:01\u001b[0m\r\u001b[2K   \u001b[90m━━━━━━━━━━━━━━━━━━━━━━━━━━━━━━━━━━━━━━━━\u001b[0m \u001b[32m190.6/190.6 kB\u001b[0m \u001b[31m4.1 MB/s\u001b[0m eta \u001b[36m0:00:00\u001b[0m\n",
            "\u001b[?25h\u001b[?25l   \u001b[90m━━━━━━━━━━━━━━━━━━━━━━━━━━━━━━━━━━━━━━━━\u001b[0m \u001b[32m0.0/45.5 kB\u001b[0m \u001b[31m?\u001b[0m eta \u001b[36m-:--:--\u001b[0m\r\u001b[2K   \u001b[90m━━━━━━━━━━━━━━━━━━━━━━━━━━━━━━━━━━━━━━━━\u001b[0m \u001b[32m45.5/45.5 kB\u001b[0m \u001b[31m2.4 MB/s\u001b[0m eta \u001b[36m0:00:00\u001b[0m\n",
            "\u001b[?25h"
          ]
        }
      ]
    },
    {
      "cell_type": "code",
      "source": [
        "from langchain_community.document_loaders import PyPDFLoader\n",
        "from langchain_text_splitters import RecursiveCharacterTextSplitter"
      ],
      "metadata": {
        "id": "hwBQgum-XbrD"
      },
      "execution_count": 3,
      "outputs": []
    },
    {
      "cell_type": "code",
      "source": [
        "document_path = \"1810.04805.pdf\"\n",
        "loader = PyPDFLoader(document_path)\n",
        "documents = list(loader.lazy_load())\n",
        "\n",
        "print(len(documents))"
      ],
      "metadata": {
        "colab": {
          "base_uri": "https://localhost:8080/"
        },
        "id": "dxWUAXsAYE8x",
        "outputId": "949ce753-359c-49c6-8ed4-bf3d60004e67"
      },
      "execution_count": 4,
      "outputs": [
        {
          "output_type": "stream",
          "name": "stdout",
          "text": [
            "16\n"
          ]
        }
      ]
    },
    {
      "cell_type": "markdown",
      "source": [
        "## Native chunking (RecursiveCharacterTextSplitter)"
      ],
      "metadata": {
        "id": "0LKHfeKCZJdd"
      }
    },
    {
      "cell_type": "code",
      "source": [
        "text_splitter = RecursiveCharacterTextSplitter(\n",
        "    chunk_size=1000,\n",
        "    chunk_overlap=0,\n",
        "    length_function=len,\n",
        "    is_separator_regex=False\n",
        ")\n",
        "\n",
        "naive_chunks = text_splitter.split_documents(documents)\n",
        "\n",
        "for chunk in naive_chunks[:3]:\n",
        "    print(chunk.page_content, \"\\n\")"
      ],
      "metadata": {
        "colab": {
          "base_uri": "https://localhost:8080/"
        },
        "id": "pRT_COd2aAQN",
        "outputId": "4993c217-d915-4429-8a09-a8366f253173"
      },
      "execution_count": 5,
      "outputs": [
        {
          "output_type": "stream",
          "name": "stdout",
          "text": [
            "BERT: Pre-training of Deep Bidirectional Transformers for\n",
            "Language Understanding\n",
            "Jacob Devlin Ming-Wei Chang Kenton Lee Kristina Toutanova\n",
            "Google AI Language\n",
            "{jacobdevlin,mingweichang,kentonl,kristout}@google.com\n",
            "Abstract\n",
            "We introduce a new language representa-\n",
            "tion model called BERT, which stands for\n",
            "Bidirectional Encoder Representations from\n",
            "Transformers. Unlike recent language repre-\n",
            "sentation models (Peters et al., 2018a; Rad-\n",
            "ford et al., 2018), BERT is designed to pre-\n",
            "train deep bidirectional representations from\n",
            "unlabeled text by jointly conditioning on both\n",
            "left and right context in all layers. As a re-\n",
            "sult, the pre-trained BERT model can be ﬁne-\n",
            "tuned with just one additional output layer\n",
            "to create state-of-the-art models for a wide\n",
            "range of tasks, such as question answering and\n",
            "language inference, without substantial task-\n",
            "speciﬁc architecture modiﬁcations.\n",
            "BERT is conceptually simple and empirically\n",
            "powerful. It obtains new state-of-the-art re- \n",
            "\n",
            "sults on eleven natural language processing\n",
            "tasks, including pushing the GLUE score to\n",
            "80.5% (7.7% point absolute improvement),\n",
            "MultiNLI accuracy to 86.7% (4.6% absolute\n",
            "improvement), SQuAD v1.1 question answer-\n",
            "ing Test F1 to 93.2 (1.5 point absolute im-\n",
            "provement) and SQuAD v2.0 Test F1 to 83.1\n",
            "(5.1 point absolute improvement).\n",
            "1 Introduction\n",
            "Language model pre-training has been shown to\n",
            "be effective for improving many natural language\n",
            "processing tasks (Dai and Le, 2015; Peters et al.,\n",
            "2018a; Radford et al., 2018; Howard and Ruder,\n",
            "2018). These include sentence-level tasks such as\n",
            "natural language inference (Bowman et al., 2015;\n",
            "Williams et al., 2018) and paraphrasing (Dolan\n",
            "and Brockett, 2005), which aim to predict the re-\n",
            "lationships between sentences by analyzing them\n",
            "holistically, as well as token-level tasks such as\n",
            "named entity recognition and question answering,\n",
            "where models are required to produce ﬁne-grained\n",
            "output at the token level (Tjong Kim Sang and \n",
            "\n",
            "De Meulder, 2003; Rajpurkar et al., 2016).\n",
            "There are two existing strategies for apply-\n",
            "ing pre-trained language representations to down-\n",
            "stream tasks: feature-based and ﬁne-tuning. The\n",
            "feature-based approach, such as ELMo (Peters\n",
            "et al., 2018a), uses task-speciﬁc architectures that\n",
            "include the pre-trained representations as addi-\n",
            "tional features. The ﬁne-tuning approach, such as\n",
            "the Generative Pre-trained Transformer (OpenAI\n",
            "GPT) (Radford et al., 2018), introduces minimal\n",
            "task-speciﬁc parameters, and is trained on the\n",
            "downstream tasks by simply ﬁne-tuning all pre-\n",
            "trained parameters. The two approaches share the\n",
            "same objective function during pre-training, where\n",
            "they use unidirectional language models to learn\n",
            "general language representations.\n",
            "We argue that current techniques restrict the\n",
            "power of the pre-trained representations, espe-\n",
            "cially for the ﬁne-tuning approaches. The ma-\n",
            "jor limitation is that standard language models are\n",
            "unidirectional, and this limits the choice of archi- \n",
            "\n"
          ]
        }
      ]
    },
    {
      "cell_type": "markdown",
      "source": [
        "## Semantic Chunking"
      ],
      "metadata": {
        "id": "ngEbF6xq1FDG"
      }
    },
    {
      "cell_type": "code",
      "source": [
        "# Instantiate embedding model\n",
        "\n",
        "from langchain_community.embeddings import FastEmbedEmbeddings\n",
        "\n",
        "embed_model = FastEmbedEmbeddings()"
      ],
      "metadata": {
        "colab": {
          "base_uri": "https://localhost:8080/",
          "height": 313,
          "referenced_widgets": [
            "670a6c98557445a5b2aa64fe430fc725",
            "ffd8421d95a748f0b14d5790e2de227c",
            "046b753264414da183e1759c9c365090",
            "7404f31ce2f74a12aae3e2e06c2ecdb3",
            "c4d3015695d346858ffae8a31b258608",
            "ee9b18223ea94c43b80ebc2bc84d7b9a",
            "f225b7a6b4c44310b0d033a2f516d79d",
            "7e945aca9bf545e48e14cadd16a3996f",
            "c417202dff804329a259e175a6f08634",
            "b60392e44bb64148a189599ab0136aad",
            "a8dfe80c249e42a59d75ce6484d7b64b",
            "2fb48ad5184d4985a6c15c97f97306a8",
            "5bf9545df58a410896ffd02a6d44024d",
            "7c5bd216771e43d0b7d1f385998ffc4b",
            "d1c3345ea2e044b1b85c91b8e1326d77",
            "328c0d8221064bc7a90d9c5607f32d4c",
            "9a25403d3f4f4560a6bad8384a3cd2b3",
            "6d378b4ff3d44c3b848110b35d62ee93",
            "544a7c185b8b4cb1acf67aa71043e1e7",
            "6382be2919c64dff885d6195788b9dfe",
            "309ba125c6984f6ebc774a70ff044df8",
            "03eb6c2fc2eb487486890d6ebb594af8",
            "b2433d9109d24634a8d1a60c9fa717bf",
            "66b5f9083d204832b2afef8500b673e3",
            "dace860ebd0149feb3b004d7570eb2a8",
            "815cc24145ea414680e6ee6e173cbb48",
            "a508d89dbcdd471fa7da3993241ae2dd",
            "3132b949cce94cceb70534d9c2d5996a",
            "c01aab6f3dee482398b012c5071409ef",
            "37731edab690415b8cd3b3c021ebda00",
            "cf1da0ebdff04bd781308b1b723fbc69",
            "f1b2baa960894969b526bb37f4846910",
            "4136fa4c66884ddc910c8b9e2d0962ef",
            "719caebb5aee4d8b988485796f173995",
            "49a04c564112448cb060c837e8138423",
            "8194663ac45e46c1af3d3c9702c6c0fe",
            "6e2c8d1062404705aeb12fec9ace70ae",
            "bd2106da6ec04df9be8ed4662ac10ee4",
            "269a6c28b6d34503a257588407da6c8d",
            "5dcd856a4b7240c7bc7b9d6793e00e1d",
            "25493e1c616148b698bb5b3c869d7992",
            "15087d8ab86749eba66e893f06c715d4",
            "098442e33a5040369b7181dc4fa95b80",
            "8a3d17e079564069b1a8f9ffde986b14",
            "ba6d217d28fa45229d2f1cf31d8a640f",
            "123655dc689b466a84ef5f7482e76562",
            "4e8db39afa554cc1805c800bc94f7497",
            "0a966e1310c84561ba331478b6de690a",
            "f222681389524b6ca43f5961967880bf",
            "ffc89389ca4f493c97f04c9aa035f7bc",
            "4b54047061ba4e73bafc11cd19ffe6ac",
            "b5cf65012b6f42edad713fc9447f5462",
            "1a9f0eeffd1843c98185bd85d27e1cce",
            "73e261ec18e2437087d1bd738cd97f17",
            "7769a109dc954fe29432fe6bada34d18",
            "aae1fbf3dd6f4a518a1e4aad61158f54",
            "12f957caadda47fb92db361a121be414",
            "31c42e3e83964b7eb2e609da70b575ad",
            "a4159e60d19447ea91965b2270393089",
            "587bced8cc1c47228c6b40f473c147d7",
            "452ea488aa5a45fbb3689480648fdf5d",
            "88e0a9c42cd042c78f112ccf85c6c414",
            "42800e4a633a4856ac3e9700dca83dca",
            "8190f02cb1e0435d85e29023785af09a",
            "7b00729f022b478c961fad5df0cabab3",
            "e377960abf5247d4babfef532b19916b"
          ]
        },
        "id": "sCMQPQkIdM5r",
        "outputId": "e3fdee72-edc3-426c-83ac-d970a862d781"
      },
      "execution_count": 6,
      "outputs": [
        {
          "output_type": "stream",
          "name": "stderr",
          "text": [
            "/usr/local/lib/python3.11/dist-packages/huggingface_hub/utils/_auth.py:94: UserWarning: \n",
            "The secret `HF_TOKEN` does not exist in your Colab secrets.\n",
            "To authenticate with the Hugging Face Hub, create a token in your settings tab (https://huggingface.co/settings/tokens), set it as secret in your Google Colab and restart your session.\n",
            "You will be able to reuse this secret in all of your notebooks.\n",
            "Please note that authentication is recommended but still optional to access public models or datasets.\n",
            "  warnings.warn(\n"
          ]
        },
        {
          "output_type": "display_data",
          "data": {
            "text/plain": [
              "Fetching 5 files:   0%|          | 0/5 [00:00<?, ?it/s]"
            ],
            "application/vnd.jupyter.widget-view+json": {
              "version_major": 2,
              "version_minor": 0,
              "model_id": "670a6c98557445a5b2aa64fe430fc725"
            }
          },
          "metadata": {}
        },
        {
          "output_type": "display_data",
          "data": {
            "text/plain": [
              "config.json:   0%|          | 0.00/706 [00:00<?, ?B/s]"
            ],
            "application/vnd.jupyter.widget-view+json": {
              "version_major": 2,
              "version_minor": 0,
              "model_id": "2fb48ad5184d4985a6c15c97f97306a8"
            }
          },
          "metadata": {}
        },
        {
          "output_type": "display_data",
          "data": {
            "text/plain": [
              "tokenizer_config.json: 0.00B [00:00, ?B/s]"
            ],
            "application/vnd.jupyter.widget-view+json": {
              "version_major": 2,
              "version_minor": 0,
              "model_id": "b2433d9109d24634a8d1a60c9fa717bf"
            }
          },
          "metadata": {}
        },
        {
          "output_type": "display_data",
          "data": {
            "text/plain": [
              "special_tokens_map.json:   0%|          | 0.00/695 [00:00<?, ?B/s]"
            ],
            "application/vnd.jupyter.widget-view+json": {
              "version_major": 2,
              "version_minor": 0,
              "model_id": "719caebb5aee4d8b988485796f173995"
            }
          },
          "metadata": {}
        },
        {
          "output_type": "display_data",
          "data": {
            "text/plain": [
              "tokenizer.json: 0.00B [00:00, ?B/s]"
            ],
            "application/vnd.jupyter.widget-view+json": {
              "version_major": 2,
              "version_minor": 0,
              "model_id": "ba6d217d28fa45229d2f1cf31d8a640f"
            }
          },
          "metadata": {}
        },
        {
          "output_type": "display_data",
          "data": {
            "text/plain": [
              "model_optimized.onnx:   0%|          | 0.00/66.5M [00:00<?, ?B/s]"
            ],
            "application/vnd.jupyter.widget-view+json": {
              "version_major": 2,
              "version_minor": 0,
              "model_id": "aae1fbf3dd6f4a518a1e4aad61158f54"
            }
          },
          "metadata": {}
        }
      ]
    },
    {
      "cell_type": "code",
      "source": [
        "%%time\n",
        "\n",
        "from langchain_experimental.text_splitter import SemanticChunker\n",
        "\n",
        "semantic_chunker = SemanticChunker(embed_model, breakpoint_threshold_type=\"percentile\")\n",
        "\n",
        "semantic_chunks = semantic_chunker.create_documents([doc.page_content for doc in documents])"
      ],
      "metadata": {
        "colab": {
          "base_uri": "https://localhost:8080/"
        },
        "id": "m4cStHOKdZrs",
        "outputId": "e9c423dc-26be-4465-bc9f-b11942f421fd"
      },
      "execution_count": 7,
      "outputs": [
        {
          "output_type": "stream",
          "name": "stdout",
          "text": [
            "CPU times: user 2min 11s, sys: 465 ms, total: 2min 12s\n",
            "Wall time: 2min 13s\n"
          ]
        }
      ]
    },
    {
      "cell_type": "code",
      "source": [
        "for semantic_chunk in semantic_chunks:\n",
        "    page_content: str = semantic_chunk.page_content\n",
        "    if \"Effect of Pre-training Tasks\" in page_content:\n",
        "        print(page_content)\n",
        "        print(len(page_content))\n",
        "        break"
      ],
      "metadata": {
        "colab": {
          "base_uri": "https://localhost:8080/"
        },
        "id": "tbnaa8m4lGDX",
        "outputId": "9920363d-844b-4cf4-a506-780442e5c25e"
      },
      "execution_count": 8,
      "outputs": [
        {
          "output_type": "stream",
          "name": "stdout",
          "text": [
            "Dev Set\n",
            "Tasks MNLI-m QNLI MRPC SST-2 SQuAD\n",
            "(Acc) (Acc) (Acc) (Acc) (F1)\n",
            "BERTBASE 84.4 88.4 86.7 92.7 88.5\n",
            "No NSP 83.9 84.9 86.5 92.6 87.9\n",
            "LTR & No NSP 82.1 84.3 77.5 92.1 77.8\n",
            "+ BiLSTM 82.1 84.1 75.7 91.6 84.9\n",
            "Table 5: Ablation over the pre-training tasks using the\n",
            "BERTBASE architecture. “No NSP” is trained without\n",
            "the next sentence prediction task. “LTR & No NSP” is\n",
            "trained as a left-to-right LM without the next sentence\n",
            "prediction, like OpenAI GPT. “+ BiLSTM” adds a ran-\n",
            "domly initialized BiLSTM on top of the “LTR + No\n",
            "NSP” model during ﬁne-tuning. ablation studies can be found in Appendix C. 5.1 Effect of Pre-training Tasks\n",
            "We demonstrate the importance of the deep bidi-\n",
            "rectionality of BERT by evaluating two pre-\n",
            "training objectives using exactly the same pre-\n",
            "training data, ﬁne-tuning scheme, and hyperpa-\n",
            "rameters as BERTBASE :\n",
            "No NSP: A bidirectional model which is trained\n",
            "using the “masked LM” (MLM) but without the\n",
            "“next sentence prediction” (NSP) task. LTR & No NSP: A left-context-only model which\n",
            "is trained using a standard Left-to-Right (LTR)\n",
            "LM, rather than an MLM.\n",
            "1092\n"
          ]
        }
      ]
    },
    {
      "cell_type": "markdown",
      "source": [
        "## RAG for Semantic Chunking Strategy"
      ],
      "metadata": {
        "id": "SgwVcMzn4Js4"
      }
    },
    {
      "cell_type": "code",
      "source": [
        "# Instantiate vector store\n",
        "\n",
        "from langchain_community.vectorstores import Chroma\n",
        "\n",
        "semantic_vector_store = Chroma.from_documents(semantic_chunks, embedding=embed_model)"
      ],
      "metadata": {
        "id": "MfgDLGqZnrRH"
      },
      "execution_count": 9,
      "outputs": []
    },
    {
      "cell_type": "code",
      "source": [
        "semantic_retriever = semantic_vector_store.as_retriever(search_kwargs={\"k\": 1})\n",
        "\n",
        "query: str = \"Describe the Feature-based Approach with BERT?\"\n",
        "\n",
        "semantic_retriever.invoke(query)"
      ],
      "metadata": {
        "colab": {
          "base_uri": "https://localhost:8080/"
        },
        "id": "S6ucdzfUphFu",
        "outputId": "e7ec8ff0-a30e-4bed-e772-0c2b9b95260f"
      },
      "execution_count": 10,
      "outputs": [
        {
          "output_type": "execute_result",
          "data": {
            "text/plain": [
              "[Document(metadata={}, page_content='BERT: Pre-training of Deep Bidirectional Transformers for\\nLanguage Understanding\\nJacob Devlin Ming-Wei Chang Kenton Lee Kristina Toutanova\\nGoogle AI Language\\n{jacobdevlin,mingweichang,kentonl,kristout}@google.com\\nAbstract\\nWe introduce a new language representa-\\ntion model called BERT, which stands for\\nBidirectional Encoder Representations from\\nTransformers. Unlike recent language repre-\\nsentation models (Peters et al., 2018a; Rad-\\nford et al., 2018), BERT is designed to pre-\\ntrain deep bidirectional representations from\\nunlabeled text by jointly conditioning on both\\nleft and right context in all layers. As a re-\\nsult, the pre-trained BERT model can be ﬁne-\\ntuned with just one additional output layer\\nto create state-of-the-art models for a wide\\nrange of tasks, such as question answering and\\nlanguage inference, without substantial task-\\nspeciﬁc architecture modiﬁcations. BERT is conceptually simple and empirically\\npowerful. It obtains new state-of-the-art re-\\nsults on eleven natural language processing\\ntasks, including pushing the GLUE score to\\n80.5% (7.7% point absolute improvement),\\nMultiNLI accuracy to 86.7% (4.6% absolute\\nimprovement), SQuAD v1.1 question answer-\\ning Test F1 to 93.2 (1.5 point absolute im-\\nprovement) and SQuAD v2.0 Test F1 to 83.1\\n(5.1 point absolute improvement). 1 Introduction\\nLanguage model pre-training has been shown to\\nbe effective for improving many natural language\\nprocessing tasks (Dai and Le, 2015; Peters et al.,\\n2018a; Radford et al., 2018; Howard and Ruder,\\n2018). These include sentence-level tasks such as\\nnatural language inference (Bowman et al., 2015;\\nWilliams et al., 2018) and paraphrasing (Dolan\\nand Brockett, 2005), which aim to predict the re-\\nlationships between sentences by analyzing them\\nholistically, as well as token-level tasks such as\\nnamed entity recognition and question answering,\\nwhere models are required to produce ﬁne-grained\\noutput at the token level (Tjong Kim Sang and\\nDe Meulder, 2003; Rajpurkar et al., 2016). There are two existing strategies for apply-\\ning pre-trained language representations to down-\\nstream tasks: feature-based and ﬁne-tuning. The\\nfeature-based approach, such as ELMo (Peters\\net al., 2018a), uses task-speciﬁc architectures that\\ninclude the pre-trained representations as addi-\\ntional features. The ﬁne-tuning approach, such as\\nthe Generative Pre-trained Transformer (OpenAI\\nGPT) (Radford et al., 2018), introduces minimal\\ntask-speciﬁc parameters, and is trained on the\\ndownstream tasks by simply ﬁne-tuning all pre-\\ntrained parameters. The two approaches share the\\nsame objective function during pre-training, where\\nthey use unidirectional language models to learn\\ngeneral language representations. We argue that current techniques restrict the\\npower of the pre-trained representations, espe-\\ncially for the ﬁne-tuning approaches. The ma-\\njor limitation is that standard language models are\\nunidirectional, and this limits the choice of archi-\\ntectures that can be used during pre-training. For\\nexample, in OpenAI GPT, the authors use a left-to-\\nright architecture, where every token can only at-\\ntend to previous tokens in the self-attention layers\\nof the Transformer (Vaswani et al., 2017).')]"
            ]
          },
          "metadata": {},
          "execution_count": 10
        }
      ]
    },
    {
      "cell_type": "code",
      "source": [
        "from google.colab import userdata\n",
        "\n",
        "groq_api_key = userdata.get('GROQ_API_KEY')"
      ],
      "metadata": {
        "id": "NJdpDzTJegVA"
      },
      "execution_count": 11,
      "outputs": []
    },
    {
      "cell_type": "code",
      "source": [
        "from langchain_core.prompts import ChatPromptTemplate\n",
        "from langchain_groq import ChatGroq\n",
        "from langchain_core.output_parsers import StrOutputParser\n",
        "\n",
        "template: str = \"\"\"\n",
        "Use the following context to answer the user's query. If you cannot answer, please respond with 'I don't know'.\n",
        "\n",
        "User's Query:\n",
        "{question}\n",
        "\n",
        "Context:\n",
        "{context}\n",
        "\"\"\"\n",
        "\n",
        "prompt = ChatPromptTemplate.from_template(template)\n",
        "\n",
        "llm = ChatGroq(\n",
        "    temperature=0,\n",
        "    model=\"llama-3.1-8b-instant\",\n",
        "    api_key=groq_api_key\n",
        ")"
      ],
      "metadata": {
        "id": "X9hkMsWkrg9U"
      },
      "execution_count": 12,
      "outputs": []
    },
    {
      "cell_type": "code",
      "source": [
        "# Pipeline chain for Semantic Chunking\n",
        "\n",
        "from langchain_core.runnables import RunnablePassthrough\n",
        "from operator import itemgetter\n",
        "\n",
        "semantic_rag_chain = (\n",
        "    {\"context\": semantic_retriever, \"question\": RunnablePassthrough()}\n",
        "    | prompt\n",
        "    | llm\n",
        "    | StrOutputParser()\n",
        ")\n",
        "\n",
        "queries: list[str] = [query, \"What is SQuADv2.0?\", \"What is the purpose of Ablation Studies?\"]\n",
        "\n",
        "semantic_responses: list[str] = semantic_rag_chain.batch(queries)"
      ],
      "metadata": {
        "id": "ZTP-xQX6sufC"
      },
      "execution_count": 13,
      "outputs": []
    },
    {
      "cell_type": "code",
      "source": [
        "for question, answer in zip(queries, semantic_responses):\n",
        "    print(f\"Q: {question}\", answer, sep=\"\\n\", end=f\"\\n\\n{'='*100}\\n\\n\")"
      ],
      "metadata": {
        "colab": {
          "base_uri": "https://localhost:8080/"
        },
        "id": "b92Tcs9QyZlI",
        "outputId": "eade821b-59a6-4469-8db0-bfe9eedd0392"
      },
      "execution_count": 14,
      "outputs": [
        {
          "output_type": "stream",
          "name": "stdout",
          "text": [
            "Q: Describe the Feature-based Approach with BERT?\n",
            "The Feature-based Approach with BERT refers to a strategy for applying pre-trained language representations to downstream tasks. In this approach, task-specific architectures are designed to include the pre-trained BERT representations as additional features.\n",
            "\n",
            "This means that the pre-trained BERT model is used to generate contextualized word embeddings, which are then fed into a separate task-specific model to perform the downstream task. The task-specific model is trained on the downstream task, but it relies on the pre-trained BERT representations to capture the contextual relationships between words.\n",
            "\n",
            "The Feature-based Approach with BERT is often used in conjunction with other pre-trained language models, such as ELMo (Peters et al., 2018a). This approach allows for the use of pre-trained representations in a wide range of tasks, including question answering, language inference, and named entity recognition.\n",
            "\n",
            "However, the Feature-based Approach with BERT has some limitations, such as the need for task-specific architectures and the potential for overfitting. In contrast, the fine-tuning approach, such as the Generative Pre-trained Transformer (OpenAI GPT) (Radford et al., 2018), introduces minimal task-specific parameters and is trained on the downstream tasks by simply fine-tuning all pre-trained parameters.\n",
            "\n",
            "====================================================================================================\n",
            "\n",
            "Q: What is SQuADv2.0?\n",
            "SQuADv2.0 is an extension of the SQuAD 1.1 problem definition, which allows for the possibility that no short answer exists in the provided paragraph. This makes the problem more realistic.\n",
            "\n",
            "====================================================================================================\n",
            "\n",
            "Q: What is the purpose of Ablation Studies?\n",
            "The purpose of Ablation Studies in this context is to evaluate the effect of different factors on the performance of a model, specifically BERT in this case. \n",
            "\n",
            "In the given context, Ablation Studies are used to answer questions such as:\n",
            "\n",
            "1. Does BERT really need a large amount of pre-training to achieve high fine-tuning accuracy?\n",
            "2. Does MLM pre-training converge slower than LTR pre-training?\n",
            "\n",
            "These studies involve removing or modifying certain components of the model or training process to see how it affects the model's performance. In this case, the studies involve:\n",
            "\n",
            "- Evaluating the effect of the number of training steps on the model's performance.\n",
            "- Comparing the performance of different masking strategies during pre-training.\n",
            "\n",
            "The goal of Ablation Studies is to gain a deeper understanding of how different factors contribute to the model's performance and to identify areas for improvement.\n",
            "\n",
            "====================================================================================================\n",
            "\n"
          ]
        }
      ]
    },
    {
      "cell_type": "markdown",
      "source": [
        "## RAG for Naive Chunking Strategy"
      ],
      "metadata": {
        "id": "W0_E-95c07gk"
      }
    },
    {
      "cell_type": "code",
      "source": [
        "naive_vector_store = Chroma.from_documents(naive_chunks, embedding=embed_model)\n",
        "\n",
        "naive_retriever = naive_vector_store.as_retriever(search_kwargs={\"k\": 1})\n",
        "\n",
        "naive_rag_chain = (\n",
        "    {\"context\": naive_retriever, \"question\": RunnablePassthrough()}\n",
        "    | prompt\n",
        "    | llm\n",
        "    | StrOutputParser()\n",
        ")"
      ],
      "metadata": {
        "id": "hb66YVUe6X-T"
      },
      "execution_count": 15,
      "outputs": []
    },
    {
      "cell_type": "code",
      "source": [
        "naive_responses = naive_rag_chain.batch(queries)\n",
        "\n",
        "for question, answer in zip(queries, naive_responses):\n",
        "    print(f\"Q: {question}\", answer, sep=\"\\n\", end=f\"\\n\\n{'='*100}\\n\\n\")"
      ],
      "metadata": {
        "colab": {
          "base_uri": "https://localhost:8080/"
        },
        "id": "vG0PVz6aIUGH",
        "outputId": "c3758529-2c74-46a3-c379-c0b8f19deaec"
      },
      "execution_count": 16,
      "outputs": [
        {
          "output_type": "stream",
          "name": "stdout",
          "text": [
            "Q: Describe the Feature-based Approach with BERT?\n",
            "The Feature-based Approach with BERT involves extracting contextual embeddings from one or more layers of the pre-trained BERT model without fine-tuning any of its parameters. These extracted embeddings are then used as input to a randomly initialized two-layer 768-dimensional Bidirectional Long Short-Term Memory (BiLSTM) network before the classification layer. This approach leverages the pre-trained knowledge of BERT to improve the performance of the model on a specific task.\n",
            "\n",
            "====================================================================================================\n",
            "\n",
            "Q: What is SQuADv2.0?\n",
            "SQuADv2.0 is an extension of the SQuAD 1.1 problem definition, which allows for the possibility that no short answer exists in the provided paragraph. This makes the problem more realistic.\n",
            "\n",
            "====================================================================================================\n",
            "\n",
            "Q: What is the purpose of Ablation Studies?\n",
            "The purpose of Ablation Studies in this context is to evaluate the effect of different factors on the performance of a model, specifically BERT in this case. \n",
            "\n",
            "In the given context, Ablation Studies are used to answer questions such as:\n",
            "\n",
            "1. Does BERT really need a large amount of pre-training to achieve high fine-tuning accuracy?\n",
            "2. Does MLM pre-training converge slower than LTR pre-training?\n",
            "\n",
            "These studies involve removing or modifying certain components of the model or training process to see how it affects the model's performance. In this case, the studies involve:\n",
            "\n",
            "- Evaluating the effect of the number of training steps on the model's performance.\n",
            "- Comparing the performance of different masking strategies during pre-training.\n",
            "\n",
            "The goal of Ablation Studies is to gain a deeper understanding of how different factors contribute to the model's performance and to identify areas for improvement.\n",
            "\n",
            "====================================================================================================\n",
            "\n"
          ]
        }
      ]
    },
    {
      "cell_type": "markdown",
      "source": [
        "## Ragas Assessment Comparison for Semantic Chunker"
      ],
      "metadata": {
        "id": "SbUYQpra8DTf"
      }
    },
    {
      "cell_type": "code",
      "source": [
        "synthetic_data_splitter = RecursiveCharacterTextSplitter(\n",
        "    chunk_size=1000,\n",
        "    chunk_overlap=0,\n",
        "    length_function=len,\n",
        "    is_separator_regex=False\n",
        ")\n",
        "\n",
        "synthetic_data_chunks = synthetic_data_splitter.create_documents(\n",
        "    [d.page_content for d in documents]\n",
        ")\n",
        "\n",
        "print(len(synthetic_data_chunks))"
      ],
      "metadata": {
        "colab": {
          "base_uri": "https://localhost:8080/"
        },
        "id": "P1WrIvEDQY0h",
        "outputId": "76d0b585-3913-40a9-b116-b12743c2b505"
      },
      "execution_count": 17,
      "outputs": [
        {
          "output_type": "stream",
          "name": "stdout",
          "text": [
            "72\n"
          ]
        }
      ]
    },
    {
      "cell_type": "markdown",
      "source": [
        "Create dataset containing:\n",
        "* Questions\n",
        "* Contexts\n",
        "* GroundTruths\n",
        "* Answers"
      ],
      "metadata": {
        "id": "SO7v6rS6ST_4"
      }
    },
    {
      "cell_type": "code",
      "source": [
        "question_template: str = \"\"\"\n",
        "You are a teacher preparing a test. Please create a question that can be answered by referencing the following context.\n",
        "\n",
        "Context:\n",
        "{context}\n",
        "\"\"\"\n",
        "\n",
        "question_prompt = ChatPromptTemplate.from_template(question_template)\n",
        "\n",
        "ground_truth_template = \"\"\"\n",
        "Use the following context and question to answer this question using *only* the provided context.\n",
        "\n",
        "Question:\n",
        "{question}\n",
        "\n",
        "Context:\n",
        "{context}\n",
        "\"\"\"\n",
        "\n",
        "question_chain = question_prompt | llm | StrOutputParser()\n",
        "\n",
        "ground_truth_prompt = ChatPromptTemplate.from_template(ground_truth_template)\n",
        "ground_truth_chain = ground_truth_prompt | llm | StrOutputParser()\n",
        "\n",
        "questions, contexts, ground_truths_semantic, answers = [], [], [], []\n",
        "\n",
        "for chunk in synthetic_data_chunks[10:20]:\n",
        "  questions.append(question_chain.invoke({\"context\" : chunk.page_content}))\n",
        "  contexts.append([chunk.page_content])\n",
        "  ground_truths_semantic.append(\n",
        "      ground_truth_chain.invoke({\"question\" : questions[-1], \"context\" : contexts[-1]})\n",
        "  )\n",
        "  answers.append(semantic_rag_chain.invoke(questions[-1]))"
      ],
      "metadata": {
        "id": "-dNB8_KVSckR"
      },
      "execution_count": 19,
      "outputs": []
    },
    {
      "cell_type": "code",
      "source": [
        "# Format the content generated into HuggingFace Dataset Format\n",
        "\n",
        "from datasets import load_dataset, Dataset\n",
        "\n",
        "qagc_list = []\n",
        "\n",
        "for question, answer, context, ground_truth in zip(questions, answers, contexts, ground_truths_semantic):\n",
        "    qagc_list.append({\n",
        "        \"question\": question,\n",
        "        \"answer\": answer,\n",
        "        \"retrieved_contexts\": context,\n",
        "        \"ground_truth\": ground_truth\n",
        "     })\n",
        "\n",
        "eval_dataset = Dataset.from_list(qagc_list)\n",
        "eval_dataset"
      ],
      "metadata": {
        "colab": {
          "base_uri": "https://localhost:8080/"
        },
        "id": "ta8eaRpZUqCP",
        "outputId": "78d67ae1-ca76-45e0-d477-5ce1d7a3fe59"
      },
      "execution_count": 24,
      "outputs": [
        {
          "output_type": "execute_result",
          "data": {
            "text/plain": [
              "Dataset({\n",
              "    features: ['question', 'answer', 'retrieved_contexts', 'ground_truth'],\n",
              "    num_rows: 10\n",
              "})"
            ]
          },
          "metadata": {},
          "execution_count": 24
        }
      ]
    },
    {
      "cell_type": "markdown",
      "source": [
        "![image.png](data:image/png;base64,iVBORw0KGgoAAAANSUhEUgAAA1MAAAFqCAIAAABwMJeHAAAgAElEQVR4AeydeUxUV///h5kwW1gDKgFb49a4NdrWtLam9dHU9mlqrU9rl9inbZ62T1MBAwNkhiWsQZZQxIhoQDRotS7FoEhcILJl2AKCYY1sYQ0wQ5gtM3fmMnfujy+f33NyO1qL+8B87h+TM3fOPedzXufeO+/7Oed8Lo/FDQkgASSABJAAEkACSMA5CPCco5nYSiSABJAAEkACSAAJIAEWlR+eBEgACSABJIAEkAAScBYCqPycpaexnUgACSABJIAEkAASQOWH5wASQAJIAAkgASSABJyFACo/Z+lpbCcSQAJIAAkgASSABFD54TmABJAAEkACSAAJIAFnIYDKz1l6GtuJBJAAEkACSAAJIAFUfngOIAEkgASQABJAAkjAWQig8nOWnsZ2IgEkgASQABJAAkgAlR+eA0gACSABJIAEkAAScBYCqPycpaexnUgACSABJIAEkAASQOWH5wASQAJIAAkgASSABJyFACo/Z+lpbCcSQAJIAAkgASSABFD54TmABJAAEkACSAAJIAFnIYDKz1l6GtuJBJAAEkACSAAJIAFUfngOIAEkgASQABJAAkjAWQig8nOWnsZ2IgEkgASQABJAAkgAlR+eA0gACSABJIAEkAAScBYCqPycpaexnUgACSABJIAEkAASQOWH5wASQAJIAAkgASSABJyFACo/Z+lpbCcSQAJIAAkgASSABFD54TmABJAAEkACSAAJIAFnIYDKz1l6GtuJBJAAEkACSAAJIAFUfngOIAEkgASQABJAAkjAWQig8nOWnsZ2IgEkgASQABJAAkgAlR+eA0gACSABJIAEkAAScBYCqPycpaexnUgACSABJIAEkAASQOWH5wASQAJIAAkgASSABJyFACo/Z+lpbCcSQAJIAAkgASSABFD54TmABJAAEkACSAAJIAFnIYDKz1l6GtuJBJAAEkACSAAJIAFUfngOIAEkgASQABJAAkjAWQig8nOWnsZ2IgEkgASQABJAAkgAlR+eA0gACSABJIAEkAAScBYCqPycpaexnUgACSABJIAEkAASQOWH5wASQAJIAAkgASSABJyFACo/Z+lpbCcSQAJIAAkgASSABFD54TmABJAAEkACSAAJIAFnIYDKz1l6GtuJBJAAEkACSAAJIAFUfngOIAEkgASQABJAAkjAWQig8nOWnsZ2IgEkgASQABJAAkgAlR+eA0gACSABJIAEkAAScBYCqPycpaexnUgACSABJIAEkAASQOWH5wASQAJIAAkgASSABJyFACo/Z+lpbCcSQAJIAAkgASSABFD54TmABJAAEkACSAAJIAFnIYDKz1l6GtuJBJAAEkACSAAJIAFUfngOIAEkgASQABJAAkjAWQig8nOWnsZ2IgEkgASQABJAAkgAlR+eA0gACSABJIAEkAAScBYCqPycpaexnfOdgM1mgyaQxItqkW1249b+QJMg2/2ZuQc+tzTDME9iz5Mf+4xa+kDyz6guLBYJIIGFQQCV38LoR2zFwiRgJ5us01aaph9DhZBDHg+TddoKB1osFlLU/bZZLBbIRtM0RVF2OcnXB9rAMIx12sowzAN/fYydXPPo2c06bSU2cBMPL5ymabPZ/KjHWiwWmqaZ2W3udT3cEpZlSVEkJ+yBikDdkp8wgQSQABJ4IAFUfg/EgjuRwIshQP7a7RJca7g/cfeTNKgorjeIHELy3J9gGMZisVAUZTabaZomGSoqKg4dOlRfX2+xWEwmE1d/QLEkJ0nYbDaiRR6ifhiGAU3GFXxzMZVUdH+CVG33E9n/EHvIIWAY+cqyLLc5xEIuYbvMNE0Tucwlxs3GTZMyuTtJmvxKEuSnByb+yrAHZsadSAAJOBsBVH7O1uPYXkckAP/ooNhADIHHCPYTi4lj7H4FAMrG7i8ffITcgU5SFDcBQoerVFiWtU5bzWazyWQKDQ2VSqVeXl4bNmyoqqri6hhudSAczWazxWIB793c1ZLdsdxiuXbOPW2z2WiatsxuICsJYaL8SENIsUSJQmY7eqQ5BD7XzgfyJ3KTHELqIgnIA3WBwfCT2WzW6/UURZGz4oH9SH4FrcnV0KQKTCABJIAEuARQ+XFpYBoJvGACJs5G5AIoDIvFolKp+vv77fYTi/V6/ejoaFtbW21trVKpvHv37vDwsFar5ebnpsmB4NPSaDR9fX137969fft2Q0NDb2/vxMTE2NjY1q1bXV1dvby8/Pz8amtruSVAmmVZi8UyPj7e09NTX1/f1NTU1tbW1dVFpBJXsoDQIVVbLJapqan+/v62trbKysrGxsaenp7R0VGS4TESarV6cHDw7t27tbW1jY2N/f39BoPBYrHY2XO/8mNZVqPRDA0NtbS0VFdX37lzZ2BgwGAwgPwih3MJcM3j8m9oaOjs7JyYmDCZTH+Vn3ssp9v/v1fVYDCo1WqVSgXGm81mLkbusY2cjfQ4NwOmkQASQAJcAqj8uDQwjQReMAGj0fjjjz++8cYb27Zt2759+969e2GA9ezZs++9996GDRtWr169ZcuW69evg1sOVJd12lpSUvLRRx+tX7/e29v7pZdeWjS7bdq0ae/evfX19WT09n4VwjCMVqu9cOHCRx99tHTpUh8fHzc3t+Wz265du2QymVgsFggE7u7uX331FUVR4NIjmBiGuX379o8//rhhwwYfHx+JROLh4bFo0aIVK1bs3r376tWrkJNbL8ycYxjGaDReuHBhz549q1at8p3dfHx8Fi1atHr16pCQkJaWFtJGUt3DE+Pj4xkZGW+++eZLL70kEol8fHwWL168bNmyLVu2xMTEDA4OgoeMFAJWsSxrMBhomj579uz777+/evVqDw+PJbObj4/P5s2bAwMD79y5A7rQbDbbtQXYVlVVffnll2vWrFmyZMni2c3b2/uNN97Yv39/e3s7TdMmk4nMgwQDDLObTCbbunXr5s2b33333U8++USr1RqNxnPnzm3btm3lypUBAQGvvfYadDfx5xkMBoZhOjo6YmJiNm3aBL3m4+OzdOnSVatWffXVV5WVlSQzy7Kk90nDMYEEkIAzE0Dl58y9j213OAJqtfrjjz92dXV1cXHh8/mrVq3S6XSJiYlubm48Hs/V1VUgEEil0ry8PJiNZzQai4uL3333XbFYzOfzXVxceLObWCwWCoV8Pp/H43l7ex89ehQUJHFcwQCrddra3d392b8+EwgEcCCPxxOJRC6zm6urK+x0cXF5//337969C7zI8oXy8vIPPvhAKBS6uroSAwQCAZ/PhwK9vb2joqJ0Oh1xsNlsNhhWHhwc3Ldvn0QigSqgaSKRSCwWu7u783g8Dw+P+Ph4rVY7l06yTltbW1vfe+89Ho8HxkOxIpFIKBQCuldeeeXKlSt6vZ4rhmw2m16vr6ure//990UiEVguFArFYjFpPp/P9/T0zM7OBunGVX4sy3Z2dn777bcCgUAoFLq4uEgkEkKe2JCYmDgyMgK+VdIc67R1fHz8k08+AQt5PN7LL788PDwcFxcHpYlEIoFA4ObmdvLkSaPRSA4fGxs7ePDgokWLeDyeQCBwdXUVzm5gsIuLi1Qq/e6777q6urjj0aReTCABJODkBFD5OfkJgM13LAIDAwM7d+50dXUViUQSiWTt2rW5ubkeHh4ikQj+5sVi8eLFi2/cuAG+uoMHD/r6+rq5ufH5fFfOxlVyQqFQKpXm5uaaTCbuiKHJZBoeHn7//fdBaYFqBIkJeoLH44nFYh6Pt23btpGREYPBALIJZFx2dvYrr7wCqkUikYhmN7BcJBIR2eTr65uVlcWt12azqVSqf/7zn56enlKp1M3NzcXFBfILBALQndAUNze31NTUufRQQ0PD2rVrQfaB3iLqk7TC3d3dy8uruLiYZVmz2QzF6nS6CxcurFq1CvKDYib0SCF8Pl8qlcbGxtqtrW5oaHjrrbdAWYJshdrBElDewOSjjz6CEXDSHJqmJyYm9uzZI5VKgcDKlSvP/37e29tbKpUCEPBc3rhxgxw1PDz82b8+E89u0DSohdQrEAhA+37++eejo6Po8CPoMIEEkAAQQOWHZwIScCACw8PDH3zwAbjNeDyeVCoF2SeVSkGE8Xi85cuXd3Z2WqetSqXS399fKpWCKAQdEBAQsGbNmg0bNnh6eoIigc9Nmzap1Wo7BZaVlSUWiyUSCUiN5cuXR0ZGXr9+PS8v74033iBiYtGiRRcvXoRALSD72tvbYUQV9CKIjyVLlmzcuHH58uUgJeFwkUi0ZMmSvr4+7gy/rKwsolcEAoFEInnjjTe2b9++adOmJUuWEB/Y8uXLq6urH9I9xKf19ddfgyWC2W3RokWvvvrqP/7xjw0bNri7uwM6FxeXjz76aGJiAkK0gOevp6dn9erV4HEEVyv428DnB4LMw8MDCPv5+d24cYPr89u8eTPYTxoLvQDaEUbJeTwetGjXrl1Go5GMwzIMMzY29uGHH4Kflcfjubm5gScP+pTH4/H5/BUrVrS2tgIEs9n83XffEdkHlS5duvSj2W3p0qVwCBQlkUjS09MfQg9/QgJIwDkJoPJzzn7HVjsoAbVavWPHDvDwgdfH1dWVz+e/8sorX3311b///e+dO3fu3buX+t/2448/gnvMz8/vp59+unHjBkVR1mkrRVHV1dUvvfQSDFwKhcKAgIDy8nLuAl6DwbBr1y7iSvT09KypqYGJgwzDtLe3r1y5ErSFWCx+6623VCoVrFeAYceYmBiQRD4+Pnv27CkpKZmammJZ1mQy3b17d+vWrXAsfF66dAkGmqH8Tz75hOghHx+fS5cuGY1GCBY4MDCQmpq6bNmyVatWcX1dD+wwUH4jIyMbNmwA0QND5FVVVfATDGf/9NNP3t7eO3funJqaAu0Lss9isezbtw+UsaenJyxkCQ4OLi8v7+7urqmpyc3NXbduHXQEj8dbtWrVxYsXwYs2A1mhUIB+BbHo4+Pz888/l5SUtLS0NDQ0XL16FbqSjD77+vqeOXMGDIOBY5VK9fHHHwMiqEUqlYpEotWrV+/evfs///nPJ598smvXLo1GA82/cuWKn58f5BcIBN7e3omJibAiGD4TEhK8vb3Jk0BAQMDExITd3MQHksSdSAAJOA8BVH7O09fY0nlAgKv8+Hw+zN/64YcfOjs7YaTVZDIZDAZoicFguHv37po1azZt2lRcXAx/8KSRFEUFBwcTJ5Cnp+eVK1e4yq+vr2/t2rUwOMjj8T7712fgjgLnnMFgCA0NBVkJU9Bqa2uJv4pl2e7u7i1btixfvjw/P5+iKFKvwWCw2WxZWVlc5Xfq1CniaVOr1W+++SYpedOmTRqNhjjSQJOVlJQolUqutaR8koBfGYapq6vz9/cnQ7S//PKLVqvlCk2j0Xjp0qW7d+9CxBwogaZppVLp5eVFEAUEBJw4cQLC2RB91tzcvHnzZqFQ+Nm/PisrK4P5dhaLpb29fd26dURjubi4hIeHazQaCMcDsQ97e3v37t1LxqBFItHHH388OTlJZuxxlR8U5erq+uOPP9bV1ZlMJpqmDQbD1NQUtNRsNv/0009kAJrH4+3fvx+0LDSWYRiKon755Rc4c0Bxnv/9PHeSJbSLMMQEEkACTkgAlZ8Tdjo22XEJcJUfrH5Yu3btvXv3jEajyWQi4onIGoqi6uvrm5ubYQEHePugeRaL5ZtvvuHz+eBBdHNzu3DhAldLdXR0LF26lAwix8fHw4FEHOTk5PD5fMjg7u4OM+QIO4qi7t6929bWBpHzwJkHv5rN5oSEBFAe8JmVlQVT66zT1snJybfeegtELZ/P9/f3r6ysJFFXQESSeXhcg0nVkPgr5ffmm2/29PSAPgY1DIKVLOyFBtI0nZCQwPW37d27d2JigqIo8OrBp81mKy8vT0pKGh8fB3kKQqqoqAhWPYOvbuXKlR0dHTCTEtQhrGVpbGz08PAgK29eeuml7u5usN9ms42Pj//zn/8kEpnP569bt66npwc6mkR2hPzDw8Pr1q0jRXl4eAwPD9vNO7ROW69evQq+WBcXF6FQGBERYZfHDiN+RQJIwNkIoPJzth7H9jo0Aa7yA0EQHR1tF9wEJIWdJIIoxDqdbmJiYnR0tKqqKigoyNPTk8/nw6INiURy9uxZ7nz/gYGB9evXg89PKpXu27ePW/JMTOaoqCgYCXVxcXF3dy8tLWVZFmQNUWYwvGudtlqnrSMjI6OjozU1NXK53NPTk6v8kpOTYXwTXGJ79uzh8XhkYe+yZcsUCsWZM2c6OzuHhobGx8dh+fDfdhVIOrvRXh6Pt3nz5uTkZKVSee/ePZ1OB9ksFovZbCYeU4vF8sEHHwBkkUgklUqPHDkCI87c1nH1IhnnpWk6KSlJIpG4u7uDr/Grr74ClUkIQzRpm822a9cu4qjj8/ncIWy1Wg0D7sCZz+eHhIRAVGfSduBmNptramrIDEiRSLR58+ahoaHu7u5+ztbZ2VlYWLhq1SoQiC4uLv/+97/t3rlHSsYEEkACzkkAlZ9z9ju22kEJcJUfzCGrqqoCDxAZDwUpYDKZQKAwDGMwGJRK5bFjxyIiIj799NN3330XFgrAOlkQNzNR+k6fPs0VASaT6f333ycOpyVLljQ2NhIu7e3t69evh1/d3d2XLl06ODgIA8GgacD1ZbFY6uvr8/Pzf/75508++WTjxo0w8EpWmIL+S05OBk8biDClUgl6FMrn8/nu7u5ubm7+/v5bt2799ttvs7Oz+/r67CQvsY0MXwKZmal7cXFxJJYKiB5XV1eJRLJ8+fJt27YpFIqLFy+qVCpuCRMTE2vXrgUtJRQKFy1aVFpaChKWeD25+Uka3nH373//G6ZgQjCd9PR0u/cOk/4KDQ2FpcGA4ujRo2StDFF+/NltRrOWlJSQA+0S538/D+5bgCaRSN5+++3169dv4Gzr169ftmyZl5cXLOjm8XhffvmlTqfjFkUaggkkgASckwAqP+fsd2y1gxKwU358Pr++vt5O+YHpIKFYlq2rq/vnP//p5+cHoVVgSQfEVYEwe0S9nTlzhqv8GIbJzc2F0M0QPnD16tVZWVklJSUnT57csmULGQj28PD4/vvvNRoNWR4B0Y8bGxv37t27ePFiDw8PWOUAgg+GQe18fkSusSxLUVR2drabmxssqiUjmBDkBVbLrlixoqysDAy+v7dAynDnt33//feg9mD4FWyAtgsEAl9f3507d3Z2dhIBOjw8DEtYXFxcYAHy7du3AfX91XH3WCwWo9EIyg/Kd3V1PXbsGOkRrsyy2WwpKSmQDSYUHjx4EBylLMvazfMTiURNTU12h5OvJ06cAIEoFothJBd6GULwQFQ/WPYrFAphp0Ag2Ldv3wPPH26LMI0EkIBTEUDl51TdjY11dAJc5QdRfFtbW+//5waRYTKZzv9+noyZgkNIIpGsXLly3bp14eHh+/fvB83h4uLi6el59uxZuzHi0dHRTz75BMY6wfsFcg3CgsDyW6FQuHLlSruwLCzL3rhxY82aNdwlDhB8btmyZd98801wcDDIFPhMTk7mKj9Inzp1avPmzeCeBAcnCEEo083NbenSpefOnbOzGbqQ6CEQfxDX+uDBg2vXroVZbhBXmWhKGJMNCAiAV4MYjcaenp6AgACiyby8vK5fv8719nHT3PPmr5QfMcwudM7clZ9EIunt7SVNs0twlR+Px/Py8vL39/f29vb53+bt7e01u8GrULy8vBYtWhQZGUkGuLmtwDQSQAJOSwCVn9N2PTbcEQnYKT8fH5979+7ZKT8yC62pqQlijoBo8/Hx+e6773777bebN2/29vZqtdrMzEyQg3w+38vL69y5c8QvRaIZDwwMyOVyEiIOFJJQKIQoJy4uLu+9915ZWRm8u5aIoe7u7hUrVhDRuXTp0m+++SY7O7uysrKnp8dkMl2+fPnhyg/W8Go0mmvXrkVHR3/xxRcrVqyAxRAk1B+Px/vwww/hNb6kaug2ooqI2w9ciV1dXadPnw4LC9uxY8fixYvd3d1B/IFLEtbD6vV6hmFGR0chkh8ITV9f31u3bpHCud5NuxOFq/xgAt/Mqzsgch6Mhtspv9DQUHjzCqhq7mgv8fnB2LdQKOzp6SFNI1oZ9nBHe4VC4eeff37r1q2ysrLbf95KS0tv3LhRUlJya3br7u7mdrpdW/ArEkACTkgAlZ8Tdjo22XEJzEX5kVW0Bw4cIC6rmQUT6enpZHkBjMwmJiaKxWKywuPixYvc0V4QFqOjozKZzMfHB+QjeRHFkiVL3nrrrYKCArVaDa9Q4yoSuVwOA8QwxHzgwAG1Wm02m2HSIU3TZ86cAaEDnzDESbiDXCNrF1iWnZycHBoaqqmp+eKLL6RSKYg/cFU2NTWRMChgAymHKwfJuDDDMCaTaWpqqq+v79atWzt27OBS2rBhA7xIzTpt3bZtG7w/A97bdvjwYVIyNzE1NdXU1MQNwjzT0tjYWBhcBvH31Vdf2a19gdbZbDYymRKGoa9duwbakWXZiYmJjz76CEaBYdYgjEeTZhLmNputoaFh8eLFfD5fIpHw+fxt27aBetbr9bB6lyyyho6ANyyDVdzmYBoJIAEnJ4DKz8lPAGy+YxGYi/IDeccwzM6dO0Guubq6Llu2rL+/n9uYmWhw4eHhoDbgdSDnfz/PVX4Wi+X27dtr1qyB0Hpbt26trKwsm93Ky8t7enq4UfqgZCJEduzYQQIBent7FxYWgtAh0vPXX3/lKr+UlBRYrgEBh1mWHRkZUSqVEAYFNCisrmBZ9ttvv+Uqv8LCQqidGE+aSZSfxWJpa2vr7OyEdwSDUtTpdDRNq9Vq8j4SsVjs6+vb1dUFDkKId0giC37xxRdarZZEqya1lJWVvfzyy/v27SPRc1iWPXfuHLxXF6bcbdq0qaOjAw4hjWIYprW11d/fn1SxZMmSnp4eyGadto6OjpL1xSBPW1tbieyz8/n19vYuW7aMDK9LJJLKykpSFOg8aFdDQ8OVK1cgcCBpBSaQABJAAkAAlR+eCUjAgQj8lfLjmgijvRaL5c033/wr5Wez2bq6ujZu3AgOP1dXV09Pz5MnT3LL0el0n/3rM/LS3szMTPDYwdpVyEm8U3Yq5P333ydjsh4eHiUlJUS3WSwWeCkZV/klJiZyqzYajfv27QsICDh58qRerwcBR+KnHDp06OHKj6uNINBMS0vLpk2b3nzzzZqaGpgXCLIVrPriiy+gQKlUunjx4u7ubgiVV1VV5eHhQRYF+/r65ufnw/ILcJUxDNPX1/faa69BNOZly5YlJyfrdDrrtLWxsRF0GCg/gUAQGRlJ3msMA6x6vf6zf30GEVtAsX366adTU1NEpZG1vWR9TFdXF2kdWUkNe3Q63ZdffkniTvN4vN27d09MTIDmJnh7e3s//PBDNze3n376SalUkv2YQAJIAAkAAVR+eCYgAQciMBflB8rGOm2FV76SoUzuaK9Op4uMjIS38cLLZ3k8XmxsrMFgMP9vGxgY2LhxIygSiUSybt26c+fO1dbWzqzYbW9vHx4eHhkZ0Wq1ZAyRK/4++9dnYrEY1pCKRKLQ0NDJyUmIKUjTdFZWFszYI+Lvyy+/7O/vn5qaoml6amrq+++/h8WnEokkKCios7MT3ldBUVR7e/trr73GVX73j/YSbQSyb3h4eNOmTXw+39XVdSaUXWJi4sDAANFD169fB20H8w5ff/11lUql1WptNpvZbAZRSFSst7d3XFxcR0eHWq0eHR29cuXKhg0bYEQYFF5ISAioOoZhfvzxR9BhoL+hLW1tbXq93mg01tXV7d69m/SOq6urh4cHed8JFDI5Obl792545Qbw7O7uJo5MGBOHxkIknby8PJFIRKoTCAQffPDB7du3R0ZGjEbj8PBwYWHhtm3boFKRSOTh4UEmLzrQWY6mIAEk8EIJoPJ7ofixciTwZwITExM7duyQSqXw5y0UCnt7e+8fdYUJXjk5ORB4BRYxeHp6fvPNN4cPHz548CCMxkLUDxAKEDnZz8/vhx9+MBqNM+92m5yc3LVrFzfyC1Tq6enp4eEhlUo9PDyWLVu2efPmsLCwa9euabVaskr00KFD5G1pEonExcXl448/PnLkSGZm5r59+9zc3GBNA9E9Li4u/v7+X3zxBcuyx44d8/PzI4fzeDxvb+8333xz165dW7du9ff3B4kGbrb33ntvYmKCzPPj0qIoymKxGAyGwMBAHo8nFotBwAmFwqVLl77zzjt79ux55513vLy8YJkLcNi/fz+87wSKam9v37hxI2AkC1a8vb1feeUVeEMuKFQwZtOmTQ0NDSDC9Hr98PDwK6+8Am0kxwqFwtWrV7/88suwxBgOBFX6j3/8g6xHAeWnVqt3797t6uoKrlmRSDQwMACGEcFHEizLEiciMAfVLpVKAwICVqxYERAQAA0BtmKxePny5bBCiMsN00gACTg5AVR+Tn4CYPMdi8DU1NSOHTvI5Dx3d3ciBewMpWm6vr5+48aNLi4uJPAe/OW7u7tLJBKBQBAdHb1582bQBzPrT0GdvPPOO2QyXG5uLuQkEo0kIEAxCR3s7e0dERFBRjOHhoZee+01iBQN1oLag6hyEonk+++/h6p5PJ5oduPxeK+++irDMC0tLa+//jrsh2UiZMogKCSI5wcxYi5evPiQNQrwqo9r164tW7YMzAARTIoFILDTzc1t1apVjY2NsGCFBF4+deoUiDxou1AoJPxBLsNQ7KJFi44cOcJV4RaLpbKycs2aNWTAF6BBOS4uLgKBgAB866236uvr7ZTf+Pg4d56fRCKB7iZOTSL7yJ62trYPPvgAOJPOIoPFrq6u0FiRSLRq1apbt27BS//sTh78igSQgDMTQOXnzL2PbXc4AqOjo9u2bSNeOl9f387OzvutJNFDCgoKwEVHdAYcKxQKv/zyy/Hx8aKiIg8PDy8vL1BmYrF47dq1sBYEXpV76NAheIWu3ScsSsW5y4IAACAASURBVCBz4EBkwOpXWMZRUVHh6+sLMf+IBIGFrmvWrOnt7S0uLiZqTCAQiMXixYsXQ6VdXV179+4F3x4oFRg2hdFhcN15eHgUFBRA28kA6P0oGIbR6XSVlZUbN24EaQtCkzQHbODz+StXrqyrq4M1ECD7SKTAmzdvrlmzBlQaWd0MCVB1y5cv/+OPP8DlCQtpiWH19fUgZIncBFkGw7IuLi5SqXT37t1DQ0PguSTiDyI57969m7g/pVJpW1sbjKpDZq7yg/Fr67R1aGjom2++IdwgIDaIZtgpEAhWrlz5xx9/GI1GEgPofnS4BwkgAeckgMrPOfsdW+2gBEwm09dff71hw4b169evXbt269at4+PjXD8T2M1VQlevXt2yZcuKFSuWL1/u7e29ZMmSDRs2hIeHQ2AXg8Fw4sSJbdu2rVmzZtWqVevXr//Pf/4DrrvGxsaIiIhXXnlFKBQu+d/m7+8fEBDg7++/aNEiLy8vMlgJLrrly5fDzD9YqFtVVbVr164VK1b4+/u7u7v7+vquX7/+559/Hh8fB1F1/vfzu3bteu2119auXbtx48YffvhhcnISjNdqtcXFxXv37t20aZOfn19AQMDixYu9vLyWLl362muv7d+/n6zVeHhXgQyFaYJHjhzZvn376tWrly5d6uXlJRaLvb29/fz8Nm7cKJfL+/v7rdNWCExIHH5EZqlUqtTU1G3btq1bt87f33/JkiVeXl4+Pj4rVqz46aefGhoarNNWWPYLrx4Gq2bebmyxWHQ6XU5Ozvbt21euXOnj4+Pv7+/p6fnyyy+/8cYbO3bsuHTpksFggFYT2QfLWbRa7X/+859ly5Zt2rTp1VdfXb9+/cjICHHv2cUFJBrOOm01m81Xr179+uuvV69evWrVKl9fXw8Pj0WLFvn5+b3xxhvBwcFkkHcubyV5OGH8FQkggQVGAJXfAutQbM48JgATyIxGo0ajUalUarVar9eTdaDchhHlB4mpqamOjo7i2U2pVPb29hoMBhJgxTpt1Wg0/f39ra2tAwMDGo2GoiilUrl69Wpwj7m5ucnl8oqKivb29oaGhtra2vLy8pKSksLCQoVCsXTpUh6PByGRXV1d6+rquE4vvV6vVCpvzG5KpbK/v39yctI6bQUHFUVRo6Oj3d3d9+7dGx8fhzhzNE2D8II1FqOjo01NTTdv3iwsLLx+/Xp9ff29e/eI8dxWPyRNnKAMw7S1tdXX19+6devy5cvFxcWtra16vZ4bDZv43uwKpGl6aGiovb29srKyuLj46tWr0CIImAcz80ApEnEGX2mapihKo9H09vZWV1cXFRXduHGjvLy8vb1do9GAmxPq4vrwIC6jRqMZGxsbHBwcHx+HmNXEKm4t3HpJ72u12tHR0VLO1tHRMTY2Bm80sauLFIsJJIAEnJwAKj8nPwGw+Y5IABbJEs1H/untbOXuhxW4ZrOZjGCCvoGwJiBNTCYTlDk6Orpz504yyLhhw4ahoSHrtJWmabPZTHE2k8m0Z88eMpjL4/Fu3boFAo7oEoZhYLkwWfQKRYF/i6Zpk8lkMBgoioJDyOsxbDYb5CSyjKgru5b+7Veu8oM0NNloNJJFvnbiietRg/IZhoFwg8QM8MzZuc24iorbBX9rpJ0BpFKKombWYpvNZu7SE/iVW75dvXCS2PXX/ZqPdNNczMM8SAAJOAMBVH7O0MvYxvlKgPzZP1IDiF4h3jVyOGiaiYkJ8OSBpFu2bNng4CBIJVBjoBet01a1Wv3pp59CNpjHVlNTA8OdRDmRwiEBJRDxRHZyB0ntDuF+tTuQ+9ND0gQUyM2/ykmyPTBhdxSo0gfmvH8nqDogD3INJDhXuj1Q+UGlc2m1XaV21nK/2uW0s4GbE9NIAAk4IQFUfk7Y6dhkByUA87e4A53kL/whFpvNZlj9ChP7YAUDRCrmii1wEUE53d3dq1atgqUPsPIjOTkZpsGBSqBpWqvVTkxM5OTk+Pn5kYUXL7/88uDgINE04F0ja29JgmstDGET/yX3J4jGR6avQU67DHP8SkBBArx3ZFQa7LTLw/36kFqIkOXmvz8NA9xchyvksSvZ7kDyK/dAstMuwT3W7ie7r9ycDzTDLj9+RQJIwKkIoPJzqu7GxiKB/yNgsVi+/vprEv1OIBB4e3uvWbNm//79GRkZJ06cyMrK+vnnn99+++1FixbBclHInJCQAIPIdhyJ1LDb/zy/osR5nrSxLiSABOYvAVR+87fv0HIk8PgEmpubly1bRuLPQRA7V1dXeBctd2IfxFtxd3f/9NNP7ZYgkOpR+REUmEACSAAJODgBVH4O3kFoHhJ4mgRgMBdW/t66deuDDz4gbwPj8XjwmjJ4zyzEBYRodn5+fpGRkX19fX81KOkIyu9pYsKykAASQAILlwAqv4Xbt9gyJPBnAmQtLRkYNZvNxcXF+/btW7t2rVQqhXdpkDjSUql08+bNUVFRfX19JCbwA8UfKr8/k8ZvSAAJIAHHJYDKz3H7Bi1DAk+dwF8t85yYmOjv729ublYqlZWVlQ0NDZ2dnQMDA3q93mw2E6X41O3BApEAEkACSOA5E0Dl95yBY3VIwHEJkKh43ATKPsftMLQMCSABJPDoBFD5PTozPAIJLCwCJOgJt1n3hynh/oppJIAEkAASmKcEUPnN045Ds5HA0ydAwjj/VZTmp18llogEkAASQALPlwAqv+fLG2tDAg5PgCzXIAmHNxkNRAJIAAkggbkSQOU3V1KYDwkgASSABJAAEkAC850AKr/53oNoPxJAAkgACSABJIAE5koAld9cSWE+JIAEkAASQAJIAAnMdwKo/OZ7D6L9SAAJIAEkgASQABKYKwFUfnMlhfmQABJAAkgACSABJDDfCaDym+89iPYjASSABJAAEkACSGCuBFD5zZUU5kMCSAAJIAEkgASQwHwngMpvvvcg2o8EkAASQAJIAAkggbkSQOU3V1KYDwkgASSABJAAEkAC850AKr/53oNoPxJAAkgACSABJIAE5koAld9cSWE+JIAEkAASQAJIAAnMdwKo/OZ7D6L9SAAJIAEkgASQABKYKwFUfnMlhfmQABJAAkgACSABJDDfCaDym+89iPYjASSABJAAEkACSGCuBFD5zZUU5kMCSAAJIAEkgASQwHwngMpvvvcg2o8EkAASQAJIAAkggbkSQOU3V1KYDwkgASSABJAAEkAC850AKr/53oNoPxJAAkjASQnYbDYnbTk2Gwk8AQFUfk8ADw9dQASY2W0BNQibggTmAQGudLPNbmA0d/9DmsEwzBxzPqSQuf9kVxfX4LkXgjmRwAsngMrvhXfB/DPAOm1lWdZsNtM0Ddbb3RAdvEkWi8XObIvFwjAMNMdkMlVXVyclJZ07d25iYmJ+Nc3ByT8V82w2G5yBT6U0LOTFEoDeBAFnnbbCAxh8BV11v7pSq9WnTp06ePDglStXrNPW53aFUhTFMIzBYDhz5kxWVtbZs2dpmmYY5sUCxNqRwGMQQOX3GNDwkP8jQG64FEURLTVf0JBbtk6noygKzIYWGY3G5ORkhUJx4MCB5ubm+dIiJ7GTYZjn+WfvJFRfbDMpijLPbhaLhaZp67QVJOBfKb/Ozs7o6OiwsLCkpCR4Znue9k9MTBw6dCgiIuLIkSMGg+F5Vo11IYGnRQCV39Mi6VzlgEgigo+owHlEQaVSnf/9fEZGRlFRkcFggGd3m81mNpuPHj0aFBSUmJjY09MzH5s2j3rhUU0FTWCdtoID5lEPx/wOSODMmTNpaWlFRUXE4QeJv1J+/f39kZGRERERx44dM5vNz9PrxjDM0NBQcnLy/v37MzIydDqdA/JEk5DA3xJA5fe3iDCDPQEyyHvv3r3c3Ny6urq5PPveP2pjX+7s9+emtAYGBqKjo4OCgnJzc/V6vdlsZlkWXAgTExN1dXVDQ0MURWm1WhxbfGBPvcCdJpNpdHRUo9GYTKbndsK8wPYu7KoVCsXPP/9cUFDAsixX/P2V8mNZtqenp7m5eXBwkKKo53Z50jRtNpuHhoZSU1Plcnl2dvZc7nsLu++wdfOUACq/edpxL8BsiqJGRkZqampu3Lhx+fLlmpqa87+fDw0NPXHiBNcarVZbX19/69atsrKyurq6jo4Oo9Fos9lomrbZbH19fXV1dUqlcnBwUKvV1tbW3rx5s6ioqKenBx7fIRsUaDQau7q6bt++ffny5eLiYqVSCaO0FovFZrNNTk5WVFS0trb29/ebTKZ79+41NDT09vbCJCGj0Tg0NFRfX3/9+nWwZHx8HIq1Tlt7enrKysrkcnlYWFh6enpjY2N1dXVLSwvMOmpra1MqlVVVVVqtljSNYRidTtfc3Hz79u3r169XVlZCXQzDWGY3iqLa29srKiru3bvHMMzIyEhVVVVlZWVZWVl3dzcpBxNPQoAM9X7//feBgYFwzqD4exKkT3Ksddra3t5eXV3d2tpqMBi0Wq1SqSwvLx8aGgINx7KsyWSqqqoqKiq6cuVKaWnp6OgoXL8syw4ODiqVSrlcLpPJsrKyysvLb968WVtbC5Nu29raysvLW1parNNWuLpra2t1Op3JZGqY3To7O00mE4wOQyt6e3uVSmVJSYlSqayvr1er1TAvhaKotra2xsbGtrY2MruDZVnrtHVsbKy6urqqqmpiYgLOLovF0tLSUlFRce7cudLS0tbW1omJCaPRaJ22WiwWlUqVkpICo716vR7PvSc5f/DYF0UAld+LIj/P6qVpur6+Pjo6+pdffvnvf/8bEhISGhoaFRWVnZ2tUqnIzbSpqSk2NjY8PDwoKOi///1vUFBQVFRURUUFuNNYlm1oaAgMDJTJZE1NTUePHo2Y3cLCwoKDgy9evGgwGODBGoRddna2QqEIDw+XyWQhISFhYWFZWVkTExMwvtPZ2RkTExMWFnb+9/O5ubkKhWL//v0nTpygKEqn0507dy5sdgsJCZHL5ZGRkVFRUaDArNPWY8eOKRQKUH6hoaEKhSIqKiorK0uj0VAUdezYMZlMBqO9UBfDMPX19bGxsTExMVFRUXBsdHT0lStXdDodOEEnJyfz8/NBSjY1NUVGRh44cCAiIkIul4eHhzc2Ns6zLndsc//5z3/++OOPer3+Oa/udGwqz9U6mBpRVFQUHBycmJjY0tKSnJwcGBgYHBxcXV3NsizoreTk5JCQkJiYGLlcfuDAgdDQ0LKyMniOys/Pj4iIIFdoREREWFhYamqqXq83mUzp6ekymSwzM7OxsVEmkwUHB4eFhQ0MDPT09MTGxoaGhubn58NTJejLq1evRkRExMfHg5QMDQ2Nj4+H685kMh0+fDg6Ojo+Ph70IpCy2WwFBQVgw9DQEMuy/f39v/76a0xMTEhIyP79+xUKRUhISGpqqlqttk5baZpG5fdcTzKs7NkQQOX3bLguuFLHx8dn5rXIZLL4+PjLs1tsbGxgYODp06dNJhM0t7e3Nzk5OSIiIj09PT8//8SJExkZGaDt6urq4Om8oqIC9FZKSsrB2S09PT0kJEShUMTFxbW1tYHSUqlUR48elclk8GxdUFCQk5MTHR0tl8tn9sP0mpnHd7gvJyYmRkVFxcTERERE/PHHHxRF/fHHH0FBQTKZLCMj49ixY2BGYGBgcnKyTqezTlsLCgoSEhLks5tCoUhOTk5LS8vOzgYnQV5enkKhiI2NHRoaMpvNOp2upaUlKioqPDxcLpenp6fDf0NERER4eDjUyLKs0Wg8duxYeHh4fHx8UlJSfHx8enp6bGysQqGIjIw8ePCgXq9fcOfFC2vQ22+//dVXX6nVajL34IWZ4qwVg+vuxo0bwcHBILnCwsJiYmJiY2NbW1tZlu3o6FAoFKGhoTKZ7MSJE8ePH4+Pj4fHoba2NovFcvHixaSkJHhCi46OPnjwYFpa2sxTGUVRer0+MzMzLi5OLpdHR0crFAq4oHQ6XU9PD3jdsrKyyKr88vJyEHBxcXGnT5+Gp0qFQpGZmTk2Nsay7MWLF6G02tpak8lksVjMZrNarU5KSlIoFLm5uSaTSaVSgeaLi4vLzMwsKCg4ePBgeHh4REREaWkpKj9nPdMXYLtR+S3ATn0WTQJnXlhYmFKpZFmWpumysrKwsLDIyMixsTGGYSiKOnXqFOypqKgAldPR0ZGRkQFyDfyCt2/fBh9bUlJSY2Pj5OSkWq2+cOFCSEhIRETEjRs3YPREqVTCY/3ly5eHh4cZhlGr1WfPng0LC0tISIBbeXt7e1RUlEwmCw8Pz8vL6+joaG9vhyHdvr6+gwcPVlZWDg4O6nS60dHR48ePx8bGyuVyGKI1GAzt7e2gyU6cODE+u5lMJpqmKYqaidcQHR0dGRk5NDQEi3+PHj0aHh4eExNTWVk5PDysUqlaWlpAiaakpPT19dlsNovFcuTIEblcnpiYmJGRMTAwoFarBwcHMzIyfvnll9DQ0Nra2mfRNU5VJplZ9fbbb+/Zs2dsbOy5TfNyKs5zaSxM4SgpKYmMjFQoFGFhYcXFxV1dXc3NzaCisrOzg4ODo6KimpubzWazzWbr7e2NioqKiIjIzc1lWVaj0QwPD4McPHbs2Pj4+OTkpEqlYllWr9enp6eDM/7QoUM1NTWdnZ39/f3WaWtnZ2dCQgIUAjaMjo4mJCSEh4dnZmbeu3ePpmmNRnPr1q3w8PD9+/dXVVWxLNvV1ZWQkBAUFHT8+HF4CqUoqrKyEhx7cG0yDFNUVJSent7Z2anVag0GQ09PD/j4jx8/DkuPVSpVcnIyjD/gJOC5nCeYxwEJoPJzwE5xRJPKysoCAwNDQkL6+vro2a29vf3AgQMymayhoQFGSWBEJj8/n6Iom80GD9YnTpyIjo5OTk4eGRlhWfbWrVswtvvHH3/Aogqbzdba2hoZGSmXywsLCxmGMZlMx44di4iIiImJmVnHB9koiqqvr5fJZAqFoqOjg2XZtra2yMjI0NBQ8OTBBEGbzQaBP+DGbTQaWZYdHx8HTRYeHt7e3g7icnBwMHJ2O3nyJIwyA3eDwZCXlyeXy+Pj42G60sxfUXx8fFBQ0KFDh2BSEXxWVFQEBgYqFAoYzqZpGoano6Ki+vv7gRI0WTa71dXVOWLXzk+btm7dunv37qmpKejN+dmIeW+1xWIpKioKCQkJDg6+dOkSPBOC2765uTk6OjoiIiInJ0er1RqNRliOc/z48fDw8NTUVLiuVSoVPL+dOnUKDofpd1qt9uDBgzBi0NbWxiU1NjYWExMDjjq9Xm+dtt68eTMyMhKkJwn3ODU1lZSUJJPJoGS9Xp+TkxMSEpKYmKjVaiGUTE5ODihReKKAlePw9Ajrx9va2qAVhw8fBr2oVqsTEhJQ+XF7BNPzjgAqv3nXZS/G4J6enpiYGJlMVlhYODY2plar8/LywsLCAgMD4Rm9ra0tODg4NDRULpdnZmZmZGQcmd0iIyNhABSm0ZSVlYWGhh44cOD69esPVH7WaStX+WVwtsTERBh5gbk7d+/ehZlDOTk53OAOMPo8OTnZ2Nh48eLFw4cPx8XFxcfHh4WFKRSKlpYWIDg0NASjSKdOnYLp27DfaDTOTBZUKBQJCQnDw8PEUREeHn7q1Cmu8mtpaQmd3YqKiuB/IisrKzw8PDExkawmQeX3jM5Xovy4oSWfUV1Y7F8RIMovOjoaFmCRaDug/GQyWWRk5LFjx1JTU3/99decnBx4iIqKitJoNODLB39hfn4+OPBA+Wk0GphTcfDgwdHRUa4BdsrPZrOB8jtw4EBcXFx2dnZaWlpqampKSgpMsQX/IkVRNTU1P//8c0RERE1NDaw2A714/vfzxJesVqv7+/vLysqOHTuWnZ0NujA6OvrIkSMQxEqn0yUnJ+PaXm6PYHreEUDlN++67MUYTNN0UVERPILDRDdY5VBcXAyLW5ubm+2UH+i/48ePZ2ZmZmVljY+P22y2iooKmOVdW1v7qMrvyJEjaWlp6enpPT09LMu2trbCPL/ffvuNTPOHcefm5ub09HSY0J2WlgYx9+FvgPgPBgcHo6Ki5HL53/r82tvb5XJ5RETE2bNnucqvo6MjPDz8wIEDFy5csFgsRqMxMzNTJpPNzHMHNQxddevWLfT5PfWzFpXfU0f6GAUS5adQKLq6usDFzvX5hYSEJCQkHP7f9uuvv2ZmZiYkJGRkZEC2mdA8sCDjxIkTsKSXKL+0tDS5XJ6amkpkGVj4V8ovJCQkJSXl0KFDGRkZv/76a2pqamZmZmpq6vnfz1ssFuu0VaVSRUdHBwcHZ2VlsSxbUVEBopPciywWy7Vr1yBPdHT04cOHi4qK4uLiZDLZyZMnjUYjwzCTk5Px8fEymezQoUMajQanmT7GaYOHvHACqPxeeBfMGwNGR0czMzPlcjmspYiJiSktLdXpdDA+O7NiDu7gp0+fBnk0OTmp0WimpqbgVg7RuaqqqmCN3ozHDkZ/rNPWlpYWMtpr5/Pjjvbq9XqtVksWlHR2dsbGxkZERFy6dAn+RWDK19TUVGZmpkKhiI6O7uzspCjKZDLNLCeMjY0NDg7u7e0l8WUiIiJkMllubi6JDGedtmo0mpycHJlMFh0d3dfXZzabu7q6IiIigoODc3NzucqvubkZZq8XFRXRNG00Gg8dOgQzEbleCqL8cJ7fUzzXUfk9RZiPXRRX+XV0dMBkPq7yk8lkly5dgiVZZrPZYrFotVrw0EM2o9FIfH7c0V6NRpOamgqrr+ao/ORyeW1trXXaSlZ8azQarVZLxJl12nr+9/Pg6Z+YmMjPz4+OjgYPPaxWGRkZkcvlUVFR+fn5MMdXpVKB8ptZvAVzQmBPaGhoZmbm1NQUiWb/2AzxQCTw/Amg8nv+zOdljSqVKjMzMzIysrq6Wq1WT05OwooNi8UCUsxisaSlpUVGRiYlJY2NjZHgLN3d3dXV1fDMzbJsaWkpTLtWKpXwDE3TdHNzM0RLuXLlCkRzLSoqSkxMhCl04M8zm82jo6NXr16dmRIOA3ywROPAgQMgvEBfWqetU1NTycnJQUFBR48eJSGaT58+HR4enpCQMDAwAFG71Go1LLw9cuQIxOWCGWMGgyEnJyc4ODg6OhrmJkJICJCS/f39cK+3WCw5OTlhYWHh4eEQcgx8foGBgSkpKWSqEMuyZWVlBw4cCAwMhDGmOUa0npdnyXM0GpXfc4T9l1XRNH3x4sX//ve/MTExsJ6XTLucuQTi4+Ojo6PT0tJGRkYMBgN4BPv6+qqrq8nbL1QqFTjUZ56aYFkYCDWLxZKZmRkREZGZmQmhW0hg5/Hx8djY2MjIyLy8PFCTMytIIiMjQ0JCTp48qVKprNNWEJdVVVXExw/3h66uLlhKnJ2dPTM/WCaTXb58GdZ1sSw7Ey8QZhKXlZXBjaivrw/CxMxc7CAoNRpNSkpKSEjIr7/+iis8/vLMwB8cmwAqP8fuH4exrqmpKSIiAsK43L59u7y8vLa2tq2tDZbZsixrNpsvXbokl8tDQkKys7NLS0urqqquXr2amJgol8vPnTsHk3iI8quuruaO9ioUCojJApIRVm9ERUUlJydfvny5vr6+rq7u6NGjCoUiJSUF9FxLS4tCoZDJZEVFRaDGIMCYddqanZ0dExMTFxdXX18/MjIyMy8wPj5eoVAEBwcXFhb29vbabDaDwTAjDcPCwmJjY4uKisrKykpLSyGQWG5ubkREREJCArjuYLUvPPofPXq0srKyrq7u/O/nIUZgTk4OxBYxmUwzIhICkk1MTMA/B8uy169fDwoKCgwMRJ/fUzydUfk9RZiPXZR12grx/LjKD1zvNE1funTpwIEDkZGROTk55eXllZWVxcXFcXFxBw4cuHTpEmhEiqJSUlLAxV5aWnr9+nUygSQtLS00NHTmU6vVEtlns9lmXq4DbkJ4tGNZFoJAwct8c3Nz6+vrKyoqLl++LJPJYmJiuru7idvPbDZnZWVBzqCgoPDwcJg6AkFeGhoaIiIi4uLi8vLyxsbGuru7z507NzMlMSQkJD09HUJTgfILDg5OSUn5448/ent7H5seHogEXhQBVH4vivw8qxeGUENCQuDZWiaTgbtLLpdfv37dNhvTZGpq6tChQxC9GSbVhYSExMbGymSy5uZmiOxaWVkJd9KGhgZyO4b4LAqF4vLlyzAGRNN0eXl5YGAgCDh4TWdUVNSBAweuXbsG+mzGxxAfHw+6jSg/qOX87+dlMllsbGxISIhMJgsNDc3NzQ0NDQXjCwsLwQFQWFj4888/gzMvKioqPT19bGwMfH6RkZHx8fEDAwMgTycnJzMzMyEUGUT1gze/xcbGQmQy+OfIzc2NjY1NS0uDeX7w33br1i2I51xfXz/Pet2BzUXl5widY7PZZpZqRUZGxsXFtbe3c02C0CpZWVk//fQTXL8wSzgoKCghIWHGl0aiu1+7di0oKAiW0EJYqPHxcbjhPNDnx53nB9cdTdM9PT2pqakymQzibsKqf3D8T05OwpUIEZpg6h5kO378ODcq0MTEBMT8C//flp2dDbcOCBbY39/PMAzcXmQyWWBg4I0bN7itxjQSmBcEUPnNi256kUaCFBsaGsrPz4eoqmlpaUlJSVFRUWFhYaGhoRAqBcKcTk1NlZaWpqSkREZGHjp0KC0tLS8vb2RkBAphGObOnTspKSkxMTEdHR1E+bW1tSUmJsbHx1+/fp38H1inrU1NTTMRGeLj4yFWc3p6+pUrV2CU2Ww2d3Z2ps1uZLQX7u8Gg2FycvK3336Lj49PTk5OTU0tLCzUarU3btw4evRoUlJSaWkpwzAzE4woijpz5sxMgInIyMiMjIzDhw+Pj4+r1erTp0+npaVlZmaC6w7oazSaCxcuHD16NCEhIT4+Pisrq6CgYGBgAH41m800TZ86dergwYPp6ekQERp+qqmpATPwNR5P8TxG5fcUYT5JUTMDo/Hx8VzlBw9LUObIyMj169cTEhKio6OTkpLS88JfTQAAIABJREFU0tJOnDgx86QH8+rggtXr9bdu3UpNTYWbQGZmpkajsdlsubm5CQkJsDKX+PwYhjEYDGlpacnJyefOndNoNCD+bDbbyMjIqVOnMjIyEhMTYXnvH3/8wX0Gg8fCe/fuQcTNtLQ0iEhF07R12grXbHd3d1ZWVlJSUkpKSlpa2szCtcnJyRMnTiQmJqanp3d1dcEij4KCgsTExOjo6MuXLz8JPTwWCbwQAqj8Xgj2+VEpTOCjabq3txei65WVlY3Mbt3d3UNDQ0VFRTCeUlNTA3PvGIYxm80jIyMQGxk+ua01cTaQg3BPN/xvMxqNZrMZpuLZbDY1Z4PlHXCbBqEJMfNg1QWJ7kH+JO63wWQyTUxMmEwmqBpevKHRaMbHxyFeNMQCpGka/k6o2Y1r/wRnMxqNdvO7rdNWmBhO9sP6Emg0zEmCfztumZh+DAKo/B4D2jM6RKPRwDX7wPLNZvPk5OTIyIhKpdLpdPCMBBcaRN+EuSLj4+M9PT2jo6OwJgMubXKBw0XNzG6wE+IqQwQ+srSfoigYpR0ZGQFRSK5EsA3mJZtMJnjwg/nHUDgx3mg0wq0Dgj1xF3WRtMFggDwGgwGvaIIOE/OFACq/+dJTL8xO67S1tLRUMfsKstbWVqKZrNNWCNEil8u5MYrhbg73aCLC4NZMdBXcu2EnyWOXgBLgk+g8UvsDa7ErgXwl7KA08hWm4sF8cPKHBEZCjXCjJ/8r3APnkoapjZb/bSBn53Ig5vlbAqj8/haR42SAJRQURcGyeu6lTWQT91qDQFEgyyAzuZbJDcGuECgHwjjDwyG525CbBszx+N/l+H9xXkjtXFYwXZgsQCZqjyTghgBf4UBiHrccTCMBhyWAys9hu8YhDIM7WkNDAwThg6HS5ubmxsbGK1euwBuT5HL50NAQLNwjRv+VciK3yL9NkKL+KvG3JZAM8B/A/QMAzWd33yf5SeKvqp77fihq7vkx5xwJoPKbIyjHyUae1sj1RXx+XCNBvRGZxc3MzcZNkzzcnSAfQWuS/Y90PRKDuSoT0qRAGGp4oAHcPJhGAg5FAJWfQ3WHwxlDbpQlJSUHDx7cv39/eHh46OwWFBQUGhp65MiRO3fuwCxpO9/YXO6GJI9dYi4g7A55yFdSGoSK5Y4QwRvfIQMpgeTHhMMSQOXnsF3DNYyrk4iQIhcaJEA8wRQLMs3DLg/JyS38/jTxsnPLuT/bw/eQB0Ji8P3KD2Ybw8RBrqkPLxl/RQIOQgCVn4N0hIOawb0JDg0NVVZWFhYW/vbbb2fOnIFgKw5q99zMIq2D7HP8d5lb2ZjrGRKw2WzvvPPOp59+qtFonmE1WPSzITCPpBLXVG762YDBUpHAcyKAyu85gZ6n1XC1ESzFhYdp67TVbur0fGwgt3Vk1GY+NsTZbEblN697fB5JKK6p3PS85o/GIwFUfngOzJUAqD0yW468ZHOux2M+JPCUCKDye0ogsRgkgASckQAqP2fs9cdoM0QwgaUS5M25dj6zxygWD0ECj0EAld9jQMNDkAASQAJAAJUfngmPTABHPR4ZGR7wVAmg8nuqOLEwJIAEnIsAKj/n6m9sLRJYAARQ+S2ATsQmIAEk8KIIoPJ7UeSxXiSABB6TACq/xwSHhyEBJIAEWBaVH54FSAAJzDMCqPzmWYehuUgACTgSAVR+jtQbaAsSQAJzIIDKbw6QMAsSQAJI4MEEUPk9mAvuRQJIwGEJoPJz2K5Bw5AAEnB8Aqj8HL+P0EIkgAT+RACV359w4BckgASQwKMQQOX3KLQwLxJAAg5AAJWfA3QCmoAEkMB8JYDKb772HNqNBJyWACo/p+16bDgSQAJPTgCV35MzxBKQABJ4rgRQ+T1X3FgZEkACC4sAKr+F1Z/YGiTgBARQ+TlBJ2MTkQASeFYEUPk9K7JYLhJAAs+IACq/ZwQWi0UCSMAZCKDyc4ZexjYigQVFAJXfgupObAwSQALPlwAqv+fLG2tDAkjgiQmg8ntihFgAEkACzksAlZ/z9j22HAnMUwKo/OZpx6HZSAAJOAIBVH6O0AtoAxJAAo9AAJXfI8DCrEgACSCBPxNA5fdnHvgNCSABhyeAys/huwgNRAJIwHEJoPJz3L5By5AAEnggAVR+D8SCO5EAEkACcyGAym8ulDAPEkACDkQAlZ8DdQaaggSQwHwjgMpvvvUY2osEnJ4AKj+nPwUQABJAAo9PAJXf47PDI5EAEnghBFD5vRDsWCkSQAILgwAqv4XRj9gKJOBEBFD5OVFnY1ORABJ42gRQ+T1tolgeEkACz5gAKr9nDBiLRwJIYCETQOW3kHsX24YEFiQBVH4LsluxUUgACTwfAqj8ng9nrAUJIIGnRgCV31NDiQUhASTgfARQ+Tlfn2OLkcA8J4DKb553IJqPBJDAiySAyu9F0se6kQASeAwCqPweAxoeggSQABIAAqj88ExAAkhgnhFA5TfPOgzNRQJIwJEIoPJzpN5AW5AAEpgDAVR+c4CEWZAAEkACDyaAyu/BXHAvEkACDksAlZ/Ddg0ahgSQgOMTQOXn+H2EFiIBJPAnAqj8/oQDvyABJIAEHoUAKr9HoYV5kQAScAACqPwcoBPQBCSABOYrAVR+87Xn0G4k4LQEUPk5bddjw5EAEnhyAqj8npwhloAEkMBzJYDK77nixsqQABJYWARQ+S2s/sTWIAEnIIDKzwk6GZuIBJDAsyKAyu9ZkcVykQASeEYEUPk9I7BYLBJAAs5AAJWfM/QythEJLCgCqPwWVHdiY5AAEni+BFD5PV/eWBsSQAJPTACV3xMjxAKQABJwXgKo/Jy377HlSGCeEkDlN087Ds1GAkjAEQig8nOEXkAbkAASeAQCqPweARZmRQJIAAn8mQAqvz/zcIJv1mmrzWajado6bX3C5tpstjmWYLPZrNNWmqbnmP/+bBaLhWVZhmHu/+lR98zd7EctGfM/HwKo/J4PZ6zlKRJgGObJb7lP0R4sypkJoPJzxt5/Qunz5PLrCW+CT2g/KEjrtBVEsDOeAfO8zaj85nkHOp355tntse+ccLNyOmrY4GdGAJXfM0PrkAUTzWSz2RiGIV8f1djHeHgFtffY9z56djObzU/iOKRpmqIo67T1sc14VFCY/1kQQOX3LKi+8DIf+3b0wi3/WwPMZvOTtA7ufn9bC2ZAAnMkgMpvjqAWQjaKopqbm0tKSm7evFlTUzMwMDB3AQS3Lfjs7++vrKzUarUsy87xdmadtmo0mtHR0YGBgfHxcYPBMMeqYZCXpune3t6KioqrV6+Wl5f39vaS/phjOZCfoiidTtfX1zc6OqrX659ERBIDMPH8CaDye0bMH+lqero22Ga3p1um45TW1NQ0MjLyGA/MLMtSFHVndqMo6mnNeHEcMmjJCyGAyu+FYH+ulTKzW0NDw3vvvSeRSMRiMY/HEwqF/v7+aWlpj2pKSUnJ8uXLxWLx5s2bu7u7aZrmij+apqE6brHgXywsLPTy8goICPD39z937hw3w0PSBoOhs7Pzyy+/9PT0lEgkQqGQz+dLpdLAwECVSsWy7BxvpmDk+Pj4e++9FxAQ4O3t/e233+p0Oq7xDzEDf3IoAqj8nmJ3kOcfiqLg+n2KhT+kKLPZzL1+F6Tys05be3t7161bJxKJFi1apFQq4VH2IVjIT3BrstlskZGRXl5ebm5uQUFB0EckDyaQwOMRQOX3eNzmzVHwEH/z5k1fX1/B7Mbj8aRSqYuLC5/Pj4uLI/f9v20SaKxt27Z5enq6uLiIRKKkpKT7/yrul2KwB5SfZHbLy8ubY73V1dWvvvqqQCAQCoVisdjV1RWq/vDDD9VqNWjKv7Wc/MGA8pNKpQKB4PPPP5+YmEDlNxd6jpYHld9T6RGGYWCll9FofJ7ePjLVhDw3wi1iQV6MMpnM1dUV7l3/+Mc/YKhkLt0HTJqamlxnN6lU6u3tffPmTZisMsf751wqwjxOSACV38Lv9KGhoQ0bNvB4PBcXF7FYvHz58u3bt7/11luLFy8uLi6e+zMo3Im2bdvG5/NdXV1BOMKfh9lsNplMra2tZWVlR44cOXPmDBcrUX7e3t48Ho/P5x8/fnwu/zQmkykwMFAgELi5ubm4uCxevHjHjh3bt2/39PQ8deqU0Wic++0PbADlx5vd9uzZo1KpFuSfDRf+gkyj8nta3arX69va2q5cuZKRkdHc3Pw8JaDRaLx3715lZeWJEycqKyth+f/TapeDlENRlEKhIE+t27dv1+l0c7SNKD+4XwmFQnd3d1R+c6SH2R5OAJXfw/kshF9ramp8fHw8PDz4fP57772n0WhomjabzZ2dnXq9fo4tJAqppKQEhh7WrVvX2tpqs9ksFovBYNBoNC+99JJEIuHxeLt27eIWa6f8hEJhQUEBN8MD0yaTaWRkZMeOHUKh0MXFZdWqVe3t7bDGrb29fWpqamYcBAaMHni43U6u8nNxceHxeF999ZXRaCTtssv/FL8+hyqeorXzoihUftxuepIT7Pzv55csWSIQCHg83tmzZ2EmGVws3Cr+Nv0YNvT19cEwqFAoDAsLs1gs3Ae5xyjwb418zhngZjU4OPjyyy/zeDyJRHLz5s2pqak5mgHD3zabLSgoCDrou+++oyjKYrEsADhzhIDZnhEBVH7PCKwDFatUKv39/fl8vkAgiI2NtU5bzWazxWIhXjcSaQ+WvoLpFEVptVqj0QjLOEgAFJ1O19raWltbOzExYZ22mkwmlmVNJlN3d7evr6+rqyuPx9uxY4fBYDCZTHCHMhgMLMsWFhb6+PiAzy87O9tms4HTDj7BBu5cH41GMzk5uXPnTh6PJxKJ3n//fYPBACtzwSSbzWYwGMBnCWaA5fC/ZZndWJaladpisXCV38w4NZ/P/+KLL0AEAwe9Xg8zFLnLh7mrgBmGeYh/FAoBHcyyrMViAVX6wAXU4CiFT1hoApzBWnLqmEwmKBYKgX9l8qszJxaA8uMG1CQPMHZdTFEUnACw32g0ms1m2MM9Vex0ALdkkg3WlnKlFVwRp0+fXrx4MczBuHjxIozDwtUEZx1kIwfCV5g+AZcDMR5+gsuE5Cd6Dm4C5KSlKKq7u3vdunWurq4ikUgmk5HSSO0kMySABpRM1A9csyaTiRhG+HAPh/zWaSvcChiGAZLkKO64M2SGoKcPLI2UDIWQxpKbJBxFYlep1erq6uqRkRGWZWF4hJRw/6xoIr7h5mOz2SiKamxsbGpqgp/IXYhr29TUFDl5SI+QWkiCpmlySyeHE/vhjkRQkNus3QlGSsPE/CWAym/+9t1fWk4uVJqmq6urz5079/LLL8NT49dff93e3l5RUdHY2NjZ2anT6cj1PzU11draevny5eOz2+XLl8fHx7nBCOAuqdPpbt++3djYWF5eDi5Dk8mkVCovX74cEBAAAxNbtmypqqpqbGysr69vamriKj8YJj516hTLsiMjIxUVFSdPnszPz79x44ZOpyMSzWazdXR03L59e9u2bTwez9XVdfPmzaWlpRUVFUqlsq6uzmKxGI3GO3fuVFZWtrS0DA0NcXHQNN3X11dVVVVXV9fW1mY3z4+r/EClsSyr0+lqamra29u7urpgzGtoaKi0tPTo7FZWVgatIGzhQLjbmkymsbGxq1evZmVl5eTknP/9fHt7OwELN1D4ajabBwcHr1y5UlBQ8Ouvv548ebKhoQFWOtM0DTyhTKPR2NzcfO7cuWPHjl24cOG3334bHR3lttGZ0/NX+cFFpFarKysrT506lZGRkZ+fX19fD0815D8YFBtN0waDQaVSVVZW5uXlHT58OC8vr7q6GjKzLEuc1qAP2tra6uvr79y5Mzg4COdbbW3t8ePH8/Lyzv9+fnh4GA4BgdLV1aVUKuPj4wUCgUgkEovFGRkZVbNbU1NTR0eH0WgkIoNlWYPB0NbWdvXq1cOz29WrV1UqFUVRJpMJRjANBsOdO3caGhpaWlpg9T1cLDRNm0ym5ubmO3fu1NfXd3R09Pf3NzY2lpSUrF69Gh4Ff/jhh5qamtu3b9fV1YGdYCTxe8HZTlFUQ0NDc3NzXV1db2+vyWQCUZWfn3/06NFbt24NDAxwH1/hqKGhoYaGho6OjpaWFpCPd+/eLSkpuX37NrlvwI3ObDarVKri4uKc2a24uLixsRHEK7drACPs6evrKywszJrdCgsLOzs7QXiR+Xw6na66urqpqam6unpiYgIeuYEMPF0rlcqCgoK8vLyCgoJr165pNBrupc0wzN27d6uqqqqrq+/evUuUNNH0NE1PTk6Wl5fn5uYeOnTot99+a29vhx7h3qxgUXBra2t9fX1DQ8P4+Lh12qrX60tLS48fP56dnV1SUsKd/ULIQ4JrEqYXAAFUfgugE+2bADd9hmE0Gs3KlSuFsxvM8xOJRCDO+Hz+pk2benp69Ho9RVE3b958/fXXxWIxn8+H/Hw+38vLKzMzkzwBg4LJy8vj8/nu7u5+fn6lpaUsy7a2tnp6evJ4PBCXkIBVFFKp9LN/fQZPmYWFhb6+vh4eHjweLzc3d2Rk5N1334VBEPDqvf322x0dHVDL5OTkO++8A5klEombmxt4E11cXIRCoVQqvXfvXn9//+rVq2HN74cffkiUlsVi0Wq1H330EUyvWblyJZkRODY29u6778Lw8d69e6empuCfmGGYM2fOCIVCNzc3Pz+/ysrKK1eu+Pv7w7iwaHZ79913R0ZGSC0E+sjIyC+//OLu7g4Wwv+ou7t7UFDQ5OQkZAPnqNlsnpkEuWLFCqFQCL3A4/HEYvHrr78+8x8M4RvAnp6eno8++gjKdHFxcXV1dXNz8/T0TEpKsvOdEDOcKjF/ld/k5ORvv/22fPlymLYPnevh4bFhw4abN28SVxbEbzMYDAUFBevWrYNJFHDOeHl5vf766yUlJczsBv1O03RTU9PKlSthCVR8fLxWq/32228lEgm5Kn19ffPz80ENMAwTGhoqEAjgDIeS3dzc+Hy+p6fnzPmemppKwh7ZbLbu7u7PP/8cHpnIDcTPzy87O5u4GEdHRxctWuTu7s7j8V577bWBgQGz2QwPM7m5uV5eXnC2JyYmnjlzZsmSJbBUixgAF4WHh8fevXuhUXbiw2KxjIyMwMipWCzeuXNnb2/vxx9/7O7u7ubmBlatXLny0qVLdhdpWFiYVCoViURLlizp6OhIS0uDlrq6ugYGBkJdOp1uamoqJycnICAAoAkEAolE4uXltX379o6ODrgwyVVGUdTU1FRsbKyPjw/cNvl8vlgslkqlH3zwQWtrK1FmJSUlcH/j8/kJCQkkLIvZbL527dr69euBGFl+9+qrrxYUFBC/HcMwW7ZsEQqFIpFoy5YtarWaaFCDwaDVao8fP/7SSy/BPU0gEMBCkO3bt1dVVZFCwOzBwcG3335bLBbP3BjT0tKGhoY++9dnrq6uUqlULBa7ubktWrTo8uXLQA88f6QLSMMxsTAIoPJbGP34p1bATco6bR0dHV26dCnoJ4jkAvrv/7H33TFRZm3flFA0yGosa9RdY1ljjViiiLEGRIKUZ6UFFCMgAcRQJEgJggQFQpEgQpQSRXwWEaMoERYCKAGEUEMNNcBAmEKGKZkqM/c3H798J/c7gOvus+/zrTL3H+Rwz7lPuc451/mdqx24aPzyyy8DAwNsNjs4OHj9+vX4CVsR9g8whdTUVBz9oX3IyMiAhGD16tXv3r1TKpWNjY0wIiR7DFxx9fX1dXV1L1y4APXNy5cvoe1dtmxZcHDwiRMnDAwMli1bhrrwyYEDBxD1is/nHz9+nI4myX5jYGBgZGTU1tY2MjLy008/ocG//utXiCVACJlMZmtri/Zs3bqVqLPnIz8iDnzy5Ak2wp9//jk2Nnbjxo2Gc4/O3IPaz549K5FIiEMxjuNHjx41MDAgGxjh4AYGBhcuXOjv74eKh8/np6WlGRkZkag6GIUVK1bo6uquX7/+/fv30K91dHSYmJhoaWkB7yIb+crHx+d/DPaS/OfbRX5Xr16FnxPQAKY95sDGjRuzs7NlMhkid6hsZwMCAnAMgye+np4eWWLr16/PzMwkCj65XD4+Pr5lyxZM1KCgIHd3dwjLARrw4U8//VRVVQVTBB8fH0NDQyxAfIWGYabdvn0bbEQsFufn52/fvh2l0VGOlpbWDz/8cPPmTYipxGJxYmKigYEBOpWUlITFNTY2duTIESyuAwcOMJnM/Pz85cuXEzirra29bNkyFTACj7p06RI+JLADaFWpVDKZzB07diC004EDB8zNzek8BIzOwMDg/v37dKAWHBwM5mZsbJyUlLR69WqgWyMjo5ycHACpmZkZT09PXV1drHqsYoAkHR2dn3/+uaysjA4ou7q67O3twSGBunAoBSV37drV3t6ONlRXV6NrWlpaEREReCmRSN69e0c487Jly9AkcDzVSaC4uBi4TaFQmJmZoVgzMzMGgwFurFQq+Xz+tWvXcBImXJRgfSMjo7S0NHqb2Wz27t27MYK+vr7nz59HsTiyQvi6adOmV69eEedrMgRLks18z53WIL/vcHQJ1+Pz+e7u7qdPnwaL0dPTW7NmjbW1tY2NjYODg7e3N4vF+vjxI46qOjo627Ztc3Fx8ff39/DwIKrbo0ePQnYFPUVGRgZ43Nq1ayHz6+npuXjxopWVFQFAmzZtunjx4unTp+3t7cPCwoCWXr58uWrVKkQ3WLVqlb6+/qFDh+zs7KytrVeuXAnmaGhoiIAvPB4PvAmQFNK4EydOWFlZ2draWllZcTicnp6eX375BUJKGxsb+kAC+UFWt2HDBqlUCprAt5eu7SUKkezsbGwPurq669atMzY2PnHixK//+tXS0lJfX19PTw/RBOG2DFWUQCA4d+4cmLWOjo65uXlkZGRsbKypqSlkDLq6ukFBQTj9j4yMbN68GTLX/fv3+/v7R0REeHp6rl+/3tDQ0MbGhsFgKBQKPp8fHByMvW3t2rWurq4RERGBgYEHDx7U1tb+6aefCgsL6T1dmulvFPklJycTEKASLZ8+fdrBweHAgQPYgPX19Tdv3jwyMoIDwP3791esWIEJs27duuPHj585c8bMzIxI5Y2MjIqKigBc4LC1ZcsWQBYIrn766SdHR0dra2vgNoC/ixcvwlDh8ePHVlZW+/btA9TT0tIyMTGxsrKys7P79V+/QnIml8vb2tr27NkDALpmzRpXV9fbt2/fvHlz7969enp6K1as0NbWfvjwIY43KgMJMzMzACYLCwuc4lJTU42NjSFVev36NTQM1tbWp0+fJrK6zZs3W1paWlhYnD9/PjExcUHkR1HU1NTU+vXr0REjIyMDA4MtW7Y4ODicO3eO+KmQyHlkaQQFBeno6AA9//TTTwCsq1atWrt2bXV1tVgsVqnU/fz8gDu1tbVNTU1VyzY6OtrFxQXaDC0tLQcHB6L+FgqFrq6u5Ey4efNmOzs7S0vL3bt34wRoaGjo4OCAA2dNTQ2qVmH9+Ph4QDEWiwWNh46Ozs6dO318fEJCQnx9fXfs2GFoaGhqavrhwwe0X6lUHjx4EKzp4MGDRF+sMvoMCwsDU9LS0lqxYsWpU6ccHR2PHj2KATU0NNy4cWNZWRlYn0wmGx8f3717NyYbbLK3b99+/vx5S0vL9evXY2Zqa2t7eXlhUhHYR5gkIakm8a1TQIP8vvURXKD9WLHgxVwud2RkZOvWrYBlkMCRDMBkvr6++vr6N27cQGxkpVIpFovj4uIQ9m/nzp1EcCWXy9PT04F1Vq9eXV5eDlgjFovHxsYgM9DV1T19+jRxYkAzFApFUVER0fjo6upevnwZQkQmk/nw4UMiALh8+TJkhLOfZ1ks1q//+hXVHT9+nMPhwKRaKpXyeLy+vr5t27ZBFKHmTSyVSm1sbLBdrV+/nviFzEd+5Ez8+PFjyCq0tLTWrFmTlpYmnntUfDM6OhrsUhVc5s6dO2iDQqFISEgAu9TX1w8ICICPiEgk4nK5p0+fxh6wevVq2Oe9ePECu7ihoSHkAQiF+OHDBycnJ9hFSSQSNpttb28PTVNAQAAcZSiK4vF4UVFR+fn5Gi4MewAzMzM7Ozs1o6gFFsM/4BWGbGxsbPXq1QABxsbGL168AAJT2UJER0fr6OgYGxtHR0ejvaOjo8AoOjo6RkZGhYWFsNySy+VJSUk4ei1btmzPnj2Tk5Mw8uvt7QXygwjn0KFDPT09EB92dXWtWbOGbPkcDgerUiQSPX36FJE+DQwMSkpKIETExo90QEAAxHWrVq2CLA0CIQaD8fPPP2tra+vq6lpaWk5NTeFq2idPnqxcuRKq28ePH7NYLBMTEzTY1dV1amqKOD9NTk4C6BgYGERHR4PtEMcsOuwgcx7Ij8ioTpw4gT7KZLK+vr5Dhw6BV2hra0dFRRGZWUhICA5v0LDb2dnV1dUNDg5WVVVNT0/L5fKKigroqRH9AJ40sP0NDQ0FwjMyMmpsbISu9sWLF4aGhljg+/bt6+rqEggESqWSzWZbWlpqaWlt27attLQUKns15IfgNQwG46effoKIMSEhAV7As59nR0dHHR0dKysr6dOWjvy4XK5UKsVtTASuGRoaAuFJJBKRSBQXFweXHW1tbXt7e5iRyOVyBoOxZ88eTAMdHR0rKyti2Nfb24ujvqGh4ZEjRzgcDo4fZBTo7dGkvwMKaJDfdzCIC3SBAJrZz7PYEgA7zp8/D1dcfAMLvKmpqYKCAmJAJhKJVBAwOjoaB8r169e3t7djl5r9PPvgwQOArTVr1vz+++/wgBOLxX19feAd+vr61tbWYNbYk2AyApkfuPbRo0f5fD7Mw6VS6cDAAPFBOXLkCLZ2HPEdHBy05x4TExMWiyUWi2EwDt/AzZs3Q0lhZWVF4Cy2EGtra8g/1q1bh8O6UqmcnJw8fvw42nDx4kXwfdAqKysLPFFPT08l+JyensYWha9gQbV8+XIvLy8ejwc/FnDGAAAgAElEQVSramhh9PT01q1bNzY2RuzuKYoqKCiALZGWlhZs+F68eAE7Jy0trYcPHyK4A4/Hw/5KDLzoyO/8+fOdnZ0SiYTY6xBp7gJDvpRefVsyPwCpBw8eGBkZ4YQTFhaGIxOWiVAojIiIKCwsJGYJaWlpy5YtgwUY8XslAMjJyQlzdeXKlSUlJXTkh/JXrVpVV1dHzFtlMhlOUBAOwecJ8yUnJ8do7tHR0cnNzYWLFebb7OfZiYmJTZs2QRV75MiRmZkZeji6iIgI6BY3bdrU3t5OpFlQI2pra+/atSs2NhbK0DVr1kCNCE5CUVRvb++uXbsgzSK3UxDveII5yLomMj/0fe3ateXl5fh19vMsn89vaGhYs2YNAJmNjQ38tFSOU8HBwbq6ugBwZmZmAwMDdO6k4oehoaEoc82aNdBjQOgokUjq6+thkqijo/PgwQMQDR3U09P74YcfXr9+DX4Fp+a+vj4nJ6eWlhZYScrl8j9Efrdv3+bz+QB/QGlqS1kN+YEJJCYmAs4aGRmlp6cTziCVSplM5vnz50GHFStWtLa2okCV88rBgwfhTL1hw4aBgQG0XCwWc7ncq1evIsj/pk2bRkZGMGnVWqL597uhgAb5fTdD+T86QtilQqGYnJzEsVtPT8/e3p5ADRKmBOiNoigGg9HU1PTs2TM/P79NmzYRhAfHC6g4Hz58SNf2kvirw8PDmzZtgimShYXF7OdZctEQHfmB0d+6dQsxX+Bqx2KxoM3U0tIyNTUlIjqJROLt7Q25mqmpKYvFwk8IdzI4OEhHfjik4lAuFosJ8lu7du1XIj8IKgwNDdPT0yHYg0nN+Pj4zp07jYyMdHV13dzcEOymu7t7w4YNCDG9a9euhw8f5uXlPX78OCcnp6CgICoqCjopPT29Z8+eURQ1Nja2ceNGqLfWrVtnZ2cXGhqan58P2mI7FAgEdG2vsbHx2bNnr1y5kpaW1tDQQKQ+/2Okl+Q/3xbygwvn5cuXIZFatmxZW1sbdlYS+QhnMAAOiqLc3NyARXR1dYFFiHWpTCZ79uzZihUrcDC7e/cuBHh9fX1bt27FV6ampmo7d1BQEJazsbFxS0sLwCJFUY8fP4ZycNmyZW/evCHHQkDA33//nQjYjhw58ujRoydPnjx69CgnJ0flLOzp6YnDzIYNG+rr68mB7d27d3B3AN7CnLezs4PMHhNWLpf39/fv2LEDDQ4NDUWEToIL/xD5HT58eHp6mgQfUCqV09PTELlBhTo0NIT1GxgYCBikra2dnJwMsaJIJALY4vP5jo6OaMaWLVuSk5MzMjKysrJycnLy8vLi4uLWrVsHDXtgYCB0pps3b4a4bvfu3Rg48FIoMcgRejGZH0VRRNurq6trbGxsa2sbGhqalZXV29uL0DP0ZX3o0CGIig8dOgQRr1QqvXLlCiLzr127dnh4mERFwBRKTExEFAUtLS0AVmwE+/btw1HZ3t4esRTAwFV+frdu3UKBO3bsGBoaIscMeks06e+GAhrk990M5cIdmf08y2AwYPqtr69vZ2dHeCs2DHzW2NhoaWkJBQT2J5z/DAwMVq5c2dzcTCxvHj58SBDh77//jrOmUqkcHh5et24dkB9kfoR305EfRI+wZAdflsvlXC4X/hza2tomJibAcCr3Qx6P5+LigsP60aNHJycnAVvR5sHBwS1btiBOIZEyop08Hu/s2bPg5mvXriVQ8svaXggXV65cCU0cIejExMT+/fsBQH/9169isVgkElVWVsJhBYQi7ntguGgzPikoKBCLxQKBIDY2FmyXUBi27b/+69fR0VFUN/t5tq6uDsZM8NRDycuWLdu2bdvLly+xu5C2Lc3EN4f8pFLpuXPnMFc3btwIm06yQJRKJT3Ar1AohP3o8uXLN2zY0NfXRx9lmUz24cOH9evXw4w1LCyMLvPDAnR1daV/QlFUQEAA5p6RkVFzczMRehUUFMCodNmyZRA6EumRQqEoLCzEIiKTHGAOQMrQ0BCuXZs2bYImFJXKZDKYwaFGfFJfX0+ckYnGc/v27ag9NDSUOC6QttHpg5Kh7YVc08bGBuGQUKxCoeBwOBcvXgRU3bZtG4nYcuPGDdKLiooKQCuiFYGKFo4pUF6jd+QT+HxoaWmFhIRQFNXa2qoCiEZGRsuXLz9z5gyOmmgD0DkwN/GNra2tJSAsPj4eeSQSybNnz4yNjaFJBziGdYq9vX1DQwN9+OjID/NEFT/V1dUVkP3gwYOwxqF/kp+fT9qPZqshPz8/P1in4IguFosDAgKAL7dv3z4yMkIvTZP+/iigQX7f35j+jx4R5AcXUTryA4aYmpq6efMmQBu82Hbu3Onq6nrp0iV4+xPkB7u0jIwMMPRVq1aVlZWBzRHkp6urq6en95eRH2LNzEd+urq685HfwMDA1q1b1ZAfdgupVGpnZwfe9+OPP0KAh6P2qVOnDA0NdXV1nZyceDweOdpmZ2cDrq1ataqoqIhORDryg6G3RCL59OkT3PF0dXVXrly5ffv2ffv27dq1a8+ePbtoz88//1xRUYFamEzmvXv3Tp48aWxsvGzZMvoGY2Ji8unTJ4Jrm5ubnZ2df/rpJz09PfjuwQZx+fLlKSkpEL7SW7jU0t8W8sNR4fDhwxjNNWvWcDgcSPsIuCFzXiAQiMXiM2fOYPYaGxsjAjCGGCFUWlpaNmzYAN953H4hEAg6OjqIVxbcOOiz4g+Rn76+Ph35QeH79OlTnFL09PTWr1+/Y8eOPXv27N69e9euXb/88svOnTt37Njxyy+/mJqaAk2iOxRFXbx4EedDQMYVK1ZUVlaS6Y0zJ3yesOiCg4PVCEIoQ8ok2l64a9ja2tJRF4IzX7lyBQ3etm3byMgIot+h76BndXU1voKEUiqVTk1NAWdDFb59+/bd/+9BB/HfL7/8kpKSoupaV1cXpIBaWlrnzp1TawMGiMRZpCiqoaGB+AjD3xkYl8/nFxQUnDp1CgdIeMCg8Zs2bYIhDUaB+AAdOHAABipsNtvKygoM5MCBA2NjY/SxViqVr169Apc2MDC4ceMGGjk5OUlkfhrkR6fYEkxrkN93PuhfQH44pxLvCh0dnStXrnz8+LG3t5fH4xUVFX0l8sMpFjK/BZEfpAi4w+PLMr//HPlB5sfn883NzcHr/16Zn7Ozs0AgkMlkvb29UIivWLHC0tKyo6NjYGCgp6enr6+vjfY0NjbSr0vh8XiDg4Nv3ryJiYm5dOnS2rVrIQ/Q1tb28/NDeGoIZScnJz99+pSdne3v7w+DQqicjI2NR0dHicTiO5++i3Tv20J+MBi1sLDACBoaGnZ1ddEjFaOXxOhCoVA4Oztj9i5btgxWtsgD0FBRUfHDDz/o6uquWLEiLi4OYpvOzk7EutPS0nJ0dFSj3J9FflBiIhYd7BYCAwNbWlo6Ojra29vb2tqam5sROLq7u3t4eJheXUFBAcJ50o83Z8+enZ6eVigUKFnlHjswMECg6o0bN4jyUQ3zzUd+sBg5fvw4AtETmZ8qtLuNjQ0U0Pv27ZucnMR9RXTfXuIzCztLqVTK4XBsbW1B7YMHD9bW1rb/vwedbZ57Ojo6xsbG5HJ5c3MzzFp0dHSOHz+uhvyIUv7LMj+QSyKR9Pf3l5WVxcfHe3t7b9myhUT6NDMzI0B5vsxPJBI5OTkhICKUs3T6K5XKhw8fwspZxcMTEhJAIg3yo1Npiac1yO87nwCLIT/I6iQSCYIL6Orq/vLLL3CqVSqVAoHg2bNn85GfUqmEh4e2tvbKlSvfv38PBqdQKP4Q+RUVFa1evZqO/GCjI5PJELcZDH3//v0QRs5+np2ZmXF2doYO4siRIxMTE8TXgaKoBWV+MFQaGRnZuXMn0UrD1F2pVDIYjGPHjkEJa29vz2azyV1t0GIjil5BQQF9WtBlfi4uLjDHHh8fh/el6sLT7du3CwQCbMAymQxOwfhLbnBCgYhtCxGgUCgcHR01MTGBwsvMzAyudkqlcmZmhh6sXyQS3blzh4RSS0xMXOJiv28L+WHo/f39iRjs+fPnkDkRlJOZmRkTEyMWi2GwdfPmTWARPT297OxsqDWJsCo1NZWcah49egRx19+L/NC8/v5+Yud36tQpIiBHS2Y/zyIaAM4qsJ+TyWT79+9HhJRTp06FhYVBI7x8+XLcDkcyQ+YHE4ugoCA4ZBCC0JExqRfaXvRdFc8FN+UQ5MdgMHbs2AELPDMzM9yioYqUREd+NTU1ZGlDzioSiVxdXYEX169f39bWRi7twJmNP/coFAoY8HE4nGPHjqGDq1evRnR30gaVR3BQUBCGDJdkVlVVocEqIVxsbCzKpNsFondKpXJiYuL06dPgBsuXL+/o6AD4Az21tLT279+PC04oivL394du2tjYmA5n0Ttvb29IBLW1tUtKSqCu0SA/MvSahAb5fedzYDHkh25PTU0haLCWltbWrVuJbTKPx/P29obdiZGREWx0wIbUkB9QGvAN7LV1dXURa3728yzunkJdhYWFiHevpaWFAKp/FvmNj4/TDZm5XC5M2g0MDDZt2jQxMYFtg8/nx8bGwvdCX1+faHtnP8/Czg+MGDFBIDxTKpW5ubl4/8MPP6jFzFNDfsQ+xsPDAxuAKozqnTt3mEwm9gwWi9Xd3X3kyBEHB4fGxkaEzhEIBHFxcebm5k1NTZA3yOVyqVTq4OCAg76JicnMzIxCoairq9u7d29iYqJAIJBKpXw+X6lU1tXVIQ6ZgYFBUlKSRub3DUV1kclkXC63qqoKYZONjY1PnTrV19eH5SYQCFpaWhCQ5eDBg3CVqKmpWb58OY4oZ86caW1tBY6Z/Tzb0tIC8zgtLS1VxL6enh5EUOro6FAFIYcm1NnZWQ1ZwtZNW1t7+fLlTU1NmD8KheLly5e4I0dLSys0NBRghclkokyKoo4dOwaEsWbNmqysLKFQCMcIoVBYVVW1d+/e4OBguswvIyPD0NDwh7nn9evXk5OTe/fuBQq5cOECudOMoqihoaF9+/aRKIMsFkskErFYLCaTCd8IAqcA0SiKmpyc/PHHH7FOjYyMwsLCZmZmcHjj8XiRkZHwNV6+fPm1a9eIGTEd+WH1EQwNV+LCwkJ4vGppabm7u8NxBIt0eHjY2tr60KFDhYWFOHYqlUpCTC0tLV9fX8TYQ0iB7OxshJo/f/48wohWVFQQ5BcXF0c8b3JyckxMTHBxC+IVKJXKyMhIZDYwMCAu2IRFm5iYIN6KXC4vLy9HFC0dHR1E1YFHHZ/Pr66uJuGufvnlF3iGwVN77969OGD7+vriBItrzVV8JigoCEaH27Ztow8ouLfm73dGAQ3y+84GVL07X0B+MplMIBBYW1tjg1m1atWdO3e6u7vb2tri4uJ++OEHctz39/cvKChgsVgURanZ+dGRn5mZGVi8vr6+s7NzeHi4vb19amoqRIkvXrxYuXIlrLNzc3OhiAHn/UqZ3/j4OAl7gWhbMOYDclLZz6WmpmZmZrq5uf3www9oiZ6e3oYNG2B8gyAyZ86cQX+3bt0aGRlZVFQEjgmWbWBgsG7dOkRqIKSkIz9nZ2cIYGY/z3Z2dhInjx9++MHBwSEtLS09PT0iIoLY0xw4cGBqaorH4929e3fdunUGBgZbt24NCwt78+aNysQ7NTUVTip6enp2dnZcLretre3o0aN6enrGxsaOjo7Z2dmlpaUvX760sLAg+0d1dTWPx4ODM2nkkkp8czI/nILgQwrDzX379kVERKSlpV2/fn3btm2I27du3ToEqJv9POvm5kY8A44ePRodHf3s2bOIiIj9+/cj0KaBgYGvry+OT7OfZ/8a8vv06dOGDRsQPmbVqlUBAQFRUVHnz58vLS2VSqUikejVq1dYTfr6+tu2bQsMDHw49wQGBpI76BwcHBAjkM1mm5ubo9k2NjZcLlcikdy9exfYcfXq1cXFxcSxjMvlnj17Fut0+fLlbm5uYWFhjo6OhYWF5KYcAv4gGAPyI3E3V65c6ebmljn3ODk5bdiwAVJVIyOjkpISYF9VLEy6b++nT5+AeolDCUgHSITPzc3NIyIiHj16lJiYaG5uDp31zz//3NLSgm/Hx8e3bt0KZxqs3NTU1AcPHsA2GuLDEydOoIrKykqALdUp8d69eyjhzZs3mzZtMjQ0/PHHH729vfPy8oqKitLT06Gv19XV3blzJ0HJdDs/xPND7MCTJ08CN+vr66vMlxMSEnJzcwMDA4nHtAqDJicnk9Cqi8n8AP6Cg4MxcBoPj6XASzXI7zsf5S8gP6CovLw84tempaVlPPfo6+vv2LFj3bp1BG1s3769ra2Noig1mR9hzbOfZ+/fv497eOF0Bq505MgRhDJ++fLlihUrli9frqWllZeXR2LK0H17v2znB49IWA1CAJmXl4ca4edBrGT27t0LqESQH8LMqjRN4eHh6BQy4744iqIePXqEQK9r1qzB/kRmxmLIj6Ko3NxcbAw4LmP/hsfusmXLDAwMVEAQAgzs+jC+IVRFGAV8lZeXR1FUU1MTsCAx0IZvLz7R1ta+cOECNOykeUsw8c0hPwiZhoaGyB2sQANAD/AtUMW9u3PnDpShFEXBEgARlGAgSKaNsbGxvr7+gQMH2Gw2nAmUSmV7e/vmzZv/rMyPxWIhEgq8T+AHpqWlRS4JFAqFHh4eMCvEkQn6WdIYLS2td+/eQdWblpYGXLtmzZrCwkIINYeGhuCrpMp56NAh3ORLUZRIJEIgPfAEPT098A0LCwswB6L5VdP2wmIE+A9NgoYXAj8dHR17e3uE+IaAjS7za2xsRGlQgAIdymSy+vp6ctBFyQR24yYVBwcHFosF4ZxcLn/16tXq1avRcgwlRH04MK9du/bDhw9fQH7JyckAiOg17l4DR0Izbt++jXUtk8lwFNTX1z969CgUC4CPzc3NRAJKggngcx0dHQMDA0tLS3J1uEKhmJiY0Mj8liC3XLDLGuS3IFm+n5cLIj8SuAFGJ1evXsUNniSMyL59+xoaGkJDQ3ELmb6+/ooVK+rq6pRKpZrMjyA/RFVwd3fHRQUwP9fX19+1axeCDrx69Wr58uVQwj558gSuGPg7MzNDzA0PHDhADF/4fL6rqyu8RkxNTaHPBdfDCEEr/eOPP5LzN+5lLyoqunbtGk7wkPmBC8PV7vDhw2CUBgYGO3fuxPXq+fn5fwr5oRkikSgrKwsyG+yd5CLUHTt2REZGkoC9Kqe8iIiInTt3wuwJaBv3X/38889JSUkkMFhVVdXJkyfXrl2LHQ5bLLRRVlZWiL/6/UzQv9STbw75IY6JTCarqamxsrJatWoVrnwlg7tly5aIiAjs05hacrn848eP1tbWJDoxuYJs48aNTk5OY2NjdLPXv4D8cParrq4+fPgw7tcBhFKFHzc3N8eBTSaTsVis69evI+oywBlQy/Lly3fs2FFUVATBP4vF2rx5M8AQuWEWqsa4uDj0dNmyZTk5OXCDUCqVIyMjFhYW+AT31mhpaeE+cTVtNaYJ/fY2c3PzuLi4n3/+GZSEu8OyZcucnJzGx8eB+WAsSO7w0NfXb2lpQVEwUAG4BB1qamrOnj0LOqC1sKxdu3btr//6tbu7G9RGyTKZ7Ld//3bkyBESkAVXcq9evXr//v15eXkw2VQoFPNlfjCkTklJMTExMTAwgGEfZJ9GRkYbN24MDAycmpoiK4MeyXl4eBh6EhiW1NfXnzlzBiwXEbPR8o0bN7q7u4+PjxPT7QWRH8SBMDvRaHsJwZdCQoP8vvNRxm0TqrhcMTEx8fHxb9++BbOjdxuevFevXrW3t3d3d09LS+vt7YUuuLi4ODw8/Pbt29nZ2QgiWl9fn5SUlJqampyc3N/fT87lKHBwcPDVq1eBgYEuLi4XL14MDw9/9+4d9JIdHR0pKSnx8fHQKdNNbZRK5dOnT+PmnqdPn5IylUrls2fP7s09z549I+/pjUfUsZs3b/76r1+dnZ1DQkJaWlr4fH5FRUVKSsq9e/cyMzNJuGmU0NfXFxcX5+joaGtrGxsbi5gIHR0dd+/ezcjISExM7O7uplfB5XIfP358586d+Pj433//HTFgiS5JqVSOjY0VFRWFhIQ4ODi4uLh4enomJyc3NDQgagxptlQq7ezszMzM9Pf3d3FxsbW19fDwSE5ObmtrI0dz1MvhcIqKimJiYry9vS9dunT58uVbt24VFxczmUxii0lv4VJLf1vIj0wAHGmmpqZKS0vDw8O9vLzs7e0vX7589+7dpqYmIC21oWQyma9evYqKirpy5Yqjo6O7u3tMTExlZeX8QB4MBiMzMzMpKSkxMbGkpIQcdVBgWVnZ3bt34+LikpOTGQwGjhkExPT39ycnJ3t7e1+8eNHLyystLY3uCQHLisbGxpiYGD8/P6e5x8/PLzc3t7m5GThVoVC0tbUlJSUlJyenpqYS0RpqZzKZiYmJsbGxUVFRL1684HK5AF7w7srOzvb19bW1tXVzc0tISKisrAReUSMFRVFMJhMqXS0trdOnT8tksvfv30dFRTk7O1++fDk6Ovrt27fT09PE/wkQs6amJn7uSU1NJYgKPIEMDdozPT39+vXrqKgoV1dXW1vbK1euxMbGlpWVETmlWpOmpqaePHly8+ZNh7nn5s2bWVlZDQ0NICxY3PDw8N27d1NSUpKTk8vLyxG7HtUNDQ3l5OSEh4e7urra2dm5urrGx8d/+vQJo0Pqys/Pj5178vPzYfIIgSUA6/T0dElJSUxMDGaIyj773r175eXlwNykEES6fvToUUxMzL1796qqqog2GfEgy8rKbt++HRkZef/+ffIT+VyT+M4ooEF+39mALtodmM7gdD4/E6SAuBsNVt5EJ6J2oRCJ/k/CI9NLAzNCLbhfEiUjDQEh8W4DFwPzhWMsyiTsGIwbiiR6ZmSg10tswAmgxK8SiQRboFqZs59n1bgbuT1pfgx9AvJgm0j0RKiCSChhTUhegrnTm00oCeEBDtxkl6J3h6RFIhG5CgUvFxtB8slSSHzTyI8uqFObM/PHDrMIywoWDgRVIDMUo0QQjoVGn+2kTEwkNURICsFEJeWQr0gGWIPBdx7IjN54vBcKhfTeQbiFN1jFKA1Lhr5U6etXrWr6v/ORH5YkvVMwrsAyIYyC9J1gSvrCJOQi1P7LqwyheRYkI72PGFBCDbAUsDvi3ULvOOkIiEY0LeBapDqEDqB/SNKgOXJCyEf4GH4CI0IGNehJCtEkvhsKaJDfdzOUX+oIwBZUq4Ttkg8I4yPoBz8pFArgRXpObDwIJEHez0/QayGbAdgK/uKmWlQNhotC6CybziuJhoi0ls4N8S3y0BsDRgzvP/IhbIxkMhniNaCpwFhwpKWXQPan+Tsu6SOxocY+RJTppFXzu0l2IDorV9tv4Buo1hjNvwDi35BvL33iEVETGcfZz7Pkgl3yUi2BifGV+zHWl1oJQI14uSC2oOcnmID+kqhfATvUfsK/krmHhDciC4QkyGpa8HPgIaz6BXvBYrFICEDI/MDZZj/PIlw2HQISsgsEAjVARn5aMDEzM0O4HA7DC7YWL+k8h95NvAcuJxEJCExHvYRRyOVyPp8PJE0vhNAcdZHDJEF+SIDtII9YLF7wTE6YP51EhPkQ61LUqMbrvtB9zU/fKAU0yO8bHbivbTZhoFjwC0qYCHChF4rwWvQ3878lhZNs2FTAUOhwk2QgnAWlEc4Ljz9gRPISTJCUSX9PT6NwevPAuei73fz8YHaEQRONMMGppM3z3xCOiWJJzvm+F/R6waZlMhkkEPQGkxLQHmwJZA9YsAHkkyWY+HZlfgTWYEzpZ5vFxpGsMrU9m+THtR+Aa/RDFMlAEmoaQPIesEDtWjPyK2mAXC4HqiCSNlibEQQDq1aUhjs5CBMgkxkLjb5SyNLD56Q60gCSmI/81FgNyUkwE6mX3nf6qlRL00v4yjTUIKAMmBXKJAdptIEoE8AHSB7UQto5v1KcwFG+GuYjyA8D8QXSEYXD/PIJI8LnOJPPz6Z58z1RQIP8vqfR/Kq+zGcx4EFf9fF/nEmNz85vzH9cw58r4Cv7rtZs+r7y9SUs1jK1woEG/r9TZrHW/hPef1vIj04x+ljT3/8naZwWvlzyV87SBZtBn4oohw5Y6YI6ehtITgJW1H79MkyZ3xKJRDI1NbVt2za4MlhYWAA+0ps3/6sF33z5E7RzwQ8Xe0m6RjqrJp8jGchgLVbU/PfkdEovfMH0X2g5WNn8SjVvvm8KaJDf9z2+C/RuPtf7a/xigaK/4hWdA/43612saV/ZhvnNVnuzWPlf816tKPLv13y7NPNokB993AmY+MLMwU/0r/5aGuXQkd/82kkz1CAL/f2fbQ/k9wwGY+fOnWvXrl21apUq6t4/HPnRwRm973Tqfc0oqJGRXqxa+s9S9Wtq1+T5LimgQX7f5bD+uU79N/kFnQP+N+tdjCJf2Yb5zVZ7s1j5X/NerSjy79d8uzTzaJAffdznYy/6r0hjUs1//2ffoBw6dplfO5nAapCF/v4vtEehUAgEgtevXz958iQ3N7esrAxRrOcfZf9sp9Ty/4W2ka6pQTHyL8lAEmqVfuFf8gkpbbEEcn6hKM1PGgqAAhrkp5kJ1H+TXxAuRhJfGID/QsO+sgrSWpJQU/h+oRd/+BMpUy3xhx8u2Qwa5Ecf+vnYa74KD1OL/hU9/fXgCeX8NeSntmRIpfRpj1aRn9QaKZPJFoxqREqg5/+z2mTy7ZdpRbLRE6QBamCXQDR6BrXyF+wsKRykxiektMUSaiWTQjQJDQXUKKBBfmoE0fz7fykAZrQgSwLT+UoyEQ6F/PM9FdRYFWHWCwawUKsUduXE4RGFkwIXbLyamTMxUVIrWW2LIr1Qc4qc3x0Y9xCLadJrhUIBZ17EtiDkRWsX+zu/VZo3oMC3i/z+90ZQzWuYwEFSI32akZdIKBQKtXVEMiy2juBaQXdRh38GJj+piwatZX8AACAASURBVJQzPwGHFTpUQrQR4mGA8FKoQq0ZcJIlbiKoTo01yeVy0ik4nZDOUhQFBAk3FDXPki80nnhh4/JuwqaIYwfpJmkwCSxAfgIXkkqlxNUXxCTvSU4Qhyi1pVIpCRCt1lm6kw35XJPQUGAxCmiQ32KUWdLvR+YeACDAI8LIQBf6SZQwSnoCYV9UVw+VlZU9f/4cgWfVIBHxRiQQCiUQPgjGR0aCbCpkz2htbcW9452dneB9BKXRxRJwRQSsJO/J1ogtk0STIdV9IUHaCQdhtWgsoBupiMFgjIyMqO09f0hANYJ/oTFL8KcliPzU1gLmD7w+m5ubsWTmz0PMDbWFSc5XFEUNDAyoBbZEUQiESVYcfY5hvWDNtrS0iMVipBFKkH5qIl/hRESf0uAPKArRTNSYAxxmcWMkWbmIKUhvP6niCwngWqA04h8tFov7+/vp4UvIhRZkbRLWp1QqoVmWSCQikejt27evX7+enJwkpS1WO4ldtWCG0dFRBoOhNrIL5qQzHGQA6ZAWi8WNjY0YOMJLFyxH81JDAVBAg/w0M0GdAiKRKC8vLzU1lb6R4HiKeF2I1ED4I31fIWmwoeLi4nPnznl4eFRXV6MatVBh4LYIAyuXy0dHR3HuJ+EhwOvJrkACJSCg/+nTp9va2vh8/rFjx3p6elDpguAPP5EYE8BhaoWDBeNz+i5FCAQiQBSBMApsNptsnOgLvQoUkp2d7e7ujotE6e2n04pUQV4u2ACSbYknliDyo4ur+Xz+2NiY6t5bsVjMYrFMTU3ZbDaulCUrBUErCYCjr1ZMY7FYLBQKXVxcysrKsNKBz4gYj8AyrFnMTLqoicvlurm5TUxMYLUqlUqRSDQxMUHM7+iZ6TOWYB1Is4ikHJIz0oW6urrDhw9PTk4KhUI1voH4fETmRy9cJpPRA2FC5IYMQqFwdHQU6eLiYjc3NyaTCRyJkHtk0aGzyIlWgYEIBIKbN286OzvHxMS0t7eDVljUdBoichNFUTweTyaTjY+PgyaknWi5u7t7REQEPhcKhQRHEvqQMyRpCbqDNiObSCRis9nHjh0bGhoi5WsSGgp8mQIa5Pdl+izFX6VSaU5OTmZmZkdHx9DQEJfLBZrh8XgjIyNdXV1cLpewOTrMImmI35hM5rVr19LT0/v6+oCWBgcHBwYG2Gw2OJdcLh8aGurv7xcKhbOfZ2tra1X3R3V1dY2OjopEIsRfBQ+FXEEkEvXNPSKRSCqVTk9PX7hwoa+vTyKRnDt3rq+vj8fjkTYgQT/TT05O9sw94KdyuZzBYHR1dQ0PD3O5XPB38pfH4wnmHh6Px+VyZ2ZmhHNPe3v7yMgIdD0jIyOWlpbl5eXguYg6MTQ0xGaziVZILpfPzMywWCwomHrnHqFQuBjCW+z9UpyIi/d5aSI/0EMul/f19fn7+5eUlIyNjbFYrLNnz46Pj7e3tw8MDNARUk9Pz9jYGI/HI1gKswtLDEHLGQwG1I48Hq+/v7+3t7e4uBgrlKz3qakpSNZxRdvg4CB4wsTExI0bN3CpI9pWU1Pj6enZ3NxMwF9nZ+fw8PDMzAx4AkFUY2Nj09PTg4ODTCaTIKfZz7MDAwNTU1MQXM1+nh0eHsZqbW9vHxwcnJ6eBjzCWhsYGCD6XJQMKDw+Po4lNjMz09vbi7tup6enS0tLcQMvj8fj8/mTk5MIoz09Pd3b2zs2NoZuoihgZaFQ2D33QDs8ODh49erVioqKnp4ewESFQsGlPbi2ZGxsrLu7GxEEBwYGLCwsysrKOBwOn88XCAR8Pn9wcFAoFHI4HJB6ZmZmcnJSNazT09NAcjwej0TRJ2h1dHR0YGBgcnIS8kuKokZHR7u7u8fHx8+dOzc8PExnd4uvHs0vGgpQGuSnmQTqFBCLxfn5+S4uLsHBwbdv3w4NDcVNtY8fPw4MDIyKivLx8WEwGFNTU3FxcXK5nMViubm54Ubz5OTk3t5e7DRtbW1Hjx51cnKKiYkZHByMiYnx9fUNCQm5ffs2gNGDBw/8/f2joqL8/Pz6+vri4+PNzMzu3LlTWFjY2toaHh4OLe3z588TExMpirp//76np2dAQIC3tzeY5oULF8DvrKys+vv7P378GBoaioN4R0eHj48P2UJaW1tdXFzu3bvn6en58eNHiqJUu46Pj09kZKSHh0daWppUKr17925PT49MJhsaGvL09JTL5ZWVlSEhIQEBAUlJSZOTk8HBwWFhYf7+/nfu3GGz2VlZWTt27Lh582ZBQYFAIHj58mVQUFBsbGxISMjo6Ci2KIVC0dDQcP/+fYFAkJycHBQUFBERERkZSQJl/1nVlfpoLcn/lyzyA37Kz88/evRoQEBAZmbmyMiIiYnJvXv3oqOjra2ti4uLKYpiMBje3t63bt3y8vJKTEzEVwAK/v7+8fHx169ff/HihVAovHv3bn9//+zn2YyMjICAgPDw8CtXroyNjfX29gYFBUVGRmLZjo+Pi8XirKys69evR0ZGhoaGTk1NsdlsX19f+g3CERERhw8fjo6OfvHihVQqTU9Pv3TpEu7VbW9vh6BdoVB0d3d7eXmlpqZGRkba2dnV1tYqFIqenh5kdnFxyczMlMvl4+PjHh4eIpHo6dOn7u7u4eHhQUFBHA6Hy+UmJSUFBASEhoaq2gyNKoRhKSkpN2/e9PX1LS8vb2lpcXV1DQ8Pd3R0bGxsHB0d9fb23rlzZ0xMTFNTE4PBAFdRCSnDwsJu3brl5+eXkZFBbrlEA27cuBERERESEpKWliaRSEpKSg4cOBAUFJSamioSiSB6zM7ODgkJCQoKevLkiVgsjoyMDA8PDw4ODggIGBkZSUxM3LNnz/Xr19+9e8fhcAIDAyMjI/38/FpaWlJTU58/fz77efbly5eXLl26d+/elStXmpubS0tLo6OjAXk7Ozv9/PwEAsGTJ0/c3NzCwsJcXV27u7sxZJ6enhim48ePQ7JIxnpJMgZNp7+WAhrk97WUWjr5Zj/P5uTkXL16FXIvPz+/0dHR3t5eT09PDocz+3n26dOnN2/eVEkCgoKChoeHP3z4YGpqmp6eLhAIQkJCsBNAgxMTE/P48WOAm5aWFpFINDU15eLiMjk5idMzBAa1tbVDQ0PDw8PXrl0bGhri8/kVFRXW1taQkyUlJd26dUsikVRXV4PVWllZVVVVMZlMW1vb3t5e1U8nT57s6enhcrlHjx7FcTw4OPjBgwc4BMvl8pGREQaDMft59tmzZ6pNUSKRREZG5ubmUhQ1NTVVVFSk0raEh4d3dnaKxeLOzs7z589TFFVYWGhqago7JCaT+fHjR4VCMTk5efz48YmJCaVSef78+fb2doFA0NXV5e3tjb5nZmampKRgn5PJZJWVlXfv3p2ZmbGysurr64OeGtOJaJeWzuz6W3q6ZJEfdI48Hi8kJITBYGBBbdmypbS0VCgU1tTU2NnZiUSi69evp6SkwHDC3Nwc1nIURb169crX11cqleLeQqFQGBgY2NHRwWKxvL29UeCNGzfYbHZnZ+fx48cHBwdxInr8+LFcLu/o6BDPPQEBAT09PZOTk9euXYNYDsLy0dFRPz+/6elpiqLq6+vPnTsHGWRGRoaTkxMRw3d0dOzcubO2thbr0dfXVyaTOTo6FhUVwfDD3Ny8sbGxv7/f0tJSJBLBlkMul0PWWFxc7O7uDq7i5eX19OlTWPIpFIobN25ERUUB/TQ1NQ0MDMhksvT09KtXr1IUVVtba2Njg9NgV1dXUFCQTCZLSEhITU2F88SVK1dAK3QnMTHx4cOHFEUJBAJ3d/e2tjY2mx0eHj48PEwAlkKhSExMvHz5MowCX7165erqirZFRES8fv2aoihLS8vx8XEckq2trRsaGjCON2/eTEtL43K5hw8f5nA4CoWitLTUxcWlr6/v5MmTbDaboihvb++MjIy2trZz587BYuT58+dOTk5DQ0OnT5+enp5WKpUFBQX79u0bHx+nm5r8LQtNU8j3SgEN8vteR/Yv9gs3QeXn5ycnJysUCj6fHxkZyWAwqqurb926Bb7c29t79uzZ2c+ziYmJbW1t8fHxSUlJ3t7ePT09ISEhYGGoPjExMSsrC3Dtw4cPycnJwcHBZmZm4+Pj1dXVYWFhQGZgo6Ojo9euXWOz2Xw+/+PHjw4ODigEyE8ul3d1daWkpAQHB2/fvr2oqGh6etra2rqnp4fH4508ebK7u1vlbxEeHn7nzp2JiQlzc/OOjg7Ar9nPszwer6CgIDY29sKFCz4+PiqJhZ+fX39/P5G9qRRAQUFBXV1dUqm0qakJNwQUFhb6+PhAeieVSsvLyxMSEry9vU+cODE4OEhRFCQWSqXy06dPJ0+evDP3uLu7R0ZGkgGoqKiIi4uTSqUPHjxwd3dPTk6ura0lqhyNzI8Q6usTSxP5YR6KRCIGg+Hj4zM2NiaTyTgczuHDh2F+0Nraeu7cuYmJibNnz964cePevXtJSUlOTk51dXU4Y8zMzHh6egYGBj58+HBgYEAikQQEBLS1tcEw4/3792VlZZ6enlwud2BgwMfHZ2ZmRqlUPpx7BAJBR0fHw4cPAwMDjx8/3tnZyWQyvb296d5Lk5OTvr6+UNcWFBRERUXBUYPJZB47dgzaT5lM1traamVlheGuqalxdHRUHavOnDkDyEhR1PXr13Nzc/v7+0+ePMlkMvPy8hwdHW/fvl1fX4/2XLx4MXHusbe3z8nJwc1mKsuQW7du4XyIE11ubm5cXJypqam/vz9FUU1NTWfPnkW93d3doaGhSqXy0qVL79+/x8V0SUlJBQUFyDD7edbR0fHdu3dQrcbGxubn509PTwcGBg4ODhIHC4FAkJSU9ODBAyi4IyIirKyskpOTU1NTr169WlhYKJFIzM3N+/v7pVLpxMTElStXJiYmYLkYGBiYkJBQX19/4MCBhISE+Pj44ODgy5cvT01NOTs7Z2VlDQ0NWVhYTE5OlpeXm5qapqWlJSQkBAUFeXh4FBcXX7t2DU3lcDiHDh1iMpmakyQIovn7hxTQIL8/JNHSyoBTY05OzoMHDyByw/keilTsPXV1dTY2NiKRKCcnJzc318/PT2X95u7uXlJSkpSURCxUlErlvXv3CgoKRCKRyiDJ19e3srKyv7//+vXrKp5eXV0dGRmJ87dAIJiZmeFyudeuXYPdT0tLC4QEKpUHNM4MBsPKyqqsrKylpcXBwaGyslIkEp09e3ZwcJDD4VhZWXV1dcFX0crKKjc3NzY2FqAKUof4+PiUlJTW1tZHjx75+flxOJxr1641NzfDx5DBYPD5/ICAgL6+PuhnT506pVAonj9/HhQUBNeN0tJSe3v7mpqavr4+a2vrvr4+pVJ58eLFtrY2iUTS2dnp5ORUW1tbX18PXRKZNyUlJREREWKxeGZmpq+vr6KiwtbWtr29HTsKMVQi+TWJP6TA0kR+kD1TFMXlcmFgBzHSiRMnuFyu6hzS3t5+8eLF0dHR8+fPp6Wltbe3NzU1tbe3C4VCYvbAZrMbGhoSExNV2lKxWBwREQEfqcTExMDAwNu3b1dWVqokcD09PcHBwYBiGXMPcF5JSUlbWxvscRkMhoeHx8DAABaaVCplMBienp5wen3y5ElISAiOXsPDw4cPH2YymfCLamlpsbS0RJPKysqcnJzYbDawC5xFVKe7goKCoaEhc3NzLperVCq7u7vLy8ttbGzq6uoePHjg6+vb1dX18ePHpqYm4qXB5/Nv3bpVXl6O+XP9+vWIiIjOzs7U1FQvL6/Zz7PNzc3W1tZgYvX19cHBwRwOx8XFpby8HGs8MTGxuLgYJn1KpfLatWsQ2onF4vj4+IKCgsnJSX9/f0juIVKVSqXJycmPHj2CcvbOnTtXr15ViegaGhrq6+uZTKZKFnvq1CkcKScnJ728vIjdHrTGra2tFhYWra2tn+YewMrS0lIbG5vs7OygoCCKoioqKszNzVtaWurr61taWoaHh8vLyx0dHdHT4eHhgwcPTk1NaY6Rf8g6NBlAAQ3y08yEBSiQl5cH5IczrsouZ2JiwtHRsbe3l8vl3rx5MzU1laKo5ubmAwcOBAcHy2SymJgYExOTV69egQNCnQHkB6M6Ly+v8fHxpqamQ4cOwezaxsamq6sLyqnq6urx8XEnJ6eJiYmpqanBwcH9+/ePjo6Oj48fPnw4IiKiq6vLzMyMx+O1trZu3rz51atX4+PjZ86caWhoEAqFlpaWjY2NgK0+Pj779u2DeAAbj1KpDAwMLCkpkclkXnMPRVFJSUmXL1+GJMDKykoqlQYHB+fn58vl8vj4eBMTE+i1sXtB0uDq6iqRSN68ebN582Yokuzs7MrKylgsFpfLtba2rqmp4fP5ycnJ79+/Bx0UCsW7d+9iY2MFAoGvr+/IyMjMzIypqSmajaAwCwyA5tUXKbA0kR98OaEzvXLlSkdHh1AoZDKZp06dgkNDa2vr6dOnxWKxShhva2vL4XAmJia8vLxYLBYwwcePH5OSkiiKKisrg94zICDg06dPPB4P5xZ4O1EUNTQ0FBgYCC+rjIyMtLS07u5uJycnJpPZ19d36tSplpYWaHtHR0chs5fL5apfnZ2dmXNPd3f37t2729vbZz/Pqixuw8LCALnkcnlPT4+DgwMEVCUlJUAw7u7uoaGhUqm0p6fn0KFDPT09/f39R48eVfn23rx5Ewe8c+fOFRcXV1ZWHjlyZGRkhMViBQQEQHkKR9qgoKDKykowH0tLyxcvXkAz4O7uTlFUY2PjhQsXJiYmJBJJR0dHWFiYQqF4/PgxVA2jo6O2traQ5YNv5Obm3rhxA5ltbGwgJQ0NDR0YGKBPz9TU1MePH4MI7e3tBw8eHBkZUaHtsLCw6upqhUJhZWVVV1fHYDDGxsY8PT3hECaTyXx8fFJTUwUCwalTp4qLi+Vy+aNHj+Li4iiKkkql586dMzU17erqkslkLBZr7969b968oSgqIyMjJSVlYGDAxMTk48ePKne3sLCwPXv2AP1rxH70odGkF6OABvktRpml+16hUJSXlxcWFiIwxPPnz4eHh2UyWVVVla+vr6enZ2xsLCxOVLzs6tWrL1++pCiqra3t8uXLg4OD5Nwpk8mKiopKSkpwjk9OTr5161ZycjJCxohEoqqqKk9Pz9DQ0JSUFJFIJJPJMjIyPD09VSpdgUDw+PHjq1ev3r59OzU1taCgAAbm3t7eKSkp+fn5QUFBbDY7Ozvb399/dHQ0Ly/v0qVLUDy9ffvW0dGRx+PBRw9/m5qaAgMDw8LC8vLy/P39KyoqVEFcb9++7eXl5ePjg6AznZ2dgXOPCtdGR0fLZLLOzk6i/ZmZmYmIiAgICMjOzs7MzFQZOwqFwrdv33p6eqrs6ymKamho8PX1DQoKun379tTUFAGdLS0thYWFUqk0Ozv72rVrnp6eWVlZkCsgz9Kdan+15xrkV1ZWdunSpaCgoKGhobCwMEiOVYgkOjpaKBQKBIJ79+55eHj4+vq+efMG8YoVCsXExATcC7y9vdva2oRCYV5eXmdnZ19fX0BAgK+vr4+Pj52d3cuXL0dGRjIzMwEmKisrKyoqYNAWGhoaFxf34MGDuLg4sVhcWFgYHBw85wQvwGBmZ2e7uromJSXJ5XLVcc7Dw8PLyysmJgaOtMBkKlf36OhoWHp0dXXdu3dPoVCw2eywsDAczD5+/KhUKjkcjkreLxaLX7x4cfnyZS8vr4SEBJWcUi6X//bv37y8vAIDA1NSUhDGRalUymSygoICyP7lcnl5ebkK8EVHR//27998fX1bW1vlcvmdO3fc3d1LS0vHx8fz8/NhIPjgwQOV0xicMBDyBn0Ri8X379/39vb28PAoKyuTSCTgQgwGgz5zS0pKqqqq0DCKogoKCq5fv+7p6Zmenj41NSWXywsLC93c3O7evcvj8bKysqampuCFlpeX9+7dO4qiurq6bty4obJ3VPmjIDqVXC4vKSkJCwvjcDioq6Wlxdvb29fXFxyPoqjXr1+D4Tx//jw6OhryRXrDNGkNBRajgAb5LUaZJf1eJpMhkAq8a2G8LJPJ+Hw+0RzhcIlsfD4fQWWRc/bzLM734JU4DcMaHeFdsAHgZguB4P/uGQgGNvt5dmpqCm9mP89OTEwIBAIYpGM8pqenESEF1oSzn2e5XC7YKKJUUBSVnp5+//59lEkHf+RboVCIBsPZgih3pFIpIrCoLN8RIIYEp0XtQqEQ1U1PTyMSDUpAZ2EEiZgLJI4GPkSPRCKRRCLBbkqfXppjOp0aX5NessiPzGeKothsNh1yQflI4p4oFAoOh4MTCMw2sCIkEsno6CjBE3BQTUhIiI2NhaVafHx8ZGQkbHwxFvDWgiXczNyDMyEYgsrpAd61uF6Cz+ePjIyQQHc8Hg9KXvqwymQyQFXYWmDhKJVKsVg8PT0NdoEyeTwe+iUSiWZmZkg0E/QIjUe/CP4jzArFstlsiUSC1SqdeyYnJxHwD6sSkfzQTtJfhG5GCfAmxu07QKvkcIv8JKwgmieRSCYmJkBhaLQROpF4mxFSEL4BerJYLGB0GBFCg4E86KlYLIZrDto/+3kWJRO0iulBytckNBRYjAIa5LcYZZb0e4JFAMjAprExEJcIMDIwO5IfQbAA7IhACx4eJMQXyQz2SsAi/OmI3RvBiyT6McLSgpmC0YvFYrJ5wCzv+PHj9vb2OJSTbRJqMnoMQoS9BQdX4+NoNmpHy4k1NxL4CX0kjhpoPLYKZAB9IO8knSKbKPabJT3J/oPOa5AfiKc2i0hgPExOLDT69MbMxEok0xi6XQsLi9OnTx89evT8+fOQnZP1i7pQDk5iBETSsQtZ9XiJ2iUSyXzEQzdygJ6azAWVrZ5EIsEykcw9qBeeIuAAKBnFoi5AH3SfvkgBniAORDmkNNSIgyghBQn7THgUeorM4Cdqhzo6cYg6nk46FEWgML1AOmUwKFDloxyUTKcwgZiwSkSZ6BG4Ij7R/NVQ4A8poEF+f0iipZ4B/A4siTAmsFc6f/wymQgII9lIseSnL5RGMpNm0L8ivJjNZnd1dSHSARgiqqNnJtyZ/pK0Si2BPGRHId+SZnwhAc8StQLJvyiZ3kjykybxhxRYmsgPoAEzh04i+kzGFJ2fZ7H85L1UKu3o6BgeHibicPITPUHmLf1SkD9cufQSSHrBr9T6gjz0StXqJfm/sBJJnq9MkBaqJeifq/1E/l0sD/39V6ZJT0nhagmUo/ZS86+GAl9DAQ3y+xoqLd08hEnRGSt5uSDvXpBY5BPyK94Q7oZ/ya9qCZKZNIMUiATAnxoepTePnh+F0N+oVYd/6RlImjTgDxP4ZMGS6Vs4vZGLZda8V6OABvnRCUImp1qCnoeeVsv2p2Ygvv3KFUTmOb12kl6w3gXbRq9UjWPQ8y+2JOl5viZNWqiWoH+r9hP5d7E89Pdfkwbp0FlSuFoC5ai91PyrocDXUECD/L6GSks3D2FSdK5KXi7IuxckFvmE/Io3anyc/KqWIJlJM0iBJEFUNjAMIoJAFEWyEbkd/Y1adfM/IZlJA/4wgU8WLBlsfbGfNO//kAJLFvktSBkyOdUSC2YmaIyemZ4TE5v+Zn6a/i3S8/PgzRd+XZB7LFgyXpIVNz+PWgaSE4nF8i/2/st9wVd/Ns9idX3hPX2kFqzuyy1Z8BPNSw0FQAEN8tPMhC9RgDCmxZjplz6m/UbKIe/wZjHkp7YrELhGmkEKpCcA/ohpEamLzkNJUeQlPRs9TS+ZpEkD/jCBT+gFoka8UeugWjbNv1+mgAb50elDJqdagp6HnlbL9hem4teXgJz02kl6wXoXLBkvyYqbn0ctA8mJxBfyL/gTaaFagp5Z7Sfy72J56O+/Pk3nGKQKkkA55F9NQkOBr6eABvl9Pa2Wek6ZTKa64gyuFcHBwePj4/Cwo9sgQ99KpxQxZYMNMjwhAL9QFHwg1P4SAR4SAIh0bxJsG8RzAtkW3EuIpwVaolQqi4uLnz59Sm+k2ue4EoB4KCMn/oXtOREo4kMSYhdOJOgdRI+kFrrZO3mpSfw1CmiQ31+j29/11d+OORZTaxLugRB3xDUEzg1wpCBeVqR3pDTi9wBnWGSA1zDd32ux8ycpUJPQUOA7o4AG+X1nA/q/1Z2ZmZn09HQmk4mIqbjTE7iH7mAol8vhT0eYL2mQRCKZnJzkcDhyuRyIjYROAF4ENiKevCTiHXGUI3wcjn4E56G0tra23NxceOfRNww6MMXOcffu3bCwMNIwJOjOd3DRxXulUknizuBz0gz8CyKgRqRJycQ1hP6eIFGSTZP4sxTQIL8/S7G/N//fjvxIuBYisMdtH+AtOEqhCxDjwY8YS/v69evkBAiegHAByE/8YRE5pba2FrcDowQiHaTL4f5eWmlK01DgH0gBDfL7Bw7KP7FJz58/v3DhQkZGxosXL3Bb2ps3b9LT09PS0gAHKYqqqqpKT0/Py8vD/RZQVSgUit7e3uTk5PT09CtXrtTX18vl8uHh4aysrOTk5Lq6utnPs5OTkxVzT1JSUl5eHkAYj8f77d+/JSUl5ebmTk9PS6XSt2/fVlZW5uTkDA4OCoVCXBb39OlT1Z1RDAYjPDzc2to6KytreHiYx+PV1dWlpqbm5eXhdjWhUFhWVpaVlfX69eugoKC7d+8SKnO53LKystTU1LS0NIRR7e7uLi0traioSExMxGVQPB6vvLw8PT09IyNjZGSEwWDgqgAOh1NcXAxg9+HDByaTKRaLKysr7927l56ejlueGhoafv/99+zs7MrKSgBEslGRNmgSf4oCGuT3p8j1TWRmsVgZGRnx8fFFRUXwL+7q6gKXwI04FEW9e/eusbHx8ePHCQkJ3d3dEonkt3//tn379pSUFARjHxsbe/bsWUJCQnl5uUwmU13z8/HjR6lUqro4+Pfffx8cHPT09LSzs8vNzcVdZxrk903MDU0j/3YKaJDf307S77PAOMAZ+gAAIABJREFUhoYGR0fHkpIS1WUYPB7v1KlTgYGBHz58SElJuXz5skwme//+vbu7e3V19fv3762trbu7uyGZY7PZTk5OBQUFxcXFuFGqo6PD09OzsrLyw4cPtra2fX19lZWVe/bsyc/Pb25udnJyys/PpygqICAgJibm06dPkZGRwcHBCoXCxsYGN2my2eyampr09PSGhoa4uLj09HQej5eSknLlypWPHz8yGIyKioqrV6/W19cXFhZeuHBhcnKyrKzM2dlZVdHLly/37NmTkJAglUqBwzo7O5OSklpbWzMzM69du6ZUKt+/f3/48OHXr19XVVWdOXOmubm5srLS3d29vr7+/fv3tbW1o6OjQUFBDAajurp67969LS0t09PT169f53A45eXlISEhlZWV7969CwkJEQqFSUlJLi4uxcXFNTU1kF/SpYbf53T5X+6VBvn9LxP4v108l8v18PBISkqqr6+PiooqKCjo7Oy0sLB48+ZNeXm5i4tLYWGh6to3R0dHd3f3jx8/Pn/+3N7efmxsrLGx8ciRI4WFhU1NTXw+PzQ0NCcnp66uLigoqKKiYmRkxMPDY3R09Pbt2zizhYSERERE1NXVTU9PE9in0fb+t8dbU9//bwpokN//7xH4RuqfnJz09fXFzZUikcjU1LSpqUkikczMzJiZmQmFQltb26SkpM7Ozu7ubgcHh99//x09wy3yMplMIpFYWVk1NTVlZWWFhIT09/d3d3f7+/vHxcXV1NTg7k65XJ6SkuLn59fW1rZ///729vbBwcH379+fOHFiZmbmzJkzdXV1MOsRi8USiaSxsdHDwyMkJEShUFRVVYWFhSEMbFRUVG5u7sDAQGdnp6WlZVVVVVxcXGNjI9Svfn5+uI0XmdHOzs7O8PDws2fPUhRVXFys2iGglr1+/XpmZuanT5/Onj1bXV2NS01UF2QFBwdPTU0lJiZevnz54cOHw8PDN2/eZLFY+Leurq67u9vZ2XlsbOzevXvx8fFE6zRfD/6NTIF/UDM1yO8fNBh/R1Pev39/4cIF4tAgkUhycnISEhIoipJIJOXl5TY2NjKZzNnZGfI/mUxmZWXV2dkpkUhOnDgxPDwsl8u7u7vd3Nza29tbWlrS09ODg4MlEkleXp69vf2v//oVd/+8fv06IyMDNiF0DS89/Xd0SFOGhgL/aApokN8/enj+OY2bmpry9vYeGxvD7Rdnz56FKpPBYBw7dozFYllYWHh4eMTFxcXExNy6dWt0dBRHarFYHBgYeOPGjcjISCIDs7e3v3PnTmRkZFhYWF1dXWlpqRrya21t3b179507d2JiYgIDAx8+fMjlci0tLZuamuBdgQtzY2NjVbAvKipKJBKp9MgRERFonq+vr5eXV2JioupOqrCwsN7e3tDQ0Pb2dhgGxcTE4FpeqJUbGhouXbp069atsLCwCxcuKJXK3/79G7aN2c+zvr6+T548oSjq/fv3YWFhV65cKSgoUO0Tt2/frq+v9/LyKikp8fHxqampiY+Pl0gk5ubm7u7usbGx4eHhqampMzMzKSkpWVlZ2NXIBvPPGdlvsSUa5PctjtoX2lxWVubi4gJ7vtnPsyKR6MGDB6rrs/FJR0fHyZMnxWKxtbU1rC8I8hOLxSdPnhwdHaUoqq6u7tSpU9HR0VFRUbdu3cJ94pWVlYcPH/b19cUlGS9fvsQt22rrkSxMYj38hdZqftJQ4FungAb5fesj+F9qP4vF8vT0HB8fl0gkHA7HwsIC3JbFYkEg5+/vHxsbi9t7S0tLYamD2z99fX0LCwtra2t5PJ5UKi0qKvL09CQG14ODgx8+fKAjP39/fwaDcerUqdraWtjo1NbWzn6evXDhQlNTE7S0Li4uBQUFIpEoOztbhTUlEkltbW1MTAw8cLFtwDwcl6knJCRkZmYqFAoej2djY0Ps/BQKRWpqanx8vEKhePv2LUQLhYWFYWFh2AMCAgLy8vIGBwd7enpkMtnbt2/Nzc0lEsnLly89PT1v3LjB5XLd3d2DgoLevHmjUnDfunUrMzMTmu6amhqJRJKcnPzs2TMiz/gvDdh3XY0G+X1Pwzv7ebazs/PUqVODg4MURTU1NZWWlr548cLHxweeH4mJiW5ubhRFubi4VFVVwbMKMj+RSHTmzBl8ODU1de3atcnJSZlMNjD3cDic0NDQd+/e2dvbwzD3xYsXDx48gJkHHe3R098TbTV90VBgQQpokN+CZNG8VKfA9PR0QECAnZ2dv7//4ODgyZMnBwcH5XL5xMTE8ePHBQLB8PDwsWPHLl68aGdnZ2VlBQNq3KtrZ2e3devW/fv3m5ub9/X18fl8BwcHCwsLR0fHEydODA0NlZeX05FfcHAwRVHPnj3buXOnl5fX/v37k5OTxWLx+fPnGxsbcXZPTU21tLQMDg52c3OzsbHp7+8fGxs7dOiQk5PTb//+DS00Nze3t7c/f/68QCDo6uravXu3k5OTu7u7mZlZSEgI8fktLS3dt29fWFiYu7v7/v37s7Ky8vPzQ0ND4bfh7+//+PHj9+/f79q1y9nZ2dTUFEqozs7OLVu25Ofn83i85OTkzZs39/T0yOXyvr6+06dPe3h4nD9/3sfHRygUxsbGwnJRI05Qn1V/9X8N8vurlPuHficWi9PT07dv33758uU9e/ZUVVUpFAo3N7fTp0+7u7ubmJjgKmFLS8uysjI68pNIJPb29hYWFrdu3ZJIJHfu3Dl27JiPj8/Ro0e7u7vLysq8vLyEQmFFRYWTkxOXy21paTEzM3N0dKyurqajPXr6H0ojTbM0FPj7KKBBfn8fLb/rkhQKBZvNfvXqVU1NjUgk6u7uJtFJ2tvbRSIRZIHVcw+Hw4GISy6Xv379Oi4urnXuiYuLs7OzQ+i+hoaG9+/fs9lsiqKmp6cZDAbox2AwiKZ4dHS0vLy8s7MTcVVwqShKFolENXOPRCLp7OycmXs6OztLS0tJ6Jl37959/PiRz+ej5ImJiZKSko6ODiaTiXrJiDU0NJSWlo6Pj/fNPeNzD34dHx/ncDhSqXR0dLSkpKS+vh6euTMzM01NTWgYj8fr6enh8Xj4ZGpqCv4ryMnhcLhcLqlLk/jPKaBBfv85Df9pJSgUitHR0Xfv3vX39+NUJhQKa2trq6urmUymdO4ZGxuTSqWI99TV1YX1xePxSkpKYHzCZrMbGxtLSkqGh4cpihoZGeFyubDNZTKZCDjV3NxcW1urxgH+adTQtEdDgf9VCmiQ3/8qeb+3wklAVGhhoDSBn4SaQAsCM4lEogJb9vb2D+cee3v7tLQ0QhSRSIQSSBhnuL6Sl8QWB/GTCdaEBSE9jiDKVCgUYO4kWBc+gXcF3Z8DbxB9EKaBKEE+99CdMKA+Ru/kcjkJPAbbc7xXKpWkL0qlEg2DNwlCi9Hj+ZHuaxJ/mQIa5PeXSfetfEhiYSLYJ4KlI8Q6ukBfiVhfdBaEtFgshopg9vOsWCymL0Mi8v9WCKJpp4YCfyMFNMjvbyTmd14UiZtPkJly7lms2/+HvfeOiWp5/8d3IUsLzYAlFow1ihprLBgbUdSAypUiEcQgJTQDAhFLRDSoEASMeiHWCMq1x4IRlVgwghpqqKGGGtpma7ayu+dHeP0+k/NdlTfqvYo65w9yODv1NTPPvOaZZ56BbNXpdO/fvz82+Lx//554av00FlgXvhO5r9Vq8Z1IbZK7Uqkk4hvh9dKERSBEP3HOTCganPjDYSybeiIRnU7HLg+op176n/6rN/cgC5Lgp+Hpl29DgDK/b8Nt5MfCwoms8T5bYHJlDk6EQCCwPSVBLhHh8NlE6EeKwJ+MAGV+f3Lrf0XdwWkgZFWDD2Fg4FLkQg7cs6RWq9lsiTAzCGjwKpICW3v3WbaE+UCr1eL6OKIaRBYkHej8SK1AVZEjjp7gJ2wSsScGtgoT+kJCNPXucCOJf5Ys4lf27SMoKkmNHZ2+fzMClPl9M3S/REQwP7LU1CuzUCgkXzD2iQQgRiYIQFwpkfBk1LOjkF/pC0XgD0GAMr8/pKH/w2pihT3MvygHWzf2VSVj3+P0tRGHE16vFsOJQsP8eAQo8/vxmI+cHOkgHTltQUvyiyJAmd8v2nAjpdh6Uvh//vud5f5myjjMfPXKP8xYNNgPRoAyvx8M+IjKjj1IR1TBaGEoAr8KApT5/SotNULLyZbCw3n/zmpQ5vedAP4e0Snz+z3a8dtqwZYz35YCjUUR+MMRoMzvD+8A31t9thQezvt35keZ33cC+HtEp8zv92jHb6sFW858Wwo0FkXgD0eAMr8/vAPQ6lMEfj0EKPP79dqMlpgiQBEYMQhQ5jdimoIWhCJAERgeApT5DQ8nGooiQBGgCHwGAcr8PgMK/UQRoAiMZAQo8xvJrUPLRhGgCIxwBCjzG+ENRItHEaAI6CNAmZ8+IvR/igBFgCIwbAQo8xs2VDQgRYAiMDIQoMxvZLQDLQVFgCLwSyJAmd8v2Wy00BSBPxkByvz+5NandacIUAS+EwHK/L4TQBqdIkAR+NEIUOb3oxGn+VEEKAK/EQKU+f1GjUmrQhH4MxCgzO/PaGdaS4oAReA/QYAyv/8EVpooRYAi8N8hQJnff4ctTZkiQBH47RGgzO+3b2JaQYrA74YAZX6/W4vS+lAEKAI/EAHK/H4g2DQrigBF4N9AgDK/fwNFmgZFgCLwhyJAmd8f2vC02hSBXxcByvx+3bajJacIUAR+OgKU+f30JqAFoAhQBL4OAcr8vg4vGpoiQBGgCLAQoMyPBQZ9pQhQBH4FBCjz+xVaiZaRIkARGKEIUOY3QhuGFosiQBH4EgKU+X0JGfqdIkARoAj8TwQo8/ufENEAFAGKwMhCgDK/kdUetDQUAYrAL4UAZX6/VHPRwlIEKAIMQ5kf7QUUAYoAReCbEaDM75uhoxEpAhSBn4MAZX4/B3eaK0WAIvBbIECZ32/RjLQSFIE/CQHK/P6k1qZ1pQhQBP5lBCjz+5cBpclRBCgC/zUClPn91wjT9CkCFIHfGAHK/H7jxqVVowj8nghQ5vd7tiutFUWAIvBDEKDM74fATDOhCFAE/j0EKPP797CkKVEEKAJ/HAKU+f1xTU4rTBH41RGgzO9Xb0FafooAReAnIkCZ308En2ZNEaAIfAsClPl9C2o0DkWAIkARGESAMj/aESgCFIFfDAHK/H6xBqPFpQhQBEYSApT5jaTWoGWhCFAEhoEAZX7DAIkGoQhQBCgCn0eAMr/P40K/UgQoAiMWAcr8RmzT0IJRBCgCIx8ByvxGfhvRElIEKAL/DwKU+f0/cNB/KAIUAYrA1yBAmd/XoEXDUgQoAiMAAcr8RkAj0CJQBCgCvyoClPn9qi1Hy00R+GMRoMzvj216WnGKAEXg+xGgzO/7MaQpUAQoAj8UAcr8fijcNDOKAEXg90KAMr/fqz1pbSgCfwAClPn9AY1MqzgUAjqdbqif6W8UgSERoMxvSHjoj781AkqlEgKUitFfq50p8/u12ouW9l9HQDf4aP/vwb/sj+wv/3ruNMFfHQHK/H71FqTl/0YE1Go1wzCQj3j5xoRotB+OAGV+PxxymuGIRoDyvBHdPCOvcJT5jbw2oSX6jxHQ6XRarRZsT9OvQW4ggv9xzjT5fwcByvz+HRxpKr8yAmy2x17Bsr//yvWjZf8PEaDM7z8ElyY9MhEQiUTZ2dm3b9/Ozs5+//49wzBarZZu+I7MxvpsqSjz+ywsv8RHOtD+rWaSsR4282N9lkG4YU/438qXpvMbIECZ32/QiLQKX4dAQ0ODpaWl4eDj4eGhVquJ5u/rEqKhfxIClPn9JOC/OluiX9f0a1QqlVKp/OokviOCXC7/jYlmfX39tGnTpkyZYmNjc+DAAeCk1Wrlcrmzs/P48ePt7OyWLFmiVCqpiPuOTvR7RqXM7/dsV1qrIRD4lPlh83eIKPSnEYUAZX4jqjm+VBjCupRKpUql+lKw/+I7stbpdGq1WqlUymQyUpj/IrufkmZhYaGJiYmRkRGHw2Ezv87OzhUrVhgaGhoZGS1cuFAmk6lUqt+v+j8F898mU8r8RnRT0uH6XzQPZX7/Bao/Mk3K/H4k2t+Tl1arra+vz8vLu3r16qtXr4gK8HvSHGZcnU4nEAjKyspu3bp17dq134/8lZSUGBkZgeGxmZ9EInF0dAQptLe3l0gkdE9jmH3mzwlGmd+IbuuRoIsiFiTfg9RIoLCkDJT5Dd2UBKihg/3EXynz+07wf5hgqaurW7BggbGxMZfLjYmJ+deVT0NXZMGCBQYGBjweb968eSKRaAgCNMw+P8xgDMMgr+GH/4YGLSoq4gw+hoaGbOYnk8nWrVtnaGjI4XBmzpwpkUiGRukbsqZRfnUEKPP7OS2oUCggHVSDj1wuF4vFOp0OdjDE4YimXyOXyxESo1elUikUCsQiRjMymUwul8PCg9RH069RKBQymUw6+CAdrVaLrEkwqVQqk/3/hsDEuQnsQjT9Gk2/hji9U6lUMNYhcREARsQojHjwEQqFiIUyY6FPhCARQ0qlUtOvkUgkarVaKpV+6ZgFqSYR3AqFAlHYblkYhlGr1STHtrY2uVyuVqtlMhk+kl8bGxutrKx4g4+np6emX0PKxjCMUqnUarWIqFAoRCKRQqEgZdP0a/AukUiQo0qlIjUiyLCbDPigqAR82DzJZDKRSIRYOp1OoVCwz+WhVIBdp9MhI7FYLBKJAC/QY1cc70gQrSOVSiUSCRBjV5NdVL13csxZrVaj2zAM84N36/SKpPcvZX56gJB/0YvUajW7vTAQ0CcxmtDniQYO4xp9G9ujetHRr9Ax2N1Dp9ORHkL6OSkMwzA1NTWzZs0CQYmNjYWoQQAyalCYTxMn4oikjFGA6Cg8KQwpPCmPTqebO3cuCNDSpUuFQiEyImOQPdaI8MQow5AnBQBohLaSkmu1WiKdFAqFWCwm/xIA9aQf4CXFJlhBpJOaku94Ie3F/v7x40cej2cw+MTGxmJ0Q2KvXLmSw+EYGBjMnTuXMj82aPQdCFDm93N6AqjV48eP4+Pjd+7cuXHjRnd398jIyJycHLbIwNR769at06dPJyUlXb9+XSKRdHZ2Xrp0ycfHx9nZOTQ0NDU1tb29nWEYIq3AkEQi0aVLl/z8/NwGHz8/v6SkpPLycoRkGObmPzdPnDgRHx//4MEDiH7wwoaGhsOHD6ekpJw7d663t1cqlUKmqNXqS5cunTx5Mj4+vrCwEKJWKpVCPubm5h46dMjX13fTpk07duw4evTohw8fSESdTgcWe/LkyYSEhIMHD+bl5el0utzc3MOHD4eFhWVkZMjlcsLtSKuoVKr29vZTp04lJSUdPXq0qKhIIBA8evTo8OHDkZGRmZmZRNCDnbx//z4uLs7Hx8fV1dXNzS0uLu7FixdIlhDclpYWGxsbk8Fn586dJC+8YNZsaGhISEjw9vbeNviEh4dfv34dfEsul6tUqqqqquTk5BODT319PUkEVVYoFN3d3enp6WfOnDl+/HheXh57Ynv8+PHRo0c9PT0dHR23bdu2b9++u3fvEtL5f85Ztbm5uadOnUpISLh27ZpCoejt7b169aq7u/u2bds8PT2Tk5NLSkoIncWcAcMmTb+mubn5woULe/fudXZ23rx5s5+f3+XLl+vr60FY29vbk5OTz5w5Ex8f/+zZM1J4goBEIrl06dKpU6dOnDjx4MEDTHXsmVIvyg/+lzK/oQFXKBSVlZW5ubmXLl3KzMx89+6dUChEByNsRi6XKwYfhmFKS0vv3bt3e/ApKCjo6+tjGIbNGCCv2tra6urqysrKOjo60CXa2toePXp06dKlBw8eNDY2Ers6Tb+Gz+dXVVU9f/584sSJPB6Pw+Hs3LmzpKSkvLy8vr6+o6MDHAUVwZqns7Pz5cuX1wafly9fQqxhoaVQKKRSaVNTU0lJSWVlZVNTEwYa/srl8qampuLi4srKyurqaqVSWTX4TJ48mcPhcLncdevWvX37trq6uqioqL6+Hutkdn8mZK67u7uqqurjx49NTU2afo1UKq2rq8vPz3///j3oF4FRpVIJhcLc3Nxr165dvnz58ePH1dXVoNf4+ym96+vre/369ZUrV65du/b69evu7m7l4APZxZZ+7e3tL168uHz58sWLFx8+fNjU1EQ4JWn6YTI/qVSKlNn1JYnQlz8TAcr8fk67f/jwYcWKFVgKcwcfDofD4/EsLCyOHTtG6BQ0T76+vmZmZoaGhlu2bOnu7l6yZAmHwzExMUF0DoezYMGCsrIydk0aGxvXrl1rZGRkYGCAYAYGBlwu18zMLDU1FSIpPj4evy5cuLClpQXRpVJpUlIStkiMjIzu3btH5Fd1dTWRpE+ePIGslEqlfD7f09MTJSTZQeDGxcW1t7eTFXNHR4ehoaHx4BMTE3P+/HkbGxszMzMulzthwoSOjg7Cekld1Gr1+/fvjY2NUYvz58+npqZaWFig+vb29gqFQqlUYsEdEhJiamrK4XCw0EcZOByOn59fc3OzWCxG+kPr/KRSaWpqqq2tLdqFy+UiLyMjo5UrV1ZUVGBSzM/Pt7W1NTIy4vF4u3fvRoFBnZFLeno6lt2WlpbXr1/XarWafs3Hjx9XrVqFiZDH46GchoaGFhYWkZGRUHwS5hcQEGBsbGxkZDR//vyGhgZ3d3eAYGhoyOVyjYyMrKys8vLyCFZ4UavVZ86cGT9+PFqcy+UiF2Nj42nTpoEs9vT0EE3MjBkz9CYVtVr95s0bCwsLY2NjKyurM2fOYGYaOTMHZX56jU7+1el0hYWFq1evJvIBo37JkiX3798nwTCoEdjFxcXa2prD4eCsgLm5+ezZs7Ozs8lgRIcUCoVhYWE8Hs/Kymr7X9u7u7vT0tLGjh2L4QbZlZKS0tfXB8lw7do1a2trIhAgUkxNTc3MzIyNjV1dXYkmUqvVdnd3Hzx40M7ODkMDwnDy5Mn79+/v6OhA/+zr61uxYoX54DN69Oj6+nrISYZhXr9+PWHCBHNzcy6XGxQU1NDQMHPmTCIlUDVENDc3X7lyZXd3Nwgl6dJQamKfFEV1cXEZoJvR0dFA0tDQMCcnh+jkuru7z58/D3mIMkOIxcTEdHd36zE/sVjc29t74MCBMWPGEKHN4XAmTJgQHR3d2toKZoZDuHw+PyEhYdKkSYAOf62trb28vJqbm0kLMgxDmR8bDfr+VQhQ5vdVcP07gXNycmbMmGFsbAyRYWVlZWNjA7ELEnDjxg0IJuxpbtmyBSEXLVoEAw4ej2dmZsbhcIyNjU1NTblc7u7du7HHyjBMT0/P2rVrCTscPfiAhXA4nOnTp3/48EGr1b58+dLKyorD4YwfP76oqAjyWiAQbNmyxdLSEjnu3bsXy32ZTPbw4UNTU1MjI6OZM2c2NzcTFgUqY2JiYmZmZmFhMWrUKFtbW2Rnamp6+PBhKNsUCkVtbe3o0aNBRLZu3TpnzhwyP61evVqPfwBrTb+moKCAy+WiPF5eXhMnTuRwOKampgYGBqBcOp1OJBJt3boVKZuamhobG0+cOBHTkpGR0ahRo3bv3i0Wi6FmqK2tBXocDsfV1RUHD7FxM2AGHhcXh19NTEwMDQ1HDT5GRkbAedWqVW1tbVqtViaTLV++3MTExMDAYOLEiVVVVdCmQKnGMMymTZsg5WfMmFFZWYmKzJo1i8yFo0aNGjNmjImJibGxsYGBgampaVZWFqF9A9tP+/fvNxt87O3tt23bxuFwzM3NjYyMCGgcDmfDhg3d3d3Q/GH+OHny5KhRozgcDqkjisHj8UxNTadMmQIXhsePHycU+fHjx+hvpH9HRkbC8c3o0aM/fPiADTIyTULRQgL/+BfK/L6EeUZGxuzZs9HiVlZWRkZGXC4XXW6ACSUmJmKUYbBfuHBhwoQJhoaGIGRYKeHEgJWVVWhoKEwLwPvFYrG7uzv2FteuXRsXF8cmMRieA6Py+PHjMGDIzMzEkDEafLhcLtKHoNuyZQvIllKprKio2Lx5M9gegpE1m4WFhaura2NjI3zUPXz40NzcnMfjGRkZ7dy5E2s5iUTi7++PAsyePfv9+/cNDQ3jxo1D9yajAKKSw+GsWLGira0NWxmkSwNPhUKxYMECJLV58+aEhASUxNjY2NbWtri4GGO8s7Nz48aNWGSaDj44TmFoaMjj8RwdHauqqshxZqlUWlZWtmTJEktLS9SRSH5QUnd3987OTgzehw8fLlq0CClDhGJ9CNCcnJzYdJzN/Pbv3482VavVCoXCwcEBJZ8zZw7MaVByvfp+qRfR7789ApT5/YQmvn//vq2trYmJyZQpU44cOfLw4cPc3Nzk5OTJkydDl+Pm5gZBoFarxWLx5s2bCV3g8XgDrC4+Pv7ChQshISE2NjYGBgbGxsYzZswgersbN25AKBsbG0dHR79+/frVq1d///33ggULbG1tMzMzcdqrrq4OLGrMmDFQSqlUqpKSkqlTp4JkcDic2bNnNzU1QUanpKQg2XXr1vH5fIZh+Hz+rl27CMV0c3N7+PBhdXX17du3lyxZAkXd+PHj3759yzCMWCxubGzEutzAwACybOLEiY6OjgsXLjx27BhaQo9VsJkftFzGxsZ2dnYrV66cNWvW5cuXsQo/evQoeDCHw9m4cWN2dnZJSUlubq6zszPE6KhRo8i2Zl1dHYrB5XK9vb2xvYutnDt37hgbG8PV3+zZs+/evVtcXPz69eugoCALCwsjI6MBW/Vjx45BZTKwW4q6GxkZnT59mnA+nGdEvlwuNyAgAMZDz549s7Oz43A4Y8aMiY2NvXv37qNHj06dOmVnZwft2qpVq4jab8A+LyoqCho7lHbOnDkJCQlXr16NjY0dO3YsuoSNjU1+fj4x38zLyxszZgymT2tr64CAgHPnzg3sC5PFA3EAUVFRgUnL1NTU3d0djBNNwOfzp0yZgubz8PDAjPITxsmXs6TM77PYPH361Np3xOrHAAAgAElEQVTamsfjYdEyceLEbdu2LV682NLSEsPNxsamsLAQQ+zx48c2NjYgKxjp69atmz9/PnRyJiYmlpaWcXFxEESafo1YLPbw8DA1NcXq1Nzc3MzMbMmSJU5OTlOmTIHVLJfLdXBw6OnpYRgmJyfH0dFx+fLlGAg8Hm/SpEkrV650cHAY2LWIj4/HIJLJZBs3bgRLs7S0dHBwiB18HBwcUGYzM7MjR45otVqVSqVWq318fMDMpkyZAoV3fn4+hhWPx4uMjBSJRB0dHS4uLuvWrQP1hDRbsmTJ8uXLly1btnv3bmxnExqEF4ZhZDIZOBOHw7GxsbGwsAB/sra2njt3bnNzs0KhGNjFdnd3B13mcDiLFi06cuTIoUOHHB0dUVNDQ8OQkBCRSARzYT6fv2zZMnNzcwzYUaNGrV27dvny5ZMmTYI4NTAwOHDgABSfTk5OWGRaWVmtWrUqNDQ0KChozpw5qIKFhcXFixfRfNhAIHZ+MTExkGAqlUoul5MNJXt7e7LX8dk+Qz/+mQhQ5vcT2n1ANgUEBKxevbq5uRkm0tCpeHh4QJ0zY8YMiEW1Wi0SiTw9PSEEORwOZmJMxgqFIjAwEALFxMSkoKAAYjo2NpbH41laWtrb2wsEAmJA1traig0LmOjx+fxNmzaZmZkNJB4fH4+4N/+5CYUfVurjxo3Lz89XqVQDZxEiIyOxZg0KCsJBuffv31tbW6PMq1evBgmDjjAvL4+ItpSUFGx/lJWVkX1bAwODjRs3CgQClUolkUjIQQe99mAzP+S+e/dutm0fwzDFxcWTJ0/GfLBw4UIsi2FYXVxcPH78eKyew8PDwW/Yu70+Pj6wQdRqtSKRaOHChZC8o0ePLi4uhiGUWq3u6upatmwZdIpz586FdU5fXx/Zvlm/fn1fXx9aTaVSJScnm5qaokjv3r0DtnK5PDQ0dN68efX19cRmSKfT7dq1y9zc3NDQ0NLS8kvMb+7cuV1dXWSKSk5OJkw3IyOD2G56enpC22dtbQ3YCZ4BAQHm5ubR0dHYH2cYxtXVFSUcPXp0bW0tCqlQKG7cuGFiYoKfLl26RFIYOS+U+bHbAtKgs7MTdiDQJEVHRwuFQuyoZmdn29jYcDgcFxeXhoYG6PBWr15NmMehQ4eIxj0rKwtbAdgNaGxshLoIzA+LIgMDg0mTJkGYqFSqnp6edevWQUaZmppWVFRgTInF4o6OjpkzZ4I/xcTEsFcROIGUnp6OhYqBgcHOnTu7urowSLu6utavX48STp48ubOzE4ynoqICI9rExCQsLIzP57u5ucGwYfLkyaWlpZClqI69vT3QcHBwEAgEGJ6Ajhy8IPyPzfyw4uJyuXv27Hn9+nVJScnDhw+xd3Hzn5sWFhYQBd7e3nw+H+a/QqHQ19cXMmrOnDnE9jcxMZHYdSxcuLCurg4CqrS0dPny5eDcr1+/xhB+/fq1gYHBnDlzcnNzSTlra2vt7e15PB7OR2PvAnIP6kMejzccnR+7z9D3PxwByvx+QgfQarUdHR29vb0Mw2BpOLA/++bNm8WLF8PEZOrUqRBSmn6NUCj09vaGoLGysnrz5g2Z5hmGuXXrlqWlJchfTk6OevBJTk4GGzM2Nj58+HBxcbFQKITYwskyHKpVKpXEisXDwwMqq4iICC6Xa2Vl5eLiMmB0OGDllpiYCPUeti8tLCwuX74sH3zOnj1LtjBu3bolEokkg49IJGpvb1+6dClkuq+vLyaP5uZmfDEyMhozZkxBQQHW8ZgDSJXZTaLH/GbPnl1TU4MAEKCafs3Vq1etrKxglpeWlsbn82GcLpfLBQLBqlWrIP3BTVUqFVvn5+XlRQ4zFhUVYZ/a0NDQ29sb63u5XA5iSoivjY0NMbgJCAggk1NhYSHmm+bmZmgsTE1NV69eTbSYOp1OLBaTuQ378h8+fMAcDI3ml5jfnTt3CLFmGCY3NxdbuhwOJyEhAUpZPp+PTS4OhzNt2jRiPwSQm5ub8/LyBAIBmePv378PbZClpeWFCxfACKVSqaurK3Qw8+fP7+zsRNuxG+Wnv1Pm92kTvHr1auzYsVBLb/9rO5Z8IHkKheL06dNHjhzp6ekBMXr+/Pn48eOxDHNxccHSjqR5/PhxiJQBsRMfH89mfqB3NjY2V69eRa9DrHPnzkFGGRkZgbXgtGxbW9u0adPMzMx4PF5YWBhcE5BDElKpdPPmzYaGhgYGBjY2NtheIB4DMjIyUAxjY+N3796h/w+kEBsbiwRnzpx57NgxrOsMDQ2PHDkCp31IQavVzps3j8PhWFhYbNiwgbi1Q/9Xq9WE85EFFXR+0IVzOBxfX1+4XCCUUdOv2bNnD0o1bdq04uLiASkKc0OxWPzo0SNsLhsbG4PMdXZ2Llu2DPxs7NixtbW1yB1/y8rKAgMDYaINcwutVnvp0iXYY8DrglKpLC4utre3t7KyMjAw2LVrF9m9LSkpwS6zkZHREGd7yQkP0r70hSJAmd9P6APQ5Gm12uLi4oFdwqioqI0bN06bNg3TrYGBweTJk6GAgSJq+1/bwV1mzJhBpnMco8vOzsZ+jZGRUU5Ojk6nGxCmHz9+JLQAe6MODg4RERFZWVnd3d1kscswzMWLFy0tLU1MTFatWtXZ2SkSiZydnU1MTObOnfv48ePx48dzuVx3d3ehUNjV1TV37lxsguTn5yuVSrFYHB4ejtW8ubn5mjVrtm7dumPHDh8fHw8Pj+1/bcceJY/Hc3Z2hjuGhoYG2JJzOJzVq1cT5RNsU9gTCWkVPea3detWqA+JvYtCoTh27BjmMDMzs7Vr17q7u7u5ubm6um7ZsmXbtm329vaQ1EuWLAG7ra+vt7CwgMXSzp07ca5ZrVZnZ2dbWlpC7s+dO9fd3X3Lli3Ozs7btm3z8vKaP38+SJ6pqWldXR1K+OrVK0NDQ3Nzcw6Hk5ycDOb96tWrcePGcblcU1PTs2fPQr3H1lMWFhaeOXPm4MGDmzdvxoY7Ura2tsbUpdPpZDJZVFSUgYEB0oeNEdQharX61atXNjY2yOLMmTOYmZ4+fYouhHOUAIq4q4BjF3xEYVpbW5cvXw71xva/tkulUhyKxO7zwPGg48ePo1HIzEfa5ee+UOanh79Wq01LS0M/53A4V65cIaMJtEYul0ulUtIHLl++TAzgYDJBTtpq+jWlpaVwe2Rqaurl5QXKJZFIcMaIx+NNmzaNKIlBLm/dugWvwhwO5+nTp+hmDMPU1dVB58fhcAIDA8E74ahILpeXl5eTk0bz58+/evXqzX9uXh184HkAcm8gx+vXr6PKOp2utLR0woQJWEOSDdZp06Zhl5ntg2n27NmQDMuXL4czLIIbEYOE/xGdH2Dk8XgYdGBpEDh9fX2LFi3CobQFCxacO3fuxo0bN/+5eePGjStXriQkJFhaWiLHa9eu6XS6jx8/TpgwAaPY2dkZ8oGUAcY87H+hE8Xwx1ItLS1t7dq1WMkbGhoSy2aGYYqKioC5oaEh1fkRGOnLcBCgzG84KP2bYTC23759yz5/B5tlbLwaGBiMGTOGzfx27NjB4/GMjY1XrlwJHQwp0I0bNyBrjI2NHzx4QNRLmZmZo0aNggYR2wSQoXZ2dg8fPsRErlKp3r59O3bsWDMzM5xRaGlpGT16tJGRUUBAQHd396xZs3CwtLOz8927d5Ay9vb2bW1tIK9+fn7kYDKR+yAx5K+1tTVOyTEM09bWBrGI87Y4lwA2Q5bdpGp40WN+xOIHy3r8hTaOTHtkGxQHYzFDcDgce3t7zGFfYn5ZWVkwkyKFx94WiB35OG7cOKJ3bGlpWbNmDXJcv349n89Xq9UDvnJAkefOnVtbW0t0Zmq1ury8HDvsJDVQZ0h2MzMzNvOLiIjAnDF9+nR4uCDgFBQUjB8/Hnuyp06dwvd79+7BxovD4YSGhhL3Y8QLI/viVMxnoaGhUNXMmjWrsbFRrVZfvHgRX8aPH19eXo4FBnojyf2nv1Dmx24CeO6MiIhAL7K1tX39+jVZGiEkkQzQ/Z88eRLMb+zYsc+fP8e4EIvF4ItCoRDLNkNDQ+IDWSKRYAlqbGy8dOnSzs5OjFz8vX37tpWVFbR3jx49IvsS7e3tMMLjcDhRUVFgfsQVUX5+PrahyShAh0c65HA9l8vNzMyE5ERXxBAjg4jL5YLsKhQK0leh88NB+BUrVnzWto/QPuBD7PwMDAxmzJhBLHcJ2rW1tXPmzIEQg8Ah51ewpYvsOBxOVlYWwzCPHj2CQYiBgcHevXtlMhksbQAa3slSFmrItra2pKQkGFxCsAATVNbX11cikaDYX3vCg9SCvlAEKPP7oX0Aqq+nT59Onz7d1NTUxMRk1qxZLi4u+/bty87O9vHxwRJ20qRJsB1RqVQwZMGOxrJly9g6P61We+3aNZxyNTAwuHPnDvH6q+nX5OXlBQUFLVq0aOLEiTiCiuMI48aNgzc+uVze3d1tb2+PYyVv3ryBgZehoWFWVpZMJvPz80OUgoKCjIwMeDDx8PDA5CEWiwMDA0EoQe927NjhPvi4ubnt2LHDzc3NZ/C5du0apFtLS4uJiQmo2J49e+DohEjqz7bEcJhfbGwsRKSJiYmbm5uvr6/34OPp6blr1y4fHx93d/edO3cmJiZCuVhdXY05EnaT8Hctl8svX75Miufg4ODl5eXm5ubt7e3j47Nnzx68+Pj4BAcHY0qA6fShQ4eA0oQJEz58+CAUCrds2YL28vLywqYb5pWqqqpp06aBxE+aNMnR0TE4OPjGjRv+/v4ov7W1Nfak4KI5LCwM4n7KlCnk+A54ZH5+/pgxY8DpsdsLB40Iz+Vyw8PDgSfmGLzDpSLxm6jVaqGexBx28eJFiUTi7e0NxeHmzZsxURGTxM820E/5SJkfG3acfjh48CCWOjY2NqWlpZ8yP2z6Y9VHNkl5PF5+fj74PQJARtna2oLfLFmyBMa4YrEYB8x5PN7ixYvb29s/ZX7Qow+H+WFElJSUYAHD4XBsbW1nzZo1Y8aMmf/32Nvbz/m/Z8AFJqnyQBWOHj0K2z7IH5grkADkZeHChajF4sWLOzs7P93h/Vrm19LSsnjxYhwCs7CwmDNnzuzZs+fOnTtr1qw5c+ZMmzZt3rx506dPnz9//pMnT3DMBSescbIKtSaZknLiRalUPnr0aNGiRRjFNjY206ZNW7p06b59+2bOnImDNV9ifnS3Vw9M+u/QCFDmNzQ+//Kv2Hpbu3YtGJ69vf2LFy+6urowGe/fvx+T7tixYyG41Wq1QCBwd3fHltzy5cvhUgTF0ul0mZmZcKRnaGh49+5d4t1DLpfjRpCysrLCwsKzZ8/CeAusKygoCNd+6HQ6b29vGIscP348LCwMXqmam5u1Wi3OCBsZGcXFxYWGhkJJcPz4ccgvlUp1+PBhUCg7O7vc3FyJRCIYfPh8PiwL+wYfsp3a0NBAqNWePXuIQc8QKA+H+Z07dw4+As3MzB48eKBUKnt7e/v6+kQiUU9PD5xRC4VCMlGxb2/z9vbGETxNv+bx48fQ+fF4vISEhL6+vq6uLoFAIBQKe3p6xGKxRCKRSqXw1A+dmaZf8+LFC1tbW+jJkpKSKisr8a+pqSk5eowpx9PTE1zN1tb24cOH7e3tUIEcOHAAhuEWFhZwzaNUKoVCYXBwMOaASZMmNTY2QueB0pLd3oEAOJ2j6dfk5+cTxee2bduwpYuZnmEYqVQKZxNAG6mJRCKYmXM4nPXr19fX12NvbuBoZ2pqKjYHEXKINvrxP1Hmp4e5VqtNSkrC1sGATg77rSQMdjbJvwzDnD9/Ho4qDQwM7t+/jxFNlNPt7e0wAuFwOFu3bv1XmB+Xy2Xr/KBlbGhomDZtmqGhoYmJiaura1lZWUVFReXgQ17wL7vwZWVl8D9AfG0aGhrOnj1bIBBgUYolpUqlwgkPDoezfPly2FUT1qX3gk4ulUpxKvZLOr/e3t5Vq1ZB6G3evLmioqKsrKy2traysrKmpqa0tPTDhw/V1dU1NTXwfvDu3TsbGxtIex8fH9SCZE1cKeHmlaqqKtA+eM66du1aVVVVY2NjR0eHs7MzRAFlfuyeQN+/GQHK/L4Zuq+OiIW1QCAgu4cBAQEMw+D8nUQi2blzJ5xpTZ069Us6v5aWFszl4DFsnd/t27eh82MYprq6GkYqmP41/ZrOzs5FixaBIW3dulUmk+Hg6unTp0FHpk+fDuu3lStXwqdoZ2cnTvmNHTt2xowZODT6/v17kB6GYTIyMuCtYOBcampqKrQF2FKEg5grV66A9GBSqaurI4eUd+/ePbS2D/gOh/k9evQIRm/YUYL9OM7cMQzT2Nh45coVaOmQY1NTk7W1NbZpdu3ahUlIp9MVFRXh2CBoELkQT6lUSiQSuVyenp7e0NCgV2ypVLp06VK4V9i6dSt8gGHmILularW6t7d3+vTp2H+HtSKOoSgUipCQEGwSDbilEIlEuMdpgLaGhIRA3NvZ2bEvLdD0a16/fm1rawued+zYMXQGgUAA00yc8EAU4rOmvLx80qRJsbGxMBiA1ZdSqUxJScF6YOzYsREREeD3U6dOrampwUV2hBZ8dY//zyJQ5qcHrVar/fvvvwnvJ2pgEuz58+dBQUF8Ph/OBO7du4cTAwMnuOPj43GFBgLrdLoHDx5gCcrlciMiInDqSCaTYQlqYmKybNkyclAJfQ+7vUPo/AwMDPSYn0ql6urqmj17NmTCtGnTiIkejgYrFApcNALfeHAaoOnX7N27F8WbOnXqwYMH8Y4lEMYypI1Wq507dy4wWbRoERzFE9aFMOTfYTI/sVi8YcMGMD8c0odggZSTyWTkLB2WtfX19fDVhSt0sRqHtR/+hoaG5ubmQqJev34dW8NGRkY3/7mpVCphndnV1bVhwwYoL4fD/BQKBW5v43A4c+fOpSc8yCigLwQByvwIFD/iBZ6ZCfPbsmVLT08P9uDevn0L+mJiYjJ27Fjs6sLJk6enJxihg4MDm/kxDJOVlUVO292+fRt1qKysXLhwob29/a1bt+rr6yHd6uvrV6xYAVcd3t7eEFgymaykpAT6KkgWnBXFrqhUKnVycoLoBLOxs7MTCASQ9QqFoqysjLjdnzRp0t27d5uamgaozICXh/z8/NWrV5uamnp4eBCPgA0NDSQXPz+/YVKKjx8/ggAR4Q75jmJotdqamhqslQ0MDCwsLMDPcCC3rKxs69atZmZmzs7OxcXFkO+tra3wOGNoaLh8+fKWlhZoWHt6ejw8PEheYWFhDQ0NONtbV1cXGxtrbm6+YsWKO3fu4DAE0Nb0a+BjxcDAwMzMDJs7xsbGXl5esDoiJonjxo1D9ZctW9bR0YEzxe/fv8fWP1x21dTUiMVihUIhkUjCw8O5g8/UqVPZzI9hmPz8/NGjR2PD68SJE6Tv7t+/39jYGJv7u3fvrqysxLVXr169gjLD2Nh4y5Yt0H/AqKulpQUur1FxCwsLHo/n6emJHjLMNiIF+DEvlPmxccaS8v3795MmTQKJnzZt2tu3b2UyGc4QNDc3r1mzxsDAYGA7NTs7e8ChT3l5Oe6f4HA4U6ZMKSgoQIIKhaK5uRl+lWF79+jRI3ijlMvlHh4eULOB+RHapNPp7ty5Y21tDbtY7MyCzXR0dMyYMQNeALdu3drb24sOCT0iwzChoaEwjRjwNJ6UlIQLMLC4raurc3R0dHNze/nyJVTdarW6tLQU99OYmZlFRUXJ5fI1a9aYmZnB0Qxup8RZDaVS6eDggGXtpEmTKioqoGOTSCR6W+GELxKdn6Gh4cyZM8kdIQBH068RiUSHDx9GdXg83sGDB9vb24GPTCarrKxcvXr1li1bPn78iMN2A4twDw8PAwMD2E0mJiYiTaVS2dXVBWvFARuPqKgoTb/m3Llz8JLI4XAePHiATCUSycePH4n3KC8vL+znaLXaoqIiiG4jI6PQ0FCi3ZfL5cQr4dSpU7u6uti9hb5TBBiGoczvh3YD7eAN30uWLMG9aoaGhn5+flevXk1KSlq4cCGmXgxmR0fHxMREPp8vEokgO3g83ooVK9rb29mT8bVr10AmTE1NYefX3t6+aNEi7A6PGTNm7dq1QYPP2rVrEZLH4507dw6LVE2/RiaTkcN3XC7X1tY2Pz+fgHLu3DmQRUwDrq6ukJ7QeymVyvj4eAhuDoczevTo5cuXb9u2bcuWLdOnT8cmsrW1NaSYpl9TV1cHf8g8Hi8oKIjkMsSLpl/z9u1bwsYOHTqErRxC+0Dmrly5QtCzsrJycHDw9PTcunUrFJlwdXHx4kVk1N3dvWDBAtycweFwVq1ade7cOWgXiouLcdgWJlPz5s3b/td2FxeXBQsWgK8bGxv7+/uTo4soTGVlJc5CgiVj9oVvC0L7Biri6OiIRAwNDXft2pWZmZmWlgbOiigcDmflypUnTpwQi8VarZZt50f8yMB2Pi8vD254B9oFnqUxmdXU1OCQONBYsGDBli1b1q9fP3PmTMK5yVlg1EIsFgcFBcFUEbG4XO79+/c1/RoylwzRQD/lJ8r89GDHfu6+fftIRxq4lO/AgQOZmZmnTp1ycHCAVaiFhUV2djbsAmNiYqCi4/F448ePP3LkyJUrV5KSkjZu3Ah1uJGR0caNG+E9DoIC6yJywmM4zI/P52/YsAH+B8zMzPz8/I4fP+7t7Z2eno6FR1FR0ahRo3Azh7W1tYeHR0ZGRlZWVmJiIi4jMTIymjNnDu4dZhhm165dULmNHj0anpwfPnw4atQomM/CsQu0g3K53N/fH9bJ1tbWW7ZsOXnyZEBAQGxsLM5RsTHU0/l9lvkhTEFBwejRozFSTExMPD09z549m5mZeeLEiZUrVwK6JUuW4A5flUpVWFhIhp6FhYWXl9fNf25evHhx+1/bQVjNzMzg9yo7O9tk8OFyuWvWrGloaOjo6MjLy1u6dClZfi9cuPD8+fMguI2NjUTfaWdnl5KSUlRUBPmwY8cOlNDCwuLgwYNPnjxh+xZgV5y+/5kIUOb3o9td06/JyMgAkQLJwxC1tbVNS0vDnRzQ8Lm6uvb09EilUi8vL9zZRa4OQ6G1Wm1mZiYscng8HgiWTqeDlxNjY2N4a4N8h0jicrnLli2DIpBY7u/evRtuhwfuply8eHFHRwfxYFxTU4MNUNji4ApXkjt4DywFYalGJh4wCUtLy9DQUD6fD4M2PTu/4UCvVqsLCgpw85iBgQEuFdC7cB0bN4cOHQJJxRyAA3G4vYrD4Wz/azuZPAa2gw8cOGBpaQl+bG5uju1XpHPv3j149YMnMFQEB/d4PJ6DgwMxtSRHFBmG8fb2hnTGzXLz5s1DlQlD1fRr7ty5g0wJSnCdmJCQMH78eDQ6l8t1cXERiUQD6mF4WzQxMcFNKmD88Pjw8uXL8ePH42rdhIQE7EcDz7t379ra2sLxBDLCFjM6m7e3N6oJZxyYzF6+fIlz5ThoMmvWLHA+sq0/nJb6kWEo82OjjT4GRdemTZvAomCbQZZtHA7H2tra1dUV9mcSiUQmk61duxYdkjB+soqztLScNGlSWVkZxvg3Mz9cfYt+RWiKsbGxk5MTeiDDMFB9YVEEMYViQL84sBOCC350Ot2rV6/wk5mZWWhoKFZrEokEt4BwudwxY8ZghwGj7969e7i8jo3DZ9VgGAgSiQRmr4T5sdktjB8YhklLSzM1NUWBkTJuXwSM5ubme/fuxeIN+9SoICQkwiMurjKyt7evrq5WKpWNjY0TJkwg3naMjY3HjRsHN5+4xgPDmcvlHj16FCOUbOMYGhpaW1vjJg9NvwY5YjvI2Nh45syZHR0d7D5D3/9wBCjz+9EdQKvVDtjNHDlyxM7OztbWFur92bNnp6amyuXytLS0uXPnTpo0acKECXv27BEKhSqVKjg4ePTo0WPHjnVxceno6GDr/O7fv29nZzdhwoRJkyaRDQIczti4cePUqVNxgtjExGTgWtipU6eGhITAKT90fmq1WiKRXLp0acKECdOmTZs6deqePXtg1gNcuru7N2zYMHHiRDs7O3t7e/iRxk+QiVqtViwWp6amzps3z87ODrOOlZXV+PHjHRwcDh8+zHYd3NLSMm7cuFGjRmGDY5jQl5WV2djYjB8/3traOikpCZoqtkRGOnw+/8qVK46OjmPGjIHGDvuns2fPjoqKglcU7BlptdqGhgYvLy9cQMLj8davXw8NBFR0ubm5Hh4eEydONDQ0HLiuDQRx9uzZO3fuLCsrwyxIdohweCI3N3fcuHFjxowZN27cgLHdsWPHiE9mTMyafo1UKk1ISIBJO267Gthxi4+PFwgEly9fnjdv3ujBx9PTs6+vTywWHzt2bMzgs2zZMpzwQK3VanVhYeHMmTMnTpxoa2ubmppKnGjgeObLly937NgxderUUaNGwbp81KhRc+bMOXjwYGtrK4Ed5vAymYxc9AwFCXHeS0KOtBfK/PRaBDp4Tb+mo6PD19d37NixYDy4FZrD4VhZWXl4eGDJh64rlUrr6+u9vb2JXxWQEjMzMxMTE2dn5zdv3sAxEJaIMpnsG3R+Op2upaXFyckJOwCEgY0ZMwbbFxgXJ06cmDlzpomJCVGKY3t0woQJGCAMwwiFQnJ79fjx46FUQx9+8OCBlZUVTo+FhIQAHOxOREREwN0MUuZyuaNHj3758qUegBCqQzM/ogLXarXp6enwbwoRYWRkBCNpOzu7vXv3dnZ2snVsIpEoKSkJm9RE/8flci0sLBYuXHjr1i3kjutz7Ozs0HZwuTB69Ojw8PDXr1/jghYsL2NjY/l8vlarzcnJgY4fyeIQiU6nEwgEjo6OIJE8Hm/y5Mls5wB6daf//oEIUOb3ExpdpVJ1dnZWVlbeuHEjMzPz6dOnjY2NsP8QCAQ1NTUFBQXFxcVtbW0Q6NXV1ZWVleXl5aWlpZj7SaEFAkF1dfW7d+9qa2vhsAo/DfDF7u7u+vr6x48f3/zn5s1/bkzVOp0AACAASURBVD5+/LimpgZmhRDohDwh0/eDT3d3N1tmicXi5ubmioqKjx8/woZPzzKacJGGhoaPHz/m5OTcGHxevnyJO8pQHuI3tZz1kFoM/SIWi+vq6t6/f19WVgZXgl8Kr+nXtLa2lpaWPnnyJHPwefHiRWtrK7ENJwoMGFy+ffv22rVr9+7dA7DsZNvb28vLy58+fXr9+vUbN248ffq0rq4OF64gGEEPgJBCfvjwobS0lKywQfvIFnl3d3dtbe29e/cuXLjw6NGjysrKvr4+nU43cBloVVXVu3fv8vPz6+vrsXXb0NBQNvg0NDSIRCJo4DBJIPzbt29ra2uJ0R4xf8TVLzU1NU+ePLly5UpWVtbz58/Rx6Db0LNzGlgA4I5gLA9wzzIbjZH2TpmfXouwV4Owsj1+/Lifn9/mzZs9PT3j4uI+fPhA+iQ7rkwme/fuXVxcnLe3t6urq4eHR3R09K1bt6qqqtjBoFB88+ZNfHz8wE3TV69ehfM/EqampiY5OTklJeXkyZN1dXVwZgSqBHF369atwMBAZ2fn7X9tj42Nzc/PFwgEKDaONDU1NZ09ezYkJGTz4BMSEpKamvr69Wto79RqdVNTU2pqamJiYlxcHKwV0eE1/Zq+vr7Lly/Hx8efPHny77//Jq6RsJB7+PDh/v37t/+13dPTMyIi4s6dO+SCE1J+vAiFwszMzJSUlLS0tPT0dLYk1AspkUhqamqysrIiIiLc3d1dXFx27tx57NixgoKCz+I8cDVOeXl5enp6YGDghg0bnJycgoKCrl271tDQABwwMBUKRWlpaXR09I4dO7Zu3bp37967d+/CXrOsrCw5OTkyMjI1NbW4uBjQSaXSgoKC0NBQT09Pd3d30i5qtbqlpeXChQvbtm0bUPSGh4dT5qfXgn/4v5T5/YQOQC6KJXcr6R0X/bRMYE6gEWzOQUIST374Qo7ZwlqLvVrFmTJwESRFikGCEZEKeYTTsjBkJumTYpBE8BOiSKVSnFnWKzO4F/sjqcKnLwAK/k7hGgYX5g4Bl15hQMtIdiQLkjK+sCdORMGcQaqPFEhg/KuXLBSKuDGdHJYkIUlcUgbyhZ078iU/YVJkB2C/Q/1Jdu1JLNLogA6YoCSywYe0L6L09PTAuovD4bi5ubW1tZGk8DLS/lLmN0SLkKtx0D0gGTDePxsLo4n0K8gH8i8ZQWRkoSN9NikQRPxELuZBZ0NPxr2RJC4ZX+QLApOVEvEMgAB6KxZ8hEjBCgpVZqeG8mPtp/f9s/+S9RVxs/zZYGSrmlRhCIRRKT0eqVc1kgusMMm/iIXTYMgUsp3dLkgfO8skIl5gHKL3kf5LEaDM72f2AezNoQRs1sUu0xAsB8E+ldHs6OSdUD3CVyDK4WiAnRSbmEIMYdlNkiIR9V7YdIdQq6EFIknzsy/gu5iKiNDXarV65dGLi1hgipj29LgRCU+gwxWZYF2Q+ECJzcOwo4rv7L+kpiRZcg6RYE5mTYT5tE31AiCY3qSiF4YUXm8OIMXAC2kj9neFQlFeXl5UVNTV1VVRUZGUlGRmZmZubm5tbU1OiCNZdqyR806Z39BtwR50mn6NWCz+lGeQ/oPxAtNeJMseX8RAAj+RS970CoC+KpVKiUvRIcgWxiPp3npJffovDi8jvB5PRWCMR7VaLZPJiDUeSQcRkcinQ48EIy9E1JAvQ7+wKR1BdYgo2N7Rk2N6oxujD4tt0hwQTaR4JAqRk8hdqVSC/eNfeI8aPtpDlJz+9NsgQJnfT2hKyCAMS+I4ACKVjE+iG9NjLWQih18uIgVQDYhpvIOREKlBXkiFSVIkU3JnA3vmICmzhRqJy34h5BUOQUhG3/wCicbOd+ikIEzhCvFTQjZEXJSc1AV8l0wSBB9MKmzaR7gdSRw4o+TkV6SMpTlCksRhJkg8mSFxhCF4YtomxZPL5Z9td72uQjJiz/oAs7u7e82aNdOnT583b96sWbNMTU2NjY3NzMw2bdr0pY0wUsGR8EKZ39CtAM/A6G+kp5FxRDoS+QKewf53iPTJcGCHIbmwP+KdTbngyh56NTJSEAw9H4HRY+GKEqVCmSGg2JpFkh25n5qkgygoLfRkpORY0enVl6yBiUdSGBGSLNgvJCnykWRElo4oAAmAF5K1Xu6k2LiLD7cMw68qOwXEAoB636EX/LRgbGLKjkLf/2QEKPP7Ca3PHvOflcKkTGwegI9DxwXhINGJQP+sDGIHI+/DD0mikJfviUsS+Vdehkb1f2bBBlkvMDvl/1nfIdLRS/ar/mWXAREJRf6fRcJBloqKigkTJpibm+NIh5GRkamp6fz58+vq6r6qJD8rMGV+34Y86TnfFp3EGk430wtMstaL+6UxgmBsAfilkCQjtrhDRHZ0djBwYr0E9f7VCz/Mfz8t9tdGJEANMyINRhH4BgQo8/sG0P7NKGScf0nufOk7W8x9Zxh2fVAe9pfhv39P3OHnMpyQ/xPV4STy2TDslH9Wfdll+Gwhh/gIZWFxcfGyZcvgWdra2nr69Om7d++uqKggWsYhUhgJP1Hm93Nb4Wt7PrvHDjMugn2qNR+64p9mNIRsHDqpb/uVXYBvSOE7o39DjjTKn4kAZX4/ud2/Z6gPJ+5wwrAhQHj2l+G/f0/c4ecynJBfW+vhpMkO81+nz87r0/fvz12pVFZUVLx69erevXtPnz79+PFjX1/fp1tLn2Y9Qr5Q5vdzG+JrRzq7xw4zLoJR5vdzG5rm/rsiQJnfT25Ztkz82qIMJ+5wwrDzRXj2l+G/Q0wPP/x/F/Jra/21Jfmv0x+6PN+fOzn+CasjYs/0Jfv9ocvz43+lzA+Y/2CFFmnoT6UEKQl5IYHJ7gShceyfvvROToF8VW+HdS/J8VPrly9l96XvpDrk5Ush8Z2U9n8eDf5sOiT6MLP7bCJDfPyPkh0iR/rTyESAMr+R2S7/fqmITPlS0kQu/0/p8CUbGmJcjE1D9nETZEoYBv4lGQ1hgwzXMOyzEYiLKMhRLpfDwJwkiBfsbJKPpHgEAZTwS8bpZBYhe6DkKluASdL50gtO4RA3y3rBcHAPicOwXc81D45Jfno0hz2x6aX5Vf+SLkEg+qroPzHwH8j80EbsPkm65XAagpwk+zQwRgH7Qhp2mC+NDvZYxpkqxPpSX4LQ+HTgIDxyIXnhYD4Z9fD2TEqFYHoOYhD40zt5yZERjBq2ECC8cGhwkC8ikvLjEDEpEnnROyaCwfulliIFQDC2wCTNjRaHfwOSDnJRKBTsw1ukDEgNKLFFK7LDyd/PRvz04AhJk778ZghQ5vebNehQ1ent7a2pqdE7FkrEK84DsgUcmxkQkaeXgZ4NtVarFQgEzc3NkGJ6chZxSbLspEip4IsOYdheb3D6lUQRiUQdHR1kqoB8hLhkyy8IuN7eXvbdFV+a5EjiOAYBZDBzkJ+IRCZfUFMUFb/iJzJJY8rRCw8XiTiOx45F5ifyUafTEd/OJOXPYkiyGOYLSYTkNcyIPz3YH8L89DgZu5OTJkAYcnaV3aYSiaS2tpYdkrzjBYHZHwnPYI9cdgCVStXb29vZ2anp1+ASRQwTEp6dJlJjWxHgV5ydJ/5BEberq6u1tVWn00ml0oaGBqyCkDXJiGGYnp4ejGUiMYgEQ2BSEnaxP/uOpAid+jQMYWYQCCiw3sH/T2MhQbQIXNvU19eTcc2mXLg+uKio6OHDh3C8B4FGWPKniSMAce/3aQBUnz2iNf2atra2vr4+9tl/NA2+EP87bMn5acr0y++EAGV+v1Nr/o+6PH361M3N7VNJB3IDYUGEHZvQQDSwlYJs+Y5cIa3UanVOTg5yQQpSqRQLcewkIqJedKVSKZVKUQCsv9mO9CQSSVdXF5/PZ08AJSUlAQEBxAWJTCYjy2ssc4VCIZy76nS6oqKiEydOQOYSRSCKx5aGevBBLhNJiiJB8gKlT+cYfEft4J2BaC/05ieVStXV1UXa4tMZlyTV2dnp4+PT29uL7FBgAqNemb/qX5IIe574qhR+VuA/hPkReNl9FZcHEjUVtEHE0Qm7TauqqpYuXQry19jYiK4Ll0Dwq6xQKORyOXu+J11aIpHAoTdIBjyoI+SlS5fi4+NxhwdoEMY+wpAUSOEVCgUUhKRs5CfUCw5ZkpOTg4KCNP2axMTEgIAAlBYhhUIhuW747Nmz586dY6uytFqtTCYTiUQymQy5IyPExcgi34nGS9OvuXHjRlhYGEQHHELpLS/hFxqeDiH9CNpgchjdQqEQyGi12ubmZrFYDFmEAhQWFi5ZsqSnp0cikWCgkV81/Zr79+9v3LjR398fd28iQbakBbZs4UPa61PZhWZF2QQCAW54k8lkp06dOnv2LKCAzxqsfuE7DOFJsqR16MtvjABlfr9x4+pX7c2bN9u2bZNKpUVFRT09PUQACYXC6upq3AwLYQdBKWc9hIgwDCNmPZp+jUgkam1tra6uhhx//vz57t27kbdUKm1qaqqsrISL17a2NiL9yU6oUqksLy/H5UI6na6vr08mk9UOPhDlUqnUz8/v9u3bzc3NROLLZDLMTAqFoqmpqaqqCjfzIl+RSHTmzJmQkJDa2lqRSPT+/ftDhw61tbV9+PABsTBbdHd3V1VV9fT0EAZGIGtoaGhqarp3755QKGQYpre3t27wgSCGrKyoqGhqahIKhZDXAoGgsbGxvLwcElahUAiFwrbBB8lWV1e3traKRCJNv6a6unrDhg3v37/HBfNKpbKnp6epqamvr4/Usb6+vry8vLm5OSgoqLm5mSz32RiSAn/Dy7+Vzjdk/Z1R/hzmp1KpoESvrKwEaDKZrLm5ubq6GuRPrVa3trZKpdK6ujosdcAbYGNQUVEhk8mKioo2bdr08ePHtrY2KKcJk2ttbe3p6ZHL5Tqdrry8vLGxUSAQ4L61sLCwV69edXZ29rEekUgkkUgaGhpQmO7ubjIuIBU+ZX6tra3l5eW4MphwMqVSyefzcT8hhlhqampsbKxSqbxw4UJoaChICQZRdHR0ZGQkEEhOTj579mxtbW1ZWRmsL3BXYVdXV2VlJbgOykZK0tDQ0N3djSVfZWVlc3MzrmF88eJFeHg4vqtUKlSErUqEMBQNPthxrhl8cCW3VCoVCAQ9PT3V1dVCoVCtVvf29m7duvX+/fudnZ0og0qlUigUdXV12J8ViUS9vb0lJSU4UNXb2xsQEJCSkoLW1PRrampqysvLyZIVcAlYD6rZ29srFotramra2trIGgBgdnV1KRQKgUBw+vTpY8eONTQ0yOVy8E6GYeRyeVdXV0NDQ09PD7lYvKenB+2IhkDJ6d/fGwHK/H7v9v1/avfy5UsnJ6f4+PigoKANGzaAq5WWlnp4eERFRbm5uT1+/FitVgcHB5eWljIMEx4enpCQwDDMnTt3kpOTyQIxOzs7NjZ29+7dWVlZmn5NUlJSUFCQn5/fwYMHcQ2oh4cHbO9SU1P9/PzCwsL27t3b0dERGRn55MkTzD2ZmZnZ2dkNDQ1eXl6hoaFubm45OTkMw1y+fDkiIuLYsWO+vr6BgYF9fX0DIWfMmBEcHHzo0CGIOa1W29HRcfLkSaFQ+OTJE39//7i4uKCgoMbGRgjr6upqJyenpUuXRkZGNjY2lpSUuLi4REZGHjx4MDw8vKOjQ61W37lzJzg4ODY21t/fv7m5GUjhvuO9e/fGxMS4uLhcvXoVLM3Ly+vAgQM+Pj7Pnj0b0B3GxcUdOnQoLi5u165dFy9ehEhNSEgIDQ319/dPSkqSSqVVVVWhoaEBAQHh4eF1dXUHDx708fHx9/ePiorS9GtOnz5tZ2cXGBh48eJFlUr18uXLkJCQmJgYLy+vsrIyhmEePXq0c+fO0NDQvXv37tq1CxvoZAOakLb/p4H/mH9+b+ZHlmS4fTUgIMDPz2/r1q2JiYlisfjUqVP+/v4BAQGRkZE6na62tjYwMPDEiRP79+/ftm1bQUEBYTx9fX0BAQEKhSI1NdXW1jY8PDw9PR0LFYVCkZOT4z/4DHRmtVqdkZERHBwcGhoaExPT1dWVnZ29dOlSHx+f1NTUlpaW6OjomJgYb2/vkpKS/Pz8jIwMhmGqqqoCAwMPHTq0Y8eOwsLCoqKi3bt3gzl1dnYeOnSoq6urtLTU19cX4qW4uJhovvv6+nx8fMLCwjw8PDIzM1Uq1dmzZ6OiopRKZXp6enBwMGohEAiKiopWrVq1Zs2auLg4gUCQnJzs7e0dGxsbEREx8FcoFIrF4pv/3PT29o6IiAgODu7p6cE40PRrbt++HR0dvWvXrmPHjkkkkpiYmICAgNDQ0KioKIZhcnNzQ0NDsS2bmprq6+u7Z8+e8PDwvr6+s2fPvnnzBqvTtLS0M2fOVFZW7ty5Mzo62tPT8+7du1qt9tatW0lJSZGRkcBNLpffv3/f3t7e09NzQO61traSzQc/Pz+lUvn8+fOAgIDDhw/v3bvXw8Ojvr7+5cuXq1atcnNzG6iLQqF4+fKlp6fnwYMHAwMDS0tL1Wr1w4cPIyMj/fz8zpw509TU5OnpuX///vDw8N27d1+4cCE6Onr7X9tfv37NMMzAwtjX1zc0NNTb27uysrKwsNDBwcHFxSU6Orqtre3WrVt37tzR6XT5+fm+vr4hISHu7u4vX75kGObZs2cxMTGHDx8OCgpyd3cnPPKPkSV/aEUp8/uDGr6goGDy5MnY/YmMjDxw4IBOp3Nycnr27JlCoWhoaHBwcKitrY2Jibl8+XJ3d/f69etdXFy6u7sPHz58584dqPQGOEdcXNzu3buh/bp169b2v7ZDwRAUFPT48eNHjx4NUEmJRPL27VsnJ6eenh6ZTLZ3796rV69mZWX5+PhgYnN1dX379m1BQUF+fr5SqczNzd3+13a1Wn3mzJlFixZ1dHQolUoPD4+8vDxNv8bLy+vZs2darZbYktfV1UVHR4OnZmVl6XS6rq4urLzRopcuXQoMDIS10IsXLwa2VNrb28Vi8f79+wsLCzs7O4ODg9va2rRa7blz506dOgXKyDBMVlbWyZMnGYbJy8s7ceKERCLx9fW9ffu2QqFobGwMCQnh8/mgjGKxuLW1FYzz+fPnUVFR7e3tvb29ISEhJSUl1dXVq1evxvXtAoEgJycHipmFCxd2dXV1dnY6Ozt3dHRgg2br1q3v3r2TSqXPnj1LTEzUarXLly//+PGjUqnMyclZu3Ztc3MzYXvslz+o+7Kq+nszP6KBVigUe/bsOXz4MMMwEonk9OnTXV1dd+7ckcvlAoHA0dGxsrKysbHRzs7uzZs3Wq32woULAQEB5DaLtrY2R0dHTb+mvb3d2dm5u7sbEGLH8969ezNnzuTz+UqlsqmpKSAgoKurSyaTJSQk3L59WyAQ7N+/H7KCz+evW7fu8OHDMGC4f//+0aNHGYbx9/e/e/cuwzCVlZURERFCoXDjxo3Pnz9nGOb+/ftHjhzR9Gu2bdv2/PlzlUpVUlKyb98+gUCA2tXX1z98+BBSYuXKlVKpNC0t7cCBA5p+zaVLl8LDw0lrDwz5uMEHW6WJiYm7d++Wy+VCoTAgIKC2traxsTEgIKChoUGtVp8+ffrKlSvETjczM9PLywuqwXv37vn6+uIanp07d9785+aARj8iIkLTr3n9+jWE2ICSfs+ePefPn79y5UpERATDMEKhcPXq1e/evaupqamoqFAqlffv3/f09FQoFOnp6U5OTkDb0dExLy9PrVZv2bKlsLAQRUUVOjo6nJ2dlUrlmzdv5s+fj62ViIiIa9euMQxz4sSJS5cuMQzT19fn6+tbXV0N9NatWyeVSi9durRmzRpc11tfXz9p0qSCggKZTLZly5YDBw5otdpXr17FxMSIxeIHDx7U1tZKJJITJ06cPXuWYZiUlJSrV6+CQCclJWVlZfH5fB8fn/LyckR0dnZWq9XZ2dlz5szB3v2uXbtu3LgBE2R2FUhb0JffBgHK/H6bpvzfFXn69Km7uzs2DbHEr66u3rRpEzl8umvXrufPn9+6dSs4OPjJkydnzpzZt2/fq1ev3NzcampqsDgeMC6Ji4u7fPkyKEtMTMzmzZvPnz+fkpLi4+OTnZ395MkTFxcXCLWVK1eePXv277//3rVr181/borFYicnp5KSkrdv37q5uUmlUj6ff/Xq1cTExG3btrm5ualUqri4uOjoaFQmLCzswYMHCoUiMDDwyZMnmP+w01pdXR0ZGSmVSvPy8gICAuLi4h4/fgz5hbiXLl0KDg6GgVF+fv6hQ4fkcrlIJDp06NCzZ88aGxs3btyYNPjExMQcPHgQsaRS6ePHj2NjY6uqqtLT0xMSEuRy+YIFC6Kjo0+dOnXy5Mng4GCBQBARETGgTpBKpd3d3YGBgS0tLYmJid7e3mfOnElMTPTx8fnw4cPAblRUVBQ2UGQy2atXr86fP79///6xY8d2d3e3tbU5OTlB11hdXT1r1qzTp0+npKQcPXo0Li7uw4cPGzZsEAqFOp2uu7sbOj824SPv/7vVf8cQvzfzQ4tptVqJROLg4FBTUwMbLKVSqVKpCgsLU1NT9+3bN3v2bDCS1atXI8qjR4+8vLxIg9fX169evVomk1VVVbm4uPT29kI5DTaQnp6O9RuohouLy9mzZxMTE0NDQ//++2+VShUVFVVXVwcTOkdHx/fv34OCPHr0KDk5eWCkLFq0KCYmBruKYWFhPT096enpSUlJDMP4+vrm5ua2trZOnz49Pj7+5MmThw8fDg8PJ5fqymSyO3fupKWl7dq1y8nJSS6XHz9+/NixY0qlMiMjIyQkBIVUq9VisTgmJubYsWMikUin0505cyYlJQX2hZGRkdXV1ZWVlevXr09NTT116tTevXvT0tKAgKZfc/Ofm2lpabgF7vTp076+vufPnz937tymTZsyMjJu3769d+9erVZ76dKlzZs3nzt37syZMx4eHsnJyY2NjQ4ODq2trTk5OQEBATKZjM/nZ2dnY5iDM6WlpSUlJcHyz8vL6/HjxwzDbN68+cOHD0S1yTBMY2PjmjVrhELhw4cPXV1dUa+///77ypUrWq02MTExMzNTLpfX1NR4e3tDgjU3N69atUogEABPDPbW1lYnJyfsI4eEhDx48ECpVJaUlBw6dIjP5zc3N1+4cCExMdHFxeX8+fNarfbixYsZGRmwnz59+vT169ebm5s9PT2hE+Xz+WvXrh1gk1euXAkKCgIdDwsLO336NAT7v3UDJ+mN9GVEIUCZ34hqjv+2MM+ePcPEoOnXZGRkhIeH19bWOjk5wUOBWq12c3N7+PBhZ2fn9r+2Hz9+vLKy8uY/N0+ePOnm5oadCxz1OHfu3K1bt2Dwt2/fvvDw8IqKiqqqqrq6uu7u7tzc3B07dmi12uTk5G3btpWVlRUXF9fX10OoxcXFpaen+/v73/znpkqlOnXq1MB2Rmtra25u7pYtW2Qy2fHjx48cOQJ6FxwcfP/+fU2/xt3d/cWLF/BigAV9fX39nj17YH5eV1dXUFDg4eEBfQMOKWdkZPj7+6tUKrlcXlRUFBsbKxt8EhISnjx5Ul9fHxgY+Pbt25KSkoqKCigMsJ1dX18fEhISFhZ2/Pjxnp4eTb9m5cqVjx8/hmlRRUWFTqcLCQnJyckRi8Xd3d1BQUHt7e0pKSnHjx+vqKgoLS2tqqqSSqUFBQXR0dHY2oaF5YcPHyoqKpYsWdLb2ysUClesWIE93IqKisWLF798+bK2tra6urqlpaWoqGj16tVQjra2tu7Zs4fq/Nhj4w9hfkKhcO3atcXFxeTobklJiaurK5YuUKdVVFQMWDKIRCKGYZ4/f46lHQ4z9fX1rV69Gra269evx5QP5qFQKC5evOjv749/8/LywsLCCgafwsJCsVgsEon2799fUVEBQ8ONGzeC+SkUiuzs7LS0NE2/ZvHixY8fPy4uLoaFnE6na2hoCAsLKyoqcnR07Ovr6+npWbNmTU5OzsePH2EUC8bGMMz58+ehfyouLl6/fj2fzz9x4sS+ffvUavXFixfDwsJIc+t0upMnT0ImMAxz4cKFGzduyGQyiUQSGRlZV1dXVlbm7+9fWloKHtzR0YGBrNVqs7KykpOToc5PSUk5cOBAcXFxY2NjYWFhV1fXvXv3goODGYa5du1aVFRU2eBTU1ODo1eRkZEnB5979+4xDHP9+vWIiIiioqJbt255enqCWl2+fBnlDAgIuHPnDsMwBCjQdLVa3dDQsH79erlcfvOfm56envDzl5iYeOXKFZ1Od+LEiRs3bsjl8sbGxsDAwIGlqVqt7uzsXLJkCZ/Pv3Hjxt9//w1a1traunHjRpgA7t2799GjRyqVqqio6MCBAzKZzN/fPz09vbKyMjk5+cqVKwqFIikp6eLFi9i9xTuyQO3EYvHKlSsrKiqys7OjoqLQYWJjYxMSEtAl8Je0An35zRCgzO83a9ChqvPgwQNPT09o+DIyMiIiIgZOV7i6up4/f16hUOTl5a1Zs6axsVGhUGzdutXb21sgENTX169cuTI2NhbrToitlJSUa9eu4VjDq1ev1q9f39zczOfzT506VVZW9uTJk/Xr18OjxLx581paWsRicUZGxrNnzxiGKS8v37hx49q1a2EI6OPjAwXDoUOHVqxYoVAojh37/9r78p8ok+39/+L+eH+Ye3MzmbnJTBxzvc5EReKaUcZxDyAEWYIsQZawBkQCClGRAN2ENcoyQothjSAEBcIaoDXQQNg6TQMBujtAd6dXevl2fL45n5pmueDojELxA6m33lpOPVV1+nmr6py6Gx4ejlPqt27dampqwr5SWVmZWq3G4odl3TIzMxMaGmo0GtPT07HVde/ePeybYJ+isrLyxo0bILU9PT3x8fE41R4fH9/U1LS8vHz58uXOzs61tbXGxsaWlhZsXuP8X1BQkFKpVCgU+PANDw/PyMhYXl6enJwsKCgwGAzh4eE466NSqby9vaVSaW9v79WrV+Vyc/T90QAAIABJREFUuUqlysnJWVpaEovFt2/f1mg0lnWLSCQKDg7GCuVXX301NjamVqtdXV2Hh4dhnnz27Nlnvz0zm82dnZ1VVVWWdYuLi0tzczPOMB06dAjrf+gF9v92/b133+1t5of+xRRITEz08vJaWVl59+7d9evXGxoazp07t7q6KpFIvv7665aWFolEcvHXi1jIr6mpcXNzI0Pa5eXl06dPO44rSKXSEydODA8P0ykubKoGBQVptVrLumVxcfHKlSsSiUSpVAqFwnfv3mk0Gnwamc1mnU7n6ur69u1bsIGamhospAUEBDx8+FCtVovFYqFQaDQaHafuwsPD//Of/2DD0WQyYQNRoVD09/cXFhZi1jucCcTHx9+/f1+n02VmZh48eFCj0eTk5ISGhtrtdoFAEBAQAJswDOGHDx8GBQWp1WqTyZSXl5eTk2O32x07BiEhIdA8np6e/f39i4uL5eXlr169Ivv3p0+fZmdno6i6urrTp08vLi6urKzcvXt3bGysrq7u2rVrer2+s7Pzxx9/nJqaUigUWVlZOI84ODh44MABDw8PuVxuNBozMzOFQqHZbL579+758+fNZnNOTk5BQQF2wMH8rFbr9evXa2pqHLyZPpVlMtnx48d1Ot2TJ09u3ryJ5UDh+z+s+YlEIp1Op1Aobty40dvbizYGBAQACoFAANhHR0ddXV1XV1etVmtISEhjY6PZbB4YGEhISFhbW3NzcxscHFxeXnZ1dc3IyMDSaXp6Or4ec3Nz8/Ly9Hq9r6/vy5cvV1ZWqqurz58/j8Mt2Di2rFvCw8MfP37Mmd/eVZz/1zLO/P4Piz0fEovF2KbB6WaBQOAgVXNzc1FRUbff/7179w4HtJ8/f56bm6vValdXV6Oiorq6uthfo9ra2paWFnKkUlZW5jDg8PPze/z4sVardRgCBgcHl5aW6nS6ysrKqKioiIiIlJQUx6Fvs9m8trYWExNTVFQEDicWiwMDA9PS0hx7weHh4S0tLSKRqLi4GL9kAoFgYGDAZrO1trbeuHEjISGB9nMXFhYKCwuNRmNNTU3o+7/Y2Fh4+MPPm1qtdhzWDg4O7uvrm5ycrKiogGeEioqKwcFBy7qlo6Mj6v1fQkICPITBflkkEt28eTMwMDAkJMTX13dpaWlxcTExMTEgICAoKKi1tdVgMJSUlPT09FjWLUqlMi8vT6lU2u32kpISf3//8PDw/Px8lUo1Ozubn5+PhqyurkZGRoaHhxcWFj548CA5OdlsNpeVlWFryWw29/X1RUdH4+y5WCzWarWdnZ23bt2KiIh49OhRZmYmrC9Zzofwnh+0mzZwPzA/9C9MH0JDQwMCArq6uhYXFzMyMmJiYh49evT48eOoqCiHr7g7d+5g2g4PDz98+BCIweLVMbVhS15cXOzl5SUQCMALrVZrS0tLXl4eHLvY7fbq6urbt29HRUVlZGTA91tNTc2tW7eSk5PlcnlaWtrExAQOCA4MDOBM28TEhOPrMTY2NjQ0tL+/H/XW1NR4e3svLS3BMef09HR0dPTt27eDg4PfvXuHNA5GODMzExgYGBERUVxcnJyc/ObNm7m5OX9/f8dMn5mZCQkJqa+vNxqNkBZLiYGBgTKZrKGhAfuqOGk3NTVlNBpfv34dHh4eGxubmpqKdXqs8+HsClzerK6uFhUVOc4IRkdHg7mqVCp/f3+A8Oy3Zw5rmJiYmLS0NLBhu92ekJBQUlKCAxujo6Ph4eHp6elCoTAgIODly5cdHR3Pnz/HtoNQKOzq6rKsW5qamjw9PR1Kj3xKKxSKtLQ0m83W39+P3rHZbC/f/9lstoqKis7OTqimwcHBkJCQ6OjopKSk8fFxo9HY2tr66tUruDhw+HVKTEzEt+jDhw87OzthZFNUVGQwGJ4/fx4dHZ2enl5WVhYXF7e4uDg/Px8UFOTj4zM9Pd3c3NzU1OTYPJFIJLGxscHBwQkJCSMjI2az+c2bN2VlZeiX4uJinPPDI/+/hxHgzG8Pd+4mTaOPfgcxgosss9lsMBhkMhkUHD744IwA+XU6nRPtoC0bugRseXkZn7n40lWr1XRMZHl5eX5+3vD+Dxu15N8L5cPTATZHoOP0er3BYLCsWxzHzOHDz7JuwQ4pspjNZqTRarU47Y7fKrLSoGSgm7RYiMPL5LlKr9cvLCwYjUbyaub4FTl69Ojg4CBcIVy5ckUmk8FprcM6BBeKYB2ROChW9fAp7zD+WFpaoleQByeBtFrtwsKCVquFL1xAQY7K8OO0vLyMToH8KpVqZWWFnB1upH379hT2/mF+WKFXvf9jRzWZ0GJI4xVcLGHUYSJjrmHkqFQqrBzTK2gDbCZiFU2pVNLMtVqt8KPpNK3gUJCcgC4tLWHdGufD9Hq9SqViR6bZbJ6fnyd/KziMYVm3aDQafDLRN6RCocAalUajQQCUyGazaTQaGKOQBoPAeHSsV6nVapiPQFkBEPiuQ3uBJFzPQAar1arVamGDZTKZsD2t1WpxGBF+WKDQbDYbylepVHA0o1AooBYMBoPJZCIxUCacC0IGnIrBfAfUKBl3kKCBONwCErm0tERtZK/5oVPOOLVChVN7V1ZWkJHuPcJ3ODQ88EQh2M3AEFpdXaUeh0ctKpkH9jACnPnt4c7dpGlQZHa7HceliUxARbIZcFaGVfqUGBscSEw/G9D1eCRVyxYI7UYxWAwDCcOviE6nI5WHZNBWKJPoGnQouBqOp5CFCjagqSKc7EZFTvXCoRecS1NLkebBgweHDx92d3c/efJkfHw88VQcpULtUJpIz5aPdQ40X6fT4ZXTlSF0OQGOAJJgBoMBjgARQ4716ceP8GcDlH1fBfYP82NHGrqYWBH1OI1A+B6nzzZiGBiQ9AMPQw1aUaPpg3O0qBFjjMYe2QuD3lHVRKHgCRkzjkY+SA8GNorFmHcYckFdwHMy3IaiFZjyNpuNrIBRFz6Z2HrxrYWNXUKAZZw4v4EspJcgMGYx8mJXHRlRDilJkhlzlq4XQhbSM8hLd0iygqF2HNPE+iVyEQFFApRvNBo1Gg3cF0Alsp6lUQs1EMKwrTMYDKQ/qS5CGFKB1DppJBRC3sKREpH8/15FgDO/vdqzm7QL2nyTF3Y7kYlN337qSNROKpiVE2SIjQEZxc4slDv7n474UIuc8uKRzUK/EEQB5+bm+vv7HRtV9MW/VWmbIsMmJmnZSFLfyO70alePmwqw5yP3NvPbpvtobLBpEAlKgcEMooN4p88wjD0a/8QntppQlJKmJ2IoPYnkNKpZCRFGSpwVZnNRgRS5Ma9TDNWFLE5vqbqN8VTFDgNs8zeV0wlPQslJsB1WR8nIhRa1dGNbSNcBUhLVqWrKSIU7lYl4VnKEKSMP7D0EOPPbe326ZYu20gj4zdjm7ZYlfqQXG1UP6Sa8cpINiok0HRtg07NhkhSRbBaEsbxBywBOC3JsUSQblekUcErMqlR6xWahyA8IsOXsnzBnfmxfs8MGg5mNYVPSTKfxz6akyF0F2BKc6nJ6ZFOy4f8ps1M57CPKYWO2D7P17iS8EQo210Y82cnOSsLm2kl4J5iw5bByIp6tncKUhWKoCfSKAmwaHt5jCHDmt8c6dLvm7FYjbFfWR30HwVilSeyK1BDFkKpilR2F2fRsmOSluijLpvVSeqpu09LYZBRmU24VpsSblr9Vro3xbDn7J8yZH9vX7KjAqGZj2JQ02GjwsykpEjOCfdwmzJbgVJfTI5uSDaNwNsYp4zaPyLVNAqdXbC07CW9sOJtrezzZqtlcOwnvBBO2HFZOxLO1U5iyUAw1gV5RgE3Dw3sMAc789liHbtecD9AI2xX38d6RrmFJGIqnV7tlfk4ajQ6voEBWUTpth6FeOnm9UQxWkk0xYGVGYqcYpxI2vt15zKYC7PlIzvzYLmZHy6aMgR1vSEzjf2NeKgEBHFeg9BsDbAmsVBvDbEo2TDUiEjN3Y/ZNYygLvd10OtNbtl4KO+kKiqcdbYKCVVB4u+lOKyvVVhqArWVjmN3tZUujhjjJzPbLVunZLFuVw0rCpuHhPYYAZ357rEM/ZnOgs3BmCOWyPyFsTdC2OFFO6elAtFNeFEK2ZmS6AU0K1UO+/omxQW3RUW720Wg0jo+P3717F8eiYSdL4lEW7OQiI4zmnJpDvxlGoxGtoBPWdOwdls4onCSHAfL9+/fJbwUMD+nsPI5442Q9CcYDH4zAvmV+/xOxTX+5YYyP0U7WFbDVwDin/5gCsMkgE34MfnCRwMDAkZEREgOvYD1KkTAlwV2Ler2+uLhYJpPRW7iGwSOyI0yzj1IiALFBsCAn6BfM1DCdYeCMEpAGc43mPlsmkjlpJ6oLb61WKy4rJ6MxFEuHQFAyzPYhIU4Jk5JhGTN0HUz+WcsMVIqioP3YGJ1O57hnHDbR6AuYA1PzYaeiUqlgseFEoLfhfywaPLw/EeDMb3/2++5aTZZiyAZVBXM/okQwK8N98FQ6UuI/LPjIto70IP1Wkep33FTb3t4OnU4+U5zKtNvtfX19xcXFZrNZo9H09vYeP36cbvVFXihr1tKQpKXSyKoDOp1kQAnkbwIKnYz+KHDv3j2xWAxD44aGhoWFBVL9rOYFJSVDZqqdBz4MAc78tsKNZpPTV42TTS54Ca72AkmCeSnxHsrOMiSj0Zibm4srBy3rFrK3BcnD/RMQDPzSZDKp1erIyMjp6Wl8C1mt1uXlZYFAALdNEIOoD0yD2apRDvQPyB9clkBOfHER+WMD+GKk6QxlBXZFkxeF4xG6or29vba2FgJkZ2f7+PhgarO0jEWeWCaqZukpKCNrRUs0F95bYPgMncB+6CYkJEilUq1Wu7a29uLFCwf/Q0YoN2oRHCyQZt6U9hGSrMw8zBGw2+2c+fFhsCUCNptNpVK9fPny0aNHBQUFMzMzNptNIpH09vYWFRVlZ2e3tLSA09TV1QkEgsLCwqmpqfHx8ZqaGsfdnVKp9MmTJ7gttLa2Fo6jGhsbs7Ozi4qKdDqd2Wyuq6vr6OgoKioaGBiAGp2Zmbl8+bKfn19hYaFcLlcqla9evcrOzhYKhWNjY7QJ63ABExkZ6erq+vz5c4lEIhaLT548ibuGy8vLV1dXzWbzyspKZWVlfn5+aWnp3Nwc6/mst7dXIBDk5eV1dHS0t7ebzeauri64NsUdu/iSHh0dFQgEWVlZ8Ju6urpaVlYmEAjKy8uXlpZev379ww8/3L59+9lvz+x2+5s3b6DBZTJZQUGBQCB49eqVRqPR6XS4xreyshJFkfreEnr+YlsEOPPbCp6tmJ9CoaioqGhubhYKhRqNRi6XP336VCAQiEQieOObmZkpKCjIzMysra0ViUQ2m21ubq6jowPu4jo7O0dHR/V6fUNDA67BqKura2trEwqFuLemoaEhNze3pKQETtHNZnNFRUVWVlZ9fX1wcPD4+DiM9NfW1rKysk6dOpWbm9vf32+1WsfGxoqKih49eoSrF4nKrKystLa2Pnz4MCsrC8RRIpF0d3fX1dU9fPiwubkZLkKfP3+OuzRmZmYct9W9fv3abDYvLy9XVlYqlUqDwdDZ2QknfK2trZBQIpFYrdbu7u62tjaBQNDa2gowZTKZv7+/u7t7WVnZyMiIQCDw8/OrrKwUCAS4lgN+7ysqKh48eNDc3Axfm9QRDQ0NWVlZlZWV7e3tg4ODRqPx5cuXs7OzcB3V2dmp0+lWV1d7enqEQiFuCjGbzXK5/Nlvz/Lz86urq5VKpUgk+ve//52dnf369WudTgcFYrfbBwcHs7KyCgoK2tracJdxT09Pd3e3QCDIyclBi8DznPajSTwe4AiwCHDmx6LBw84IvHv3LiMjY3BwsLi4ODU11Wg0lpaWnjt3rqmpqbGx0cPDQ6VSicXiW7dutbe3V1VVdXZ2joyMnD59Wq1WV1VV/f3vf+/v79fpdL/88svExERKSkpCQsLw8HB6enpoaKjNZvPz83NzcxOJRH19fWB+DnfHkZGR8fHxUNkVFRU3btzo7u5++vTplStXlpaWcOu8SqXKzc11c3MbGhqSy+UjIyN/+9vfnj592tvb6+3tXVlZqdPp0tLSMjMzR0ZG7t+///jxY/z2mEymt2/furq6ikSitra28+fPx8XFOZw5R0dHw5e9Uqn09/eH79ng4OBXr161t7f7+fnJZLLq6uqkpKSBgQGhUDg5OTk6Ouri4lJYWDg6Ouq42P727dsSiWRhYcHPz6+8vLytrS0oKKiwsFCr1aalpV25cqWnp0ckEv3000+0TewMN3/eGQKc+W2F01bMTyqVfv/99zk5OfX19cvLy3FxcXl5eQMDA3FxcRUVFQ5H0SEhITk5OQMDA5GRkf/4xz9A8nx8fLBTGRERgRt6XFxcRkdHFxYWDh8+nJKS0tjYuLS0VFBQEBcX19fXV1RUlJqaqtVqHzx4EBER0d/f/+jRo++++25sbAyrYisrK7gz7fXr17OzsxKJ5Ny5cy9evGhubj537lxFRQXaZTAYRkdHo6Kiuru7HZcJORQC7rw5cuRITU1NU1OTi4vL0NBQS0uLp6fn8PBwaWkpNE9kZKRWq21vb//222/FYrFSqQwPD5+fn3/+/HlCQkJXV9ez357hKqCUlJSzZ886rnTDfcSWdcvCwkJaWpqfn9/Y2Njs7GxJSck333xTXV3d19d3+fLlN2/eWK3WsLAwgUDw9u3bkJCQ4uJirMMZDIb6+no3N7fe3t6GhoYjR44IhULHp6+XlxfuOsL1JMvLyxMTEyEhIb29va9evQoODp6bmwOwb9++zc/Pl8lk4+PjBw4cqK2tdVShUqk8PDymp6flcrmPj09NTQ0UUVtb29ramiO7r69vR0eH467IwMBA2mHgzG+rqcHjWQQ482PR4OHfIYClqfn5eYlEEhcXFxYWptVqBQJBRkaGWq1eWloKCAiYnZ2VSqWXL1/u7e3FVRlms/nq1au42SkpKam8vFwsFnt6ejpuXvrhhx96e3vn5+ffvXt39OhRtVrt5eWVnZ1N28eoXigUFhUVwRt+WFjY0NAQPmc9PT2FQiE8KpvN5me/PQsLC8Nm7tDQ0MGDB3E+6cmTJ5mZmWq12sXFpa2tbWpqCnQQaxuOwzHx8fHJycnYnhaJRFFRUY5NmcTERKxEymSykJAQmUxWU1MTGRk5NzfnWNUICQnBzXI3b96kQ0tms9nT07Opqclxk69arfb395+Zment7Q0NDVWr1Tabraen58yZM1arNSUlBTeZajSaI0eOTExM8I2Y3w21XT5w5rdLwOwTExPHjh1bXl42m80KheLirxenp6enpqae/fbM3d19fHzc19d3eXnZYDAMDQ199913ZrO5oaEBt8caDIaEhISsrCyNRnPq1Kn+/v7Jycljx47J5XKIcebMmaamJqlUOjY2duPGDYVCcebMGdzzq1AoLly4MD4+TkfxxsfHo6KisMfquHksJiYGJy66urp++eUXOlyIGzJmZmbu3r17/Phxu93u2EAICgpC4ps3b5aUlLS3t584cWJiYgJTe3l5OSwsbGVlJT09PTAwMC8vz3ELeUxMjGXdgs9LiUQyMjLi7u4uk8nS09OLi4tpgxgnerOzsx8/foyd4vz8fNzPa1m3pKenO27dlcvl33///cTEhFQqbWhoiI2NJb/THh4ez357hsfo6OicnByr1erj41NfX+8IzM7OhoSEaDSapKSktLS0mZmZ0dHRW7duzczMpKSkxMfHz87OQnfZ7fazZ88ODw/r9XqNRhMUFCSVSisrK5OTk3GMpKCgAFcYBwcHDw4Oms3m0dHR06dPwzU9JCf2v9tBwtPvHwQ489s/fb3rllrWLV1dXaGhocnJyZmZmTExMQaDIT8/XygUgpZFRkZOTU1Z1i0vXryIi4vz9vauq6tzXBAUERFRUlLi4eExNTV1586dgoKCtLS0sbGxQ4cOxcfHp6amJicnp6en6/X6GzduFBQUOO1+5uTk5Obm4kqPwMBA/GzYbLbo6OiUlBRqxosXL4KCgozv//r7+93c3HBwh5jft99+GxMTk5KSkpyc/OTJEzqUExgYiEvfcXtpVFSUzWZLTk6uqqoyGo0KhcLX1xebX2fOnElNTb1//356evrIyIharc7Pz4+NjfXw8Ojr67Pb7deuXcNukcPyIzo6WiqVtre3Ex/t7e09ceKEZd2Smpra1taGq5M486Me/OAAZ367hY5lftPT08eOHbt//z5oR0FBwfT0NKiJyWQaHx8/evSowWBoaGhwd3fHXYUhISFZWVkmk+nMmTODg4PT09PHjx+HYcfa2tqBAwdCQ0NT3/8JhcLV1dWjR49KpVLczxYSEjI6OoojfTabTSqVhoSErKysWNYteXl5WVlZ+PATi8VHjhyhqzsGBwfDwsLu3r0bExPj7u5us9mKiorS0tJwKtHLy6u8vFyn09XX14eFhV2/fl0kEjkuXouNje3t7Q0ICKiurvbz8+vo6Hj8+LHRaDx8+HBgYCDNZaVSmZKSwjI/4FlaWpqamgp7rNLS0qCgIFylA+bX0tLy9ddf37lzJzU1NSUlxaH0cAJPq9W6ubm1trZiq/r+/fs5OTkmk8nT07O+vt5kMsnlci8vL1xofvny5bS0tPT09Lt3705PTy8uLqanp4eEhNy8eXNsbEyn050+fXpqakqr1a6srPj4+MhkstzcXPBRs9nc3Nx86dIlnU4XGhoqFoutVuv4+PjZs2c3Mr/djhCefl8hwJnfvuruXTc2JiYmNzcXN4Lfvn3bZDI5Mb/p6WmFQjE1NbWysgKaqFarRSKRu7t7amqqSqUKDQ29+OvFly9fzs/PHzt2rKOjw7Fpsrq6+ubNG5vN5unpSVs8JFxubq5QKMQ5ntjY2MbGRqvVura2duLEiebmZtBEy7qlurrax8cHawnd3d2nTp3CiXVifocPH+7u7rbb7TheAzVtMpnu3r1769YtVJeYmIhVgaSkpNLSUpPJNDExceHCBblc3tXVFRgYiLss+/v7l5aW3r17p1Qq19bWCgsLU1NTTSbTpUuXWlpacH1wXFzc1NTUyMiIt7c3LgN99tszLy8vrPlVV1dz5kdd/AcDnPntFkCW+S0sLNy8eXNubg5G8QMDA5OTkz4+PjhO19HR8fXXX6+urjrWyz08PKxWq06nO3HiREFBgdFoPHfu3Nu3b2Uy2cmTJ7FuZ1m3XL16taWlxWAwaDSa/v5+rVZ7+vTpzs5OvV4/Ozt76tQplIwFtoWFhRs3buDq7fr6em9vb1pju3btGtplNpsFAgG+MEUi0blz52w2m+MxMTERGUNDQysqKqRSKSZaTU3NxV8vWtYtpaWljg3fyMhIhULh5eUVFRXV0tJit9v9/f1LSkpMJtPa2hokvHfvHpgfaqQVtbS0NFhLlJaWenl5wWgDzG92dva///3v7Oys1Wqdn5+fnJyEGwGTyeTj45ORkQF2e/ny5ZKSErvd7ufnV1tbixPAZ8+eVSqVWVlZqampa2trCoViaGhobW1NLBZrtVrHXb2OTfaysjLLuuXs2bNisVij0chksoCAAJlM1tHRER8fDxudgoKC5ORkg8Fw+/ZteBKYnJw8d+4cMT+yMNvtCOHp9xUCnPntq+7edWPr6uquXLmSmpp6/fr1n3/+eXR0tLS0VCgU2mw22FhMTU05zhqfPHkyJSXlzJkzubm5er1+dHT0m2++aWtrc1g8JCYm/utf/4KRbGVl5cGDByMiIi5cuJCcnGy32z08PECJWMlaWlpcXFywz9vZ2Xno0KGYmJjr16/fvHkTjgxA/gYHB3/66aeoqKi6ujqxWHzp0iUn5ldeXu7q6pqQkPDzzz/n5+fD2YTNZltYWPjxxx/d3d2Dg4OvXr0aHx9vNBqbm5tPnDhx7949f3//n3/+Gef8AgMDfX19o6OjL126ND8//+jRo7Nnz8bFxbm6umJ1Mykp6cyZM+Hh4VqtNiwsTCKROFhgdHT0tWvXoqOj3dzcBgYGHBu7d+7c4cyP7eI/GObMb7cAssxPrVZnZWW5ubmlpaWdP3++sbFxdXUVm6opKSnXrl377rvvNBrN3NzcTz/9FB4eHhERceDAgczMzOXlZXbNb21tTa/Xm0ymtra206dPx8XFXb9+PSkpyWQyVVdXHzt2zLGs5enp6erqOjU1BUsRq9W6tLT0yy+/REdHl5SUqNVqb2/vK1euJCUlHTx4UCwWk9OTp0+fHjlyJDs7Oygo6NChQ01NTU+fPs3IyMDKfXBw8JMnTxoaGo4ePRofH3/x14sPHz6E/dk///nPiooKy7olIyPjq6++giVyb2+v49xFYmJiYGBgeHi445ry2NhYlvnBAVNzc/PBgwfv37/f1dVVWFjo6+vLMj/LuuXBgwdubm4pKSknT56sqqqiuyX7+vq+/fbbwPd/x48fz87OVqvVT58+PX78eFpaWkBAgLe3t1KplMlkF3+9GBERERkZ6e3tvba2FhgYeOHChejoaBcXl/7+fpwOvHr1amJiolKp9PX1xad1YGBgWFhYTEzMhQsXJiYmdDpdeHj48PCwQ4VOTU2dP38e97CDeu52bPD0+xABzvz2Yafvoskajaa1tVUkEsnl8vHx8cXFxenpaZjv2e32yclJXDE+NjbmUHMdHR2rq6vwszU2NoYL4GdnZ9++fYsNHbvdLhaLq6ur29rasDMy9/7PSSCDwfDq/R/OzYyMjNTV1b18+ZLOr9Cyn0QiKS8vn56eViqV5GZM/v4Pqryvr6+2tra1tZXy4oDd4uKiSCTq7OxsaWmJjY01Go2ONcWurq6qqiqpVDo5OYkFwpWVlVevXjU3N0ulUtxJ//r16xcvXvT09Dh+POBeq6GhoampyWg0SqVS5DIYDG/evKmtrYVqxkEfeLExGAw9PT1ol1Or+ePOEeDMb+dYUUoYnOLRYDD09/dXVFSIxWIcnDWZTI2NjbC1cnFxgZX69PRR4AOnAAAIi0lEQVT0s9+eDQwMwKpDrVZLJBL1+z+JREIlb5zXKpWqu7u7qqpqfHxcLpc7mTSNjo6WlJSMjIzo9fq1tbWampqGhgbsCLNlvnz58tlvz6anpwcHB3HWYm5uTq/X63S6qakpmUxmWbcMDQ1VVVVhxRG8p6Ojw3FCTqFQwPoea2A6nW5ubq68vBwmKXa7XS6Xr66ukmBQKWazua2tTSQSTUxMKBQKbKdardapqSl8N66srPT09FRVVQ0PD2u1Wqg1h32YXq9fXFysqKgYGRnJyMhwmLxgia6pqam2tlahUMhkMiwl4gDxixcvcDZRp9O1tbW9ePHi7du3aPv8/HxtbW13d7dWq4VpsN1uX1paam9vLysrg5U0dC/6yGAwiMVis9kMzYb/LIw8zBHYiABnfhsx4TH/HwHoNRA47Mg4QcP634LzAiSAu2PSRDB3wCvSUHgkLy1syVCR5KEKn91IAAKHMLniw1kcolPkXhVuxshpM5E/OPfCT8KbN2/u3bsHZ2OWdYtOp8NvALkGJE9gJAACtKtCqpZ+RSAAPNbCoRd58KLtIRTC/38YApz57RY3p2FsWbeAylA5WEvT6XTT09Ourq54xKwHiaH5iCzsTIS5PetPGHMTdqaYUFSRU4DqhcUV+5ZmDVzEsx7aoXlYzUAZ8fUF8aATyLUedgyQkpWKNAm7pYC2U6tJm1HTyDoEKamWx48f0zFiuL82GAxgaZQXksOHIhYOyXs8ikV19MGMSHx8UkuhS6FtyKSX3vIAR2AbBDjz2wac/f6K7OzIkSn9HrDQsHoT8axWZVMiDE3HKrVN0xCjolyk3fCKrtMgbrqxHIpxyoufBIeJyczMDGwvSB6IRxk3BkA0EQ9AzGYz+SHDwgPxQqfskJw4otNb/rhDBDjz2yFQG5NhbtJoB9eBaRQSq9VqHFMDu9pYwqZfa07JnCYvy2YoJaYkPW4VYJ0hb5WGeB5oH2YfZGBbujE7dNemDBKJ6XPRienSdUEbdd3Q0JDDXQ4+ONm3VBQiSamyUm2KObFPpIRaZtuFz9SNmLMl8zBHgEWAMz8WDR52RgCHuOmbm5z+I52T9nHO/P6ZiNSmihgfrBszOv26oCJSnVC7BoOB/cUiVoolCjAwfGrTDw+pb5SPYknvs80hkcARsbdLkfiUxyPLO7GlSyqYLn9DStTOaR/B+MEBzvw+ADocTtDr9XQjGQY8LtdBgVgIxLjFLHNaGtyqXvryoWUtpKRZCS8tNDVA0ZCGpUds+ewswxSmtyBDWGtEJJVMa/+wAga1palNyWiJDqoABVKxVBGrcygvhMEi5UZiyiajeuG0BZCSwmEbBU2Lekn7ASVa1WPFI2DRQLZSEp4HOAJbIcCZ31bI8PgPQWAbBUSs60PK/X2ebWphSR67zuekwenx9wV//Cf6vqcaPyIOH1/cL6REzvx221EYdbQYRgEalmyBWI7a9BWbjA1TYqcApaF4lu7Q2z8tADGctAQpil2JAS1E3G5XeTdNTBA5BZw6i4SnEzgkP7Vu0/J5JEeAEODMj6Dggb2DgJPq3ObxU7d5q6o/db17u3zO/Hbbv1uNw+3jd17LVuWwJbBp2Pg/M8zKgDAW0rb/mNxUQipq07cfEEkF/sHAB1TNs+w3BDjz2289vi/au3PV+anh2EqST13v3i6fM7/d9u9W43D7+J3XslU5bAlsGjb+zwyzMrDhD5CBsn9A3k2zUIF/MLBp4TySI8AiwJkfiwYP7xEEdq46P3WDt5LkU9e7t8vnzG+3/bvVONw+fue1bFUOWwKbho3/M8OsDGz4A2Sg7B+Qd9MsVOAfDGxaOI/kCLAIcObHosHDHAGOwBeAAGd+X0AncRE5AhyBzxUBzvw+157hcnEEOAJbIMCZ3xbA8GiOAEeAI/C/EeDM739jxFNwBDgCnxUCnPl9Vt3BheEIcAS+LAQ48/uy+otLyxHgCNg58+ODgCPAEeAIfDACnPl9MHQ8I0eAI/DXIMCZ31+DO6+VI8AR2BMIcOa3J7qRN4IjsJ8Q4MxvP/U2bytHgCPwkRHgzO8jA8qL4whwBD41Apz5fWqEefkcAY7AHkaAM7893Lm8aRyBvYkAZ357s195qzgCHIE/BQHO/P4UmHklHAGOwMdDgDO/j4clL4kjwBHYdwhw5rfvupw3mCPwpSPAmd+X3oNcfo4AR+AvRIAzv78QfF41R4Aj8CEIcOb3IajxPBwBjgBH4D0CnPnxgcAR4Ah8YQhw5veFdRgXlyPAEficEODM73PqDS4LR4AjsAMEOPPbAUg8CUeAI8AR2BwBzvw2x4XHcgQ4Ap8tApz5fbZdwwXjCHAEPn8EOPP7/PuIS8gR4Aj8DgHO/H4HB3/gCHAEOAK7QYAzv92gxdNyBDgCnwECnPl9Bp3AReAIcAS+VAQ48/tSe47LzRHYtwhw5rdvu543nCPAEfjjCHDm98cx5CVwBDgCfyoCnPn9qXDzyjgCHIG9hQBnfnurP3lrOAL7AAHO/PZBJ/MmcgQ4Ap8KAc78PhWyvFyOAEfgEyHAmd8nApYXyxHgCOwHBDjz2w+9zNvIEdhTCHDmt6e6kzeGI8AR+HMR4Mzvz8Wb18YR4Aj8YQQ48/vDEPICOAIcgf2LAGd++7fvecs5Al8oApz5faEdx8XmCHAEPgcEOPP7HHqBy8AR4AjsAgHO/HYBFk/KEeAIcAR+jwBnfr/Hgz9xBDgCnz0CnPl99l3EBeQIcAQ+XwQ48/t8+4ZLxhHgCGyKAGd+m8LCIzkCHAGOwE4Q4MxvJyjxNBwBjsBnhABnfp9RZ3BROAIcgS8NAc78vrQe4/JyBPY9Apz57fshwAHgCHAEPhwBzvw+HDuekyPAEfhLEODM7y+BnVfKEeAI7A0EOPPbG/3IW8ER2EcIcOa3jzqbN5UjwBH42Aj8Pzs6sFwVCjt7AAAAAElFTkSuQmCC)"
      ],
      "metadata": {
        "id": "DQe3EJ8-VzrG"
      }
    },
    {
      "cell_type": "code",
      "source": [
        "from google.colab import userdata\n",
        "\n",
        "from ragas.metrics import (\n",
        "    answer_relevancy,\n",
        "    faithfulness,\n",
        "    context_recall,\n",
        "    context_precision,\n",
        ")\n",
        "from ragas import evaluate\n",
        "import os\n",
        "\n",
        "os.environ[\"OPENAI_API_KEY\"] = userdata.get('OPENAI_API_KEY')\n",
        "\n",
        "result = evaluate(\n",
        "    eval_dataset,\n",
        "    metrics=[\n",
        "        context_precision,\n",
        "        faithfulness,\n",
        "        answer_relevancy,\n",
        "        context_recall,\n",
        "    ],\n",
        "    #llm=llm,\n",
        "    embeddings=embed_model,\n",
        "    raise_exceptions=False\n",
        ")"
      ],
      "metadata": {
        "colab": {
          "base_uri": "https://localhost:8080/",
          "height": 49,
          "referenced_widgets": [
            "79e79901f45a4fecbc6a6cd498909dbc",
            "d0ef36570d2c402abf726d7517e0fe74",
            "182081d34bda45388c1e3c60db2fbaeb",
            "078f2727cb0c416a8e03d61af06f5c3b",
            "bb48d39536fc4d579b348861346419b3",
            "259f1dcdb0e9444f8a2aa0fc6580a451",
            "42d5b15ba3e9492bbb110719697e1e0a",
            "0bc862020da4491480187b1265a1fc14",
            "a2c595e8a68f415989e7b069ce525845",
            "0e08fbd9781a436995216991f3583883",
            "75fcbaa672134368a5cf687a80e717ef"
          ]
        },
        "id": "mZG5vD44V0Vh",
        "outputId": "45083a43-d1f9-49c0-bfd0-4f261aca5c41"
      },
      "execution_count": 30,
      "outputs": [
        {
          "output_type": "display_data",
          "data": {
            "text/plain": [
              "Evaluating:   0%|          | 0/40 [00:00<?, ?it/s]"
            ],
            "application/vnd.jupyter.widget-view+json": {
              "version_major": 2,
              "version_minor": 0,
              "model_id": "79e79901f45a4fecbc6a6cd498909dbc"
            }
          },
          "metadata": {}
        }
      ]
    },
    {
      "cell_type": "code",
      "source": [
        "result"
      ],
      "metadata": {
        "colab": {
          "base_uri": "https://localhost:8080/"
        },
        "id": "V-rWD9wsZjkx",
        "outputId": "a22ea2d5-0543-4ba7-fa60-7e274efa5ba1"
      },
      "execution_count": 31,
      "outputs": [
        {
          "output_type": "execute_result",
          "data": {
            "text/plain": [
              "{'context_precision': 1.0000, 'faithfulness': 0.6388, 'answer_relevancy': 0.8398, 'context_recall': 1.0000}"
            ]
          },
          "metadata": {},
          "execution_count": 31
        }
      ]
    },
    {
      "cell_type": "markdown",
      "source": [
        "## Ragas Assessment Comparison for Naive Chunker"
      ],
      "metadata": {
        "id": "XYEWONGAZ-bQ"
      }
    },
    {
      "cell_type": "code",
      "source": [
        "questions, contexts, ground_truths_semantic, answers = [], [], [], []\n",
        "\n",
        "for chunk in synthetic_data_chunks[10:20]:\n",
        "  questions.append(question_chain.invoke({\"context\" : chunk.page_content}))\n",
        "  contexts.append([chunk.page_content])\n",
        "  ground_truths_semantic.append(\n",
        "      naive_rag_chain.invoke({\"question\" : questions[-1], \"context\" : contexts[-1]})\n",
        "  )\n",
        "  answers.append(semantic_rag_chain.invoke(questions[-1]))"
      ],
      "metadata": {
        "id": "O-V9knTJaCEQ"
      },
      "execution_count": 32,
      "outputs": []
    },
    {
      "cell_type": "code",
      "source": [
        "qagc_list = []\n",
        "\n",
        "for question, answer, context, ground_truth in zip(questions, answers, contexts, ground_truths_semantic):\n",
        "    qagc_list.append({\n",
        "        \"question\": question,\n",
        "        \"answer\": answer,\n",
        "        \"retrieved_contexts\": context,\n",
        "        \"ground_truth\": ground_truth\n",
        "     })\n",
        "\n",
        "eval_dataset = Dataset.from_list(qagc_list)\n",
        "\n",
        "result = evaluate(\n",
        "    eval_dataset,\n",
        "    metrics=[\n",
        "        context_precision,\n",
        "        faithfulness,\n",
        "        answer_relevancy,\n",
        "        context_recall,\n",
        "    ],\n",
        "    #llm=llm,\n",
        "    embeddings=embed_model,\n",
        "    raise_exceptions=False\n",
        ")\n",
        "\n",
        "result"
      ],
      "metadata": {
        "colab": {
          "base_uri": "https://localhost:8080/",
          "height": 66,
          "referenced_widgets": [
            "30c6c917b0004928ab98596f88808ad0",
            "5aad3b7742c84196a840160043843f6b",
            "415807778131498ca608fded8a6486ba",
            "2afa3189054b462d964f36c7ca40cc20",
            "38351a9566ba4005aaa0e944f4f0488d",
            "d2d34aa6d218423f9f0a92cb559a4e73",
            "1831d285e7d14818964ee3a96ecb7fbe",
            "dcaf5051bd224db0a8a0a8d17a8cf083",
            "bbc4f8c632394f058937663ff7ca9ab1",
            "ddf8f6f912ed425f97ad0a3e28920ad3",
            "6a808e2361c4445d80b552e67e090171"
          ]
        },
        "id": "kB3UmSYmbk_p",
        "outputId": "2c337738-3a46-4339-a7ae-72df436e2f09"
      },
      "execution_count": 33,
      "outputs": [
        {
          "output_type": "display_data",
          "data": {
            "text/plain": [
              "Evaluating:   0%|          | 0/40 [00:00<?, ?it/s]"
            ],
            "application/vnd.jupyter.widget-view+json": {
              "version_major": 2,
              "version_minor": 0,
              "model_id": "30c6c917b0004928ab98596f88808ad0"
            }
          },
          "metadata": {}
        },
        {
          "output_type": "execute_result",
          "data": {
            "text/plain": [
              "{'context_precision': 0.9000, 'faithfulness': 0.6175, 'answer_relevancy': 0.8606, 'context_recall': 0.8000}"
            ]
          },
          "metadata": {},
          "execution_count": 33
        }
      ]
    },
    {
      "cell_type": "markdown",
      "source": [
        "## Conclusion"
      ],
      "metadata": {
        "id": "EYPZ73Rmc0-H"
      }
    },
    {
      "cell_type": "markdown",
      "source": [
        "Based on the Ragas assessment, **Semantic Chunking** generally performed better than **Naive Chunking**, particularly in retrieving relevant and complete context (higher context precision and recall). Faithfulness scores were similar for both, indicating potential areas for improvement in factual consistency of generated answers."
      ],
      "metadata": {
        "id": "jpFzM6_Xcp3D"
      }
    }
  ]
}