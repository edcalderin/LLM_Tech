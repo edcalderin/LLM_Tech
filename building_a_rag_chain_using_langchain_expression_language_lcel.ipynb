{
  "nbformat": 4,
  "nbformat_minor": 0,
  "metadata": {
    "colab": {
      "provenance": [],
      "collapsed_sections": [
        "zpoaVXlqgwvk"
      ],
      "authorship_tag": "ABX9TyPRnALQ3JU1Ei33quiK+AmX",
      "include_colab_link": true
    },
    "kernelspec": {
      "name": "python3",
      "display_name": "Python 3"
    },
    "language_info": {
      "name": "python"
    }
  },
  "cells": [
    {
      "cell_type": "markdown",
      "metadata": {
        "id": "view-in-github",
        "colab_type": "text"
      },
      "source": [
        "<a href=\"https://colab.research.google.com/github/edcalderin/LLM_Tech/blob/master/building_a_rag_chain_using_langchain_expression_language_lcel.ipynb\" target=\"_parent\"><img src=\"https://colab.research.google.com/assets/colab-badge.svg\" alt=\"Open In Colab\"/></a>"
      ]
    },
    {
      "cell_type": "markdown",
      "source": [
        "# Building a RAG chain using LangChain Expression Language (LCEL)"
      ],
      "metadata": {
        "id": "QCfV6d_QRPG2"
      }
    },
    {
      "cell_type": "markdown",
      "source": [
        "https://medium.com/data-science/building-a-rag-chain-using-langchain-expression-language-lcel-3688260cad05"
      ],
      "metadata": {
        "id": "qN2UVWCkRSg-"
      }
    },
    {
      "cell_type": "code",
      "source": [
        "!pip install -qU langchain-community langchain-core langchain-openai langchain-text-splitters beautifulsoup4 faiss-cpu"
      ],
      "metadata": {
        "id": "K0k-aHKxRTsi",
        "colab": {
          "base_uri": "https://localhost:8080/"
        },
        "outputId": "83ba49a7-2363-4e6e-c91b-cfbe4171b3f3"
      },
      "execution_count": 1,
      "outputs": [
        {
          "output_type": "stream",
          "name": "stdout",
          "text": [
            "\u001b[?25l   \u001b[90m━━━━━━━━━━━━━━━━━━━━━━━━━━━━━━━━━━━━━━━━\u001b[0m \u001b[32m0.0/2.5 MB\u001b[0m \u001b[31m?\u001b[0m eta \u001b[36m-:--:--\u001b[0m\r\u001b[2K   \u001b[91m━━━━━━━━━━━━━━━━━━━━━━━━━━━━\u001b[0m\u001b[90m╺\u001b[0m\u001b[90m━━━━━━━━━━━\u001b[0m \u001b[32m1.8/2.5 MB\u001b[0m \u001b[31m52.2 MB/s\u001b[0m eta \u001b[36m0:00:01\u001b[0m\r\u001b[2K   \u001b[91m━━━━━━━━━━━━━━━━━━━━━━━━━━━━━━━━━━━━━━━\u001b[0m\u001b[91m╸\u001b[0m \u001b[32m2.5/2.5 MB\u001b[0m \u001b[31m53.1 MB/s\u001b[0m eta \u001b[36m0:00:01\u001b[0m\r\u001b[2K   \u001b[90m━━━━━━━━━━━━━━━━━━━━━━━━━━━━━━━━━━━━━━━━\u001b[0m \u001b[32m2.5/2.5 MB\u001b[0m \u001b[31m27.2 MB/s\u001b[0m eta \u001b[36m0:00:00\u001b[0m\n",
            "\u001b[?25h\u001b[?25l   \u001b[90m━━━━━━━━━━━━━━━━━━━━━━━━━━━━━━━━━━━━━━━━\u001b[0m \u001b[32m0.0/442.8 kB\u001b[0m \u001b[31m?\u001b[0m eta \u001b[36m-:--:--\u001b[0m\r\u001b[2K   \u001b[90m━━━━━━━━━━━━━━━━━━━━━━━━━━━━━━━━━━━━━━━━\u001b[0m \u001b[32m442.8/442.8 kB\u001b[0m \u001b[31m24.8 MB/s\u001b[0m eta \u001b[36m0:00:00\u001b[0m\n",
            "\u001b[2K   \u001b[90m━━━━━━━━━━━━━━━━━━━━━━━━━━━━━━━━━━━━━━━━\u001b[0m \u001b[32m70.6/70.6 kB\u001b[0m \u001b[31m3.5 MB/s\u001b[0m eta \u001b[36m0:00:00\u001b[0m\n",
            "\u001b[2K   \u001b[90m━━━━━━━━━━━━━━━━━━━━━━━━━━━━━━━━━━━━━━━━\u001b[0m \u001b[32m31.3/31.3 MB\u001b[0m \u001b[31m36.5 MB/s\u001b[0m eta \u001b[36m0:00:00\u001b[0m\n",
            "\u001b[2K   \u001b[90m━━━━━━━━━━━━━━━━━━━━━━━━━━━━━━━━━━━━━━━━\u001b[0m \u001b[32m45.2/45.2 kB\u001b[0m \u001b[31m2.4 MB/s\u001b[0m eta \u001b[36m0:00:00\u001b[0m\n",
            "\u001b[2K   \u001b[90m━━━━━━━━━━━━━━━━━━━━━━━━━━━━━━━━━━━━━━━━\u001b[0m \u001b[32m50.9/50.9 kB\u001b[0m \u001b[31m4.3 MB/s\u001b[0m eta \u001b[36m0:00:00\u001b[0m\n",
            "\u001b[?25h"
          ]
        }
      ]
    },
    {
      "cell_type": "code",
      "source": [
        "from google.colab import userdata\n",
        "OPENAI_API_KEY = userdata.get('OPENAI_API_KEY')"
      ],
      "metadata": {
        "id": "iG_PST68SVnV"
      },
      "execution_count": 2,
      "outputs": []
    },
    {
      "cell_type": "markdown",
      "source": [
        "## Indexing"
      ],
      "metadata": {
        "id": "zpoaVXlqgwvk"
      }
    },
    {
      "cell_type": "code",
      "source": [
        "from langchain_openai import OpenAIEmbeddings\n",
        "\n",
        "embeddings = OpenAIEmbeddings(model=\"text-embedding-3-large\", api_key=OPENAI_API_KEY)"
      ],
      "metadata": {
        "id": "SFadOx6bSaKw"
      },
      "execution_count": 4,
      "outputs": []
    },
    {
      "cell_type": "code",
      "source": [
        "import bs4\n",
        "import faiss\n",
        "from langchain_community.document_loaders import WebBaseLoader\n",
        "from langchain_community.docstore.in_memory import InMemoryDocstore\n",
        "from langchain_community.vectorstores import FAISS\n",
        "from langchain_text_splitters import RecursiveCharacterTextSplitter\n",
        "\n",
        "page_url = \"https://en.wikipedia.org/wiki/Marie_Curie\"\n",
        "bs4_strainer = bs4.SoupStrainer(attrs={\"class\": \"mw-body-content\"})\n",
        "loader = WebBaseLoader(web_paths=[page_url], bs_kwargs={\"parse_only\": bs4_strainer})\n",
        "docs = []\n",
        "for doc in loader.lazy_load():\n",
        "    docs.append(doc)\n",
        "\n",
        "text_splitter = RecursiveCharacterTextSplitter(\n",
        "    chunk_size=100,\n",
        "    chunk_overlap=20,\n",
        "    length_function=len,\n",
        "    is_separator_regex=False\n",
        ")\n",
        "\n",
        "texts = text_splitter.split_documents(docs)\n",
        "\n",
        "print(len(texts))"
      ],
      "metadata": {
        "colab": {
          "base_uri": "https://localhost:8080/"
        },
        "id": "UvjD2i2xSzZK",
        "outputId": "d1fd0d77-d11a-4233-8cfb-e7d3b11d5fc0"
      },
      "execution_count": 5,
      "outputs": [
        {
          "output_type": "stream",
          "name": "stderr",
          "text": [
            "WARNING:langchain_community.utils.user_agent:USER_AGENT environment variable not set, consider setting it to identify your requests.\n"
          ]
        },
        {
          "output_type": "stream",
          "name": "stdout",
          "text": [
            "1084\n"
          ]
        }
      ]
    },
    {
      "cell_type": "code",
      "source": [
        "vector_store = FAISS.from_documents(texts, embeddings)\n",
        "retriever = vector_store.as_retriever()"
      ],
      "metadata": {
        "id": "uqCCDJIvczES"
      },
      "execution_count": 6,
      "outputs": []
    },
    {
      "cell_type": "code",
      "source": [
        "response = retriever.invoke(\"who was marie curie?\")\n",
        "response"
      ],
      "metadata": {
        "colab": {
          "base_uri": "https://localhost:8080/"
        },
        "id": "mVgboT7VdHjT",
        "outputId": "189bd911-3929-4c71-bc4f-dae0fefe8a7a"
      },
      "execution_count": 7,
      "outputs": [
        {
          "output_type": "execute_result",
          "data": {
            "text/plain": [
              "[Document(id='d90e2b86-d4fb-43f5-ae08-ccb41105334b', metadata={'source': 'https://en.wikipedia.org/wiki/Marie_Curie'}, page_content='Marie Curie was the first woman to win a Nobel Prize, the first person to win two Nobel Prizes, the'),\n",
              " Document(id='ead2ce17-5afc-4e25-a60e-306d65ff50ee', metadata={'source': 'https://en.wikipedia.org/wiki/Marie_Curie'}, page_content='Curie (/ˈkjʊəri/ KURE-ee;[1] French: [maʁi kyʁi]), was a Polish and naturalised-French physicist'),\n",
              " Document(id='5683d120-c5ca-43fc-9f50-879ec091b2a5', metadata={'source': 'https://en.wikipedia.org/wiki/Marie_Curie'}, page_content='ⓘ; née\\xa0Skłodowska; 7 November 1867 – 4 July 1934), known simply as Marie Curie (/ˈkjʊəri/'),\n",
              " Document(id='b8272d90-97c9-41c8-b439-a61ff4eac54d', metadata={'source': 'https://en.wikipedia.org/wiki/Marie_Curie'}, page_content='Marie CurieCurie, c.\\u20091920BornMaria Salomea Skłodowska(1867-11-07)7 November 1867Warsaw, Poland,')]"
            ]
          },
          "metadata": {},
          "execution_count": 7
        }
      ]
    },
    {
      "cell_type": "markdown",
      "source": [
        "## Retrieval and Generation"
      ],
      "metadata": {
        "id": "EVWGrw5sg0Dk"
      }
    },
    {
      "cell_type": "code",
      "source": [
        "from langchain_core.prompts import ChatPromptTemplate\n",
        "from langchain_core.runnables import RunnableLambda, RunnablePassthrough, RunnableParallel\n",
        "from langchain_core.output_parsers import StrOutputParser\n",
        "from langchain_openai import ChatOpenAI\n",
        "from operator import itemgetter"
      ],
      "metadata": {
        "id": "Z74ZUajRg28T"
      },
      "execution_count": 8,
      "outputs": []
    },
    {
      "cell_type": "code",
      "source": [
        "prompt: str = \"\"\"You are an assistant for question-answering tasks.\n",
        "Use the following pieces of retrieved context to answer the question.\n",
        "If you don't know the answer, just say that you don't know.\n",
        "Use three sentences maximum and keep the answer concise.\n",
        "Question: {question}\n",
        "Context: {context}\n",
        "\"\"\"\n",
        "\n",
        "prompt_template = ChatPromptTemplate.from_template(prompt)\n",
        "\n",
        "llm = ChatOpenAI(model=\"gpt-4o\", api_key=OPENAI_API_KEY)\n",
        "\n",
        "def format_docs(docs: list)->str:\n",
        "    return \"\\n\\n\".join([doc.page_content for doc in docs])\n",
        "\n",
        "chain = (\n",
        "    RunnableParallel(\n",
        "        question = RunnablePassthrough(),\n",
        "        context = itemgetter(\"question\") | retriever | format_docs\n",
        "    )\n",
        "    | prompt_template\n",
        "    | llm\n",
        "    | StrOutputParser()\n",
        ")\n",
        "\n",
        "chain.invoke({\"question\": \"who was marie curie?\"})"
      ],
      "metadata": {
        "colab": {
          "base_uri": "https://localhost:8080/",
          "height": 53
        },
        "id": "ONgAiIdfqbDm",
        "outputId": "6c4448de-1192-400d-ea6e-6f708049a3f6"
      },
      "execution_count": 64,
      "outputs": [
        {
          "output_type": "execute_result",
          "data": {
            "text/plain": [
              "'Marie Curie was a Polish and naturalized-French physicist known for her groundbreaking research on radioactivity. She was the first woman to win a Nobel Prize and the first person to win two Nobel Prizes. Curie was born on November 7, 1867, in Warsaw, Poland.'"
            ],
            "application/vnd.google.colaboratory.intrinsic+json": {
              "type": "string"
            }
          },
          "metadata": {},
          "execution_count": 64
        }
      ]
    },
    {
      "cell_type": "markdown",
      "source": [
        "## Self Evaluation (I)"
      ],
      "metadata": {
        "id": "Uj-GwPk6TtgH"
      }
    },
    {
      "cell_type": "code",
      "source": [
        "from enum import Enum\n",
        "from pydantic import BaseModel, Field\n",
        "from langchain_core.output_parsers import JsonOutputParser\n",
        "\n",
        "class GradeEnum(Enum):\n",
        "    CORRECT = \"correct\"\n",
        "    INCORRECT = \"incorrect\"\n",
        "\n",
        "class LLMEvalResult(BaseModel):\n",
        "    grade_enum: GradeEnum = Field(description=\"Final grade label. Accepted labels: correct, incorrect\")\n",
        "    description: str = Field(description=\"Explanation about why the specific grade was accepted. Must be concise. No more of 2 sentences\")\n",
        "\n",
        "json_output_parser = JsonOutputParser(pydantic_object=LLMEvalResult)\n"
      ],
      "metadata": {
        "colab": {
          "base_uri": "https://localhost:8080/",
          "height": 87
        },
        "id": "BYx7JYe7XTAh",
        "outputId": "03f56545-3a2a-4949-e980-765570f4f28c"
      },
      "execution_count": 18,
      "outputs": [
        {
          "output_type": "execute_result",
          "data": {
            "text/plain": [
              "'The output should be formatted as a JSON instance that conforms to the JSON schema below.\\n\\nAs an example, for the schema {\"properties\": {\"foo\": {\"title\": \"Foo\", \"description\": \"a list of strings\", \"type\": \"array\", \"items\": {\"type\": \"string\"}}}, \"required\": [\"foo\"]}\\nthe object {\"foo\": [\"bar\", \"baz\"]} is a well-formatted instance of the schema. The object {\"properties\": {\"foo\": [\"bar\", \"baz\"]}} is not well-formatted.\\n\\nHere is the output schema:\\n```\\n{\"$defs\": {\"GradeEnum\": {\"enum\": [\"correct\", \"incorrect\"], \"title\": \"GradeEnum\", \"type\": \"string\"}}, \"properties\": {\"grade_enum\": {\"$ref\": \"#/$defs/GradeEnum\", \"description\": \"Final grade label. Accepted labels: correct, incorrect\"}, \"description\": {\"description\": \"Explanation about why the specific grade was accepted. Must be concise. No more of 2 sentences\", \"title\": \"Description\", \"type\": \"string\"}}, \"required\": [\"grade_enum\", \"description\"]}\\n```'"
            ],
            "application/vnd.google.colaboratory.intrinsic+json": {
              "type": "string"
            }
          },
          "metadata": {},
          "execution_count": 18
        }
      ]
    },
    {
      "cell_type": "code",
      "source": [
        "eval_prompt: str = \"\"\"\n",
        "You are a teacher evaluating a test.\n",
        "You are provided with a question along with an answer for the question written\n",
        "by a student. Evaluate the question-answer pair and provide feedback.\n",
        "\n",
        "{format_instructions}\n",
        "\n",
        "Question : {question}\n",
        "Answer : {answer}\n",
        "\"\"\"\n",
        "\n",
        "eval_prompt_template = ChatPromptTemplate.from_template(eval_prompt)\n",
        "\n",
        "# Step 1: Retrieve context\n",
        "step_1 = {\n",
        "    \"question\": RunnablePassthrough(),\n",
        "    \"context\": itemgetter(\"question\") | retriever | format_docs,\n",
        "}\n",
        "\n",
        "# Step 2: Generate student's answer from context + question\n",
        "step_2 = RunnableParallel(\n",
        "    answer = prompt_template | llm | StrOutputParser(),\n",
        "    question = itemgetter(\"question\"),\n",
        "    format_instructions = lambda _: json_output_parser.get_format_instructions()\n",
        ")\n",
        "\n",
        "# Step 3: Evaluate answer using eval_prompt_template\n",
        "step_3 = eval_prompt_template | llm | json_output_parser\n",
        "\n",
        "# Combine the steps\n",
        "full_chain = step_1 | step_2 | step_3\n",
        "full_chain.invoke({\"question\": \"Who was Marie Curie?\"})"
      ],
      "metadata": {
        "colab": {
          "base_uri": "https://localhost:8080/"
        },
        "id": "FekrEke5Twjv",
        "outputId": "bf2d662c-07af-4e65-ff0b-0ed0ff2211e2"
      },
      "execution_count": 58,
      "outputs": [
        {
          "output_type": "execute_result",
          "data": {
            "text/plain": [
              "{'grade_enum': 'correct',\n",
              " 'description': \"The answer accurately describes Marie Curie's identity, her scientific contributions, and her achievements, including her Nobel Prizes.\"}"
            ]
          },
          "metadata": {},
          "execution_count": 58
        }
      ]
    },
    {
      "cell_type": "markdown",
      "source": [
        "## Self Evaluation (II)"
      ],
      "metadata": {
        "id": "CSfWx4qPpGg2"
      }
    },
    {
      "cell_type": "code",
      "source": [
        "eval_prompt_with_context: str = \"\"\"\n",
        "You are a teacher evaluating a test.\n",
        "You are provided with a question along with an answer for the question written\n",
        "by a student. Evaluate the question-answer pair using the provided context and\n",
        "provide feedback. Only mark the answer as correct if it agress with the\n",
        "provided context\n",
        "\n",
        "{format_instructions}\n",
        "\n",
        "Context : {context}\n",
        "Question : {question}\n",
        "Answer : {answer}\n",
        "\"\"\"\n",
        "\n",
        "eval_prompt_context_template = ChatPromptTemplate.from_template(eval_prompt_with_context)\n",
        "\n",
        "full_chain = (\n",
        "    RunnableParallel(\n",
        "        question = RunnablePassthrough(),\n",
        "        context = itemgetter(\"question\") | retriever | format_docs,\n",
        "    )\n",
        "    | RunnableParallel(\n",
        "        answer = prompt_template | llm | StrOutputParser(),\n",
        "        question = itemgetter(\"question\"),\n",
        "        context = itemgetter(\"context\"),\n",
        "        format_instructions = lambda _: json_output_parser.get_format_instructions()\n",
        "    )\n",
        "    | RunnableParallel(input=eval_prompt_context_template | llm | json_output_parser, context = itemgetter(\"context\"), answer = itemgetter(\"answer\"))\n",
        ")\n",
        "\n",
        "full_chain.invoke({\"question\": \"What did to Marie Curie so famous?\"})"
      ],
      "metadata": {
        "colab": {
          "base_uri": "https://localhost:8080/"
        },
        "id": "o9RND72qpHan",
        "outputId": "bd15b941-0579-4277-a611-cd372dc7fc6c"
      },
      "execution_count": 73,
      "outputs": [
        {
          "output_type": "execute_result",
          "data": {
            "text/plain": [
              "{'input': {'grade_enum': 'correct',\n",
              "  'description': \"The answer agrees with the context, highlighting Marie Curie's achievements with Nobel Prizes.\"},\n",
              " 'context': 'Marie Curie was the first woman to win a Nobel Prize, the first person to win two Nobel Prizes, the\\n\\nin a Paris street accident. Marie won the 1911 Nobel Prize in Chemistry for her discovery of the\\n\\n^ Her 1911 Nobel Prize in Chemistry was granted to \"Marie Sklodowska Curie\" File:Marie\\n\\nMarie Curie on Nobelprize.org \\nvte Marie and  Pierre CurieDiscoveries\\nCurie\\'s law\\nCurie–Weiss law',\n",
              " 'answer': 'Marie Curie became famous for being the first woman to win a Nobel Prize and the first person to win two Nobel Prizes. She won the Nobel Prize in Physics in 1903 and the Nobel Prize in Chemistry in 1911 for her discoveries in radioactivity. Her groundbreaking work in these fields significantly advanced scientific understanding.'}"
            ]
          },
          "metadata": {},
          "execution_count": 73
        }
      ]
    }
  ]
}